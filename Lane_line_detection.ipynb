{
 "cells": [
  {
   "cell_type": "markdown",
   "id": "6dcfacf5",
   "metadata": {},
   "source": [
    "# Generate Binary Threshold"
   ]
  },
  {
   "cell_type": "code",
   "execution_count": null,
   "id": "e31839fb",
   "metadata": {},
   "outputs": [],
   "source": [
    "import matplotlib.pylab as plt\n",
    "import cv2\n",
    "import numpy as np\n",
    "\n",
    "global first_frame\n",
    "global filter_flag\n",
    "first_frame = 1\n",
    "\n",
    "def binary_threshold(img, low, high):\n",
    "    output = np.zeros_like(img[:,:,0])\n",
    "    mask = (img[:,:,0] >= low[0]) & (img[:,:,0] <= high[0]) \\\n",
    "        & (img[:,:,1] >= low[1]) & (img[:,:,1] <= high[1]) \\\n",
    "        & (img[:,:,2] >= low[2]) & (img[:,:,2] <= high[2])\n",
    "            \n",
    "    output[mask] = 1\n",
    "    return output\n",
    "\n",
    "def get_binary_image(image):\n",
    "    global first_frame\n",
    "    global filter_flag\n",
    "    \n",
    "    ### HLS color space\n",
    "    hls = cv2.cvtColor(image, cv2.COLOR_RGB2HLS)\n",
    "    L = hls[:,:,1]\n",
    "    L_max, L_mean = np.max(L), np.mean(L)\n",
    "    print(L_mean)\n",
    "    S = hls[:,:,2]\n",
    "    S_max, S_mean = np.max(S), np.mean(S)\n",
    "\n",
    "    #Changing filter cooficients based on the average lightning\n",
    "    if (first_frame):\n",
    "        if ((L_mean < 123) | (L_mean > 126)):\n",
    "            filter_flag = 0\n",
    "        else:\n",
    "            filter_flag = 1\n",
    "            \n",
    "    if (not filter_flag):\n",
    "        #yellow cooficients\n",
    "        yellow_L_thr = 80\n",
    "        ye_L_mean_coof = 1.25\n",
    "        S_max_coof = 0.25\n",
    "        S_mean_coof = 1.75\n",
    "        #white cooficients\n",
    "        white_L_thr = 160\n",
    "        L_max_coof = 0.8\n",
    "        wh_L_mean_coof = 1.25\n",
    "    else:\n",
    "        #yellow cooficients\n",
    "        yellow_L_thr = 0\n",
    "        ye_L_mean_coof = 1\n",
    "        S_max_coof = 0.1\n",
    "        S_mean_coof = 1.7\n",
    "        #white cooficients\n",
    "        white_L_thr = 0\n",
    "        L_max_coof = 0.7\n",
    "        wh_L_mean_coof = 1.3\n",
    "        \n",
    "        \n",
    "    # YELLOW\n",
    "    L_adapt_yellow = max(yellow_L_thr, int(L_mean * ye_L_mean_coof))\n",
    "    S_adapt_yellow = max(int(S_max * S_max_coof), int(S_mean * S_mean_coof))\n",
    "    S_adapt_yellow = S_adapt_yellow if (not filter_flag) else 25\n",
    "    hls_low_yellow = np.array((15, L_adapt_yellow, S_adapt_yellow))\n",
    "    hls_high_yellow = np.array((30, 255, 255))\n",
    "\n",
    "    hls_yellow = binary_threshold(hls, hls_low_yellow, hls_high_yellow)\n",
    "\n",
    "    # WHITE\n",
    "    L_adapt_white =  max(white_L_thr, int(L_max *L_max_coof),int(L_mean * wh_L_mean_coof))\n",
    "    hls_low_white = np.array((0, L_adapt_white,  0))\n",
    "    hls_high_white = np.array((255, 255, 255))\n",
    "\n",
    "    hls_white = binary_threshold(hls, hls_low_white, hls_high_white)\n",
    "\n",
    "    \n",
    "    hls_binary = hls_yellow | hls_white\n",
    "    \n",
    "    #show\n",
    "#     plt.imshow(hls_binary)\n",
    "    \n",
    "    return  hls_binary \n"
   ]
  },
  {
   "cell_type": "markdown",
   "id": "4dbe141e",
   "metadata": {},
   "source": [
    "# PerspectiveTransform"
   ]
  },
  {
   "cell_type": "code",
   "execution_count": null,
   "id": "88547ea2",
   "metadata": {},
   "outputs": [],
   "source": [
    "def perspectiveTrnsform(srcp ,dstp):\n",
    "   M = cv2.getPerspectiveTransform(srcp ,dstp)\n",
    "   Minv = cv2.getPerspectiveTransform(dstp ,srcp)\n",
    "   return M ,Minv\n",
    "\n",
    "def warpPerspective(img,imgsize,M):\n",
    "    return cv2.warpPerspective(img,M,imgsize,cv2.INTER_LINEAR)\n",
    "\n",
    "global src_first_pt, src_last_pt, dst_first_pt, dst_last_pt\n",
    "def warp(image):\n",
    "    global filter_flag\n",
    "    global src_first_pt, src_last_pt, dst_first_pt, dst_last_pt\n",
    "\n",
    "    if (not filter_flag):\n",
    "        srcp = np.float32(\n",
    "        [[685, 450],\n",
    "          [1090, 710],\n",
    "          [220, 710],\n",
    "          [595, 450]])\n",
    "        dstp = np.float32(\n",
    "        [[900, 0],\n",
    "          [900, 710],\n",
    "          [250, 710],\n",
    "          [250, 0]])\n",
    "        \n",
    "        src_first_pt = 220\n",
    "        src_last_pt = 1090\n",
    "        dst_first_pt = 250\n",
    "        dst_last_pt = 900\n",
    "    else:\n",
    "        srcp = np.array([\n",
    "            [200,713],\n",
    "            [630,460],\n",
    "            [750,460],\n",
    "            [1200,713]\n",
    "        ]).astype(np.float32)\n",
    "        dstp = np.array([\n",
    "            [300,713],\n",
    "            [300,0],\n",
    "            [1100,0],\n",
    "            [1100,713]\n",
    "        ]).astype(np.float32)\n",
    "        \n",
    "        src_first_pt = 200\n",
    "        src_last_pt = 1200\n",
    "        dst_first_pt = 300\n",
    "        dst_last_pt = 1100\n",
    "    \n",
    "    height = image.shape[0]\n",
    "    width = image.shape[1]\n",
    "    imgsize2 =(width,height)\n",
    "    M,Minv = perspectiveTrnsform(srcp ,dstp)\n",
    "    wraped_img = warpPerspective(image.astype(np.float32),imgsize2,M)\n",
    "    print(\"Height:\",height,\", Width:\",width)\n",
    "    \n",
    "    #show\n",
    "#     plt.imshow(wraped_img)\n",
    "    \n",
    "    return wraped_img, Minv\n"
   ]
  },
  {
   "cell_type": "markdown",
   "id": "072ef4cb",
   "metadata": {},
   "source": [
    "# Histogram"
   ]
  },
  {
   "cell_type": "code",
   "execution_count": null,
   "id": "35648f06",
   "metadata": {},
   "outputs": [],
   "source": [
    "def get_histogram(binary_warped):\n",
    "    histogram = np.sum(binary_warped[binary_warped.shape[0]//2:,:], axis=0)\n",
    "    \n",
    "    #show\n",
    "#     plt.plot(histogram)\n",
    "    \n",
    "    return histogram"
   ]
  },
  {
   "cell_type": "markdown",
   "id": "eaae44f2",
   "metadata": {},
   "source": [
    "# sliding window"
   ]
  },
  {
   "cell_type": "code",
   "execution_count": null,
   "id": "97c358d3",
   "metadata": {},
   "outputs": [],
   "source": []
  },
  {
   "cell_type": "markdown",
   "id": "a9c4c7a6",
   "metadata": {},
   "source": [
    "# Lane Curvature"
   ]
  },
  {
   "cell_type": "code",
   "execution_count": null,
   "id": "d16c8c44",
   "metadata": {},
   "outputs": [],
   "source": []
  },
  {
   "cell_type": "markdown",
   "id": "03312d0e",
   "metadata": {},
   "source": [
    "# Draw Lane Lines"
   ]
  },
  {
   "cell_type": "code",
   "execution_count": null,
   "id": "06aede4a",
   "metadata": {},
   "outputs": [],
   "source": []
  },
  {
   "cell_type": "markdown",
   "id": "abcf74f0",
   "metadata": {},
   "source": [
    "# Proccess Image"
   ]
  },
  {
   "cell_type": "code",
   "execution_count": null,
   "id": "9c7cd269",
   "metadata": {},
   "outputs": [],
   "source": []
  },
  {
   "cell_type": "markdown",
   "id": "9dea8ca7",
   "metadata": {},
   "source": [
    "# Create Output video"
   ]
  },
  {
   "cell_type": "code",
   "execution_count": null,
   "id": "f5a82f4c",
   "metadata": {},
   "outputs": [],
   "source": []
  }
 ],
 "metadata": {
  "kernelspec": {
   "display_name": "Python 3",
   "language": "python",
   "name": "python3"
  },
  "language_info": {
   "codemirror_mode": {
    "name": "ipython",
    "version": 3
   },
   "file_extension": ".py",
   "mimetype": "text/x-python",
   "name": "python",
   "nbconvert_exporter": "python",
   "pygments_lexer": "ipython3",
   "version": "3.8.8"
  }
 },
 "nbformat": 4,
 "nbformat_minor": 5
}
