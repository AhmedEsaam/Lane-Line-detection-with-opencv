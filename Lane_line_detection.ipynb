{
 "cells": [
  {
   "cell_type": "markdown",
   "id": "8355626e",
   "metadata": {},
   "source": [
    "# Generate Binary Threshold"
   ]
  },
  {
   "cell_type": "code",
   "execution_count": null,
   "id": "0c08365c",
   "metadata": {},
   "outputs": [],
   "source": [
    "import matplotlib.pylab as plt\n",
    "import cv2\n",
    "import numpy as np\n",
    "\n",
    "global first_frame\n",
    "global filter_flag\n",
    "first_frame = 1\n",
    "\n",
    "def binary_threshold(img, low, high):\n",
    "    output = np.zeros_like(img[:,:,0])\n",
    "    mask = (img[:,:,0] >= low[0]) & (img[:,:,0] <= high[0]) \\\n",
    "        & (img[:,:,1] >= low[1]) & (img[:,:,1] <= high[1]) \\\n",
    "        & (img[:,:,2] >= low[2]) & (img[:,:,2] <= high[2])\n",
    "            \n",
    "    output[mask] = 1\n",
    "    return output\n"
   ]
  }
 ],
 "metadata": {
  "kernelspec": {
   "display_name": "Python 3",
   "language": "python",
   "name": "python3"
  },
  "language_info": {
   "codemirror_mode": {
    "name": "ipython",
    "version": 3
   },
   "file_extension": ".py",
   "mimetype": "text/x-python",
   "name": "python",
   "nbconvert_exporter": "python",
   "pygments_lexer": "ipython3",
   "version": "3.8.8"
  }
 },
 "nbformat": 4,
 "nbformat_minor": 5
}
