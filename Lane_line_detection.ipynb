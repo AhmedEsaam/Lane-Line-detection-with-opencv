{
 "cells": [
  {
   "cell_type": "markdown",
   "id": "7b3d6bec",
   "metadata": {},
   "source": [
    "# Generate Binary Threshold"
   ]
  },
  {
   "cell_type": "code",
   "execution_count": null,
   "id": "63a36803",
   "metadata": {},
   "outputs": [],
   "source": [
    "import matplotlib.pylab as plt\n",
    "import cv2\n",
    "import numpy as np\n",
    "\n",
    "global first_frame\n",
    "global filter_flag\n",
    "first_frame = 1\n",
    "\n",
    "def binary_threshold(img, low, high):\n",
    "    output = np.zeros_like(img[:,:,0])\n",
    "    mask = (img[:,:,0] >= low[0]) & (img[:,:,0] <= high[0]) \\\n",
    "        & (img[:,:,1] >= low[1]) & (img[:,:,1] <= high[1]) \\\n",
    "        & (img[:,:,2] >= low[2]) & (img[:,:,2] <= high[2])\n",
    "            \n",
    "    output[mask] = 1\n",
    "    return output\n"
   ]
  },
  {
   "cell_type": "markdown",
   "id": "25f4e67d",
   "metadata": {},
   "source": [
    "# PerspectiveTransform"
   ]
  },
  {
   "cell_type": "code",
   "execution_count": null,
   "id": "bbdaff22",
   "metadata": {},
   "outputs": [],
   "source": []
  },
  {
   "cell_type": "markdown",
   "id": "88615398",
   "metadata": {},
   "source": [
    "# Histogram"
   ]
  },
  {
   "cell_type": "code",
   "execution_count": null,
   "id": "7447301c",
   "metadata": {},
   "outputs": [],
   "source": []
  },
  {
   "cell_type": "markdown",
   "id": "d6c11473",
   "metadata": {},
   "source": [
    "# sliding window"
   ]
  },
  {
   "cell_type": "code",
   "execution_count": null,
   "id": "03874aad",
   "metadata": {},
   "outputs": [],
   "source": []
  },
  {
   "cell_type": "markdown",
   "id": "a6651703",
   "metadata": {},
   "source": [
    "# Lane Curvature"
   ]
  },
  {
   "cell_type": "code",
   "execution_count": null,
   "id": "0160e6cf",
   "metadata": {},
   "outputs": [],
   "source": [
    "def measure_curvature(lines_info):\n",
    "    ym_per_pix = 30/720 \n",
    "    xm_per_pix = 3.7/700 \n",
    "\n",
    "    ploty = lines_info['ploty']\n",
    "    leftx = lines_info['left_fitx']\n",
    "    rightx = lines_info['right_fitx']\n",
    "\n",
    "    leftx = leftx[::-1]  \n",
    "    rightx = rightx[::-1]  \n",
    "\n",
    "    y_eval = np.max(ploty)\n",
    "    left_fit_cr = np.polyfit(ploty*ym_per_pix, leftx*xm_per_pix, 2)\n",
    "    right_fit_cr = np.polyfit(ploty*ym_per_pix, rightx*xm_per_pix, 2)\n",
    "    left_curverad = ((1 + (2*left_fit_cr[0]*y_eval*ym_per_pix + left_fit_cr[1])**2)**1.5) / np.absolute(2*left_fit_cr[0])\n",
    "    right_curverad = ((1 + (2*right_fit_cr[0]*y_eval*ym_per_pix + right_fit_cr[1])**2)**1.5) / np.absolute(2*right_fit_cr[0])\n",
    "    print(\"left_curverad:\",left_curverad, 'm',\", right_curverad:\", right_curverad, 'm')\n",
    "    \n",
    "    return left_curverad, right_curverad\n",
    "    \n",
    "left_curverad, right_curverad = measure_curvature(draw_info)"
   ]
  },
  {
   "cell_type": "markdown",
   "id": "4ac578d6",
   "metadata": {},
   "source": [
    "# Draw Lane Lines"
   ]
  },
  {
   "cell_type": "code",
   "execution_count": null,
   "id": "2a3d9e00",
   "metadata": {},
   "outputs": [],
   "source": []
  },
  {
   "cell_type": "markdown",
   "id": "63b80ecd",
   "metadata": {},
   "source": [
    "# Proccess Image"
   ]
  },
  {
   "cell_type": "code",
   "execution_count": null,
   "id": "52936b8c",
   "metadata": {},
   "outputs": [],
   "source": []
  },
  {
   "cell_type": "markdown",
   "id": "780a0b0f",
   "metadata": {},
   "source": [
    "# Create Output video"
   ]
  },
  {
   "cell_type": "code",
   "execution_count": null,
   "id": "0da57ca4",
   "metadata": {},
   "outputs": [],
   "source": []
  }
 ],
 "metadata": {
  "kernelspec": {
   "display_name": "Python 3",
   "language": "python",
   "name": "python3"
  },
  "language_info": {
   "codemirror_mode": {
    "name": "ipython",
    "version": 3
   },
   "file_extension": ".py",
   "mimetype": "text/x-python",
   "name": "python",
   "nbconvert_exporter": "python",
   "pygments_lexer": "ipython3",
   "version": "3.8.8"
  }
 },
 "nbformat": 4,
 "nbformat_minor": 5
}
