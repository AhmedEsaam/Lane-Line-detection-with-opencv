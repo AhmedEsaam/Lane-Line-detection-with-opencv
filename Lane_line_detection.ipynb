{
 "cells": [
  {
   "cell_type": "markdown",
   "id": "8cdfb03e",
   "metadata": {},
   "source": [
    "# Generate Binary Threshold"
   ]
  },
  {
   "cell_type": "code",
   "execution_count": 29,
   "id": "3094250e",
   "metadata": {},
   "outputs": [
    {
     "name": "stdout",
     "output_type": "stream",
     "text": [
      "115.65182834201389\n",
      "(720, 1280)\n"
     ]
    },
    {
     "data": {
      "text/plain": [
       "<matplotlib.image.AxesImage at 0x1aa3fcc5580>"
      ]
     },
     "execution_count": 29,
     "metadata": {},
     "output_type": "execute_result"
    },
    {
     "data": {
      "image/png": "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\n",
      "text/plain": [
       "<Figure size 432x288 with 1 Axes>"
      ]
     },
     "metadata": {
      "needs_background": "light"
     },
     "output_type": "display_data"
    }
   ],
   "source": [
    "import matplotlib.pylab as plt\n",
    "import cv2\n",
    "import numpy as np\n",
    "\n",
    "global first_frame\n",
    "global filter_flag\n",
    "first_frame = 1\n",
    "\n",
    "def binary_threshold(img, low, high):\n",
    "    output = np.zeros_like(img[:,:,0])\n",
    "    mask = (img[:,:,0] >= low[0]) & (img[:,:,0] <= high[0]) \\\n",
    "        & (img[:,:,1] >= low[1]) & (img[:,:,1] <= high[1]) \\\n",
    "        & (img[:,:,2] >= low[2]) & (img[:,:,2] <= high[2])\n",
    "            \n",
    "    output[mask] = 1\n",
    "    return output\n",
    "\n",
    "def get_binary_image(image):\n",
    "    global first_frame\n",
    "    global filter_flag\n",
    "    \n",
    "    ### HLS color space\n",
    "    hls = cv2.cvtColor(image, cv2.COLOR_RGB2HLS)\n",
    "    L = hls[:,:,1]\n",
    "    L_max, L_mean = np.max(L), np.mean(L)\n",
    "    print(L_mean)\n",
    "    S = hls[:,:,2]\n",
    "    S_max, S_mean = np.max(S), np.mean(S)\n",
    "\n",
    "    #Changing filter cooficients based on the average lightning\n",
    "    if (first_frame):\n",
    "        if ((L_mean < 123) | (L_mean > 126)):\n",
    "            filter_flag = 0\n",
    "        else:\n",
    "            filter_flag = 1\n",
    "            \n",
    "    if (not filter_flag):\n",
    "        #yellow cooficients\n",
    "        yellow_L_thr = 80\n",
    "        ye_L_mean_coof = 1.25\n",
    "        S_max_coof = 0.25\n",
    "        S_mean_coof = 1.75\n",
    "        #white cooficients\n",
    "        white_L_thr = 160\n",
    "        L_max_coof = 0.8\n",
    "        wh_L_mean_coof = 1.25\n",
    "    else:\n",
    "        #yellow cooficients\n",
    "        yellow_L_thr = 0\n",
    "        ye_L_mean_coof = 1\n",
    "        S_max_coof = 0.1\n",
    "        S_mean_coof = 1.7\n",
    "        #white cooficients\n",
    "        white_L_thr = 0\n",
    "        L_max_coof = 0.7\n",
    "        wh_L_mean_coof = 1.3\n",
    "        \n",
    "        \n",
    "    # YELLOW\n",
    "    L_adapt_yellow = max(yellow_L_thr, int(L_mean * ye_L_mean_coof))\n",
    "    S_adapt_yellow = max(int(S_max * S_max_coof), int(S_mean * S_mean_coof))\n",
    "    S_adapt_yellow = S_adapt_yellow if (not filter_flag) else 25\n",
    "    hls_low_yellow = np.array((15, L_adapt_yellow, S_adapt_yellow))\n",
    "    hls_high_yellow = np.array((30, 255, 255))\n",
    "\n",
    "    hls_yellow = binary_threshold(hls, hls_low_yellow, hls_high_yellow)\n",
    "\n",
    "    # WHITE\n",
    "    L_adapt_white =  max(white_L_thr, int(L_max *L_max_coof),int(L_mean * wh_L_mean_coof))\n",
    "    hls_low_white = np.array((0, L_adapt_white,  0))\n",
    "    hls_high_white = np.array((255, 255, 255))\n",
    "\n",
    "    hls_white = binary_threshold(hls, hls_low_white, hls_high_white)\n",
    "\n",
    "    \n",
    "    hls_binary = hls_yellow | hls_white\n",
    "    \n",
    "    #show\n",
    "#     plt.imshow(hls_binary)\n",
    "    \n",
    "    return  hls_binary \n",
    "\n",
    "image1 = cv2.imread('test3.jpg')\n",
    "image = cv2.cvtColor(image1, cv2.COLOR_BGR2RGB)  #BGR to RGB   \n",
    "hls_binary = get_binary_image(image)\n",
    "print(hls_binary.shape)\n",
    "plt.imshow(hls_binary)"
   ]
  },
  {
   "cell_type": "markdown",
   "id": "bf476689",
   "metadata": {},
   "source": [
    "# PerspectiveTransform"
   ]
  },
  {
   "cell_type": "code",
   "execution_count": 30,
   "id": "c5565862",
   "metadata": {},

   "outputs": [
    {
     "name": "stdout",
     "output_type": "stream",
     "text": [
      "Height: 720 , Width: 1280\n",
      "(720, 1280)\n"
     ]
    },
    {
     "data": {
      "text/plain": [
       "<matplotlib.image.AxesImage at 0x1aa3fd21670>"
      ]
     },
     "execution_count": 30,
     "metadata": {},
     "output_type": "execute_result"
    },
    {
     "data": {
      "image/png": "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\n",
      "text/plain": [
       "<Figure size 432x288 with 1 Axes>"
      ]
     },
     "metadata": {
      "needs_background": "light"
     },
     "output_type": "display_data"
    }
   ],

   "source": [
    "def perspectiveTrnsform(srcp ,dstp):\n",
    "   M = cv2.getPerspectiveTransform(srcp ,dstp)\n",
    "   Minv = cv2.getPerspectiveTransform(dstp ,srcp)\n",
    "   return M ,Minv\n",
    "\n",
    "def warpPerspective(img,imgsize,M):\n",
    "    return cv2.warpPerspective(img,M,imgsize,cv2.INTER_LINEAR)\n",
    "\n",
    "global src_first_pt, src_last_pt, dst_first_pt, dst_last_pt\n",
    "def warp(image):\n",
    "    global filter_flag\n",
    "    global src_first_pt, src_last_pt, dst_first_pt, dst_last_pt\n",
    "\n",
    "    if (not filter_flag):\n",
    "        srcp = np.float32(\n",
    "        [[685, 450],\n",
    "          [1090, 710],\n",
    "          [220, 710],\n",
    "          [595, 450]])\n",
    "        dstp = np.float32(\n",
    "        [[900, 0],\n",
    "          [900, 710],\n",
    "          [250, 710],\n",
    "          [250, 0]])\n",
    "        \n",
    "        src_first_pt = 220\n",
    "        src_last_pt = 1090\n",
    "        dst_first_pt = 250\n",
    "        dst_last_pt = 900\n",
    "    else:\n",
    "        srcp = np.array([\n",
    "            [200,713],\n",
    "            [630,460],\n",
    "            [750,460],\n",
    "            [1200,713]\n",
    "        ]).astype(np.float32)\n",
    "        dstp = np.array([\n",
    "            [300,713],\n",
    "            [300,0],\n",
    "            [1100,0],\n",
    "            [1100,713]\n",
    "        ]).astype(np.float32)\n",
    "        \n",
    "        src_first_pt = 200\n",
    "        src_last_pt = 1200\n",
    "        dst_first_pt = 300\n",
    "        dst_last_pt = 1100\n",
    "    \n",
    "    height = image.shape[0]\n",
    "    width = image.shape[1]\n",
    "    imgsize2 =(width,height)\n",
    "    M,Minv = perspectiveTrnsform(srcp ,dstp)\n",
    "    wraped_img = warpPerspective(image.astype(np.float32),imgsize2,M)\n",
    "    print(\"Height:\",height,\", Width:\",width)\n",
    "    \n",
    "    #show\n",
    "#     plt.imshow(wraped_img)\n",
    "    \n",

    "    return wraped_img, Minv\n",
    "\n",
    "wraped_img, Minv = warp(hls_binary)\n",
    "print(wraped_img.shape)\n",
    "plt.imshow(wraped_img)\n"

   ]
  },
  {
   "cell_type": "markdown",
   "id": "9b088f8f",
   "metadata": {},
   "source": [
    "# Histogram"
   ]
  },
  {
   "cell_type": "code",
   "execution_count": 31,
   "id": "2c484734",
   "metadata": {},

   "outputs": [
    {
     "data": {
      "text/plain": [
       "[<matplotlib.lines.Line2D at 0x1aa3fd6dac0>]"
      ]
     },
     "execution_count": 31,
     "metadata": {},
     "output_type": "execute_result"
    },
    {
     "data": {
      "image/png": "iVBORw0KGgoAAAANSUhEUgAAAXcAAAD6CAYAAABamQdMAAAAOXRFWHRTb2Z0d2FyZQBNYXRwbG90bGliIHZlcnNpb24zLjMuNCwgaHR0cHM6Ly9tYXRwbG90bGliLm9yZy8QVMy6AAAACXBIWXMAAAsTAAALEwEAmpwYAAAjWklEQVR4nO3de5BkZ3nf8e/Tt5nZm3ZXWi2rC1oBQkLBCMgW5laYssBcg8gfJKJCsklIqVwFCRBXGWH+IEkVMdgOwY4pUirAJQcMUQBHKuJgZAEhcbCcFcJGV3QDacVKO1ppb3Pr7nOe/HHO6Tndfbpndvr0mT49v0+VarpP397Rdj/z9PM+533N3RERkelS2ewBiIhI/hTcRUSmkIK7iMgUUnAXEZlCCu4iIlNIwV1EZAqtGdzN7EtmdtzM7kkd22tmt5vZQ/HPPanbPmZmD5vZg2b2lnENXEREBrO1+tzN7A3AWeCP3f2l8bHfAZ5190+Z2Y3AHnf/qJldDXwVeBVwEfAXwIvdPRj2GhdccIEfPHhw5F9GRGQrueuuu55x931Zt9XWerC7/8DMDvYcvg54Y3z5ZuD7wEfj419z9xXgMTN7mCjQ/3DYaxw8eJAjR46sNRQREUkxs58Pum2jNff97n4MIP55YXz8YuCJ1P2OxsdERKRAeU+oWsaxzLqPmd1gZkfM7Mj8/HzOwxAR2do2GtyfNrMDAPHP4/Hxo8ClqftdAvwi6wnc/SZ3P+Tuh/btyywZiYjIBm00uN8GHI4vHwZuTR2/3sxmzOxy4Argr0cbooiInKs1J1TN7KtEk6cXmNlR4BPAp4BbzOz9wOPAewDc/V4zuwW4D2gDH1irU0ZERPK3nm6Z9w646doB9/8k8MlRBiUiIqPRGaoiIlNIwX1KfOOuozx5cmmzhyEiE0LBfQo8t9DkN/7b33DdH/7lZg9FRCaEgvsUOH5mBYBnzq5s8khEZFIouE8BBXUR6aXgPgUWm+o2FZFuCu5ToB2EncvNdjjkniKyVSi4T4FWuLp8z3OLzU0ciYhMCgX3KdBKZesnziq4i4iC+1Roh6vB/dkFBXcRUXCfCq1gtSxzYkGdMyKi4D4V0hOqp5ZamzgSEZkUCu5ToJ2aUD270t7EkYjIpFBwnwLpsszZZQV3EVFwnwpJWWbHTE2Zu4gACu5TIelzP2+uruAuIoCC+1RoByG1irFztqayjIgACu5ToR06tarRCkK+c9/T/K+fzm/2kERkkym4T4FWEFKvVHhkfgGAz3334U0ekYhsNgX3KdAOosw9sXd7YxNHIyKTQMF9CrTDkFq1wu9f/3IAFltaAlhkq1NwnwLNtlOvGNe9/GJe+8LzWVDHjMiWp+A+BZLMHWD7TE3BXUQU3KdBuuauE5lEBBTcp0IrCGnEmbuCu4iAgvtUSPrcQWUZEYkouE+BVhBSqySZe5VW4Ky01TEjspUpuE+BduDUU5k7wMKKgrvIVqbgPgXaYTpzj4K71pgR2doU3KdAq6dbBrRph8hWp+A+BdphSD3V5w6w0FRwF9nKFNynQDtwapU4c59VWUZERgzuZvYRM7vXzO4xs6+a2ayZ7TWz283sofjnnrwGK9lawWrmvmu2DsDpZW2ULbKVbTi4m9nFwL8CDrn7S4EqcD1wI3CHu18B3BFflzFK19x3b4uC+8lFBXeRrWzUskwNmDOzGrAN+AVwHXBzfPvNwLtHfA1ZQzvV5757Lgruzy02N3NIIrLJNhzc3f1J4PeAx4FjwCl3/w6w392Pxfc5BlyYx0BlsFboNGpR5l6rVtg5U1PmLrLFjVKW2UOUpV8OXARsN7P3ncPjbzCzI2Z2ZH5e28KNIp25A+zeXufUkoK7yFY2SlnmTcBj7j7v7i3gm8BrgafN7ABA/PN41oPd/SZ3P+Tuh/bt2zfCMKR3J6bdcw2VZUS2uFGC++PAq81sm5kZcC1wP3AbcDi+z2Hg1tGGKGtppfrcIZpUVVlGZGurbfSB7n6nmX0d+BHQBu4GbgJ2ALeY2fuJ/gC8J4+BymDpPneA3dsaHH1uqe9+zy40eXT+LIcO7i1yeCKyCTYc3AHc/RPAJ3oOrxBl8VIAd4+X/E1l7nP1zLLMWz77A+bPrPDQJ9/WlemLyPTRJ7zk2qEDUE9l7nu2RROqQXxbYv7MCgCPP7tY3ABFZFMouJdcO4gCeDpzf955c7jDU6eX+fS3H+Dgjf+Db99zrHP7o/MLhY9TRIql4F5yrTAE6KznDnDZ+dsA+PmJBT7//UcA+PUv/6hz+6PzZwscoYhsBgX3kutk7qmyzPP3RsH98ROLzNWrfY95dH6B/3j7T/neg1GX6lOnlgsYqYgUaaQJVdl8rSDK3NNlmYt2z1GvGo/Mn2WptbojU71qvOyS3dz52Al+diKqu3/2H76cD//XH/MH730F77rmomIHLyJjo8y95JLgni7LVCvGJXu2cc+TpwHYFS8DfOC8OV68f2cnsAN8P87e/+/DzxQ1ZBEpgIJ7ySVlmd7Wxufv3cY9T54C4KoDuwCYrVf4ey870HW/ux5/DoAnT/b3xYtIeSm4l1w77C/LQDSpeibeau8lz9sJwHlzdV77ogu49QOv47fefhUATzwbBfVnF7Rcgcg0Uc295FpBf587rE6qAvzKlfs4s9LmQ9deAcA1l+6m2nN/BXeR6aLMveSy+twBLjt/e+fy/l2zfOYfvLzr2KV7VoP/6190Ac8uNHHvPulJRMpLwb3kWp2yTHcmnvS6Q7TWTK/z4h2bAF7zwvNZaYcsNoO++4lIOaksU3KdCdVK/4RqYm9GcAe47YOvoxU4j8QnNT270GT7jN4SItNAn+SSS1ohG7Xu4D6bOnlprtF/IhPAyy7ZDayuOaNNtUWmh4J7ya20o1JKb3AHuPFtV3Hi7Mqaz7Ez7oM/u9zOd3AismkU3EtupRVl7jMZwf3Xf+WF63qOpBSz0FRwF5kWmlAtueaAssy52DETlW3OrmhCVWRaKLiX3LDMfb2SzF1lGZHpoeBeciu5ZO5xWWZFwV3W7+N/+hM+/e0HNnsYMoBq7iW3Eq/6OFPL7ohZj+2NOHNXcJd1+KtHT/Chr93N06ejyfqPvvWqTR6RZFHmXnJJzX2UskylYmxrVBXcZV2+c+/TncAuk0vBveSa7bgsM+KG1ztmairLyLo8eXKRF+/fwUfe9GKAvr16ZTIouJdcsx1SqxiVnoXAztWOmZoyd1mXxWbAtkats+RFsjKpTBYF95JrBWHfWu4bsV3BXdZpqRkwV692tnZMlsCQyaLgXnLNdjhSp0xCZRlZryhzr3aWjW6rLDORFNxLrhl4jpm7TmKStS23AuYa1c77rh2oLDOJFNxLrtkOR+qUSeyYqXJ2RQuHydoW47JMkrlrQnUyKbiXXCvIpyyzfabGgjJ3WYdmEDJTr3Q2ZW8puE8kBfeSa7bDzodsFDtmNaEq65NM4lfjPQQCTahOJAX3kssrc9/RqNFsh52+eZFBWkFIo5rO3PWemUQK7iXXzLEVErS+jKytFU/iq+Y+2RTcS26lHY58dipEZRnQ+jIyXBA6QRgF91pclmmpW2YiKbiXXG5lGW3YIeuQBPJa1TonMSlzn0wjRQUz221mXzezB8zsfjN7jZntNbPbzeyh+OeevAYr/Zo5Ze5a013Wo7Nnb7WSWn5AwX0SjRoVfh/4trtfBVwD3A/cCNzh7lcAd8TXZUzyWn4gydxVlpFhWnFnTL1qnbKMlh+YTBuOCma2C3gD8EUAd2+6+0ngOuDm+G43A+8ebYgyTJ7LD4CCuwyXnI1ar1W0cNiEGyUqvACYB/7IzO42sy+Y2XZgv7sfA4h/XpjDOGWAVk7LD2xrRJt9LDV1IpMMluwfEE2oauGwSTZKVKgBrwQ+7+6vABY4hxKMmd1gZkfM7Mj8/PwIw9jaVnLK3GfrUXBfbim4y2BJWSaquccnManmPpFGiQpHgaPufmd8/etEwf5pMzsAEP88nvVgd7/J3Q+5+6F9+/aNMIytLTqhZPQzVOcaSXDXV2wZrJWRuasVcjJtOLi7+1PAE2Z2ZXzoWuA+4DbgcHzsMHDrSCOUofKquc/Gz7GkzF2GSM5grletU3NX5j6ZRt0g+18CXzGzBvAo8M+I/mDcYmbvBx4H3jPia8gQefW51+LTyRXcZZjMzF3BfSKNFNzd/cfAoYybrh3leWV9wtBph/lMqEJUd9eEqgyz2gq5eoZqoG6ZiaQzVEss6VzII3MHmKtXNaEqQ3VaIavWWVumpW6ZiaTgXmLN1NmCeZhrVFWWkaGaqT73+jq7ZU4ttji1pI1giqbgXmLJ5FaembvKMjJMuhWys4fqGt0yv/zbf8E7/9P/HvvYpJuCe4mlJ7fyMFtX5i7Dpd9z9XWsLXN2pc1yK+SJZ5fUMlkwBfcS62TueZVlVHOXNbQyau7DzlA9fnq5c3n+zMp4ByddFNxLrJWqf+ZhrlHVSUwy1Gqf+2q3zLDM/enTK6nLywPvJ/lTcC+xlTFk7irLyDChR4G8WlnN3JNjWY6fWQ3oZ7ScdKEU3EusM7lVG335AYCZekUTqjJUkqWng/vwssxq5q4VR4ul4F5iqzX3ai7Pp5q7rCVMBfc4thMMydzTLZAK7sVScC+x1hhOYlJZRobpZO5mmEXZ+7AzVNMBXbt8FUvBvcTSizjlITmJyYdkYrK1JScsVeK0PQrug+9/dqXNhTtnOpelOAruJZb38gOz9SruqxO1Ir2S4J4sGla14Zn7wkqb8+bqzNWrCu4FU3Avsbz73LVhh6wlSHXLQBTk18rcd8zW2D5TU7dMwRTcSyzv5Qdm69HzqNddBklPqEJUnlmr5r5jpsbO2Zoy94IpuJdY3ssPzClzlzWkJ1QhrrkPmaNZiIP79pkqCwruhVJwL7Fx1NwBltsK7pItDB2zc5hQXW6zfabGbE1ttkVTcC+x9KngeVBZRtbSDr2TtcPaE6pJWWZW51AUTsG9xJLMfSavzL2msowMF7h36u0wPHN3957grqShSAruJdZqr255loeZuCyjE5lkkCDICu7ZQXu5FRI6UVmmXlG5r2AK7iXWDIKuNT5GlZRlVhTcZYDAu8sytYoxaGmZpDtmx2ycuWvdokIpuJdYK/Dcetwh3eeur8+SLQidauqM6GGtkJ3gPlONM3e9r4qk4F5izXaY29IDoFZIWVsQZmTuA9ZzT1oftzdqWpRuEyi4l1gzCGnU8lkREnSGqqwt7JlQrdjg4J7M3Wxr1DpbOGrdouIouJdYsx3SyDFz77RC6uuzDNDOnFAdENzjGvtco9JZt6ipfVQLo+BeYq0gzO0EJlArpKwtqxVy0DZ7SeY+W6922nU1n1McBfcSi2ru+f0TVipGo1rRB1AGCsL+4D5om70kc9/WqDHXiBIHdWIVR8G9xJrtfDN3iLbaU+Yug2QF97Vq7nP1audboc6hKI6Ce4k1g3wzd0CnictQvd0y1WETqs1UcFebbeEU3EtsHJn7rDJ3GaI3c69V187cZxuV1LpFem8VRcG9xFpBmOtJTJBskq3sSrL1BvehrZDNgIpFm8mozbZ4Cu4l1sy5WwbisozWAJEBertlakPWc19qBWxr1DCzTnBXzb04Cu4l1mp7rmeoAlp3W4bqy9wrRnvA4jJLraAT1LWcdPFGDu5mVjWzu83sW/H1vWZ2u5k9FP/cM/owJUveZ6hC0i2jD6Bky5pQHdYKOdeIQkwS5Ff0rbAweWTuHwLuT12/EbjD3a8A7oivyxhEZ6iqW0aK09cKWR1yElMz6KxX1CnLaGXIwowUGczsEuAdwBdSh68Dbo4v3wy8e5TXkMGizD3nsoyCuwzRF9zNOptm91pqBcw1agDMxnNDK1raojCjpn2fBX4TSP+L7Xf3YwDxzwtHfA0ZYBzdMrM1lWVksHOdUJ2rd5dllDgUZ8ORwczeCRx397s2+PgbzOyImR2Zn5/f6DC2tLyXHwCYa6hbRgbLmlANBk2opsoyM8rcCzdKZHgd8C4z+xnwNeBXzezLwNNmdgAg/nk868HufpO7H3L3Q/v27RthGFvXeE5iUllGBgtCp3YumXu8pkytWqFWMb23CrThyODuH3P3S9z9IHA98F13fx9wG3A4vtth4NaRRyl9wtBph57/8gNxWUbrbkuWIHQq1rsT07DMvda5PlOrKHMv0Dj63D8FvNnMHgLeHF+XnCXrYue/cFjSsqYPofTrW35gSHBfbq22QkL0rVCtkMWprX2Xtbn794Hvx5dPANfm8bwyWCsJ7mNohQRYaYWdyyKJrOUHBrVCLqZq7hBl7pqsL47OUC2pZns8mXtyJqFOE5csWZt1ZLVCunvcLZMK7vWqvhEWSMG9pFpxh0L+NXe1rMlgWWWZrMw9CeKzjd7MXe+roii4l9T4Mvc4uKs2Khl6lx+oDNiJqbMLkzL3TaPgXlLJhGreC4clE2CqjUqWIHRq1bUnVBeTXZhSmfusMvdCKbiXVDtMgrvKMlKcvlZIM0Knr3V2qdkG6JqUV+ZeLAX3kkqWWU3XP/Mwo9PEZYjA+09iAvqy96VmFMS3NVYb8mZrFW2QXSAF95JKJrFyX89d627LEEHgVHqWHwD6JlUX48x9W0OZ+2ZRcC+pdlxzr1XGNKGqDEsyBN49oZpk7r2TqknNPV2WUc29WAruJZW0QtZyz9wV3GWwduhUq9197snxtE63TFfmruUHiqTgXlLjm1DVLvUyWNjbChlf7j2RaTEjuM/Wqqq5F0jBvaSSCdVazhOqSevasjIsydA3oVodkLlntELO1Ct6XxVIwb2kkg9T7jV3tULKAGHouNM9oTogc1/qTKimV4WsEoTemS+S8VJwL6nOhGrONfdKxWhUtcCT9EvWbc9sheydUI3LMum1ZTqdWMreC6HgXlKtMbVCQvz1WZm79Eh62TNbIYP+CdVGrdJ1HsZMLVlxVO+tIii4l9S4WiFB625LtiAcnLn3tUI2g67JVFDmXjQF95Jqj6kVEqIPYdLKJpJI5nnSyw8MbIVsBV2LhoEy96IpuJfUuCZUIZpUVc1deoUZmXsS3PsnVIOuThnQ2c9FU3AvqaTPfTyZe1VL/kqfJKHo2qwjzuJbQf/yA+lOGUhl7npvFULBvaQ6m3WMIXOfq1c1oSp9krp6pavPvdJ1W2IxI3OfiTN3naVaDAX3khpXKyQk3TL6AEq3YROqWTX3uQE1dyUOxVBwL6lOzX1cZRl9AKVHMGRCNQi7k4GljG6ZmZoy9yIpuJdUK9mJaWytkPoASrcgI6GoDehzzyrLaFG6Yim4l1QQOmbd9c+8zNbUCin9hrVC9m3W0VLmvtkU3EuqFfhYsnZQt4xkC72//XbQwmFZ3TJJ5q4+92IouJdUOwjHUm+HqB9ZX52l1+rWjqvHqnGgT2fuYegst8KujTpA3TJFU3AvqXbouS/3m4gmVMO+TY9la0sy92o6c8/olkm+9fUtP6BumUIpuJdUKwhz36gj0fn6rAxLUlZPYlo9ltUtk7VRB0SL3JnpfVUUBfeSCkLvOlMwT6u1UX0IZVVWK2RW5r6UsdwvgJlFuzEpuBdCwb2kWoGPMXNPVu/T12dZFWSsZ5TVLbOauXdPqIKWky6SgntJtcMxTqiqNioZVtdzXz2WBPp0n/tiZxem7swdonZIfSMshoJ7SbWD8U6owuo+mCKQ3QpZrfZn7klZprdbJjmmb4TFUHAvqfFOqGppVumXNaGaWXNvZU+ogjL3Im04OpjZpWb2PTO738zuNbMPxcf3mtntZvZQ/HNPfsOVRDv0Mfa5qywj/cKwvxXyXLplQJl7kUZJ/drAb7j7S4BXAx8ws6uBG4E73P0K4I74uuSsHXrXhyxPCu6SpZO5r7dbRpn7ptpwdHD3Y+7+o/jyGeB+4GLgOuDm+G43A+8ecYySoR2E1MdWc1dZRvoFWZt1ZHbLJBOq/d0yytyLk0vqZ2YHgVcAdwL73f0YRH8AgAvzeA3p1g7GX5bRjjmSlhXcO90y6eCumvtEGDm4m9kO4BvAh9399Dk87gYzO2JmR+bn50cdxpbTCsd/hqrKMpIW+ODMPdk8BmC5GWC2ugpk2owy98KMFB3MrE4U2L/i7t+MDz9tZgfi2w8Ax7Me6+43ufshdz+0b9++UYaxJY21FTL+UGrZX0lLJk3X2olpsRntwmTW//5U5l6cUbplDPgicL+7fyZ1023A4fjyYeDWjQ9PBilkQlWniUvK6qqQq0G7UonWiwl6yjJZJRmIttrT8gPF6J/xWL/XAf8Y+ImZ/Tg+9lvAp4BbzOz9wOPAe0YaoWRqByF1tUJKgbJ2YoIoe+/tlsnqlIFosl7ruRdjw8Hd3f8PMCi6XLvR55X1ifrcx5O5VytGvWrqlpEu7YwJVYgmVXu7ZbbVs0OLMvfi6AzVkmqNsRUStEm29MtaOCy6bl1ryyy1QmaHZO7NIOzblk/yp+BeUuNcfgCSTbIV3GXVoMy9WrWuM1SXmm22ZawrA1HmDtBU9j52Cu4l1Q6cem2cmXtFZRnpktUtk1zv7ZYZNKG6eoKcEodxU3Avqea4M/eayjLSbWDmXrG+VSEHTagmmbvq7uOn4F5SRZRltOSvpAVBUnPvn1BV5j55FNxLqh342FohISnL6AMoq9adubeCzHVlQJl7kRTcS8jdo1bIMZ3EBEm3jD6AsirZt7f3zNNa1WgG6QnVIHOjDlhdkkCT9eOn4F5CrfjrcSNj7Y68qBVSerUHbMo+U6t2lhRoByHNIBxSlklOkFPiMG4K7iXUirOk8ZZldLKJdAvCMHM9o9l6pZOJD1sREqINskGZexEU3EsoCe5jLcvUVHOXboMz99X3yrCNOiC9+boSh3FTcC+hpCxTH2NZZq5R7WyXJgJRzT07c1/9lrc0ZIs9gG0z0fGFlfaYRikJBfcSSjL3xhjLMttnap0ddURg8Eqk6XMikoRgbsDaMjtno+NnFNzHTsG9hIooy+yYqdEKXLVR6QgG7CGQPpt5qRUF7UFlmZ0zdQDOLiu4j5uCewkVUZbZ3ki+Piu4S2RQzT3dWbW4Rllmtl6hWjHOrrTGN1ABFNxLqaiyDKg2KquCMMzctzcd3M/EGXlSfullZuyYqSlzL4CCewkVVZYBOKvgLrGh3TLxhOrppSgj3zVbH/g8O2drnT8CMj4K7iVUSFlGmbv0GNQtM1Ov0myHuDunl+PgPjc4uO+YqWlCtQAK7iVUxElM25W5S4+B3TKdE5NCTi21qFasM2eTZeesyjJFUHAvoWTXm3GuCrmjk7lrQlUiA/vca6t77p5earNrtta3/kzajpmakoYCKLiX0GrmPs6yjE42kW7DumUgOuv01FJraEkGYOdsXcG9AAruJdQsoCyjCVXpNWxtGYgz9+XW0MlUgB2aUC2EgnsJFVGW0YSq9GoHg1eFBFhuB5w422TP9sbQ59k5U+PMsvrcx03BvYSKKMvUqxUatQpntQSBxILQB/S5J5l7yM9PLHDZ3m1Dn2fHTI2VdqhNssdMwb2EiijLQPQhVOYuicHdMlHm/qOfP8fp5TZXHdg59HmSzP7kYjP/QUqHgnsJFVGWgWhSVd0ykghCJyufSDL3f/et+zh/e4M3X71/6PPsjYP7iQUF93FScC+hIsoyANsbalmTVSvtoFNfT0sf+/g7XsKFO2eHPk8S3J9VcB8rBfcSKuIkJlBZRrott8JOlp6W3i/11/7O89Z8nvMV3AuRvbqPTLRWYWWZmuqi0rHUCjKX8r107xzXXHIeb3jxvk4L7TB7FNwLoeBeQkWVZXbM1Dj63OJYX0PKY7k1uCxz6wdfv+7n2bOtQcXgmbMreQ5PeqgsU0LtIKRiZPYc50kTqpK20gq7SjAbVa0Y+3fN8ouTyzmMSgZRcC+hZuDUxpy1Q1SWUc1dIOqUaQbZNfeNuGj3HE+e1LfCcVJwL6FWENIoILjvmKmx0Gzj7mN/LZlsC/HJbNsb+VRyL949x5Mnl3J5Lsk2tghhZm81swfN7GEzu3Fcr7MVrbQDGmNcyz2xfaZG6NFEmmxtx09HJZQLd83k8nyX7Jnj2Mll7dE7RmOJEGZWBT4HvA24GnivmV09jtfaik4ttTlvjZX38pB0PmiRJ3nqVDT5uX/X8B729fqli8+jHToPHDuTy/NJv3Glf68CHnb3R929CXwNuG5Mr7XlnFxsFhLcL9odfZDVMVOsIz97lvd94U6WmpOT1T4VZ+7Pyym4X3PpbgB++OiJXJ5P+o2rFfJi4InU9aPAL+f9Ig88dZoP/sndneu9tWEfeKX76tDHAembvefWrtvWKE2nX2fYa/S+Tu9tzy02ee0LLxj+Yjm48nm7AHjvTXdy2fnDF4OS/Dx0/CwAb/nsD5gpoPy2Hs8tRqs45pW5X7R7jlddvpff/fMH+cZdR3N5zrJ645X7+Pg78i9sjCu4Z/XodYUoM7sBuAHg+c9//oZeZLZW5cr9PYsU2eCrvbvD9A4yfXP/bUMe2/eaPfcd+rzre1zv9Xe+7CLG7eLdc/z7v/9L/OUjz2hStUCXnb+N+35xmpdevGuzh9LlRRfuzDyJaaP+w3uu4XPfe7iz7+pWldcfzF42jg+tmb0G+Dfu/pb4+scA3P23s+5/6NAhP3LkSO7jEBGZZmZ2l7sfyrptXN/5/h9whZldbmYN4HrgtjG9loiI9BhLWcbd22b2QeDPgSrwJXe/dxyvJSIi/ca2toy7/xnwZ+N6fhERGWwypuJFRCRXCu4iIlNIwV1EZAopuIuITCEFdxGRKTSWk5jOeRBm88DPR3iKC4BnchpO0co8dij3+Ms8dtD4N9OkjP0yd9+XdcNEBPdRmdmRQWdpTboyjx3KPf4yjx00/s1UhrGrLCMiMoUU3EVEptC0BPebNnsAIyjz2KHc4y/z2EHj30wTP/apqLmLiEi3acncRUQkpdTBfdI34TazS83se2Z2v5nda2Yfio/vNbPbzeyh+Oee1GM+Fv8+D5rZWzZv9KvMrGpmd5vZt+LrpRm/me02s6+b2QPxv8NryjJ+M/tI/L65x8y+amazkzx2M/uSmR03s3tSx855vGb2d83sJ/Ftf2C9O+UUN/bfjd83f2tmf2pmuydx7AO5eyn/I1pK+BHgBUAD+Bvg6s0eV88YDwCvjC/vBH5KtGH47wA3xsdvBD4dX746/j1mgMvj3686Ab/Hvwb+BPhWfL004wduBv5FfLkB7C7D+Im2qnwMmIuv3wL800keO/AG4JXAPalj5zxe4K+B1xBtXPY/gbdt0th/DajFlz89qWMf9F+ZM/eJ34Tb3Y+5+4/iy2eA+4k+tNcRBR3in++OL18HfM3dV9z9MeBhot9z05jZJcA7gC+kDpdi/Ga2i+hD+0UAd2+6+0lKMn6iJbnnzKwGbAN+wQSP3d1/ADzbc/icxmtmB4Bd7v5Dj6LlH6ceU+jY3f077t6Or/4VcMkkjn2QMgf3rE24L96ksazJzA4CrwDuBPa7+zGI/gAAF8Z3m8Tf6bPAbwJh6lhZxv8CYB74o7is9AUz204Jxu/uTwK/BzwOHANOuft3KMHYe5zreC+OL/ce32z/nCgTh5KMvczBfc1NuCeFme0AvgF82N1PD7trxrFN+53M7J3AcXe/a70PyTi2mf8mNaKv2p9391cAC0SlgUEmZvxxbfo6oq/9FwHbzex9wx6ScWwiPw+xQeOduN/DzD4OtIGvJIcy7jZxYy9zcD8KXJq6fgnR19aJYmZ1osD+FXf/Znz46fgrHPHP4/HxSfudXge8y8x+RlT2+lUz+zLlGf9R4Ki73xlf/zpRsC/D+N8EPObu8+7eAr4JvJZyjD3tXMd7lNXyR/r4pjCzw8A7gX8Ul1qgJGMvc3Cf+E2445nyLwL3u/tnUjfdBhyOLx8Gbk0dv97MZszscuAKogmaTeHuH3P3S9z9INH/3++6+/soz/ifAp4wsyvjQ9cC91GO8T8OvNrMtsXvo2uJ5mzKMPa0cxpvXLo5Y2avjn/vf5J6TKHM7K3AR4F3ufti6qaJHztQ3m6Z+I/o24k6UB4BPr7Z48kY3+uJvpb9LfDj+L+3A+cDdwAPxT/3ph7z8fj3eZBNnGnP+F3eyGq3TGnGD7wcOBL/G/x3YE9Zxg/8W+AB4B7gvxB1Z0zs2IGvEs0PtIiy2PdvZLzAofh3fgT4Q+KTLTdh7A8T1daTz+5/nsSxD/pPZ6iKiEyhMpdlRERkAAV3EZEppOAuIjKFFNxFRKaQgruIyBRScBcRmUIK7iIiU0jBXURkCv1//fwpqVbEqi0AAAAASUVORK5CYII=\n",
      "text/plain": [
       "<Figure size 432x288 with 1 Axes>"
      ]
     },
     "metadata": {
      "needs_background": "light"
     },
     "output_type": "display_data"
    }
   ],

   "source": [
    "def get_histogram(binary_warped):\n",
    "    histogram = np.sum(binary_warped[binary_warped.shape[0]//2:,:], axis=0)\n",
    "    \n",
    "    #show\n",
    "#     plt.plot(histogram)\n",
    "    \n",

    "    return histogram\n",
    "    \n",
    "histogram = get_histogram(wraped_img)\n",
    "plt.plot(histogram)\n"

   ]
  },
  {
   "cell_type": "markdown",
   "id": "02fa4216",
   "metadata": {},
   "source": [
    "# sliding window"
   ]
  },
  {
   "cell_type": "code",
   "execution_count": 32,
   "id": "2a319724",
   "metadata": {},

   "outputs": [
    {
     "name": "stderr",
     "output_type": "stream",
     "text": [
      "Clipping input data to the valid range for imshow with RGB data ([0..1] for floats or [0..255] for integers).\n",
      "Clipping input data to the valid range for imshow with RGB data ([0..1] for floats or [0..255] for integers).\n"
     ]
    },
    {
     "data": {
      "image/png": "iVBORw0KGgoAAAANSUhEUgAAA4gAAAEMCAYAAACGDpgpAAAAOXRFWHRTb2Z0d2FyZQBNYXRwbG90bGliIHZlcnNpb24zLjMuNCwgaHR0cHM6Ly9tYXRwbG90bGliLm9yZy8QVMy6AAAACXBIWXMAAAsTAAALEwEAmpwYAABzJUlEQVR4nO3dd5xVxfnH8c9soffeRFCKIipYsWPvYuyKCbZYosYYo9HUX4rpxRg10WhiL9grKqJi76CIiqJU6SBIXbbM74/n3N276y5sO3Nu+b553dfuPffunTnL3jtnZp55xnnvERERERERESlIugIiIiIiIiKSGdRBFBEREREREUAdRBEREREREYmogygiIiIiIiKAOogiIiIiIiISUQdRREREREREAHUQRXDOneGceyXt/hrn3FZNfW4Izrl/O+d+3sifrXYuIiIiIiLqIEpecM7t7Zx7zTm3yjm3wjn3qnNu19qe671v573/oj6v25DnxsF7f773/jdJlS8iIhKCc262c+6gpOshkg+Kkq6ASNyccx2AJ4ALgPFAC2AfoCTJeomIiIiIZBrNIEo+GALgvb/He1/uvV/vvX/We/9BbU92znnn3KDo+67Oucecc187594Ctt7Ec291zl3vnHvSObfaOfemc27rtOce4pybEc1i3uCcm+ycO6eW8ls559Y757pF93/mnCuLOro4537rnLsmrczfRt+Pds7Nd85d5pxb4pxb6Jw7M+11N3cuezrn3o7q97Zzbs/o+P7OuWlpz3su+vnU/Vecc8du/r9BRESk+TjnOjvnnnDOLXXOfRV93y/t8Redc7+JooZWO+eeTbWt0eOjouiilc65951zo9MeO8M590X0c7Occ2PDnp1IctRBlHzwKVDunLvNOXe4c65zA372emAD0Bs4K7ptyqnAr4DOwEzgaoCoQXoAuAroCswA9qztBbz3G4C3gf2iQ/sCc4C90u5PrqP8XkBHoC9wNnB92vnWeS7OuS7Ak8C1Uf3+BjzpnOsKvA4Mcs51c84VAcOBfs659s651sDOwMub+b2IiIg0twLgf8CWQH9gPXBdjeecBpwJ9MAiiH4E4Jzri7V7vwW6RMcfdM51d861xdrDw7337bH2emrcJyOSKdRBlJznvf8a2BvwwH+ApdFMWs9N/ZxzrhA4HviF936t9/5D4LbNFPeQ9/4t730ZcBcwIjp+BDDde/9Q9Ni1wKJNvM5kYL+oQ7ZD9Pz9nHOtgF2pu0NWCvzae1/qvX8KWAMMrce5HAl85r2/w3tf5r2/B/gEODrqsL6DdUx3AT4AXsE6rKOin1u+md+LiIhIs/LeL/feP+i9X+e9X40Nyu5X42n/895/6r1fjy0zGREdPx14ynv/lPe+wns/EWvrjogerwCGO+dae+8Xeu+nx39GIplBHUTJC977j733Z3jv+2EzYH2AazbzY92xdbrz0o7N2czPpHf61gHtou/7pL+O994D8zfxOpOB0cBOwDRgItbojQJmeu+X1fFzy6MOaM06bO5c+vDNc5uDzUSm1yc1e/liVJ/9qHs2U0REJDbOuTbOuRudc3Occ18DLwGdokHRlLra5S2BE6Pw0pXOuZXYYHJv7/1a4GTgfGBhtHRkm9hPSCRDqIMoecd7/wlwK9ZR3JSlQBmwRdqx/o0sdiGQvi7Cpd+vxWvAUOBbwGTv/UdR2UfSuA7Z5s5lAdZYUuPxL6Pva3YQJ6MOooiIJOsyrK3c3XvfAWujAFw9fnYecIf3vlPara33/g8A3vtnvPcHY8syPsEikETygjqIkvOcc9tEiVv6Rfe3wNYKvrGpn/PelwMPAf8XjVIOA8Y1shpPAts7546NwkYvxNYL1lX2OuDd6HmpDthrwHk0okNWj3N5ChjinDvNOVfknDsZGIZlf02VPRTYDXgrCrXZEtgdG7EVERGJW3GUyK1VtOSiM7bucGW0lv6XDXitO4GjnXOHOucKo9cc7Zzr55zr6Zw7JlqLWIIt1yhv9rMRyVDqIEo+WI11ZN50zq3FOoYfYiOPm3MRFo6yCJt1/F9jKhCFhJ4I/AlYjnW+3mHTW21MBoqBt9Lut6fxHbI6zyVaQ3gU9jtZDlwBHJUKZY3Cbd7D1lFujH7sdWCO935JI+sjIiLSEE9hHcLUrRPQGliGte1P1/eFvPfzgDHAT7Aom3nA5di1cQHWHi4AVmDRMt9rpnMQyXjOlkKJSEjOuQJsDeJY7/0LSddHRERERAQ0gygSTBTG0sk51xIbsXRsJsxVRERERCSk2DqIzrnDnG0KPtM5d2Vc5YhkkT2Az7FQmKOBY6O02yIi9aK2VURE4hZLiGmUXvhT4GAsjO5t4NQoE6OIiIg0kNpWEREJIa4ZxN2wvdq+iBJa3IstBBYREZHGUdsqIiKxi6uD2JfqG3LPp2rDbREREWk4ta0iIhK7ophet7YNSqvFsjrnzgXOje7uHFM9pC5dsF341iZdkTC27QQFDqaXAR+j3YykeQzEPkU3bu6JGa6iDXw5BCoK6ddvHj17LuGjj7Zl/frW0G4+dE3byaQYqAC+CFrDZd777kFLzEybbVtB7Wte6gRsRf22h29GQ4EWwLSwxVaZB2ijJWmIAmAI0DZMcR3pyFZsRQELsV3GtgHa4vHMYhZf8VWYimwAPuEb17/e+9o/Nbz3zX7DknE8k3b/KuCqTTzf6xb4diqef2RAPQLcDjrI/tTOvBDPW3g6J18n3XLkdheegzOgHk26dfUwxUOFHzx4ht+4scjfeON3PZR7GO+hXfXnj8YzPng934mjrcq2Gw1sW9W+5smtDZ5X8FTgQ/7bI/ozuzhoqWn/PsHTtYG/K910uwxPKUH+Rgf6gX62n+0r/Ofe+5be+297770v9aX+z/7PvoVvEea9sgHPt2r/fdTZdsTUiBVh48sDscGl94Ht1IBl0C2POojPPov/8kt8i+6og6hb896yvoNY7OFWb51B7x977Ci/alV736PHQg9TPXT75s+MRh3E5DqIDWpb1b7mye0EPBtp/MVjI/895PHLPL5N8JLxlOP5fiN+V7rl9603nlkE+Rtt49v4iX6ir/AV3vsTvPdtvPfzfYWv8M/6Z32bUO+cCjzP4GlZ+++krrYjlhBT732Zc+4i4BmgEPiv9356HGWJbMrIkXDwwXDFFbAx28MARZrdd4GTgQIOPvhZjj76CS6//E8sWVIMnI3tyCKZQm2rfEMxcEH0NaChWHak3wLrwhZtvsRSNInUVwHwY6B//EU5HD/n54xmNI6XgQeAXwN9mcsczuVc1oV656wEfgWUNOzH4lqDiPf+KeCpuF5fpD4uvxy+/hpuvJHgazNEMtso4OdAKwoLy/jb337IzJlbc+21ZwE/At5LtnpSK7WtUs0IYJfwxV6GXW9eF75om/d4BI1fScPsAIwjxh3gq3yLb3EBF1CEA34AbAFcxlKWcjZnM5vZ8VcC7L0yHnij4T8aWwdRJGkDBsBJJ8Ff/2qdRDomXSORTNEduAbLVAXnnnsTw4dP59hjH2TjxruA27GWRUQyViFwCdA+bLG9gO8AtwBLwxZtlgPXY8myROqjFfATglwHDmEIf+APdKQj8F9gCnAPGyniz/yZSUyKvxIp84C/0aj3ijqIkrN++EMoL4d//CPpmohkkmLg99iWetCp01f8+te/4Pnn9+fRR7sBZ6ArL5EsMBI4huDRMZdgF49/DVus8cA9wKdJFC5Z6xAsJjrm90pb2vI3/sYgBgFfY73SPfGcxGM8xD8IeEFaAfyTRr9X1EGUnNStG5x9NtxxByxYkHRtRDLJcVhruRiAX/ziF3Tu/BU/+MH3sZ0RVidYNxGpt3MJPnvYHlvy+AChd7qJrAFuQgEOUn+dgcuxtF4xO5iD6UUvpjKV3vyTXixmBn/hQx7me3yPjSH3xPoACwZqJHUQJSddeCG0aQN/+UvSNRHJNI8BEwEYOrSciy5axc03t2TatDOBVYnWTETqaQvgsPDFnotF6f05fNHmJTR7KA0zDtgzTFGP8zhP8iQD8EyjjDtwnM1ZVFBBecgNuDdiOXGasEeoOoiSc9q0gYsugkcfhU8+Sbo2IplmfXSzAZR16+DnPy+hwSnORCQ5ZwP9whZZDFwKTALeDVu0WQ/8HUJOwkiW64tNeQdITANQHv37HVAGXImnlNIwhad4bCDlmaa9jDqIknPOPNNCTP/0p6RrIpK5DjwQjjrKMv0uTSTThIg0yhbAWQRfe3gadr19VthijQeeB15OonDJSg64Chgctti9gBOwHOGJrHBajW3n0cRdNAL1qUXCKCyEyy6DV1+F115LujYimck5+POfYdYsuPbapGsjIg1yMsFnDx1wBfA+8GzYok05cAOaPZT62xY4heADKX/GtulMLInTI9gbtYk0gyg55YQTYOBA+MEPkq6JSOYaOxZGjoRTT4WNuuASyR7tsQ5i4IveI4FhwNiwxVb5CNCgr9RXC2xEo0vYYo8D9sAiwNeHLdoswnqmzbDcUTOIklOuuAI+/hgefzzpmohkppYt4eqr4Z134L77kq6NiDTIGGBE+GIvB+Zge24HVw5cB6xMonDJSvsRfPawGPgD8CFwa7hiq1QA/8KylzYDzSBKzthvP9hpJ/jud8ErBbZIrS6+GPr3h3Hj9D4RySrtqNqEMKBdgH2xBDVlYYs2HwP3J1GwZKUWwA8Jsq1FunOx5Y5HkNBOwvOB/zbfy2kGUXLGD38IS5bAnXcmXRORzNSlC/z0p/Dkk/Dii0nXRkQaZCQwPHyxl2Jbft8SvmhbU/UEmj2U+jsF2J+gs4ftgV9ieZQmhCu2ShnwO2zxYzNRB1FywuDBcMwx8K9/wYYNSddGJDP95CfQvj38+MdJ10REGqQI+AHQKmyx/YATgf9gyRGDWxQVLlIfnbF46JZhi70C6B59TcR7wF3N+5LqIEpOuOQSKCmBG25IuiYimWnAANsf9H//g+nTk66NiDTICOCw8MVehF0o/jN80TZ7eB/wRRKFS1Y6CcteGlAfLKL1bhLaH7QMuAZY07wvqw6iZL3OnW3vwzvvtBBTEfmmq6+G8nL45S+TromINIjDpvFahy22LXAe8CCWoCa4dcADSRQsWakzNqJRGLbYX0dF/jRssVXeA2JIzKgOomS9886DNm3gmmuSrolIZtp5ZzjtNPjb32BBIjv3ikijDQS+Q/CtLc4AOgF/C1us8cDTwJtJFC5Zx2EJnALPHg7H3ifXAbPDFm3WAr+g2WcPQR1EyXLFxRY29+yz8OGHSddGJDP96U82u/6nPyVdExFpsFOAnmGLLMCWPL5OQn20cuBGEkqbKllnK+B8gs8e/h5L4HR12GKrPAVMiueltc2FZLWTToK+feGcc5KuiUhmOvBAOOAA+P73YXUiWSZEpNE6AScTfPbwKGAQcFXYYo0HpgJvJFG4ZB2HdQ57hC12L+x9ciXwVdiizRps7WFMgyiaQZSsduml8NFH8MwzSddEJDP97ncwZw7ceGPSNRGRBjsR2C58sT/EQuYeDl+0zR5eQ0JpUyXrbAV8m+CDKL8DFpJgAqcJwFvxFaEZxHwX+A3VnPbd19ZWffdce69s9lyy+FwlQfX5u8rQv60xY2C33eDMs2BjKc1Tzww9V5Gc0wK78A0cNrcTsB/WSSwPW7SZR0KbyUnWKcY2IAw8e3gIsC9wIZZLKbjFwG+INQRbHcR8NgYYknQlGu+HI2HpRrjzBOC4evxAMdAt5kpJbtkO+BN1x1psh8VhXRqsRvVWAPx2L/hkDdxxMpb+uz4c1jKUEY281NAZ0HpfkfjtA+wavthLsXVVt4Qv2j5zbgNWJFG4ZJ1RwPEkMns4i4S26PTArcTeDquDmM9eA/6cdCUaZ9AWcPTD8NubYcO/6/lD7YBr46yV5JxtgPUkuAK98U49AoYfBideAeXPNeAH2wD/xjLC1bWwYl6Tqycim1KMTeG1CltsH2zJ43VYJzG4L0moZypZpxgbzQi8/ctxwM7AOKA0bNFmEZbAqbYB3GakDmI+WwpMSboSjXPJWVBaCjf8Aptqr4+OJPRulqy2jKx7nxQXw6/uh/fegwf/QsMaknZYzMw07DNCRMIbBOwZvtiLsOiDRMZSPZaR8cskCpesMwqL9Qw4e1iARXZ+BNwZrtgqqRn2ABuTbjZJjXPuv865Jc65D9OOdXHOTXTOfRZ97Zz22FXOuZnOuRnOuUPjqrjkr06d4Mwz4e67YXF9O4cieeSss2DrreGnPwUf8yijNJ7aV6lVAfA9bFAzoNbAeVhimtlhizarsalLfWbJ5qRmD9uGLXYsMAz4OVARtmizkCCzh1C/LKa3AofVOHYlMMl7Pxgb77kSwDk3DNuxZ7voZ25wzgVeXi257swzoW1b+Mc/kq6JSOZp1Qp+8Qt4+WV4+umkayObcStqX6WmbsAxBF9XNRboAiTWtL4LvJ9U4ZJVRgGBh8iKgV8B7wAPhS3apGYPZ4cpbrMdRO/9S3xzufAYrJpEX49NO36v977Eez8LmAns1jxVFYGCArjoIrv4fV8Nicg3XHgh9OkDP/lJ0jWRzVH7KrU6FegXvtiLse0HXwlftC3/uB4tA5HNS2jt4TnAQOCnYYutshC4KVxxjd0Hsaf3fiFA9DWVYLYv1dMXzI+OiTSLI46ArbaCfyay8YxIZmvfHq66ymYOX0nkKk+agdrXfNYa29oi8C7V+wI7kNCebgCfAxOTKlyyyp7Y7GHAGfbWWFjpZODZcMVWqcDiTQKsPUxp7iQ1tf131Rop65w7Fzi3mcuXHHfxxTB/PjycyO69Ipnt+9+Hrl3hZz9LuiYSA7Wv+eBAYHj4Yi8GlgN3hy/a/or/S0JpUyWrdMCy7weePTwf6E39d4tqdtOAvxJ0fW5jx6gWO+d6A0Rfl0TH5wNbpD2vH7Cgthfw3t/kvd/Fe79LI+sgeWboUDjkEPjXv6Asxs1BRbJRhw7wwx/Co4/Cu+8mXRtpArWv+aoA+C7QMmyx/bA45puBDWGLNkuBe5IoWLLOscBIgs8e/hib4E4kMKccSysceG/QxnYQH8O2ACH6+mja8VOccy2dcwOBwcBbTauiiLnoIigpgf8ksjOpSGa7+GLo0gV+9aukayJNpPY1Xw3HYj0DuwC73r4hfNE2I/IodQx1iKRpj+3PG3iDvvOBnliCmkR8CDwYvtjN/pqdc/cAo4Fuzrn5wC+BPwDjnXNnA3OBEwG899Odc+OxLULKgAu99+Ux1V3ySPv2MG4c3HsvLNXebCLVpM8eTsmyPRvzmdpXqea7BN/aohUWi/wY9scW3HrgXyS0Z4BklW9hC2UDSs0ePge8GrZok5o9XBW+6M12EL33p9bx0IF1PP9q4OqmVEqkpjPOsE6iktOIfFNq9vDXv066JtIQal+lUm/gCIJvbXEKtqtGYk3r68DHSRUuWSOh2cPzsNnDE8IWWyWh2UMInidLpOGcswvg11/X2iqRmlKzh489Bu+9l3RtRKRRTsVy6Ad2MXYN+kL4om0e/FoSWvgoWeVYYMewRabPHia29vCfJDJ7CMH74iINd+ihMHgw/PKXSddEJPNo7aFIlmsLHE/w2cM9gZ2wWZJEzCShuD3JKh2AHwCFYYs9D+hFFOOfhGnAA0kVrhlEyQIXXwwLF8IDCb5RRDJR+/Y2e/j445o9FMlahwG7hi/2YuAr4M7wRVtymn9he2uIbMqxBJ89bAVcAUwiP2cPQR1EyXCDBsERR8CNN0JpadK1Ecksmj0UyXKF2AKn4rDF9sYmLf8LrAtbtFkOTEiiYMkqHYDvk8jsYW8Szlz6UFKFG3UQJaNdeKF1DG+8MemaiGSW9u3hssts9lBrc0Wy1FbYDGJg52PX3NeHL9pmD5/GQkxFNuUIEpk9/DE2e/hy2KJNanZ9ZRKFV9EaRMlYbdrAmWfC/ffDokVJ10Yks1x0kWYPRbLeWIJvbVGMbW3xFDArbNGmBPgfdiEsUpdi4CSC91S+i80enhy22CqLgGeSKryKZhAlY516KnTsCDcksnuvSOZq3RouvRQmTNDsoUjW6gacQfDkNGOw5BuJNa1vkNDUjGSVPYBDwxZZDFwOTCbB2cPbgNlJFF6dZhAlY11wAUybBq8qy5lINeecA927w+9+l3RNRKTRDgf6hi/2AmzmMJFJinIsK45yCsimFAOXAm3CFjsW2AKbRUzEQuCmpAqvTjOIkpF22QV23hn+/e+kayKSWYqL4Uc/gpdfhlcSSa8mIk1WhO19GHiYfihwAHYNWhG2aLMYi20V2ZQEZg8LgCuB90ho8MQDt5NQ3Pc3aQZRMtIFF8CaNXDHHUnXRCSzjB0L/fvD+ecnXRMRabRRwH7hiz0P2AjcEr5ouwC+A1tjJVKX1Oxhq7DFfgsbQDkZR0Etcd8VcQ+pLAIyKCGjOoiScTp1glNOsc7h6tVJ10YkcxQUdOXHPy5k6tRWTJjwO6ovXloF/AaLURGRjOWA04HWYYttjS15fBBYGrZosxa4GyWnkU0bBRxC8LW5/0cLVtONC7mTC2vsq/ElX3Ipl7KYxfEUnlp7OCeel28MdRAl43znO5bBVOGlIuna8q1vncM22/yRk0++l+o51sqwzaI0NC+S8fpjmWICXwCfBHQGEmtanwM+SqpwyQqp2cPAgyfH047hrMHza/Zl/2qPbWADYxkbX+cQqmYPM2jwRB3EXFYADKP2N9rWQE9g16A1qpfzfwBvTIOpxTRv/doBLZrx9SQzOGAb7P+3uQ0CupP8+6S0CKb/gKuueorPPhvEAw+cAIVl0GIjFFTAoP9Ai2bKG98WaNn0lxGROhwK9Ahf7AVY/+yl8EXbGNb90VeRumwDHEzQwZM2tOFaeuNZj+Pb1R7bwAZ+xs94lEfjq4AHHiOjZg9BHcTc1h94BJjBN68bXXT7ZeA6bcZ+XWDbgXDG+zS+biOwFMEra3nsZWBdI19XMlMP7O/8c5o/60KmvE9mHMMhz41i552v5pxz/kNFRSEcNoGdrrmd5Z8uY07Zy9CipPnKex1QeLdI82uJxXkGThE4EtgdizNIxBxgQlKFS1ZwwHewQcpgRTp+zaH04WHgGtJnESqo4Dqu4xquoZzy+CqxDgsvzaDZQ1AHMbcVA/OBY8malNIX3AsrhsJ9o4ANjXgBBzwE/AXQ9hj5oQhYDhwPrE+4LrHYC7ieq144hfnz+3LHHdEIZ/s1HLliMLdd/BrMacbOoYjEZy+stxbY+dh16O3hi7YL37uAr5IoXLLGVtja3ICzh2MYw/dZh21Kek7lcY9nAhP4C3+Jt3MIltX37XiLaAxtc5EPMmxUoi49e8Jxx8Gtt8KGxnQOoepcs+ScpRnl5P95X+DP7LHHF4wePZm//vUyNm6siv9s3649Rx5xJM4FXswkIg3ngBMInp2xA3AacA+Wyiq41ViUh0hdHBYD3TNckcMZzt84g2KeAS6h5tTldmzHt/hWvJVYA/ydjAy91gyiZIyzzrI93m7MoDS/IslpCVwLjOKKK77F8uVd+M9/qm/f26JFCyZMmID3Odk7FsktvSHu683anI4t0f5X+KLNK8AHSRUuWSHw7GEHOnA91zOAm7F3x4XfeM4CFvAgD8ZbkQlk5OwhaAZRMkRBAZx3HkyaBJ9+mnRtRJLWEtuy4hgGDZrJMcc8xr/+dQFr16Zl4ineyM9+9jNmz56dUB1FpEFOILHkNG8D74Yv2pa33AJxR+lJljuMYO+N9rTn3/ybvRmA4x7gbCy/r/F43uANTuVUlsa5IUwZMJ6MnD0EdRAlQxx2GGy5pba2ELEh1JOAHwBFXHrp3yktLea66y5Ke84a2P9O1qxZk0gNRaSBWmHrpANfde0FDCfBrS3mklDaVMkanbFFsgFmDwsp5HzO52ROpoDrscx2l1R7zlKWcimXMpe58VbmPeDpeItoCnUQJSOcey4sWgSPPJJ0TUSSNhrLslRE167LOOOMW7nzztNZvLhX9Pg64DJoNTGxGopIA+2KpREN7Fxs3eG94Yu2deH3AsuSKFyyxknAtmGKOpIjuZzLcazBNh48ARhY+fgqVnExF/Nu3PPtZcA/sDWIGUodRElc795w5JGWnKYsQ6faRcL5CFu17rnggn/Rps16/va3H6Y97oDjgC0TqZ2INFABMI7g+/B2BE7EEogmsrvTSuC+JAqWrNEKOAsoDFPcZCbzd/6OxT2vAi6rUZ1WnMu5dKd7vBX5Angy3iKaSklqJHHjxkFREdxyS9I1EckEA4HzadmyhIsuuo6nnjqcjz7aLu3xQmzhwhfJVE9EGqYncChB0/eDZS5tDdwctljjgbeAT5IoXLLGPsAO4YobzWgu4xIcuwN7A7tVe7yUUq7lWhayML5KeOBOEkopXH+bnUF0zm3hnHvBOfexc266c+6S6HgX59xE59xn0dfOaT9zlXNupnNuhnPu0DhPQLKbc3D22fDiizBzZtK1EUlaDyzXYH/Gjr2bnj2X8Je//Cjt8Y3Ab0loNzNpRmpb88jxQJ/wxZ6DLXOaEr5oW9p1E1mzB7MkoAVwKcG2fRnEIP7KX+nKZGAO8KNqj69hDZdwCU/wRLwVmQf8N94imoX3fpM3LDHzTtH37YFPgWHAn4Aro+NXAn+Mvh8GvI+l4RsIfA4UbqYMr1sMt8F4XsRTlAF1qeM2erT9GYwd24yv+zCePZM/N90C3frieQ1PqwyoS5NubTw84aHCO1fup0/f1r/33ggPFR589PV3Hort+XfgOSzpOge7vbO5tirbbgRoW9W+ZsCtLZ5X8aH/jYz+BC4IXnL07yM8XRvwe9It/27b41lNkL/HLr6Lf9O/6St8ufd+V+/9YO99uU8p82X+En+JL/AF8dfmxgR+15u41dV2bHYG0Xu/0Hv/XvT9auBjbPfmMcBt0dNuA46Nvh8D3Ou9L/HezwJmUnMOVyRyzjnw1VfwYMxbzYhktmJsNNPi0A477GmGDfuYv/71Mqri0l7GZhc1JJ8L1LbmiR2AncIXew6wHrg7fNF22fk4sDyJwiUrOCxzadvNPbHp2tCG3/N7dmEXHK9im75cSnoQ5dM8zYM8SAUV8VZmFZYbJws0KEmNc24AMBJ4E+jpvV8I1tBRtYNJX2wCNWV+dKzma53rnHvHOfdOI+otOaBzZzj+eLjzTtiwIenaiCTpXOCnpJaFX3bZX5k/vy/33Xdy2nOGYjsJK7dYrmnOtjV6PbWvmeK7BAuhS2kNjAXuJ6FlTquBW5MoWLLGUOBkYl+X63D8mB9zNmdTQAGWIbwrljWqyp7syZEcGW9lAB7D4kCyQL2vNJxz7YAHgR9477/e1FNrOea/ccD7m7z3u3jvd6lvHSS3jB0LrVrBzYmsoBfJFAcDPyeV4nD77T/gwAOf59prv09ZWXH0nHKsZfkHxD3CKUE1d9sKal8zRn/s7R3YCVgG08Sa1pew+W2RuhwBdIm/mLGM5Qf8gEIKscRujwMXAG0qn7ORjVzLtfw37oWBG7FRm/J4i2ku9eogOueKsQbsLu/9Q9Hhxc653tHjvYEl0fH5wBZpP94PWNA81ZVc8t3vwttvwwcfJF0TkaT0A67B0hyaiy/+J+vWtebmm8+JjnjgBSwkJpFk9RITta057jDqmOON1znYgtaXwxdtF793oUh4qVt34Dxinz3cnu35Hb+jAx2iI9djWcAvqHyOx/MQD3E1V1Ma9x/tm8CkeItoTvXJYuqwDUM+9t7/Le2hx6iaox0HPJp2/BTnXEvn3EBgMJbsWKTSLrvADjto9lDyWS/gHtJ3CO7SZTljx97FHXd8m6++6oJ1DqdgDdraRGop8VDbmuOKsdWjgbe2GALsS4Kzh4uxGUSRupwADIq3iAEM4F7upR/9oiNrsI/bqpTCHs+zPMslXBJ/57ACuI6sGuOtzz6IewHfBqY556ZGx34C/AEY75w7G5iL7ceK9366c248tttzGXCh9z5LJlQlLgXYdqSpS+E9z4HStTDpngQrJZKoImyx/O7Y1SScffYttGmznuuuuyh6zkfASVjCSskxaltz2Q7AfmGKakEL/s7f2ZqtGcLNVPAwI/gTbfg560JekXrgAYhzCznJcq2xJi3mpfTrWMfjPM4QhlBEEVUbD34fsM7ha7zGd/gOSyqDNGL0BTA5/mKaVdKpvpWGO8Zbhm1z8RvwFeB9W7z/Gl/2X/zoOMp6GG1zkU+3rN3mopOHyT61jUVhYamfPbu/f/750R68h+Uejqz757XNhW5qXzPz5vD8GU8FtSW5j+Xfv/2/fYXf4L3v4b3/ll/j1/id/c7BysfjWYPaXt02fTsSTwmx/y329X39+/59byq898O89ztF33s/18/1o/yoMO+LCjxXBP49N+BWV9uhdHgSzGRs2JsTgfZQeDPskWyVRBLSAfgPsDepGLSjj36cLbecyz//eTGwAltJ9GRiNRSRRuoMfIug4aXP8iyex7Elq+fQhjbszM7hKgAwFXg3bJGSRQqw8NIW8RbTgx7cwz1sz/bRkeexwIuLAcdc5nIKp/AGb8RbkZSVwBNhimpO6iBKMO8Q5Wg/B9vx6zVLZBXzZ4VIhikEvoddQVZ9BF988T+ZM6c/jz12BPAr4JFEaiciTXQ0MCBska/xGqX8G8uKcygOxxjGROF1AXhszKskTHGShbanalfXmLSkJT/lp+zN3rjKEZp/At3wnMx61vNjfsxrvBZvRdKNBz4JV1xzCfTJIflsFyzbdyGwYQi28uZye2w4lqpjbkJ1EwlvO+wv/5GqI9vN5YADXuDHPx5LeflvsZ10fTLVE5HGK8AuggvDFHcsx9KPfnSlhBbcAlxVWfiO7EhnOrOUpfFXZCmWbFmkLscAneItohe9KKOM67gOgA4s59s8xrsczBvczHu8x/3cH28l0pVgW1tk4e5U6iBK7I7FMi8AlpOvHFsvjAXa7YI6iJJPPsA2vK9y8cWwfj3cfPNdyVRJRJrHUCxyPJBDOIQLuAD4E3YVOq7ysZ70ZDu240VejL8iTwNfxl+MZKlOWEqumM1hDpdxWeX91LviWzzLlzwbfwVqmgK8Er7Y5qAQU4ndq1if0BWA+w7WkCyyxwqA/ROrmUjyOnWCb38b7r4bVqxIujYi0iRjgK7hinud1ymnDLgNC88ZXPlYIYXsFyKVailwN1mzAbgk4BCCh123Bs4GHiahsYsKbDIkS8Ou1UGU2L2F7fDMAdjWzrdWf3xXoFXgOolkijPOgDZt4J//TLomItIkrbAwuoDJaV7kRVbyHJaEY1y1xxyOvdgr/nWIc9COnFK3llh+mMAxi6cAXbAViImYDdybVOFNpxDTbLYd8CPqXuvQHgt3uZWg8c8tN8Chz0KLjVXHvnoDBpwBfAU8XnV8UU+YehAUHEBqK7im24EoXarkjT7YHrhZOIJ93jHw+lJ4/7LNP7eaPQFFpIpkjj0h7sShnenMaZxGYdTwF1JIS+7BeqcnVXvuR3zEczyHj3M9swfuwNp2kdqMiG4BB04AzseGTV4OW6zxwGNYQvIspQ5iNtsDm0O/bRPPuSlQXdK0LIHfvwzblqYd7IAlbbyVatPtM8rhouVQ9kA9X7wD8GtsHf76Op7zPyzdtuSPr7FMYRs398TMst/2sM23YdxfgUkN/OG+cdRIRBrtWJpvoLMOxRRzOZezJVtGR0qA3lgD27Hacz/hE/7KXymPc+RsPdqNR+rmsKm8tmGLHQHsBnw/bLFVNmBh11mca04dxGz3OTAh6UpU9zXwDDAs/eCJQBu+0Zkdvgx6PA0L6vvi3YAfAhOB1U2sqOSONdgf3YakK9Iw530bvvoKxv+Mhtf9tDhqJCKN0hvb3iLmWZJlLONFXmRcZTjp49j03RnfeO4u7EJ72rOSlfFV6FVgenwvL1muF7b3YeDZw/OwsYs7whZb5SWyfqJCaxAlFq9RI9pvHLb3YY11Cp2A3QPVSSSTdO8Oxx8Pt98OG7KsYysiNeyP7ecUswoqeIM3qKhcN3IbFk5wYOVzPJ4KKuhJT3ZkxzgrYyn89fkldTkEGzwJqB0wFrgP4hwaqVs5FtFUurknZjbNIEqzKcA+CzoCPbH3RiHA1sA+wJVVz52M7fQGto5XJN+ccQa0aAE33rjZp4pIJivEIjxjHHJvSUtO53Ta0Y4BDIjWFS7GQoguJz0ZwX3cx3/4DwAzmRlfpZbT8NB4yR/tsBjPQHuCppyGpeBIrGmdDjyYVOHNRx1EaVYnU5VHrTKiILX3Ydpcfzdsm/C6lhGK5DLn4Nxz4aWX4OOPk66NiDTJEGx0NEZllHFM9K/KXVjjWj17aT/68RIvURZntjaPRbfOiq8IyXI7U2OtURjnAe8Db4Qvuup9sSqJwpuXQkyl2VRg+81UkNY5dMB3gOeottBwS9J3axLJLwccAIMGafZQJCcchk1ZxKicch7hkbTQUo9lfdsd2Kbac4cxjP5xx7tWYKO8WZyEQ2LksE0IA+9htguwEwnOHn5Nggsfm5c6iNKsXqPGhqSjsd7grXa3FMv6uxGLOhXJR+efD8uWwYM5EIYikteKgTHEnoTD4XiBF1hRmTd/KjCN9OQ0a1nLXOaymtWMYES8FZqPNfgitdkKODR8secBa0lwB6hnseSROUAhptIsDgC+i404VPujGodNtT9id9/BwlDLUBJSyU89e8KYMfCPf0BJyeafLyIZbDdg13iL+A7f4QzOoIACiiv30bgV24H85MrnTWIS4xhHBRWsj3sBx73YGkSR2hwCdA9bZAfgVOAebCIvuHIsaVOO7MOtDqI0i1XAMdhOFpXaYumN76Iyy9lQbMB1XtDaiWSOM86A4mK4KYE9SkWkmR1LjYav+c1nPnuzd1rnsBTbZO0YoHPl83ZhF1rTmoUsjLdC66kc9BX5hpbY+yLw1hanYZediYWXzgdeSarw5qcQU2kWH1HLVkhjsHdrWjx2Z2BUqEqJZKCzzrLkNJ99lnRNRKRJOgNHxF/Mu7zLF3yRdmQisAw4vdrzetKT4QyPv0LToptIbXYgkTVEZwIfYJFqwXksc2nMYzMhaQZRmqQDtkS+EEtmVi3S5nRgDvCqxYS/is3AdwlcR5FMseeeMGQI/P73SddERJrsACwsJia96c1BHEQhhSxhCUMrC7sTa0kPA2AJS5jABCqooC1t46sQWHKa27FGXaQmhy2LDZycZhgW7X1p2GKrrCHBhY/xUAdRmqQAuAHb6rCa7sDBwJ8BbyHZlwCfBK2dSGY580xYswbuvz/pmohIkxQQ+96HAH/kj/SuttP4GuBRLD14CwA8np/xM+YzP97KgC3uejb+YiRLdcPGLQKHl56JBV7fGbZY44H3qCWMLrspxFSaZCW2EgJqfB6cjA0/RCMqHUgkoZVIxmjTBk4+GcaPh7UafRfJbt2B/Yj1QngRi3iAB2ocfQRYB4ytPNKNbuzP/vFVJN07aO9DqdvRwICwRRYB38a2H1wWtmjjgZuBHEs6pw6iNEkBtsXhN/KljcV2Ko1GVMqAg7BQVJF8dMIJ0L49/O9/SddERJpsH6BPvEW0oAWTmUwppWlH78L2jtqz8sgGNrAv+8ZbGaja+zBHsjRKMyskyKx6TUcAPYHEmtalwAtJFR6fzf43OudaOefecs6975yb7pz7VXS8i3NuonPus+hr57Sfuco5N9M5N8M5p4mjHDYY+DeWtKrS1lgmmrR47OeBC7E1iCL56MwzLTHNKzmU5UwaT21rFivCNlyLOYxuJ3bin/yTosrVQEuwBDWnkX759iAPcjmXx1sZgAVYIg6R2gwnseQ0i4AJ4Ys2j5BTyWlS6tPPLwEO8N7vCIwADnPOjQKuBCZ57wcDk6L7OOeGAacA22GRyDc45zRxlKPmYPsZVvtDOg0babyn6tAOaNBR8tfAgTB6tGYPpRq1rdlqK2BnYu8gTmc6K1iBqyzoPmyYdWy15+3BHmnPiYkHJmN9VJHaHA10DFtkD+BILFl+IhMQG7FBk4okCo/XZjuI3qyJ7hZHN49tYnBbdPw2bNcTouP3eu9LvPezgJlYciHJQRuw0OtqxgIvAfPtPbMRywa+Z83nieSJM86A8nK4/fakayKZQm1rFjuEIBfCX/M1t3M7Hh8duRPYERsjgFJK+Zqv6UIXRjAi3sp44GFy8kJYmkFbrIMY2OnYB2diY68zgbeTKjxe9cpiGo1SvgsMAq733r/pnOvpvV8I4L1f6JzrET29L/BG2o/Pj45JjjkR2Albq19KlE9tZyzt91/sOQuw/uIqYHECdRRJmnMwbhxMnAhffpl0bSSTqG3NQkVYVz3GdVaFFPJ9vs/2bE9PelJBBYV8AbwF/KnyeZ/xGcdzPOtZz3KWx1chsBA6hcdLXfYARoYv9kzsQ/Hj8EXboMndWLbGHFSvDqL3vhwY4ZzrBDzsnNvUTqy1xTn4bzzJuXOBc+tTvmSmdsAV1Ggnx2KBU1Hite7YH9n7YasmkjH23x+23BKuuCLpmkimiaNtBbWvsRqJbf4bo3LKKaKIMzgjLXT0buxP4NTK5w1gAG1owychNpB6AIWXSu0cFucQeOO8nbBlj+eFLbbKOuDJpAqPX4PGwLz3K4EXsfUPi51zvQGir6mPjvnAFmk/1g+bSKr5Wjd573fx3u/S8GpLJngMmJ1+oBBbIfMklSMqxSQSdSCSMU4/HVatgkcfTbomkqmas22NXk/ta1zGAO3jL+Ze7mUpS6N7Hsv6Nhr7b7e9D4so4hAOib8yG7B1VrUOR0je64d1EAPvfXg6Nh8xPmyxVV4g5/Y+TFefLKbdo9FNnHOtsd0KPsH6B+Oip43Ddm4lOn6Kc66lc24glujyrWautySoN3ApcDa2ZW+lA6IH07KXPg3cFK5qIhmlVSs4/nh48EEoybE9kqRp1LZmobZYTv0YDWIQf+SP/JAfUlK5sdo7wGfUTE5zJ3dyK7fGWyGwdVZT4y9GstR+QK+wRRZg8xFPkVCEZwW2Jrd0c0/MXvWZEO4N3BatlSgAxnvvn3DOvQ6Md86dDczFlqThvZ/unBsPfIQlrrwwCqORHPE1cDK1RNmMxd6paVPuW1HHELdIHjj6aOjQAe66a/PPlbyjtjXbDAe2ibeIZSzjCI5gOOnRxndhq/yPrzzicGzP9qxiVbwV8thI7+p4i5EsVYDNHgbOp5yaj7gzbLFVVmD7t+WwzXYQvfcfUMvSU+/9cuDAOn7mauDqJtdOMtJaLGPUrqRNQbfENkh9ACipikQZiOWtyfH3kUitxo6FBQvgxReTrolkGrWtWehooFV8L+9wrGY193M/27FdtP6wHAuiOwLoBFh4aQUVbBP9m8KU+Cq1EZu7FqlNH2Cv8MXWMh8Rjgdex4L+c1jgJaXSYB2xPSJq0y16fECw2nBiCYxdaM1UteUIhwIdsG2asNDTH/WGhS1hRnNWoAvBR6okA/Wi6kIt9f0AbK1MhujcEQ4/HP55O1T0j6GAdjG8pojUrg224VqM66wu4RJO4AQ6RR1B8wqWQvTkyiNLWcrZnM0KVvAFX8RXIbDI1qnxFiFZ7CgsG2FArbG59PFAIis3yrGcUTm+ubc6iJnMATcCW1P7hW8RNoV3R7gqzX0fDr0YWtVcrH4ysIzKqcK2DtZeAI/v34hCOmOfALXFpjoswGpjI15XckM34Bks5MljfxMVwH+SrNQ3ndgLWrSAu3amed6j/YGvqB7qNa8ZXldENm8HYg8vncEMdmM3iilOOzoeaxCPqjzSmc6UU85rvBZvhTwwAYWXSu1aYlN5gQftj8byRCW2cmMu8GxShYejDmImc9iM2fnAtITrEplSAS96mzCsHEhtDRyDvVujEZUyDwf/H9zz20bsq3sqlr/48joeL49ukp9aAOux0fz1CddlE8Y+Bx+VwpRRzfSCtwD3Y+uBwC7ecniBvEhGORq7II7RZCbzNm+zJ3tGR8qwdRtHkR4yUEIJ+7EfE5gQb4VKUXip1G0wsGP4YscCXwKTwxdtJmFrEHOcOojZoJSMmTE7HItq/cbBdlTLNTwd+GUFVDSm3mVYrzJDzlkykMf+PjL0b6R/f9h3H/jpT2m+OlZg740MPWeRnNUNSxUUcxr/MziDbnRLOzIZ2+XkpGrPe4M3+AN/iLcyAG8C78ZfjGSp1LVfQF2iYq+hEZMPzaEUeCSJgsNr0D6IIrOBbanRTp4MLKbacM4goEe4aolklNNOs693351sPUSkGeyJZVyL2Qd8QL9on0Mzntr21hjJSPrQJ97KeOxCOIOjNCRBLbHIscB7H56I7a+dWHjpPGzgJA+ogyj11gJbr/44aQlq2mLRLw8A5Rb5+VH0vG+k5xPJE6edBq++CrNnJ10TEWkSB4wh9nirdrTjYz7mRV6MjpRiu9Mfg2XIgY1s5BVeYSpTGRh3j3U1ttZbpDbDSCS89DQsQu398EXbhe8z5EV4KSjEVOrJAb/H1h5WCzE9Emu77qs6dANwE1omKPlp221h++3h4ouTromINFlXbNO1GBVTzM3czJ7sSXvaR0efB5aTHl5aQAHXcz33cR+empnimtkUbKRXpDbfIXh4aW9gb+CXYYutsgHb4y3mt16m0Ayi1IsHnsI2vu9HWlTByVi20VftbiFwAlWJJUXyzYknQkUFPPhg0jURkSbbA6pFfcaglFLu53560Stti4vx2N5Rh1U+r4giTuRECuNOG+mx5DRa7yy16UCNTIVhHI91Wu4PW2yVj4APkyo8PM0gymb1xBK4tcE2Jm2deqA9tjTiRip7gxuBL7D1hzm+h6hIrU48EV55BRYuTLomItJk3yLWK6Ue9OAszqIjHdnAhmiLi43AQ1hsa6vK565mNR/yIe1ox0pWxlep1VRlSxapaSS2/VpgJ2IJ/Zt1b+368sCT5NWaXHUQZbPWAucCu9Z84Gis7UoLLy3ActWocyj5aJttYPhwhZeK5IQA4aVllPEdvsO2bJt2dCI2HFs9e2lLWvIe78XbOQSFl8qmjYFqW3UG0AsLL/2/sMVWWQ88kVThyVCIqWzWGuAfVG5xWOVkbMPQN+zuhui5RxN831SRjKDwUpEcsiexh5euYAX/4l9UVFuUMR7oBBxSeWQVq1jGMg7kQArivHTzwKNoj1WpXb6Gl35MXoWXgmYQpR7aAvtTY11uR2xpxD+rHpgCnA6sQ+sPJT+deKJlL1V4qUiWc1h4aczD6N3pzpEcmXZkA7a/xPFY7nDzCq9wJmdSQkmNzmQzU3ipbMpOJBJeehLWP/skfNF5GV4KmkGUeliHzQxWG00Yg7VdaeGlOwKdgUXkTZInkUrbbGPZS+9PbIhTRJpNKrw05pmSFaxgCUtwlQVNBL7GVlxV2Yu96EhHvubreCs0BZgZbxGSxY7B9kAMKBVemljTmofhpaAZRNmMNsC2wNtACWnL5Y/Dwkvfts7geGwGXqGlkq8UXiqSQwJkL+1KV0YykulMp4KKKDvpQ1iIzoEAlFPOtVzL53we78whKLxUNi0VXhpYRoSXTk+q8OSogyibVAz8GxhBWuevLfYh8e+q520Afov2PpT8lQovXbAg6ZqISJM44Fhij7EqpJAbuIFBDIqOlGL7SxxDKry0IPp3AzfEv/fh19hG4CK1STB76XSsn5aIJ7FQujyjEFOpUzusL/gw1jmsjLQ5HJtKfKjqufsCA4PWTiRzDB2q8FKRnNGN2MNLe9CDznRmIhNx0T/LAb4CC9Gpshd70Z3u8VUmReGlsim7kb4sNoiewD4kOHtYCryZVOHJ0gyi1Gkv4L9YVEE1xwOLgVerDt0EzApUL5FMc+yx9vWhhzb5NBHJBqOIPbz0QA7kBm6gDW3Sjj6ELeyoyl5aQQXXcz1LWRpvhTw2ebkx3mIkS7XEUtQHzl56NDaTlVjTOo+87SBqBlHqNAl4BZtFrPxMaAkciSVZi5ZDOOBgNNog+WvMGHjnHfjyy6RrIiJNtgexN2gP8RBv8RYtKqdkKrB4nSMgrdNYQAFHcmS0PjFGG4G34i1CstgQbK1RYMdikw/TwhdtJmGT+nlI1/RSp22wzmE1BwHtqRzO2QD8AZiPNWklwWonkhl69oTdd4df/jLpmohIk7XFllHEbHd2pzOd8fgovPQNLAd4VXjpSlbyY37Ml3xJIYWUfXM34ubzGfB+fC8vWe4wbN1RQG2xVE3/3twT41KGJW3K07T86iBKnT7DktRUczywEnjB7rbA1u7eEq5aIhnl6KOhoAAefTTpmohIk20PDI2/mPd4jwoq0ra3eBBrUav2RGxPe8op50mejL9CT2P7WYnU1ALLmxQ4vPRQLN1FYk3rPGzcJk+pgyi1GooNGFVb9VCEfUg8TmUa7BVYAptilBlb8k1n4GTGjHmaWbNWMG3aGVS1oJ8CExKrmYg00tFA63iL2Ju9OZiDWc3qaAYRLCznYNJX/c9jHstZHm9lwEKBHo+/GMlSW2MbXQfUhz78jK6sZyYHcgUHRCHWHs+7vMtjPBZ/JV4kb8NLQR1EqcMa4DxsD8RK+2KbB6ft89YWW7agzqHkl87AzbRtexAHHfQ//v3v84FrsFiUj4GTk6yciDRGW2wJYMwWspBxjGNLtoyOTAFmAz+v9ryudGU+8+Ov0MyoCiK12QWq5VKKWR/6cDe3M4KTcJzAz/g/wDqHb/Im/+W/8VfCY0k48jS8FBqQpMY5V+icm+KceyK638U5N9E591n0tXPac69yzs10zs1wziWwraY0VSm1tBfHAWuBZ+3uXCzSdIeA9RJJnnUO4VgOOeQ5WrUq4dFHx0SPbQB+CnyYWO0ku6htzSCBwksLKOALvkg78hB2OXZM5ZFpTONRHmUrtoq3Mh4LL10dbzGSpQqwTDEx50hK6UMf7uIu9qUAxwpgTOVja1nL//F/zGFO/BVZDjwffzGZrCFZTC+h+j6VVwKTvPeDsTw/VwI454YBpwDbYVGKNzjnAv1pSXMpBPZMP+CAb2FRc+vt0HpgHDZvIpIfOmErbo8FChgz5lFWrOjMyy/vg11pTUeZHqSB1LZmiqOxRU8x83iGMSztyEPAftgGjKaEEr7H9xjP+HgrsxFCROtJluqD7XkWpCjrHO7Hfjgew9Lm2ziYx/MGbzCVqWEq8zqEmLzPZPXqIDrn+mErp29OOzwGuC36/jbsiil1/F7vfYn3fhYWvLBbs9RWgmgLdME2Ji1PHRyFfVCkbUazKjokkj+OwD4KCygsLOOoo57gySePpLy8CFgInIN2BJX6UtuaQVph2UtjTsTRjW70oAdP8zQeD3wCfIRlgKuykIV0pnNtL9G8ZkGoa27JQvuQPm4Rq8M5nL3YK3oLPorlMLXUqXOZy4VcyGIWx1+R1J6gMSYNzgb1XYN4DXAFtsFBSk/v/UIA7/1C51yP6Hhfquf9mR8dk9o44ERq31/GAYOA7wNLwlWp3Ua4/0bYamHaCMJx2B4WT1Q9r6AjzPoe1f8qmsN2WI4PyW8dgO+RnrPBtAO2AH5F2A/wRT3hpjNgg+X23WuvV+nadUUUXuphz0/gyAXxXWCOAO6O6bUlKdegtjUzbAEMiL+YDnTgfu6nJz2jI6lR12OrPa8tbVkSouF/F1s6IlKbvQkSXjqQgZzP+RRRhC3RmEUUPFGZmCZI5xAsNf+7YYrKZJvtIDrnjgKWeO/fdc6Nrsdr1nZ59I1lns65c4Fz6/F6ua0ICzB6gto7gVeHrQ7Y+sPpLWokqDkWi8debf+Z7wPz1sDQGfBOYwY598cuiWoLbfkcmNyI15TcMggLqLuOb36CBI/iLIBp58GGfUl9xB155JNs3FjMM88cCgXLodN98EUPauT+bXAx/AC4D/iyxmN/wcJeJCfE1bZGr632taEOATrGX0w55XzBF/SpjL95FJsItr5+BRW8yIt8wRf0pS+f83mclYGHgYr4ipAs1glLrBuzQgr5Lt9lB3aItn1JbetyFABLWcpkJjOAAbwfovGfRvWg/zxVnxnEvYBjnHNHYEEYHZxzdwKLnXO9oxHO3lR1b+ZjY3Ep/YAFNV/Ue38TcBOAcy6P8wRhH9L3QbU16wmqoMY6/W2xi/W/VB2aBZxcDqUP0TgtsbAFbaAom7IA+xtJ/BNiC6ylrPrIPOKIp3j55X1Ys6Y90BaeOh54uWnFFAAnYZMKynOT62JpW0Hta4MVYQG8DcnK0Egb2UjfyonfhVge8KqRYIdjFrM4j/OoiLvnthDL1ChSm50JMqu+DdtwFEdFs4dgyS52JLWIqQtdGMUoHuGR+CsD1j/dEKaoTLbZj0Pv/VXe+37e+wHYeP7z3vvTsbmfcdHTxlG1l+VjwCnOuZbOuYHAYOwTULJAb+BMYFH6waOjr2nhpcXY4JJI7nPA7sAMLKMD9Os3j+HDp/PUU6mc+MuBv6FhR6kvta0ZZCCWyj9m27ItF3ERq1gVHUnNlBxd+RyPp4wyWse9GaPHInWaEPAgOW4UsW+G53AMYQiTmUwppVh2i1exBcFmKUv5M39mLnPjrQxYE/9m/MVkg6aMl/0BONg59xk2tP4HAO/9dGA8tur6aeBC7315na8iGWUNlh7voPSDx2Dx2Gkhb+2i54rkPg88h20CaikODz98AgATJhyOhQDcjzVqIk2mtjW00QQJL13EIg7gAEZUJh14DJuiGQ5Y59Dh6EEPNkaDUbF6HIWXSu1aYRGeMSdtSu1tuD3b04IWWFtbTqqDWEopN3Mz05keb0VSZgNvhykq0zVobMB7/yLwYvT9cizFUG3Pu5pEVs9JU/QAfkGN/VC7A3tgCUGwnCB/Bz7APj/Wh6ygSGKGYwtnrbU8/PAJzJnTn48/3hZb0d4W2BXbGVSkYdS2JsgB+xJ7eOkQhvAbfkOHyqxb64CJ2FJR+1zZwAZ+yk+ZwQyKKIpmVGKyilo2OxaJ9MaWFgUwnOHszM7R+sMJWGa6PQDb7mVI9O/DEOsuPgC+jr+YbBAg4l6yxUrsM2Ev0gaNLKN/ZTKZQmArbL7kq8D1E0lGaujELuyKizdy0EHPRbOHDgu4noEW84hkoR7YDGLMFrCArnRl28r0b89hC52OqXxOK1oxjGE8y7Osj3v49R20I4/U7QBsv7OY9ac/v+W3tKUtFq3zNBY4YdnCCylkMpP5hE/ir0w58AiaVY+ogyiVWmHzINUcDcyjcp+kcuwyWHFNkj+2BHYgNWyy116v0r79mqiDCNaa7AcMSaZ6ItJ4o7CR0Zi1pz1dql1xP4bFte5beaSEEiYykfIQLewTEOcEpWQxB+xJkB7CQAYyiEHR7OE0bC1T1fpDh+N4jmcgA+OvzDrgvfiLyRbqIApQNWM4kbSEkS2BQ6mcPfTYeOfBQIugtRNJSk/gd5C2YfXhh09g48Zinn/+gOiIB+7BloaJSFYJsM9bIYWUU84zPBMdqcAWAB5OaqakggrWsrZGNseYrEeJOKRuXbEVFTHrT39+w29oR7voyIToa1UHsZRSrud6PuOz+Cs0FeLcVSbbxPwpJNmiBbaLxdGkhZcegE0ppnUQfw/cjjIAS774GrgB2IlUvM3hh09I297CY+GlH5ABe3GISEO0w7KyxawNbbiRG9m/8qr7LWz3kqrw0goquIIreIRH4l17CPaRNS3eIiSLDYbKnVhitIQl3MAN7MiOFFNMze0tPJ6pTA0TXuqB1yBEbqhsoRlEAaAEeBALM63sIB4DrCZKnWDvn1ZYAIBCtCU/VABjSc0g9u07n+23/zBte4s5wKko24NIFtoRuxiO2RrW8DAP04IWUSjdY9i0ZVXvtIwyCihgBSvir9DTwNr4i5EstS+pie1YFVDA6ZweJW5aTc3tLT7lU77Dd/g4xPZRHuWYq0EdRKm0NTUymB4NPEPliIrD3sIi+aEI2/BlD1LDJgcfPBGAZ589BFvA8zSwOJnqiUjT7E6w9RJbsVWUxh8svHRf0kPXiynGh4hCKANej78YyVJFpCfsjk1LWnIcxzGKUdGRydgf5yGAZfR9kAdZzvJ4K5KyCHg/TFHZQh1EASxZ6Q6kbVuxExZiEIWXVgA3ActI7QQnkut6AH8kPYPFgQdOYvHiHnz44XAsj+/X2GJdEckqLbAomZgvhAHO5EyGMSwKHf0C+JD08NJSSvkNv2EpS+NffzgfdRClbn2wHZti1ote/JJf0pWu0ZFJ2NWlbW+xilW0ox2taR1/ZQDewKK+pZLWIApgl7rHkbZX8DFYqtKn7K7DZhdvRxlMJR844EQsSU2K58ADJzFp0oHR412ANWg3UJEstDUwMkxRy1nOYRxGK1phs4dgITqmkELa0pbHUiOycXoRQk3KSBbaCSq36oxJAQWcxmm0p33a0UlYxiibguhMZ+YxL/71uCkvobVTNWgGUQC71K02TnM0tmA3akg8luBJ7x/JDx54CEsmYbbd9mN6914UdRDBPj73BLqHr56INM1IatnXKR6d6ETLykiDx4FhWA/VlFPOtBBZYyqwdl0NudRlD2KfOqqggru5mxnMiI4sxrImHVj5nCKKGMWotAynMdoAvB1/MdlGHURhFBZRULlmvRc2ivSk3fXAw9g8if5gJH/she2gbTFoBx30HEDUQSzDRjzPB2YmUjsRaaQC4Fhi394C4GAOZjd2o4QSLOLgJWxRh6mggv/wH9aGyBrzFfaxJVKbYmxdbgCp94V5Pvp6EAAb2cgDPMAFXMA85sVfmcVQ2VeVSrrez3OF2HvjKNKC6VKJ1Z6qet5X2BpEhZdKftgWuIL09YUHHjiJzz/fijlzegHXY1eYcxKpnYg0QS8smi1mLWnJIhZxKIdG4XSTsORW1TcCX85yHubh+Cv0JjA3/mIkSwUKu96Jnfg+34+2tgB7X3TCM4I1rOFqruZ0TmcpS+OvDCjsug7qIOa5TsAdwDbpB4/AFrKnRbx8GbBOIslbBPwPovUPhYVljB79Is89tw9wFtZ5XJdc9USk8baBytwYMepFL+7lXvrTPzoyAdt8ca/K53g8C1kYfwZTj3UQy+ItRrLYzlBtWWBMZjObu7mbcsqxP8zn8OzPEpZzEidxNVeHW3tYgSVQlW9Qkpo8twr4DFtJBdhfxMHAA1XPmYy9h4rQHqKSL/oDWwL/BWDnnWfRsePXTJr0BvAphEhHLyLxGEOQ7S2WsYx5zGMYw7DPjKewBtYK93ge5EEqqKCAAiriXBy4jsplIyK1OiBMMVuyJa1oxV/5K51YzgXMYQLbcRWH8AEfhKlEynqU1bcO6iDmuWLgc2xQsRhsgXInKsNLy4GPgT+gzqHkk/dJ3xTpIFsawQsvaKGCSFZrCZVLn2JWTDHTmc5BHEQhnwDzgJ9XPl5KKR/yITdzc7ydQ4CFaLm01K0ttv4wwLYvU6J/AN+Njl3KU3waf9HfNBOtFKmDQkzzmAPOBE4n7TPhcCyq7rmq5wRYxy+S0Q44AKZOhWXLkq6JiDTJUGB4/MUUUsglXMLJnIzDUbWov2r9YQEFYbI0grXpq8IUJVloIFRGQgd0ALaiKZHOIVii8g1JFZ7Z1EHMcwXAFqRNJR8OvAKstrsvA08TZFBJJCMVF8Mee8CLLyZdExFpst0Isr2Fw9GCFvSgBwUUYOsPtwf6VT7nER7hSZ6Mf/2h1lnJ5gTc9iXdviT4p1mBhZdqxUit1EHMY8OxzKWVgS19gBFYOxYpB54FSoLWTCRz7LwztGkDL7+cdE1EpEkKsZTdAUY892EfutAl6vx9jY28Hl7tORvZyGu8Fn946TLg1XiLkCzmsKy+gXsEW2GXnYk1revR/oeboA5iHtsAnABVAS6p7S2iDmIF0A3oHLheIplkn33sqzqIIlmuE7bpbwArWcmRHEkLWlC1vcURlY+XUUZvetOa1vFXZjpKRS51a0VapsJw9o2+Jta0zsGScEitlKQmFAd04Jtd8mLsf6EjwXtii4BV66mKvz4CW0P/od1dCHyvNaxqFUPhbWJ4Tcle7aByS6SUDtGxziQaArLPAfDJp7C0jPjfowXoU1kkLrsAPcIUtZCFlFTG3kzAPtCqrsI/5VMu4iLWxb1djgeegbgnKSWLDYxuge2DbT/4cfii7X3xGlp/uAm6FAllJ+B2YG0tj3UFbiboLvSt1sOP/wHd3sY6hantLe6teo7rBV/9A1Y39oPDAd2xT4Ca59Ya+HMjX1dyS0fgCWwUM70jWIx1HJ9OolLGAXuPhAe+wi6ymlNnrHFaX+N4ARaRJiLN6zCCZF3rRCf+j/+jPe2pvr1F9VGwVayiLO6NCTcCE+MtQrLcKAgxkV3TPtjsYWLjv5OTLDzzqYMYSjdsZu7cpCtidgZ6rYUBqbZpL2yAM239YeESaNWU+rYCHgPOABbU8viaJry25I6W2N/KGGofQEnQ8O2g86vw0s+A+5r5xa/FFvg+UeN4OXpviDS31lg7F2j9YS960YMeWMP/JTXXHxZTHIWfxmw2CqOTujlse7PAC856AYOBf4cttspqYGpShWcHdRBDKiVj0kyXA6eSNph6ODbSOMnubgQ+qaBp9S2JClrdxNeR3FeO/Y1kWAdxnxH29eVnaP6/4Y3Y+eq9IRK/wcB2YYoqoIAjOTLa3iI16npY5eNrWct0pkfZTWP2PIpIkLoVAsPCFxst7U9u/eFKbH8NqVO9Pp2cc7Odc9Occ1Odc+9Ex7o45yY65z6LvnZOe/5VzrmZzrkZzrlD46q8NE4x0AKqr3w4FMtyFm1v4YFbIdrKVCQ/7bMPzJsHc7SRrsRAbWtAu2ORCjFrTWuKKGJ9Zez4M9j2Fn0rn1NBBTdxE5/HPbVXQcIxfJLxegPbhC92XyxQJrFrzHfR4OxmNGT4an/v/Qjv/S7R/SuBSd77wdi805UAzrlhwCnYWN1hwA3OOe21nkE6Az8B2qcO9MC2t4jWKZRjATELULsi+W3ffeGll5KuheQ4ta1xCxhG15OeXM7ltKENNgz7Crb+0JRSykxmspjF8VdmNfB+/MVIFtsZW14U2D7YFoQxr8Ctm9YfblZTPi7HALdF398GHJt2/F7vfYn3fhYwE9uaVjLE18ASbOkXAAdGX6MOYimWM0dZ/SWfDRwIffrAK68kXRPJM2pbm1s3YP8wRa2K/hVSiLWiG0l1ED2e9aznBm5gGtPir8wU7K9EpC57EHyxWQdsTj2xplX7H9ZLfTuIHnjWOfeucy6VtqSn934hQPQ1lTy6L5YXM2U+6bEVEefcuc65d1JhNRLO6VTtPwNY27UCeM/uvoQljixBJH+NGmVfX3st2XpITmv2thXUvn7D1lgoXQAXcREjGRndm4gt6KhqcZ/gCZ7neUopjbciHngL65+K1MYRbF1uul2xzsfr4Ys2a4FZSRWePeo7brCX936Bc64HMNE598kmnltbjrBvTOR6728CbgJwzmmiN5AuRBlM0w8ejAUyRfskDcb6i9o2SfLZ7rvD2rUwfXrSNZEc1uxtK6h9/YajIUTC0P70ZwQj6EKX6MhELHWqbfzrcAxiEEtYEn9lSoDH4y9GslgXbHlRYNHYK2+FL9p8CCHegtmuXjOI3vsF0dclwMNYWMti51xvgOhr6tc9H9gi7cf7UfsmB5KAAmyv4Mq2chvsfyhtn6QVwNLA9RLJNKNGwdtvQ3nA/Uklv6htDaCIYNtbOBw7sEMUXroY+ID09YcAS1lKSYj4nKXAR/EXI1lsO2yv6sB2Bz4mwRwxLxF03/FstdkOonOurXOufep74BCs//0YMC562jjg0ej7x4BTnHMtnXMDsQmpxAYKpLqvqDGtn2q7og5iGTAN6BqyUiIZpkULGDEC3nwz6ZpIrlLbGkhPYHiYohaxiKmVm6tFe0aldRBLKOFDPqR9VYq4+EzBGnyRugzE0toHNgp4I3yxpgLtC1pP9Qkx7Qk87JxLPf9u7/3Tzrm3gfHOubOBucCJAN776c658djYVRlwofdeffUMUi3e6GBsEfvsqkOPUn2hi0i+GTkSWraENxJrxSQPqG0NYSegU7jifGULOxGL4RtZ7bGHeZgVrIi/Is+jLI2yaYESN6UbiE1aJjb2uo4Ee6fZZbMdRO/9F8COtRxfTlX+y5qPXQ1c3eTaSbMbCeyQulMEjAbutLsVWMo8RaVIvtt9d/uqGUSJi9rWQPYlyPYWAKMZzRCGYD2zicAB2E7ktr3FNVzDHAJsqroeXQTLprXFpvIChF6nS60/TOzP8zNs2E02K9DHpmSKRcBQos+EUdhmiGnrD+dg7x+RfDZqFMydCwsXJl0TEWm0ttiOkYEughexiK3YCvgE2024+vrDz/mcRSyKvyKfYsHKInXpQSJriXbHkogm9uc5E2X2rSd1EPOIA8YCHVMHDsYW6j5vdyvQ2kMRsBlEzR6KZLkBQP8wRRVSyNmcTStaUTXqWtVB9Hg6hYp1fQcLpROpy5ZA5/DFjsL+PBOJjfdYkg2l6K8XdRDzSGdsrX6r1IGDsc1Co1RS04Gb0bIFyW/du8NWW2n9oUjW2xFC5IMB6Ec/tmVbiijCOohbYyuuzCu8wnjGx1+RCiwTnRpy2ZSAodcpLbBdNRIbey0HXkmq8OxT330QJQcMxdLkFYBNI+4G/N4e89g6fg06Sr7bdVf7+tZbnajaEMYDa7DFPSKS8RywX7jiRjCCUYzCUQa8CJxe+ZjH05nOrGVt/BXR+kPZnAJgEMHXH+4AtARm0IF+dKg87vF8xVesi/sKdA0W+S31ohnEPNEW2Ie08NLR2Nr5tPWHt0CI5fMiGaoA6M9OO+1ARYVj6tQp2Lz6h8C1BItVE5Gm64B1EANcBHelK6MZTWtaY/Mja4CDKh+voIJruTZM9tLpKI2/bFoxtaTHilcRRRxODwB+ywSmRf8+4AP+yB/pTe/4K7EYpehvAHUQ80Rn4Eyq5kMYTbWRxlXY7LuiUiQ/dQR+AbzHTjsN5LPPBrNmzQBsVW4rLOlEgIs7EWkeQ0mP8IxVL3pxMidTQAE2e+iwRtYsZjEFFKRtgRETj20CviHeYiTL9cfWIAbSne78hb/wM47C04ne7EEnOtGRjng8U5gSZvDkLfTeaACFmOaJDsB8YJvUgf2BV4GN1qa8B9yO1u5KPmoDXIHlV/uAkSPf4PXXhwEvACXAH7GrLr07RLLGPgTbBLwjHVnEomgW5AUsmM5Svnk8k5nMQzwUf0V8VLzIpmyBNXsBtKc9l3EZW7M167ieMvrzJk8BsJ71/IE/8B7vhRk8mYlmQRpAHcQ8cThpe6J2wcILfmp3S4G/YB1IkfyzDvgZAF26eAYMgOuvX4zNBIBaFJEsU4B1EAOElzocx3EcIxiBDSi9BpxX+fga1vA3/sZKVsZfmeVoewvZvJ0JdvW/mtVcyZUUAauB64DLOSpM4ek8CWbHyU4KMc0DRUAv0i5zUwv3X7Qvq4DBgeskklk84Bk50u5NmVJ1TESyTCdguzBFtaY1PekZzYC8icWw2XBsKvnGlqHi+T7F1lmJ1MVhe00ETlCzDbZYY0rYYqt8ha0UkXpTBzEPtIxulQNG+2M7lb5tdz8Abg1fLZGMU72DKCJZaWugX5ii2tCG1rSusf5w38rHX+VVnuTJ+CvisTa9JP6iJIu1JOj6w5Sdoq/vhS/aLEVpBBpIHcQcVwCcC5yVfnA0tv6wFMqwN6zaFBHYaSeYMwdWqCERyV57YBfCMWtBC67gCo7m6OjIC9hOb7YDeQklvM3blFIaf2W0/lDqoyeJhIyNxOYlPg1ftPkAi3GVelMHMccVYplLK9cjdwO2p7IhWQJMQB1EEbAO4nuJDXGKSLM4kCAhdIUU0prWtKAFFlr6OunZS2cxi0lMopzy+CuzkgSnZyRrbA+0Dl/sTsD7JJjq7a2kCs5eSlITB4ftSL9V2rFh2KjNBWGr0nslHPsKVXu/pNYfRh3EjZ3gw+OIZ7S1GFsLomVcUpf2wCnYqOZ3SXSkol1LGDwY7vqUMO/TbYEnApQjkk+6EmyPt0EM4hAOie69gX2AVaaDYx3r+DzUpoQfYiO+IpvSg2DZfVMcNq9+e9hiq3jgy6QKz17qIMahJfA7YDJVU9orgKexbDEBdfEw4Ou0wdT9sT1837W7i9ZAp42wtDli0vfCNlN8I+3YdVjst0htRmAdw9tJRWUlZng/KCiAqWuJ931aAHwHGE/194qINN0QiPbjjl1PeqZt8P0iVelTzQIW0J72rGVt/JV5E9gYfzGS5fbd/FOa2wBsq7X3wxdt1pBgdpzspQ5iHBz2Qf0XYEGy1RiL7WpRaTTwMlAG64FnymDmnc1U4JXYAOrfm+n1JPcVYJnFfpl0RWD4OcBZMO0qYHaMBRVj78MbUMZBkea2C5YuMWYtaMGZnEmbygUcL2IrrToBsJKVPMETLGJR/JUpw6JbRTalBdZbCyyVUDixHViWA8uSKjx7aQ1iDuuIvTErRwF6RAdetBn3ecAtKAJUBGC77WDtWktSIyJZyGHLKAKsP+xFLwYzOMpeup709Ycez0d8xH3cF39FAL5G6w9l8zpgSxsCGx59nR6+aDMTZTBtBHUQc1g/bDyz8j+5xvrDt9GSBZGU4cNh+nTwGjERyU4dsRnEAAYzmG3YBofDYsU3klp/WEEFr/Iqq0OlTfwErbGSzetDWsbCcIYDc0gwiejnaCakEdRBzGFF1PgP3p/KkcbVwN1oyYJIyvDh8GFiMTAi0mTbEnydv3kBa233BmAJS7if+6kIlbPxJSzMVGRTtgTahi92OAmGlwJ8lGTh2UsdxBzlsGiCwvSD+2D7H5bb8a5oUEUEoGtX6NVLHUSRrLYHts4qZoUU0o1uFFa2sC9j8TodAWhJSzpFaxFjVwa8FqYoyXIjwxdZCGxDguGlG5MsPLupg5ijirHdAyoT1HTBhnFetrvLganhqyWSkbaLVtGrgyiSpQqBUQRZf9ia1pzCKbSmNXYF+iY1s5d+wifxVwRs/0N9bsnmOCzDb4D3R7pBWGL/xP5EN2DxrdJg6iDmqAIsWVXlZ8Ge0ddX7MsyEk2wKpJRhker6KdrpFEkO7XHduMOoIgi+tM/Wn84BUtSs3fl4/OYx3KWh6nMTLT+UDavDbBb+GJTCWoS6yB+DsxNqvDsVq8OonOuk3PuAefcJ865j51zezjnujjnJjrnPou+dk57/lXOuZnOuRnOuUPjq77UpQM2alNpb2wLircsIuVLYF0C9RLJRMOHw1dfwQKNmkhAalub0UAsM1sA3elOUWV+8GjUlb0AKKGE+cynhJIwlUnlxxHZlCIstCyw4UAF8HH4os3GqALSYPWdQfwH8LT3fhtgR+z/+kpgkvd+MDApuo9zbhgW3bgdcBhwg3OusNZXldgMpGrvGcA6iO8AJZa59DpszFNELMRU4aWSALWtzWVHgl0Ab8u2DKjcUO5lLJDOsuPMZjY3cRPllMdfEY82AJf6GQr0Dl/sdtgk3obwRZto329puM12EJ1zHYB9sS3z8N5v9N6vBMYAt0VPuw04Nvp+DHCv977Eez8LC4BIYGI7f7UAzgO6pw60AnalcqCzFYpIEUm3zTbwSaAlQyKgtrVZOSxBTYBFM21pyzmcQ3vaYz20V0gPL21JSxaEWsCxBnUQpX46kbYpdjhDSXD20KP9D5ugPh+nWwFLgf8556Y45252zrUFenrvFwJEX3tEz++L7cGeMj86JoG0BLYg7T93F6zX+IrNtH8CLEqmaiIZp1Mn6NEDZsxIuiaSZ9S2NpdWBOsqt6MdW7JltP5wBpbyzTqIZZTxPu/zFV+Fqcx84IswRUmW25fgWUccMBj4NGyxVcqxLWCkUerz51KELf3+l/d+JLCWKOSlDrXlSPrGbgrOuXOdc+84596pV02l3gZi0TaVUoObUSrsCWhQRSRl8GD7+mlirZjkqVjaVsjD9rU/FuUZwPZsz6DKwlLrD6tmEB/lUdaHWMDhgbewvxqRTXHYMFPgDKb9gNYk2EHcAKxKqvDsV58O4nxgvvf+zej+A1ijttg51xsg+rok7flbpP18P2pJmOm9v8l7v4v3fpfGVl6+yQEjsIRulfbG9oFZYdl+p6L9D0VShgyxr+ogSmCxtK2Qh+3rKCxLY8wKKWQEI2hRudniK9hiDvsQ+Sj6F8ykcEVJFivGlhkFFjWtyXUQFwGzkio8+222g+i9XwTMc84NjQ4dCHwEPAaMi46NAx6Nvn8MOMU519I5NxCbYX6rWWstdUoNFLVMP7AXlQOda9B/hki6IUOgvBy+UKiWBKS2tRkNJUj4XCGF9KZ3jQyme5OamlnBCj4OteKqBF38Sv0UQ+WYRkCJdxDXoQymTVDfJasXA3c551pgEe9nYh/H451zZ2O7jJwI4L2f7pwbjzV0ZcCF3vsA6bwEoCuwZfqB7bDFya/YrOHiBOokksmGDIFZs6C0NOmaSB5S29pUxVTt8xuzPvShP/2jewux/IzfA6CccuYzP0xFwFavJpb9Q7LKltjao8AGY5MSC8MXbd5E6fqboF4dRO/9VCzVSU0H1vH8q4GrG18taay2wJGkhZrvE3192d4n/6UqXklErIP42WdJ10LykdrWZtCDqt24Y9aRjhzAAdG96usPV7KSW7iFr/k6TGWmomQCUj8tCJ6gBmwGMbGm1ZPg3hq5IYE/GYlTR2psBbU3tnJljr1XViZQJ5FMNmSI1h+KZK2dsCiZALrSlUJSW0++gqXgGAnAOtaxNmTGmOdRMgGpn71ILMQ00ab1xSQLz37qIOYQh2Uy7pF+cC/gVWtH3gBeT6BeIpmpgN69He3awaefdsE2utZHokhWCbj+8EAOjPY/BHgV2B0opoIKJjKRaUyLvyIApdgumCL10ZrgGUxbUcBAYCHtGcQg+tAnbXAlkHVhi8s1uhrKIak1hpVvwd5Y7Hm0vUVHFI4tYpumXQJMYsiQvwPw2We3AO8Bz2ALd0Uk4xVig6ABLn7LKWclK6P9D9cD7wN7AOBwtKc9JZTEXxGw1P3vhylKslwqUWEgbWnLT/gJr3IXRcCZXM1UpvIu7/IszzKUoZt9jWaxAkImFM5F9U1SI1lgAPAj0jqIu0df37SEZ/dBqOZLJIMdBvwBaMXAgZYGcObMHbARFbAN1aYnUzURqb+2WIhpADuyI+dxXtRBfA/LEzQKgNWsZjzj8aFiPmeSYOYPyTqdwxU1hjH8kl/SghcA6MhIrNvYlo1spD/9mcGM+CuyEcuQI42mGcQcMo8am2KNwnqEU2zbC71XRMA6grYRzIABsykvL2D+/H7RY9dTtauAiGS0rYAuYYr6lE9ZzvLo3hvRVxuFbU1rVoXckXsKoPy1Uh/fSG0fr970pphiYHZ0ZAAAHs81XMNEJoapyKfooreJ1EHMIf2pmjSE6M4UYKN1HLWnrghYXjXb02LAgNl8+WVfSktTK/h71PlTIpJhdsJmEQPYkR0ZxrDo3hvYhW9PAD7mY97m7TAVKceSCShBjdRHG4INooANpJRRhnUQi6mKzIEeIdvXJdgsojSaQkzj1JK0HevjN7IUuqU2BS0EdgVutrsfF8DC4jp+sLkUYZuSFqDNSaX+Cgn6PsEXwUZbtDRgwGxmzx5Q9VjRQmJfR98CWxfSEr1XRJpiR4Il3xjFKNpW9kbfJH1h1xSmhNveogz4MExRkgPaE3+blqaIoigMezY2bVFV+CIWhavIynBF5Sp1EONQjk1tP4ZlUSoLU+wef4aiR6I7w7GR1SgSZvIFUHqafd9/Hhz/NPRZBM/sBau7wkfDYHVTO5DdsM+CAmyJl8jmrAa2x/5OSwgTNjWhM/zeQ7l1ECdP3s+OF5TBbz+p2js0Lg6bfLgH+B9wbczlieSiFqRyxMSugAL2YI/owvdLbEGHrT+soILneZ6KaKRnKEM5hVNoT3se53FKKOEDPmBdc6VUnAd80TwvJXlgJ2wWMZCudI2+mw0MrDxeRhkf83G4irwcrqhcpQ5iHDYCJ2EXf+MJ9odauCztzqjo6xvWP333XqzDCqxbCay2Zm7+M9CzAI7rCU8WQvpLNMoewAlNfRHJG1OA/bD3yr+AdwOUuWwfKG9BUVEp/frNr5pB9F/CP161ZYghHET8nVGRXNUPW4MYgMNRULki583oqzWyG9hQbXuL1aymhBLmMY+5zGUrtuI4juNRHmU1q5temXfR2iqpvwKCzbI7HPuwD0UUYR3Eoyofm81s3uKtMBXxKDKnGaiDGJevgLXAUmzEL2ZtoXLcBrD1h0uoXCfcYzmk1tcvA/6eep6HT8phcrXsNk2wdTO9juQHjy2QXY/t0RLre6UQOA84FIB+/eZTWFiR1kFcCAs3xFmB6paGK0ok5/QBOoQpqiMd6USn6N6b2PTlCMAuitPXVi1gAX9IC6GZxazmq4jHMpgqQY3U16jNP6U5FFHExVzM/uyPNeiLSCWoAfiSL1kfaqO1dRBqS9JcpiQ1OWIIMCb9wCgqw0uXogQ1InZV9SipNREDBswGSFuDWIgtqheRjLcXwYa4d2d39mbv6N4bwEhSC6e/4AveqMxqGjMPvBSmKMkRgfLClFHGQzwUzR7OjY4OqHy8IPoXRCm2D6I0iTqIOWI5VCXZ7gRsS2UHcRrNEDoqkhMqSL1TqncQy7G9zdYmUy0RqT8H7ECw0LlFLIpmP8qAd0hNy3g8b/M2a0LFfK6C5pyQlBxXDJUT3wFUUBFt9zI7OjIAsM7jFKZE2U0D+Bpt+t0M1EHMEaNISya8W/Q1WioxCwgYOCeSwUqw8DDrIFZUuGgPxILosUANmIg0XntSEZ5BHMiBdKQjlj50Helxe5/xGeWhYj6/wJIHiNRHB2C7cMWVUkoLWgBzoiP9ASikkA1sCPc++QzNijQDdRBzQCGwC2nRNrtjEyVv27zIZwnVSyTzDMGyW0Dfvl+yeHHPtD0QF6DFPSJZoAepa8/YtaIVIxkZhcelQkltx+FSSvkiZErRj6C5kqGKNLdt2Zbe9MZGMRzpeyDOZ35lpl/JDuog5oACamwHNQprSFbbVjCzE6mVSCbqSGoopU+fBSxY0Cc6rqEUkayxC9A6TFFFFDGc4dG9N4HupELnFkb/gvAodb80zBZQuXVnAJ3oRCGF2GBrT1JtbRllfM7n4SoyA3u/SJOog5gDugCD0w/sAqlswquAycFrJJKJtgDOJ5Vcok+fBXz5Zd/osQKC5cwXkabZmmCbf/eL/pl3gF1JDccuZnG41P1laP2hNExfgnUQt2IrzuVciinGOoh9Kh8roICtQravn4YrKpepg5gDOkc3wK6Be1C5n9wUEkjmpJEbyUjFpF9hVZ9BXAE8k0SlRKSh9ghXVE960pa2WGznR9gIrHmN18Kl7l+NLYEUyUAFFDCLWTgcNTuIi1nMczyXWN2kcdRBzAE9gXapOztHX9+xftp7aL9QEfMFqR2mi4s30qPH0rQO4udUpeYWkYzVGcvSHcgWbBEl3piKtabWyJZTzrupkdgQPsH2Vxapr4CTdjOZmTZYsgCbvjSf8RlfhsquVIaa8maiDmIOaAdsTN3ZGXuDfGAdxDl1/VCcAqUeF2mYYmAgAL16LQJI6yDOwYboRSSjDQJ6hSuuNa2j9PypzqDNIJZRFu6iF2zZiFL3S0NsT7DrsZa0ZAADsE0Il5A+g/gFX7A21BZSpdhgijSZOog5YC/S1uvvAkwHNsB6CLksWCTDlWGtpaNPnwVAegdxY10/JCKZZGuCJahxOEYzOtr8+x2sZ2qfGatYxdxQUxUea9dFMlQppVGm31TSpj7VHpPsow5ilmsJHEraINHOWDuGTfIrL6NIiocoBKZvXxv5r0pSM5hgWS9EpPH2D1dUJzqxD/tE66repWoNh4XULWBBmIqsp2qHDZH6KCLoTHsFFVGIaeo9UdVBHMrQqPMYwNcoGKiZqIOY5bpgOWkAS1DTHXjXLoU/Q+8TkSqjgGEAtcwgzkcfhyIZrgUWYhoobK43velIR2At8DGp8FKP5yM+YgMbwlRkGRa1J1JfLUk1d0Hswz4MZSi1dRDnMS/a/iKAL4HFYYrKdZu9InLODXXOTU27fe2c+4FzrotzbqJz7rPoa+e0n7nKOTfTOTfDOXdovKcglW1lKrlaNIP4CgqcE6lSRiq7Re/eCyktLWL58q7YHohr0AyihKS2tRHaUGNPp1Cmkp6gpoIKJjMZHypl9zxgeZiiRBqjggoGM5iqEFObviyjjLWsjWbhJZsUbe4J3vsZwAgA51wh1j9/GLgSmOS9/4Nz7sro/o+dc8OAU4DtsCGE55xzQ7z35fGcQn7rCXRL3dkZW6D7gXUMtaeuSLovgB8BxXTvPplly1rg/feADcALWBp7kTDUtjbCtlijF8gABtCe9lQlqLEO4mpWh9v/EGy0N3/+l6U5dCDYWl2AGczgB/yAMUzlGOB8fkYFBaxjHS/yIiWhMiwtRan7m8lmO4g1HAh87r2f45wbA4yOjt8GvAj8GBgD3Ou9LwFmOedmArsBrzdLjaWakVhuRgC/M/AhbCixfmJiGbG1D6JkpBXAfwHo1g2WLgW4MckKiaSoba2PrWn4VUsT7Mqu0Xfv4OlNOT0op4S1rGV1qAUcFWjjb2m4gaStP4rfMpbxX/7LSKylvZFbwhWe7l00mNJMGrro5hTgnuj7nt77hQDR19SfYl8sICJlPukbokiz6pj2vd8FJr8LT2DrDxPZ4gK0zYVkvO7dYdmypGshUklta32MJNhSYYejAx2ie++ygWEcz/G8yZtMYQrLCPQBUg58EKYoyTEJXIt1wybxJPvV+6PWOdcCOAa4f3NPreXYN+aUnHPnOufecc69U986SHUO6yC+AbzbHwq6Qem7to7/KVJbgidAM4iS4apmEEWS1dxta/Saude+FhJ0/WERRRRTzOtMxPMxX9KLPdiDdazjKZ4Kl7p/OUq6IY2TwLVYdwg1dCIxa0iwxuHAe9771EfVYudcb+/9Qudcb6pybM3H8mmm9INv5oL23t8E3ATgnFOXohE88Gvgt8CxO8MDwM/fsRw1iYZgawZRMpxmECWDNGvbCjnavrbEMpgGUkopl3AJewMv4bmMu3kiatyCJacB+9/XYJY01A4kkpi7GzA7fLGmAs22N6OG/PmcSlUIDMBjwLjo+3HAo2nHT3HOtXTODcTG/AKu5s4vHotAGbETlJXB1Gl2PzeuCCSTDBo0iIKC7N8KorAQOnfWDKJkDLWt9bEVsGXYIj2eHaPW9G08FdG/oB3E1yHUbhqSnMGDB+NcM46u9yeRDmJ3EhzPqADmJlV47qnXDKJzrg1wMHBe2uE/AOOdc2dj/yUnAnjvpzvnxgMfYXnlL8yrLGsJGTkSPvoISgIlipL8M2/ePCoqsj89WJcuUFCgGURJntrWBhiErZ8IbCQ2ibdwc0+Mg8e2X5ScN3fuXLzP/qH9bijENFfUq4PovV8HdK1xbDmWea22518NXN3k2km9jRwJzz2XdC0kl5XkyOhDt2hfGM0gStLUtjbAdgTNYJoyEpgSvlhTAUxLqnAJKRfa1w7YGI6a1tyQwMdtHnHAHkCreIvp0Qn69IEpG4Gj4y1rs7ZPuHzJTg7Ym7RNPePTbTv7umwwyb5fdt38U0QEC5XbN3yxxVi/9JnwRZulwIdJFS5ZyxF0i4uUVPOd2AzieuDrpArPPS4TprSdc6uBGUnXIwH5OBufj+cM+XneOuf8Efd5b+m97x7j6+esPG1f8/F9mI/nDPl53jrn/JFY25opM4gzvPe7JF2J0Jxz7+TbeefjOUN+nrfOOX/k63lnibxrX/Px7zEfzxny87x1zvkjyfPO/pSEIiIiIiIi0izUQRQREREREREgczqINyVdgYTk43nn4zlDfp63zjl/5Ot5Z4N8/L/ROeePfDxvnXP+SOy8MyJJjYiIiIiIiCQvU2YQRUREREREJGGJdxCdc4c552Y452Y6565Muj7NxTm3hXPuBefcx8656c65S6LjXZxzE51zn0VfO6f9zFXR72GGc+7Q5GrfNM65QufcFOfcE9H9fDjnTs65B5xzn0T/53vk+nk75y6N/rY/dM7d45xrlYvn7Jz7r3NuiXPuw7RjDT5P59zOzrlp0WPXOudc6HOprzrO+c/R3/cHzrmHnXOd0h7L+nPONWpbs/+zpya1rWpbc+mc1bZWHsvMttV7n9gNKAQ+B7YCWgDvA8OSrFMznltvYKfo+/bAp8Aw4E/AldHxK4E/Rt8Pi86/JTAw+r0UJn0ejTz3HwJ3A09E9/PhnG8Dzom+bwF0yuXzBvoCs4DW0f3xwBm5eM7YFt07AR+mHWvweQJvAXtg2xhPAA5P+twaeM6HAEXR93/MtXPOpZva1tz47Knl3NW2qm3NmXNW21p5LCPb1qRnEHcDZnrvv/DebwTuBcYkXKdm4b1f6L1/L/p+NfAx9sYfg33gEX09Nvp+DHCv977Eez8LmIn9frKKc64fcCRwc9rhXD/nDtib/hYA7/1G7/1Kcvy8sX1UWzvnioA2wAJy8Jy99y8BK2ocbtB5Oud6Ax289697+3S/Pe1nMk5t5+y9f9Z7XxbdfQPoF32fE+ecY9S25sBnTzq1rWpbybFzVttaeSwj29akO4h9gXlp9+dHx3KKc24AMBJ4E+jpvV8I1tABPaKn5crv4hrgCqAi7Viun/NWwFLgf1H4z83Oubbk8Hl7778E/gLMBRYCq7z3z5LD51xDQ8+zb/R9zePZ6ixs1BLy55yzSa6932qltjXnz1ltq9pWta1Vgp5z0h3E2mJmcyqtqnOuHfAg8APv/debemotx7Lqd+GcOwpY4r1/t74/UsuxrDrnSBEWMvAv7/1IYC0WGlGXrD/vaF3AGCzsoQ/Q1jl3+qZ+pJZjWXXO9VTXeebM+TvnfgqUAXelDtXytJw65yyU8797ta2b/pFajmXVOUfUtqptTcn5dibT2takO4jzgS3S7vfDptJzgnOuGGvA7vLePxQdXhxNDxN9XRIdz4XfxV7AMc652VhI0wHOuTvJ7XMGO4/53vs3o/sPYI1aLp/3QcAs7/1S730p8BCwJ7l9zukaep7zqQobST+eVZxz44CjgLFRaAvk+DlnqVx7v1WjtlVtaw6ft9pWta0Z0bYm3UF8GxjsnBvonGsBnAI8lnCdmkWUUegW4GPv/d/SHnoMGBd9Pw54NO34Kc65ls65gcBgbBFq1vDeX+W97+e9H4D9Xz7vvT+dHD5nAO/9ImCec25odOhA4CNy+7znAqOcc22iv/UDsbVAuXzO6Rp0nlGozGrn3Kjo9/WdtJ/JCs65w4AfA8d479elPZSz55zF1Lbm0GeP2la1reT2OadT21ol2XPeXBabuG/AEVgWss+BnyZdn2Y8r72xKd8PgKnR7QigKzAJ+Cz62iXtZ34a/R5mkMFZmOp5/qOpyrSW8+cMjADeif6/HwE65/p5A78CPgE+BO7AMm3l3DkD92BrQUqxkbuzG3OewC7R7+pz4DrAJX1uDTznmdh6iNTn2b9z6Zxz7aa2Nfs/e+o4f7WtOX7ealvVtmbCObuoIBEREREREclzSYeYioiIiIiISIZQB1FEREREREQAdRBFREREREQkog6iiIiIiIiIAOogioiIiIiISEQdRBEREREREQHUQRQREREREZGIOogiIiIiIiICwP8D/NM4y3y93DcAAAAASUVORK5CYII=\n",
      "text/plain": [
       "<Figure size 864x324 with 2 Axes>"
      ]
     },
     "metadata": {
      "needs_background": "light"
     },
     "output_type": "display_data"
    }
   ],

   "source": [
    "def slide_window(binary_warped, histogram):\n",
    "    out_img = np.dstack((binary_warped, binary_warped, binary_warped))*255\n",
    "    midpoint = int(histogram.shape[0]/2)\n",
    "    leftx_base = np.argmax(histogram[:midpoint])\n",
    "    rightx_base = np.argmax(histogram[midpoint:]) + midpoint\n",
    "\n",
    "    nwindows = 9\n",
    "    window_height = int(binary_warped.shape[0]/nwindows)\n",
    "    nonzero = binary_warped.nonzero()\n",
    "    nonzeroy = np.array(nonzero[0])\n",
    "    nonzerox = np.array(nonzero[1])\n",
    "    leftx_current = leftx_base\n",
    "    rightx_current = rightx_base\n",
    "    margin = 100\n",
    "    minpix = 50\n",
    "    left_lane_inds = []\n",
    "    right_lane_inds = []\n",
    "\n",
    "    for window in range(nwindows):\n",
    "        win_y_high = binary_warped.shape[0] - window*window_height\n",
    "        win_y_low = binary_warped.shape[0] - (window+1)*window_height\n",
    "        win_xleft_low = leftx_current - margin\n",
    "        win_xleft_high = leftx_current + margin\n",
    "        win_xright_low = rightx_current - margin\n",
    "        win_xright_high = rightx_current + margin\n",
    "        cv2.rectangle(out_img,(win_xleft_low,win_y_low),(win_xleft_high,win_y_high), (0,255,0), 2) \n",
    "        cv2.rectangle(out_img,(win_xright_low,win_y_low),(win_xright_high,win_y_high),(0,255,0), 2) \n",
    "        \n",
    "        good_left_inds = ((nonzeroy >= win_y_low) & (nonzeroy < win_y_high) & \n",
    "        (nonzerox >= win_xleft_low) &  (nonzerox < win_xleft_high)).nonzero()[0]\n",
    "        good_right_inds = ((nonzeroy >= win_y_low) & (nonzeroy < win_y_high) & \n",
    "        (nonzerox >= win_xright_low) &  (nonzerox < win_xright_high)).nonzero()[0]\n",
    "        left_lane_inds.append(good_left_inds)\n",
    "        right_lane_inds.append(good_right_inds)\n",
    "        if len(good_left_inds) > minpix:\n",
    "            leftx_current = int(np.mean(nonzerox[good_left_inds]))\n",
    "        if len(good_right_inds) > minpix:        \n",
    "            rightx_current = int(np.mean(nonzerox[good_right_inds]))\n",
    "\n",
    "    left_lane_inds = np.concatenate(left_lane_inds)\n",
    "    right_lane_inds = np.concatenate(right_lane_inds)\n",
    "\n",
    "    leftx = nonzerox[left_lane_inds]\n",
    "    lefty = nonzeroy[left_lane_inds] \n",
    "    rightx = nonzerox[right_lane_inds]\n",
    "    righty = nonzeroy[right_lane_inds] \n",
    "\n",
    "    left_fit = np.polyfit(lefty, leftx, 2)\n",
    "    right_fit = np.polyfit(righty, rightx, 2)\n",
    "\n",
    "    ploty = np.linspace(0, binary_warped.shape[0]-1, binary_warped.shape[0] )\n",
    "    left_fitx = left_fit[0]*ploty**2 + left_fit[1]*ploty + left_fit[2]\n",
    "    right_fitx = right_fit[0]*ploty**2 + right_fit[1]*ploty + right_fit[2]\n",
    "\n",
    "    out_img[nonzeroy[left_lane_inds], nonzerox[left_lane_inds]] = [255, 0, 0]\n",
    "    out_img[nonzeroy[right_lane_inds], nonzerox[right_lane_inds]] = [0, 0, 255]\n",
    "    \n",
    "\n",
    "    # Subplotting two plots \n",
    "    f, (plt1, plt2) = plt.subplots(1, 2, figsize=(12, 4.5))\n",
    "    plt.subplots_adjust(left=0., right=1, top=0.9, bottom=0.)\n",
    "    \n",
    "    ######################\n",
    "    plt1.set_title(\"Sliding window\")\n",
    "    plt1.imshow(out_img)\n",
    "    plt1.plot(left_fitx, ploty, color='yellow')\n",
    "    plt1.plot(right_fitx, ploty, color='yellow')\n",
    "    plt.xlim(0, 1280)\n",
    "    plt.ylim(720, 0)\n",
    "    \n",
    "     \n",
    "    ################################ \n",
    "    ## Visualization\n",
    "    ################################ \n",
    "    \n",
    "    \n",
    "    out_img2 = np.dstack((binary_warped, binary_warped, binary_warped))*255\n",
    "    window_img = np.zeros_like(out_img2)\n",
    "    out_img[nonzeroy[left_lane_inds], nonzerox[left_lane_inds]] = [255, 0, 0]\n",
    "    out_img[nonzeroy[right_lane_inds], nonzerox[right_lane_inds]] = [0, 0, 255]\n",
    "\n",
    "    left_line_window1 = np.array([np.transpose(np.vstack([left_fitx-margin, ploty]))])\n",
    "    left_line_window2 = np.array([np.flipud(np.transpose(np.vstack([left_fitx+margin, \n",
    "                                  ploty])))])\n",
    "    left_line_pts = np.hstack((left_line_window1, left_line_window2))\n",
    "    right_line_window1 = np.array([np.transpose(np.vstack([right_fitx-margin, ploty]))])\n",
    "    right_line_window2 = np.array([np.flipud(np.transpose(np.vstack([right_fitx+margin, \n",
    "                                  ploty])))])\n",
    "    right_line_pts = np.hstack((right_line_window1, right_line_window2))\n",
    "\n",
    "    cv2.fillPoly(window_img, np.int_([left_line_pts]), (0,255, 0))\n",
    "    cv2.fillPoly(window_img, np.int_([right_line_pts]), (0,255, 0))\n",
    "    result = cv2.addWeighted(out_img2, 1, window_img, 0.3, 0)\n",
    "    \n",
    "    plt2.set_title(\"Lanes\")\n",
    "    plt2.imshow(result)\n",
    "    plt2.plot(left_fitx, ploty, color='yellow')\n",
    "    plt2.plot(right_fitx, ploty, color='yellow')\n",
    "    plt.xlim(0, 1280)\n",
    "    plt.ylim(720, 0)\n",
    "    \n",
    "    \n",
    "    \n",
    "    #################\n",
    "    \n",
    "    ret = {}\n",
    "    ret['leftx'] = leftx\n",
    "    ret['rightx'] = rightx\n",
    "    \n",
    "    ret['left_fit'] = left_fit\n",
    "    ret['right_fit'] = right_fit\n",
    "    \n",
    "    ret['left_fitx'] = left_fitx\n",
    "    ret['right_fitx'] = right_fitx\n",
    "    ret['ploty'] = ploty\n",
    "    \n",
    "    return ret, out_img, result\n",
    "    \n",
    "\n",
    "draw_info, out_img, lanes = slide_window(wraped_img, histogram)"
   ]
  },
  {
   "cell_type": "markdown",
   "id": "f6088180",
   "metadata": {},
   "source": [
    "# Lane Curvature"
   ]
  },
  {
   "cell_type": "code",
   "execution_count": 33,
   "id": "d80ad718",
   "metadata": {},
   "outputs": [
    {
     "name": "stdout",
     "output_type": "stream",
     "text": [
      "left_curverad: 839.29405596525 m , right_curverad: 462.3156145419955 m\n"
     ]
    }
   ],
   "source": [
    "def measure_curvature(lines_info):\n",
    "    ym_per_pix = 30/720 \n",
    "    xm_per_pix = 3.7/700 \n",
    "\n",
    "    ploty = lines_info['ploty']\n",
    "    leftx = lines_info['left_fitx']\n",
    "    rightx = lines_info['right_fitx']\n",
    "\n",
    "    leftx = leftx[::-1]  \n",
    "    rightx = rightx[::-1]  \n",
    "\n",
    "    y_eval = np.max(ploty)\n",
    "    left_fit_cr = np.polyfit(ploty*ym_per_pix, leftx*xm_per_pix, 2)\n",
    "    right_fit_cr = np.polyfit(ploty*ym_per_pix, rightx*xm_per_pix, 2)\n",
    "    left_curverad = ((1 + (2*left_fit_cr[0]*y_eval*ym_per_pix + left_fit_cr[1])**2)**1.5) / np.absolute(2*left_fit_cr[0])\n",
    "    right_curverad = ((1 + (2*right_fit_cr[0]*y_eval*ym_per_pix + right_fit_cr[1])**2)**1.5) / np.absolute(2*right_fit_cr[0])\n",
    "    print(\"left_curverad:\",left_curverad, 'm',\", right_curverad:\", right_curverad, 'm')\n",
    "    \n",
    "    return left_curverad, right_curverad\n",
    "    \n",
    "left_curverad, right_curverad = measure_curvature(draw_info)"
   ]
  },
  {
   "cell_type": "markdown",
   "id": "d0bf09e0",
   "metadata": {},
   "source": [
    "# Draw Lane Lines"
   ]
  },
  {
   "cell_type": "code",
   "execution_count": 34,
   "id": "2327f878",
   "metadata": {},

   "outputs": [
    {
     "data": {
      "text/plain": [
       "<matplotlib.image.AxesImage at 0x1aa405b88e0>"
      ]
     },
     "execution_count": 34,
     "metadata": {},
     "output_type": "execute_result"
    },
    {
     "data": {
      "image/png": "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\n",
      "text/plain": [
       "<Figure size 432x288 with 1 Axes>"
      ]
     },
     "metadata": {
      "needs_background": "light"
     },
     "output_type": "display_data"
    }
    "source": [
    "def draw_lane_lines(original_image, warped_image, Minv, draw_info):\n",
    "    leftx = draw_info['leftx']\n",
    "    rightx = draw_info['rightx']\n",
    "    left_fitx = draw_info['left_fitx']\n",
    "    right_fitx = draw_info['right_fitx']\n",
    "    ploty = draw_info['ploty']\n",
    "    \n",
    "    warp_zero = np.zeros_like(warped_image).astype(np.uint8)\n",
    "    color_warp = np.dstack((warp_zero, warp_zero, warp_zero))\n",
    "\n",
    "    # FIll the lane \n",
    "    pts_left = np.array([np.transpose(np.vstack([left_fitx, ploty]))])\n",
    "    pts_right = np.array([np.flipud(np.transpose(np.vstack([right_fitx, ploty])))])\n",
    "    pts = np.hstack((pts_left, pts_right))\n",
    "    cv2.fillPoly(color_warp, np.int_([pts]), (255,255, 0))\n",
    "    \n",
    "    # Draw left lane line\n",
    "    pts_left_ = np.array([np.transpose(np.vstack([left_fitx -7, ploty]))])\n",
    "    pts_left__ = np.array([np.flipud(np.transpose(np.vstack([left_fitx + 7, ploty])))])\n",
    "    pts_l = np.hstack((pts_left_, pts_left__))\n",
    "    cv2.fillPoly(color_warp, np.int_([pts_l]), (255,0, 0))\n",
    "\n",
    "    # Draw right lane line\n",
    "    pts_right_ = np.array([np.transpose(np.vstack([right_fitx -7, ploty]))])\n",
    "    pts_right__ = np.array([np.flipud(np.transpose(np.vstack([right_fitx + 7, ploty])))])\n",
    "    pts_r = np.hstack((pts_right_, pts_right__))\n",
    "    cv2.fillPoly(color_warp, np.int_([pts_r]), (0,0, 255))\n",
    "    \n",
    "    # Take inverse prespective\n",
    "    newwarp = cv2.warpPerspective(color_warp, Minv, (original_image.shape[1], original_image.shape[0])) \n",
    "    result = cv2.addWeighted(original_image, 1, newwarp, 0.3, 0)\n",
    "    \n",
    "    #show\n",
    "#     plt.imshow(result)\n",
    "    \n",
    "    return result\n",
    "\n",
    "\n",
    "result = draw_lane_lines(image, wraped_img, Minv, draw_info)\n",
    "plt.imshow(result)"
   ]
  },
  {
   "cell_type": "markdown",
   "id": "8963c60b",
   "metadata": {},
   "source": [
    "# Proccess Image"
   ]
  },
  {
   "cell_type": "code",
   "execution_count": 35,
   "id": "34baa8d7",
   "metadata": {},
   "outputs": [],
   "source": [
    "global used_warped\n",
    "global used_draw_info\n",
    "\n",
    "def single_pt_perspective(x, src_first_pt, src_last_pt, dst_first_pt, dst_last_pt):\n",
    "#     new_x = (s_w/d_w)*(x-d_f) + s_f\n",
    "    new_x = ((src_last_pt-src_first_pt)/(dst_last_pt-dst_first_pt)) * (x-dst_first_pt) + src_first_pt\n",
    "    return new_x\n",
    "\n",
    "def process_image(image):\n",
    "    global used_warped\n",
    "    global used_draw_info\n",
    "    global first_frame\n",
    "    \n",
    "\n",
    "    # Generating HLS Binary Threshold\n",
    "    hls_binary = get_binary_image(image)\n",
    "    \n",
    "    # Perspective Transform\n",
    "    wraped_img, Minv = warp(hls_binary)\n",
    "  \n",
    "    # Getting Histogram\n",
    "    histogram = get_histogram(wraped_img)\n",
    "  \n",
    "    # Sliding Window to detect lane lines\n",
    "    try:\n",
    "        draw_info, out_img, lanes = slide_window(wraped_img, histogram)\n",
    "    except:\n",
    "        draw_info = used_draw_info\n",
    "        \n",
    "    used_draw_info = draw_info\n",
    "    \n",
    "    left_fitx = draw_info['left_fitx']\n",
    "    right_fitx = draw_info['right_fitx']\n",
    "    ploty = draw_info['ploty']\n",
    "   \n",
    "    # Measuring Curvature\n",
    "    left_curverad, right_curverad = measure_curvature(draw_info)\n",
    "   \n",
    "    \n",
    "    # Visualizing Lane Lines Info\n",
    "    result = draw_lane_lines(image, wraped_img, Minv, draw_info)\n",
    "    \n",
    "    # Annotating curvature \n",
    "    fontType = cv2.FONT_HERSHEY_SIMPLEX\n",
    "    curvature_text = 'The radius of curvature = ' + str(round(left_curverad, 3)) + 'm'\n",
    "    cv2.putText(result, curvature_text, (30, 60), fontType, 1.5, (255, 255, 255), 3)\n",
    "   \n",
    "    # Annotating deviation\n",
    "    global src_first_pt, src_last_pt, dst_first_pt, dst_last_pt\n",
    "#     x = (s_w/d_w)*(y-d_f) + s_f\n",
    "    right_fitx_inv = single_pt_perspective(draw_info['right_fitx'][-1], src_first_pt, src_last_pt, dst_first_pt, dst_last_pt)\n",
    "    left_fitx_inv = single_pt_perspective(draw_info['left_fitx'][-1], src_first_pt, src_last_pt, dst_first_pt, dst_last_pt)\n",
    "    \n",
    "    deviation_pixels = image.shape[1]/2 - abs(right_fitx_inv/2 + left_fitx_inv/2)\n",
    "    print(right_fitx_inv)\n",
    "    print(left_fitx_inv)\n",
    "    print(image.shape[1]/2)\n",
    "    \n",
    "#     xm_per_pix = 3.7/700 \n",
    "    xm_per_pix = 6.77/1280 \n",
    "    deviation = deviation_pixels * xm_per_pix\n",
    "    direction = \"left\" if deviation < 0 else \"right\"\n",
    "    deviation_text = 'Vehicle is ' + str(round(abs(deviation), 3)) + 'm ' + direction + ' of center'\n",
    "    cv2.putText(result, deviation_text, (30, 110), fontType, 1.5, (255, 255, 255), 3)\n",
    "    \n",
    "    used_warped = wraped_img\n",
    "    used_draw_info = draw_info\n",
    "    first_frame = 0\n",
    "    \n",
    "    return result \n"
   ]
  },
  {
   "cell_type": "code",
   "execution_count": 27,
   "id": "f738eb8b",
   "metadata": {},
   "outputs": [
    {
     "name": "stderr",
     "output_type": "stream",
     "text": [
      "\r",
      "t:   0%|                                    | 0/485 [00:00<?, ?it/s, now=None]"
     ]
    },
    {
     "name": "stdout",
     "output_type": "stream",
     "text": [
      "123.48694227430556\n",
      "Height: 720 , Width: 1280\n",
      "left_curverad: 471.86777212733097 m , right_curverad: 451.7908465892292 m\n",
      "1140.278939347918\n",
      "288.50751204678215\n",
      "640.0\n",
      "Moviepy - Building video challenge_video_out.mp4.\n",
      "Moviepy - Writing video challenge_video_out.mp4\n",
      "\n",
      "123.48694227430556\n"
     ]
    },
    {
     "name": "stderr",
     "output_type": "stream",
     "text": [
      "\r",
      "t:   0%|                            | 2/485 [00:00<00:44, 10.82it/s, now=None]"
     ]
    },
    {
     "name": "stdout",
     "output_type": "stream",
     "text": [
      "Height: 720 , Width: 1280\n",
      "left_curverad: 471.86777212733097 m , right_curverad: 451.7908465892292 m\n",
      "1140.278939347918\n",
      "288.50751204678215\n",
      "640.0\n",
      "123.44559136284722\n",
      "Height: 720 , Width: 1280\n",
      "left_curverad: 501.22673004503446 m , right_curverad: 519.0183961828129 m\n",
      "1136.9915736027679\n",
      "286.16179590714864\n",
      "640.0\n",
      "123.34963433159722\n",
      "Height: 720 , Width: 1280\n"
     ]
    },
    {
     "name": "stderr",
     "output_type": "stream",
     "text": [
      "\r",
      "t:   1%|▏                           | 4/485 [00:00<01:15,  6.39it/s, now=None]"
     ]
    },
    {
     "name": "stdout",
     "output_type": "stream",
     "text": [
      "left_curverad: 494.79979568697604 m , right_curverad: 553.241179439512 m\n",
      "1133.0372351204974\n",
      "285.7342499570949\n",
      "640.0\n",
      "123.25669270833333\n",
      "Height: 720 , Width: 1280\n",
      "left_curverad: 617.2228405649334 m , right_curverad: 602.5100538312417 m\n",
      "1133.0981025164815\n",
      "281.96019762713786\n",
      "640.0\n"
     ]
    },
    {
     "name": "stderr",
     "output_type": "stream",
     "text": [
      "\r",
      "t:   1%|▎                           | 5/485 [00:00<01:17,  6.22it/s, now=None]"
     ]
    },
    {
     "name": "stdout",
     "output_type": "stream",
     "text": [
      "123.23606770833334\n",
      "Height: 720 , Width: 1280\n",
      "left_curverad: 510.7859510932543 m , right_curverad: 591.3689993127168 m\n",
      "1130.6360687382564\n",
      "285.70575057131117\n",
      "640.0\n"
     ]
    },
    {
     "name": "stderr",
     "output_type": "stream",
     "text": [
      "\r",
      "t:   1%|▎                           | 6/485 [00:00<01:23,  5.71it/s, now=None]"
     ]
    },
    {
     "name": "stdout",
     "output_type": "stream",
     "text": [
      "123.17948133680555\n",
      "Height: 720 , Width: 1280\n"
     ]
    },
    {
     "name": "stderr",
     "output_type": "stream",
     "text": [
      "\r",
      "t:   1%|▍                           | 7/485 [00:01<01:50,  4.34it/s, now=None]"
     ]
    },
    {
     "name": "stdout",
     "output_type": "stream",
     "text": [
      "left_curverad: 614.4684449258115 m , right_curverad: 493.1688644204081 m\n",
      "1134.5965838351403\n",
      "282.8874753564227\n",
      "640.0\n",
      "123.19894965277778\n",
      "Height: 720 , Width: 1280\n"
     ]
    },
    {
     "name": "stderr",
     "output_type": "stream",
     "text": [
      "\r",
      "t:   2%|▍                           | 8/485 [00:01<01:49,  4.34it/s, now=None]"
     ]
    },
    {
     "name": "stdout",
     "output_type": "stream",
     "text": [
      "left_curverad: 768.6228618462469 m , right_curverad: 392.1484089002281 m\n",
      "1154.5365094980255\n",
      "281.36687226533076\n",
      "640.0\n",
      "123.15567599826389\n",
      "Height: 720 , Width: 1280\n",
      "left_curverad: 924.9718669106543 m , right_curverad: 433.8279671061402 m\n"
     ]
    },
    {
     "name": "stderr",
     "output_type": "stream",
     "text": [
      "\r",
      "t:   2%|▌                           | 9/485 [00:01<01:44,  4.54it/s, now=None]"
     ]
    },
    {
     "name": "stdout",
     "output_type": "stream",
     "text": [
      "1144.2831404745937\n",
      "279.6936681373325\n",
      "640.0\n",
      "123.02165798611111\n",
      "Height: 720 , Width: 1280\n",
      "left_curverad:"
     ]
    },
    {
     "name": "stderr",
     "output_type": "stream",
     "text": [
      "\r",
      "t:   2%|▌                          | 10/485 [00:01<01:42,  4.61it/s, now=None]"
     ]
    },
    {
     "name": "stdout",
     "output_type": "stream",
     "text": [
      " 644.1000231772595 m , right_curverad: 399.8676078929378 m\n",
      "1145.7897450753949\n",
      "284.8963940984436\n",
      "640.0\n",
      "122.94802734375\n",
      "Height: 720 , Width: 1280\n"
     ]
    },
    {
     "name": "stderr",
     "output_type": "stream",
     "text": [
      "\r",
      "t:   2%|▌                          | 11/485 [00:02<01:51,  4.25it/s, now=None]"
     ]
    },
    {
     "name": "stdout",
     "output_type": "stream",
     "text": [
      "left_curverad: 594.4631978071819 m , right_curverad: 399.66891094034463 m\n",
      "1144.8259120725018\n",
      "287.5518990087988\n",
      "640.0\n",
      "122.90231336805556\n",
      "Height: 720 , Width: 1280\n"
     ]
    },
    {
     "name": "stderr",
     "output_type": "stream",
     "text": [
      "\r",
      "t:   2%|▋                          | 12/485 [00:02<01:54,  4.13it/s, now=None]"
     ]
    },
    {
     "name": "stdout",
     "output_type": "stream",
     "text": [
      "left_curverad: 607.8200936833991 m , right_curverad: 507.6148237195806 m\n",
      "1133.1087989397224\n",
      "286.68498259350594\n",
      "640.0\n",
      "122.94812934027777\n",
      "Height: 720 , Width: 1280\n",
      "left_curverad: 687.9385067844416 m , right_curverad: 475.51639359578814 m\n"
     ]
    },
    {
     "name": "stderr",
     "output_type": "stream",
     "text": [
      "\r",
      "t:   3%|▋                          | 13/485 [00:02<01:46,  4.42it/s, now=None]"
     ]
    },
    {
     "name": "stdout",
     "output_type": "stream",
     "text": [
      "1138.3292932738136\n",
      "286.3169791469934\n",
      "640.0\n",
      "122.92150282118055\n",
      "Height: 720 , Width: 1280\n",
      "left_curverad: 677.6073125704525 m , right_curverad: 492.96459488544315 m\n",
      "1136.3243252192133\n"
     ]
    },
    {
     "name": "stderr",
     "output_type": "stream",
     "text": [
      "\r",
      "t:   3%|▊                          | 14/485 [00:02<01:41,  4.65it/s, now=None]"
     ]
    },
    {
     "name": "stdout",
     "output_type": "stream",
     "text": [
      "285.9412349563942\n",
      "640.0\n",
      "122.92768988715278\n",
      "Height: 720 , Width: 1280\n",
      "left_curverad: 687.9081905294064 m , right_curverad: 562.6047205161191 m\n"
     ]
    },
    {
     "name": "stderr",
     "output_type": "stream",
     "text": [
      "\r",
      "t:   3%|▊                          | 15/485 [00:03<01:41,  4.63it/s, now=None]"
     ]
    },
    {
     "name": "stdout",
     "output_type": "stream",
     "text": [
      "1130.4182104200424\n",
      "285.7473250469485\n",
      "640.0\n",
      "122.79551649305556\n",
      "Height: 720 , Width: 1280\n",
      "left_curverad: 776.1366350593393 m , right_curverad: 538.58480792632 m\n",
      "1130.7562739722953\n",
      "284.0752568228759\n",
      "640.0\n"
     ]
    },
    {
     "name": "stderr",
     "output_type": "stream",
     "text": [
      "t:   4%|▉                          | 17/485 [00:03<01:35,  4.91it/s, now=None]"
     ]
    },
    {
     "name": "stdout",
     "output_type": "stream",
     "text": [
      "122.63682942708333\n",
      "Height: 720 , Width: 1280\n",
      "left_curverad: 1646.692700420987 m , right_curverad: 414.15679434547036 m\n",
      "1151.5819301434433\n",
      "277.5847352300366\n",
      "640.0\n",
      "122.44393880208334\n"
     ]
    },
    {
     "name": "stderr",
     "output_type": "stream",
     "text": [
      "\r",
      "t:   4%|█                          | 18/485 [00:03<01:29,  5.22it/s, now=None]"
     ]
    },
    {
     "name": "stdout",
     "output_type": "stream",
     "text": [
      "Height: 720 , Width: 1280\n",
      "left_curverad: 1638.8655862738515 m , right_curverad: 446.2884361707594 m\n",
      "1143.3568687491868\n",
      "278.1632323282272\n",
      "640.0\n",
      "122.44165690104167\n",
      "Height: 720 , Width: 1280\n"
     ]
    },
    {
     "name": "stderr",
     "output_type": "stream",
     "text": [
      "\r",
      "t:   4%|█                          | 19/485 [00:03<01:30,  5.18it/s, now=None]"
     ]
    },
    {
     "name": "stdout",
     "output_type": "stream",
     "text": [
      "left_curverad: 5199.2236809132955 m , right_curverad: 516.8329058970958 m\n",
      "1124.6552490552506\n",
      "275.11994286587657\n",
      "640.0\n",
      "122.337958984375\n",
      "Height: 720 , Width: 1280\n",
      "left_curverad:"
     ]
    },
    {
     "name": "stderr",
     "output_type": "stream",
     "text": [
      "\r",
      "t:   4%|█                          | 20/485 [00:04<01:32,  5.05it/s, now=None]"
     ]
    },
    {
     "name": "stdout",
     "output_type": "stream",
     "text": [
      " 5493.762124085202 m , right_curverad: 530.3499572166887 m\n",
      "1123.7489770326483\n",
      "274.3148727737208\n",
      "640.0\n",
      "122.38035047743055\n",
      "Height: 720 , Width: 1280\n",
      "left_curverad: 8268.47951046297 m , right_curverad: 546.9004381033116 m\n",
      "1121.6278106941904\n",
      "273.6334510336139\n",
      "640.0\n"
     ]
    },
    {
     "name": "stderr",
     "output_type": "stream",
     "text": [
      "\r",
      "t:   4%|█▏                         | 21/485 [00:04<01:29,  5.20it/s, now=None]"
     ]
    },
    {
     "name": "stdout",
     "output_type": "stream",
     "text": [
      "122.28729058159722\n",
      "Height: 720 , Width: 1280\n",
      "left_curverad: 3736.4853478541822 m , right_curverad: 481.3183451679587 m\n",
      "1126.9232878699786\n",
      "275.6366830936489\n",
      "640.0\n"
     ]
    },
    {
     "name": "stderr",
     "output_type": "stream",
     "text": [
      "t:   5%|█▎                         | 23/485 [00:04<01:25,  5.38it/s, now=None]"
     ]
    },
    {
     "name": "stdout",
     "output_type": "stream",
     "text": [
      "122.3674782986111\n",
      "Height: 720 , Width: 1280\n",
      "left_curverad: 3377.832143220435 m , right_curverad: 401.5237476854109 m\n",
      "1132.2483081733203\n",
      "276.49162361071603\n",
      "640.0\n",
      "122.30642252604167\n"
     ]
    },
    {
     "name": "stderr",
     "output_type": "stream",
     "text": [
      "\r",
      "t:   5%|█▎                         | 24/485 [00:04<01:24,  5.45it/s, now=None]"
     ]
    },
    {
     "name": "stdout",
     "output_type": "stream",
     "text": [
      "Height: 720 , Width: 1280\n",
      "left_curverad: 19413.81865759977 m , right_curverad: 446.30641217862785 m\n",
      "1127.9247943417681\n",
      "270.6826249687447\n",
      "640.0\n",
      "122.44438042534722\n",
      "Height: 720 , Width: 1280\n"
     ]
    },
    {
     "name": "stderr",
     "output_type": "stream",
     "text": [
      "\r",
      "t:   5%|█▍                         | 25/485 [00:05<01:52,  4.09it/s, now=None]"
     ]
    },
    {
     "name": "stdout",
     "output_type": "stream",
     "text": [
      "left_curverad: 2770.0256852291145 m , right_curverad: 503.28566139637036 m\n",
      "1117.2164238536384\n",
      "269.8944635905787\n",
      "640.0\n",
      "122.43648871527778\n",
      "Height: 720 , Width: 1280\n"
     ]
    },
    {
     "name": "stderr",
     "output_type": "stream",
     "text": [
      "\r",
      "t:   5%|█▍                         | 26/485 [00:05<01:47,  4.26it/s, now=None]"
     ]
    },
    {
     "name": "stdout",
     "output_type": "stream",
     "text": [
      "left_curverad: 1788.6675646210142 m , right_curverad: 441.80941545053366 m\n",
      "1118.4427755878014\n",
      "270.4644788933613\n",
      "640.0\n",
      "122.51132486979166\n",
      "Height: 720 , Width: 1280\n"
     ]
    },
    {
     "name": "stderr",
     "output_type": "stream",
     "text": [
      "\r",
      "t:   6%|█▌                         | 27/485 [00:05<01:54,  4.02it/s, now=None]"
     ]
    },
    {
     "name": "stdout",
     "output_type": "stream",
     "text": [
      "left_curverad: 1284.5936445610475 m , right_curverad: 432.28357998483926 m\n",
      "1112.8004765181834\n",
      "271.6411261135718\n",
      "640.0\n",
      "122.36294379340278\n",
      "Height: "
     ]
    },
    {
     "name": "stderr",
     "output_type": "stream",
     "text": [
      "\r",
      "t:   6%|█▌                         | 28/485 [00:05<01:59,  3.83it/s, now=None]"
     ]
    },
    {
     "name": "stdout",
     "output_type": "stream",
     "text": [
      "720 , Width: 1280\n",
      "left_curverad: 2186.6783462173144 m , right_curverad: 260.84187990148155 m\n",
      "1128.0176912168663\n",
      "278.2961647989025\n",
      "640.0\n",
      "122.3401833767361\n",
      "Height:"
     ]
    },
    {
     "name": "stderr",
     "output_type": "stream",
     "text": [
      "\r",
      "t:   6%|█▌                         | 29/485 [00:06<01:49,  4.18it/s, now=None]"
     ]
    },
    {
     "name": "stdout",
     "output_type": "stream",
     "text": [
      " 720 , Width: 1280\n",
      "left_curverad: 36857.98888917477 m , right_curverad: 265.3232185192292 m\n",
      "1117.6634066080762\n",
      "276.66582121877013\n",
      "640.0\n",
      "122.35163302951389\n",
      "Height:"
     ]
    },
    {
     "name": "stderr",
     "output_type": "stream",
     "text": [
      "\r",
      "t:   6%|█▋                         | 30/485 [00:06<01:45,  4.32it/s, now=None]"
     ]
    },
    {
     "name": "stdout",
     "output_type": "stream",
     "text": [
      " 720 , Width: 1280\n",
      "left_curverad: 1242.1193068127473 m , right_curverad: 266.49829492041164 m\n",
      "1113.3358807429852\n",
      "281.4763691475648\n",
      "640.0\n",
      "122.37231662326388\n"
     ]
    },
    {
     "name": "stderr",
     "output_type": "stream",
     "text": [
      "\r",
      "t:   6%|█▋                         | 31/485 [00:06<01:37,  4.65it/s, now=None]"
     ]
    },
    {
     "name": "stdout",
     "output_type": "stream",
     "text": [
      "Height: 720 , Width: 1280\n",
      "left_curverad: 1120.2301566499516 m , right_curverad: 254.4041216847896 m\n",
      "1109.653718302866\n",
      "279.5931076433024\n",
      "640.0\n",
      "122.15467230902777\n",
      "Height: 720 , Width: 1280\n"
     ]
    },
    {
     "name": "stderr",
     "output_type": "stream",
     "text": [
      "\r",
      "t:   7%|█▊                         | 32/485 [00:06<01:35,  4.76it/s, now=None]"
     ]
    },
    {
     "name": "stdout",
     "output_type": "stream",
     "text": [
      "left_curverad: 448.4945893876237 m , right_curverad: 282.70849780214695 m\n",
      "1098.2934552293743\n",
      "291.914851575477\n",
      "640.0\n",
      "122.35345594618056\n",
      "Height: 720 , Width: 1280\n",
      "left_curverad: 451.56663531404047 m , right_curverad: 287.74549209594244 m\n"
     ]
    },
    {
     "name": "stderr",
     "output_type": "stream",
     "text": [
      "\r",
      "t:   7%|█▊                         | 33/485 [00:06<01:32,  4.89it/s, now=None]"
     ]
    },
    {
     "name": "stdout",
     "output_type": "stream",
     "text": [
      "1094.9571860729575\n",
      "289.8695961033866\n",
      "640.0\n",
      "122.33466471354167\n",
      "Height: 720 , Width: 1280\n",
      "left_curverad: 388.44453246052353 m , right_curverad: 292.4916268301956 m\n",
      "1093.1870118986494\n",
      "292.8822276560736\n",
      "640.0\n"
     ]
    },
    {
     "name": "stderr",
     "output_type": "stream",
     "text": [
      "t:   7%|█▉                         | 35/485 [00:07<01:27,  5.14it/s, now=None]"
     ]
    },
    {
     "name": "stdout",
     "output_type": "stream",
     "text": [
      "122.2358224826389\n",
      "Height: 720 , Width: 1280\n",
      "left_curverad: 368.82509115739475 m , right_curverad: 283.49955861486126 m\n",
      "1091.3311483754749\n",
      "292.3688735793395\n",
      "640.0\n",
      "122.23777777777778\n"
     ]
    },
    {
     "name": "stderr",
     "output_type": "stream",
     "text": [
      "\r",
      "t:   7%|██                         | 36/485 [00:07<01:25,  5.28it/s, now=None]"
     ]
    },
    {
     "name": "stdout",
     "output_type": "stream",
     "text": [
      "Height: 720 , Width: 1280\n",
      "left_curverad: 322.40336295523616 m , right_curverad: 253.69516223561743 m\n",
      "1099.2725900138623\n",
      "294.39096430034465\n",
      "640.0\n",
      "122.327666015625\n",
      "Height: 720 , Width: 1280\n"
     ]
    },
    {
     "name": "stderr",
     "output_type": "stream",
     "text": [
      "\r",
      "t:   8%|██                         | 37/485 [00:07<01:23,  5.36it/s, now=None]"
     ]
    },
    {
     "name": "stdout",
     "output_type": "stream",
     "text": [
      "left_curverad: 397.26348065611035 m , right_curverad: 188.32899349441774 m\n",
      "1125.8246921948523\n",
      "289.18875515131026\n",
      "640.0\n",
      "122.41413194444445\n",
      "Height: 720 , Width: 1280\n",
      "left_curverad: 437.1520135534177 m , right_curverad: 181.94923415628708 m\n"
     ]
    },
    {
     "name": "stderr",
     "output_type": "stream",
     "text": [
      "\r",
      "t:   8%|██                         | 38/485 [00:07<01:22,  5.40it/s, now=None]"
     ]
    },
    {
     "name": "stdout",
     "output_type": "stream",
     "text": [
      "1118.887235516468\n",
      "287.61421153891206\n",
      "640.0\n",
      "122.44203125\n",
      "Height: 720 , Width: 1280\n",
      "left_curverad: 361.01210358243895 m , right_curverad: 190.04365874629696 m\n"
     ]
    },
    {
     "name": "stderr",
     "output_type": "stream",
     "text": [
      "t:   8%|██▏                        | 40/485 [00:08<01:21,  5.48it/s, now=None]"
     ]
    },
    {
     "name": "stdout",
     "output_type": "stream",
     "text": [
      "1104.8696061160547\n",
      "288.70507680273704\n",
      "640.0\n",
      "122.48712673611111\n",
      "Height: 720 , Width: 1280\n",
      "left_curverad: 349.65957703190577 m , right_curverad: 169.25938761140847 m\n",
      "1112.3657165453335\n",
      "288.1415197827199\n",
      "640.0\n",
      "122.52444769965278\n"
     ]
    },
    {
     "name": "stderr",
     "output_type": "stream",
     "text": [
      "\r",
      "t:   8%|██▎                        | 41/485 [00:08<01:22,  5.39it/s, now=None]"
     ]
    },
    {
     "name": "stdout",
     "output_type": "stream",
     "text": [
      "Height: 720 , Width: 1280\n",
      "left_curverad: 291.11260416853935 m , right_curverad: 166.01430303112332 m\n",
      "1106.7785579733913\n",
      "289.8820561441306\n",
      "640.0\n",
      "122.42443359375\n",
      "Height: 720 , Width: 1280\n"
     ]
    },
    {
     "name": "stderr",
     "output_type": "stream",
     "text": [
      "\r",
      "t:   9%|██▎                        | 42/485 [00:08<01:20,  5.50it/s, now=None]"
     ]
    },
    {
     "name": "stdout",
     "output_type": "stream",
     "text": [
      "left_curverad: 304.417543384333 m , right_curverad: 176.0668508005219 m\n",
      "1099.2335989101916\n",
      "285.5275988646706\n",
      "640.0\n",
      "122.55713216145833\n",
      "Height: 720 , Width: 1280\n",
      "left_curverad: 362.1861878740163 m , right_curverad: 175.20878239119867 m\n",
      "1091.1744201843617\n",
      "280.96129273992034\n",
      "640.0\n"
     ]
    },
    {
     "name": "stderr",
     "output_type": "stream",
     "text": [
      "\r",
      "t:   9%|██▍                        | 43/485 [00:08<01:18,  5.64it/s, now=None]"
     ]
    },
    {
     "name": "stdout",
     "output_type": "stream",
     "text": [
      "122.71056315104167\n",
      "Height: 720 , Width: 1280\n",
      "left_curverad: 284.1725572212903 m , right_curverad: 174.659885622495 m\n",
      "1082.1925453459885\n",
      "283.47988108037543\n",
      "640.0\n"
     ]
    },
    {
     "name": "stderr",
     "output_type": "stream",
     "text": [
      "t:   9%|██▌                        | 45/485 [00:09<01:23,  5.28it/s, now=None]"
     ]
    },
    {
     "name": "stdout",
     "output_type": "stream",
     "text": [
      "122.78208767361112\n",
      "Height: 720 , Width: 1280\n",
      "left_curverad: 240.7969808066107 m , right_curverad: 178.5960859474185 m\n",
      "1072.7529534232103\n",
      "283.27829045445384\n",
      "640.0\n",
      "122.91728515625\n"
     ]
    },
    {
     "name": "stderr",
     "output_type": "stream",
     "text": [
      "\r",
      "t:   9%|██▌                        | 46/485 [00:09<01:23,  5.25it/s, now=None]"
     ]
    },
    {
     "name": "stdout",
     "output_type": "stream",
     "text": [
      "Height: 720 , Width: 1280\n",
      "left_curverad: 248.89221555787876 m , right_curverad: 182.74808533698405 m\n",
      "1056.1464672958894\n",
      "280.29373505210935\n",
      "640.0\n",
      "122.81801323784723\n",
      "Height: 720 , Width: 1280\n"
     ]
    },
    {
     "name": "stderr",
     "output_type": "stream",
     "text": [
      "\r",
      "t:  10%|██▌                        | 47/485 [00:09<01:22,  5.32it/s, now=None]"
     ]
    },
    {
     "name": "stdout",
     "output_type": "stream",
     "text": [
      "left_curverad: 291.0453996035217 m , right_curverad: 192.05658526002432 m\n",
      "1054.8245224989591\n",
      "273.03729569423865\n",
      "640.0\n",
      "122.57915798611111\n",
      "Height: 720 , Width: 1280\n",
      "left_curverad: 323.17240176971126 m , right_curverad: 189.23648808957006 m\n",
      "1053.8732831662717\n",
      "267.28249765284795\n",
      "640.0\n"
     ]
    },
    {
     "name": "stderr",
     "output_type": "stream",
     "text": [
      "t:  10%|██▋                        | 49/485 [00:09<01:21,  5.33it/s, now=None]"
     ]
    },
    {
     "name": "stdout",
     "output_type": "stream",
     "text": [
      "122.35627061631945\n",
      "Height: 720 , Width: 1280\n",
      "left_curverad: 287.1726283065381 m , right_curverad: 193.48312568095656 m\n",
      "1051.627531414652\n",
      "266.9254927779457\n",
      "640.0\n",
      "122.23186414930555\n"
     ]
    },
    {
     "name": "stderr",
     "output_type": "stream",
     "text": [
      "\r",
      "t:  10%|██▊                        | 50/485 [00:10<01:23,  5.22it/s, now=None]"
     ]
    },
    {
     "name": "stdout",
     "output_type": "stream",
     "text": [
      "Height: 720 , Width: 1280\n",
      "left_curverad: 269.88227039689895 m , right_curverad: 179.34134893296329 m\n",
      "1050.4330012893954\n",
      "266.6155511978375\n",
      "640.0\n",
      "122.0278146701389\n",
      "Height: 720 , Width: 1280\n"
     ]
    },
    {
     "name": "stderr",
     "output_type": "stream",
     "text": [
      "\r",
      "t:  11%|██▊                        | 51/485 [00:10<01:23,  5.18it/s, now=None]"
     ]
    },
    {
     "name": "stdout",
     "output_type": "stream",
     "text": [
      "left_curverad: 275.9608294105367 m , right_curverad: 172.52893550713725 m\n",
      "1053.235546282826\n",
      "263.77628434047773\n",
      "640.0\n",
      "121.81630642361111\n",
      "Height: 720 , Width: 1280\n",
      "left_curverad: 282.41894658547164 m , right_curverad: 167.70843673539002 m\n",
      "1049.1091151748005\n",
      "260.66836794641296\n",
      "640.0\n"
     ]
    },
    {
     "name": "stderr",
     "output_type": "stream",
     "text": [
      "t:  11%|██▉                        | 53/485 [00:10<01:22,  5.26it/s, now=None]"
     ]
    },
    {
     "name": "stdout",
     "output_type": "stream",
     "text": [
      "121.54704535590278\n",
      "Height: 720 , Width: 1280\n",
      "left_curverad: 276.16442429713567 m , right_curverad: 169.2308763945003 m\n",
      "1042.5623526906813\n",
      "259.6872573979647\n",
      "640.0\n",
      "121.44173936631944"
     ]
    },
    {
     "name": "stderr",
     "output_type": "stream",
     "text": [
      "\r",
      "t:  11%|███                        | 54/485 [00:10<01:22,  5.20it/s, now=None]"
     ]
    },
    {
     "name": "stdout",
     "output_type": "stream",
     "text": [
      "\n",
      "Height: 720 , Width: 1280\n",
      "left_curverad: 278.2562757363126 m , right_curverad: 153.93166770288477 m\n",
      "1045.364017087944\n",
      "258.54903286282166\n",
      "640.0\n",
      "121.31219292534722\n"
     ]
    },
    {
     "name": "stderr",
     "output_type": "stream",
     "text": [
      "\r",
      "t:  11%|███                        | 55/485 [00:11<01:23,  5.13it/s, now=None]"
     ]
    },
    {
     "name": "stdout",
     "output_type": "stream",
     "text": [
      "Height: 720 , Width: 1280\n",
      "left_curverad: 274.8377359345249 m , right_curverad: 161.26422368497035 m\n",
      "1045.0616124584485\n",
      "255.66124012937445\n",
      "640.0\n",
      "121.14122178819444\n",
      "Height: 720 , Width: 1280\n"
     ]
    },
    {
     "name": "stderr",
     "output_type": "stream",
     "text": [
      "\r",
      "t:  12%|███                        | 56/485 [00:11<01:22,  5.18it/s, now=None]"
     ]
    },
    {
     "name": "stdout",
     "output_type": "stream",
     "text": [
      "left_curverad: 364.4372217107858 m , right_curverad: 164.2178324938811 m\n",
      "1038.6361140306583\n",
      "249.6376539422451\n",
      "640.0\n",
      "120.899072265625\n",
      "Height: 720 , Width: 1280\n",
      "left_curverad: 329.56716381370154 m , right_curverad: 165.59771644160008 m\n"
     ]
    },
    {
     "name": "stderr",
     "output_type": "stream",
     "text": [
      "\r",
      "t:  12%|███▏                       | 57/485 [00:11<01:22,  5.17it/s, now=None]"
     ]
    },
    {
     "name": "stdout",
     "output_type": "stream",
     "text": [
      "1033.1030851230155\n",
      "249.85512514736925\n",
      "640.0\n",
      "120.65167317708334\n",
      "Height: 720 , Width: 1280\n",
      "left_curverad: 270.55060063550854 m , right_curverad: 163.81530919451677 m\n",
      "1027.4417865151054\n",
      "253.70247226096822\n",
      "640.0\n"
     ]
    },
    {
     "name": "stderr",
     "output_type": "stream",
     "text": [
      "t:  12%|███▎                       | 59/485 [00:11<01:22,  5.18it/s, now=None]"
     ]
    },
    {
     "name": "stdout",
     "output_type": "stream",
     "text": [
      "120.31541883680555\n",
      "Height: 720 , Width: 1280\n",
      "left_curverad: 266.5236414289344 m , right_curverad: 165.3598713614103 m\n",
      "1021.5565670248567\n",
      "252.71454551531428\n",
      "640.0\n",
      "120.2124490017361\n"
     ]
    },
    {
     "name": "stderr",
     "output_type": "stream",
     "text": [
      "\r",
      "t:  12%|███▎                       | 60/485 [00:12<01:22,  5.13it/s, now=None]"
     ]
    },
    {
     "name": "stdout",
     "output_type": "stream",
     "text": [
      "Height: 720 , Width: 1280\n",
      "left_curverad: 264.78218468653284 m , right_curverad: 171.21224366848185 m\n",
      "1015.9924626920587\n",
      "254.43183143942136\n",
      "640.0\n",
      "120.13388563368055\n",
      "Height: 720 , Width: 1280\n"
     ]
    },
    {
     "name": "stderr",
     "output_type": "stream",
     "text": [
      "\r",
      "t:  13%|███▍                       | 61/485 [00:12<01:23,  5.10it/s, now=None]"
     ]
    },
    {
     "name": "stdout",
     "output_type": "stream",
     "text": [
      "left_curverad: 310.16317110011 m , right_curverad: 173.86850426401205 m\n",
      "1014.0898687919068\n",
      "248.22542852671603\n",
      "640.0\n",
      "119.84743598090277\n",
      "Height: 720 , Width: 1280\n",
      "left_curverad: 281.0957986407891 m , right_curverad: 182.25869547935332 m\n"
     ]
    },
    {
     "name": "stderr",
     "output_type": "stream",
     "text": [
      "\r",
      "t:  13%|███▍                       | 62/485 [00:12<01:23,  5.08it/s, now=None]"
     ]
    },
    {
     "name": "stdout",
     "output_type": "stream",
     "text": [
      "1011.7055699079315\n",
      "249.88003375155932\n",
      "640.0\n",
      "119.67466688368056\n",
      "Height: 720 , Width: 1280\n",
      "left_curverad: 318.6017993835481 m , right_curverad: 190.72493521128345 m\n",
      "1011.9747105868414\n",
      "245.09278522104103\n",
      "640.0\n"
     ]
    },
    {
     "name": "stderr",
     "output_type": "stream",
     "text": [
      "\r",
      "t:  13%|███▌                       | 63/485 [00:12<01:21,  5.15it/s, now=None]"
     ]
    },
    {
     "name": "stdout",
     "output_type": "stream",
     "text": [
      "119.57505750868056\n",
      "Height: 720 , Width: 1280\n",
      "left_curverad: 320.0277170047122 m , right_curverad: 183.4596676419674 m\n",
      "1015.5420055417515\n",
      "246.13754150147395\n",
      "640.0\n"
     ]
    },
    {
     "name": "stderr",
     "output_type": "stream",
     "text": [
      "\r",
      "t:  13%|███▌                       | 64/485 [00:12<01:26,  4.87it/s, now=None]"
     ]
    },
    {
     "name": "stdout",
     "output_type": "stream",
     "text": [
      "119.35104709201389\n",
      "Height: 720 , Width: 1280\n",
      "left_curverad: 299.97322390384363 m , right_curverad: 167.26111605835237 m\n",
      "1027.0058253480427\n",
      "245.35371944453237\n",
      "640.0\n"
     ]
    },
    {
     "name": "stderr",
     "output_type": "stream",
     "text": [
      "\r",
      "t:  13%|███▌                       | 65/485 [00:13<01:28,  4.72it/s, now=None]"
     ]
    },
    {
     "name": "stdout",
     "output_type": "stream",
     "text": [
      "119.24306315104167\n",
      "Height: 720 , Width: 1280\n",
      "left_curverad: 370.06768210251687 m , right_curverad: 168.85965405621005 m\n",
      "1023.2590202843198\n",
      "241.59892848038098\n",
      "640.0\n"
     ]
    },
    {
     "name": "stderr",
     "output_type": "stream",
     "text": [
      "t:  14%|███▋                       | 67/485 [00:13<01:23,  5.01it/s, now=None]"
     ]
    },
    {
     "name": "stdout",
     "output_type": "stream",
     "text": [
      "119.05604600694444\n",
      "Height: 720 , Width: 1280\n",
      "left_curverad: 457.655461346324 m , right_curverad: 166.13602072521905 m\n",
      "1020.7563052792965\n",
      "240.82479722434078\n",
      "640.0\n",
      "119.28405164930555\n"
     ]
    },
    {
     "name": "stderr",
     "output_type": "stream",
     "text": [
      "\r",
      "t:  14%|███▊                       | 68/485 [00:13<01:21,  5.09it/s, now=None]"
     ]
    },
    {
     "name": "stdout",
     "output_type": "stream",
     "text": [
      "Height: 720 , Width: 1280\n",
      "left_curverad: 425.2495701830099 m , right_curverad: 164.8446281542796 m\n",
      "1017.651675458362\n",
      "244.08503686087286\n",
      "640.0\n",
      "118.80568467881945\n"
     ]
    },
    {
     "name": "stderr",
     "output_type": "stream",
     "text": [
      "\r",
      "t:  14%|███▊                       | 69/485 [00:13<01:23,  4.96it/s, now=None]"
     ]
    },
    {
     "name": "stdout",
     "output_type": "stream",
     "text": [
      "Height: 720 , Width: 1280\n",
      "left_curverad: 461.7092620264291 m , right_curverad: 167.74796482646275 m\n",
      "1014.4357768327\n",
      "245.85908094615647\n",
      "640.0\n",
      "118.93736436631944\n",
      "Height: 720 , Width: 1280\n"
     ]
    },
    {
     "name": "stderr",
     "output_type": "stream",
     "text": [
      "\r",
      "t:  14%|███▉                       | 70/485 [00:14<01:24,  4.94it/s, now=None]"
     ]
    },
    {
     "name": "stdout",
     "output_type": "stream",
     "text": [
      "left_curverad: 384.6109738262302 m , right_curverad: 154.99119953836924 m\n",
      "1018.480501239748\n",
      "251.91127028484993\n",
      "640.0\n",
      "118.78466688368056\n",
      "Height: 720 , Width: 1280\n",
      "left_curverad: 406.0368219180189 m , right_curverad: 163.81382105176576 m\n"
     ]
    },
    {
     "name": "stderr",
     "output_type": "stream",
     "text": [
      "\r",
      "t:  15%|███▉                       | 71/485 [00:14<01:22,  5.02it/s, now=None]"
     ]
    },
    {
     "name": "stdout",
     "output_type": "stream",
     "text": [
      "1014.8305380686394\n",
      "252.0259984355286\n",
      "640.0\n",
      "119.07029730902778\n",
      "Height: 720 , Width: 1280\n",
      "left_curverad: 437.83502388418515 m , right_curverad: 177.84431506223476 m\n",
      "1010.3910491425099\n",
      "253.96130835997653\n",
      "640.0\n"
     ]
    },
    {
     "name": "stderr",
     "output_type": "stream",
     "text": [
      "t:  15%|████                       | 73/485 [00:14<01:19,  5.16it/s, now=None]"
     ]
    },
    {
     "name": "stdout",
     "output_type": "stream",
     "text": [
      "119.30999348958333\n",
      "Height: 720 , Width: 1280\n",
      "left_curverad: 415.4411910169482 m , right_curverad: 201.91600911259926 m\n",
      "1006.6316484694848\n",
      "255.19556006443082\n",
      "640.0\n",
      "119.49961588541667\n"
     ]
    },
    {
     "name": "stderr",
     "output_type": "stream",
     "text": [
      "\r",
      "t:  15%|████                       | 74/485 [00:14<01:20,  5.11it/s, now=None]"
     ]
    },
    {
     "name": "stdout",
     "output_type": "stream",
     "text": [
      "Height: 720 , Width: 1280\n",
      "left_curverad: 408.5506862529118 m , right_curverad: 204.99739718889302 m\n",
      "1006.0779477690005\n",
      "255.36180520958553\n",
      "640.0\n",
      "119.37369683159723\n",
      "Height: 720 , Width: 1280\n"
     ]
    },
    {
     "name": "stderr",
     "output_type": "stream",
     "text": [
      "\r",
      "t:  15%|████▏                      | 75/485 [00:15<01:22,  4.97it/s, now=None]"
     ]
    },
    {
     "name": "stdout",
     "output_type": "stream",
     "text": [
      "left_curverad: 502.55757599105857 m , right_curverad: 218.62627629126197 m\n",
      "1005.6196601383524\n",
      "254.91790249636196\n",
      "640.0\n",
      "119.75591037326389\n",
      "Height: 720 , Width: 1280\n",
      "left_curverad: 561.4982192711013 m , right_curverad: 216.32440723278805 m\n"
     ]
    },
    {
     "name": "stderr",
     "output_type": "stream",
     "text": [
      "\r",
      "t:  16%|████▏                      | 76/485 [00:15<01:20,  5.09it/s, now=None]"
     ]
    },
    {
     "name": "stdout",
     "output_type": "stream",
     "text": [
      "1006.6247112649958\n",
      "257.5829474359888\n",
      "640.0\n",
      "119.73714192708333\n",
      "Height: 720 , Width: 1280\n",
      "left_curverad: 1298.088927001483 m , right_curverad: 223.58080265432858 m\n"
     ]
    },
    {
     "name": "stderr",
     "output_type": "stream",
     "text": [
      "\r",
      "t:  16%|████▎                      | 77/485 [00:15<01:21,  5.03it/s, now=None]"
     ]
    },
    {
     "name": "stdout",
     "output_type": "stream",
     "text": [
      "1004.7198187144626\n",
      "253.09836964555353\n",
      "640.0\n",
      "119.71219292534722\n",
      "Height: 720 , Width: 1280\n",
      "left_curverad: 786.9884738518953 m , right_curverad: 235.2257610145274 m\n",
      "1000.3421487197362\n",
      "256.99400204866197\n",
      "640.0\n"
     ]
    },
    {
     "name": "stderr",
     "output_type": "stream",
     "text": [
      "t:  16%|████▍                      | 79/485 [00:15<01:17,  5.21it/s, now=None]"
     ]
    },
    {
     "name": "stdout",
     "output_type": "stream",
     "text": [
      "119.56690863715278\n",
      "Height: 720 , Width: 1280\n",
      "left_curverad: 342.03638059340693 m , right_curverad: 282.5897634791484 m\n",
      "983.4266510415101\n",
      "264.3080811753339\n",
      "640.0\n",
      "119.69740668402778\n"
     ]
    },
    {
     "name": "stderr",
     "output_type": "stream",
     "text": [
      "\r",
      "t:  16%|████▍                      | 80/485 [00:15<01:19,  5.11it/s, now=None]"
     ]
    },
    {
     "name": "stdout",
     "output_type": "stream",
     "text": [
      "Height: 720 , Width: 1280\n",
      "left_curverad: 310.06612130747953 m , right_curverad: 268.7465708552472 m\n",
      "988.0953765929214\n",
      "267.42782411193963\n",
      "640.0\n",
      "119.71280381944445\n",
      "Height: 720 , Width: 1280\n"
     ]
    },
    {
     "name": "stderr",
     "output_type": "stream",
     "text": [
      "\r",
      "t:  17%|████▌                      | 81/485 [00:16<01:18,  5.12it/s, now=None]"
     ]
    },
    {
     "name": "stdout",
     "output_type": "stream",
     "text": [
      "left_curverad: 280.40014123416233 m , right_curverad: 267.2288161894846 m\n",
      "990.6544327582118\n",
      "267.8601006345042\n",
      "640.0\n",
      "119.68177300347222\n",
      "Height: 720 , Width: 1280\n",
      "left_curverad: 269.0525977202734 m , right_curverad: 258.2018540555957 m\n"
     ]
    },
    {
     "name": "stderr",
     "output_type": "stream",
     "text": [
      "\r",
      "t:  17%|████▌                      | 82/485 [00:16<01:18,  5.10it/s, now=None]"
     ]
    },
    {
     "name": "stdout",
     "output_type": "stream",
     "text": [
      "994.2486294531632\n",
      "270.67574681399896\n",
      "640.0\n",
      "119.35282443576389\n",
      "Height: 720 , Width: 1280\n",
      "left_curverad: 381.9235310632385 m , right_curverad: 278.1475776965493 m\n",
      "999.4834804470595\n",
      "261.2789987167988\n",
      "640.0\n"
     ]
    },
    {
     "name": "stderr",
     "output_type": "stream",
     "text": [
      "t:  17%|████▋                      | 84/485 [00:16<01:16,  5.27it/s, now=None]"
     ]
    },
    {
     "name": "stdout",
     "output_type": "stream",
     "text": [
      "119.25002387152777\n",
      "Height: 720 , Width: 1280\n",
      "left_curverad: 458.92755068902017 m , right_curverad: 294.96269591360914 m\n",
      "1001.0247605783534\n",
      "255.3643978960843\n",
      "640.0\n",
      "119.026259765625\n"
     ]
    },
    {
     "name": "stderr",
     "output_type": "stream",
     "text": [
      "\r",
      "t:  18%|████▋                      | 85/485 [00:16<01:18,  5.07it/s, now=None]"
     ]
    },
    {
     "name": "stdout",
     "output_type": "stream",
     "text": [
      "Height: 720 , Width: 1280\n",
      "left_curverad: 391.23549992206966 m , right_curverad: 293.68810486000416 m\n",
      "1003.8186000150438\n",
      "259.58698038737896\n",
      "640.0\n",
      "119.07211805555555\n",
      "Height: 720 , Width: 1280\n"
     ]
    },
    {
     "name": "stderr",
     "output_type": "stream",
     "text": [
      "\r",
      "t:  18%|████▊                      | 86/485 [00:17<01:18,  5.06it/s, now=None]"
     ]
    },
    {
     "name": "stdout",
     "output_type": "stream",
     "text": [
      "left_curverad: 389.9085925851015 m , right_curverad: 308.1082718999231 m\n",
      "1004.4937518868655\n",
      "258.3958931877828\n",
      "640.0\n",
      "118.99278211805556\n",
      "Height: 720 , Width: 1280\n",
      "left_curverad: 379.11151478245245 m , right_curverad: 317.1270911890132 "
     ]
    },
    {
     "name": "stderr",
     "output_type": "stream",
     "text": [
      "\r",
      "t:  18%|████▊                      | 87/485 [00:17<01:17,  5.14it/s, now=None]"
     ]
    },
    {
     "name": "stdout",
     "output_type": "stream",
     "text": [
      "m\n",
      "1006.9094276089106\n",
      "259.90380828767536\n",
      "640.0\n",
      "119.10564670138889\n",
      "Height: 720 , Width: 1280\n",
      "left_curverad: 340.88768824598213 m , right_curverad: 304.7773699649698 m\n"
     ]
    },
    {
     "name": "stderr",
     "output_type": "stream",
     "text": [
      "\r",
      "t:  18%|████▉                      | 88/485 [00:17<01:16,  5.16it/s, now=None]"
     ]
    },
    {
     "name": "stdout",
     "output_type": "stream",
     "text": [
      "1008.429952848028\n",
      "265.1233811355753\n",
      "640.0\n",
      "119.12344075520834\n",
      "Height: 720 , Width: 1280\n",
      "left_curverad: 416.0926481180326 m , right_curverad: 288.3815774908044 m\n",
      "1011.727645926371\n",
      "259.927178970815\n",
      "640.0\n"
     ]
    },
    {
     "name": "stderr",
     "output_type": "stream",
     "text": [
      "\r",
      "t:  18%|████▉                      | 89/485 [00:17<01:16,  5.18it/s, now=None]"
     ]
    },
    {
     "name": "stdout",
     "output_type": "stream",
     "text": [
      "119.23199544270834\n",
      "Height: 720 , Width: 1280\n",
      "left_curverad: 540.8824909587746 m , right_curverad: 282.4962965155418 m\n",
      "1014.6633996021973\n",
      "253.24308729490255\n",
      "640.0\n"
     ]
    },
    {
     "name": "stderr",
     "output_type": "stream",
     "text": [
      "t:  19%|█████                      | 91/485 [00:18<01:17,  5.07it/s, now=None]"
     ]
    },
    {
     "name": "stdout",
     "output_type": "stream",
     "text": [
      "118.889248046875\n",
      "Height: 720 , Width: 1280\n",
      "left_curverad: 626.7537573010953 m , right_curverad: 295.36427822280444 m\n",
      "1017.7668644607702\n",
      "252.5763742435728\n",
      "640.0\n",
      "118.6552615017361\n"
     ]
    },
    {
     "name": "stderr",
     "output_type": "stream",
     "text": [
      "\r",
      "t:  19%|█████                      | 92/485 [00:18<01:15,  5.18it/s, now=None]"
     ]
    },
    {
     "name": "stdout",
     "output_type": "stream",
     "text": [
      "Height: 720 , Width: 1280\n",
      "left_curverad: 787.100306492601 m , right_curverad: 300.8750227217454 m\n",
      "1019.3075407383081\n",
      "253.01165622767934\n",
      "640.0\n",
      "118.37720703125\n",
      "Height: 720 , Width: 1280\n"
     ]
    },
    {
     "name": "stderr",
     "output_type": "stream",
     "text": [
      "\r",
      "t:  19%|█████▏                     | 93/485 [00:18<01:16,  5.09it/s, now=None]"
     ]
    },
    {
     "name": "stdout",
     "output_type": "stream",
     "text": [
      "left_curverad: 648.4432657230774 m , right_curverad: 318.6504148139674 m\n",
      "1016.7936413308887\n",
      "256.93101621393794\n",
      "640.0\n",
      "118.13889214409723\n",
      "Height: 720 , Width: 1280\n",
      "left_curverad: 689.46491934717 m , right_curverad: 307.89434361794224 m\n"
     ]
    },
    {
     "name": "stderr",
     "output_type": "stream",
     "text": [
      "\r",
      "t:  19%|█████▏                     | 94/485 [00:18<01:17,  5.06it/s, now=None]"
     ]
    },
    {
     "name": "stdout",
     "output_type": "stream",
     "text": [
      "1023.0556128121002\n",
      "258.1502121830699\n",
      "640.0\n",
      "117.9107400173611\n",
      "Height: 720 , Width: 1280\n",
      "left_curverad: 753.5265698999964 m , right_curverad: 317.77493489605047 m\n",
      "1026.8632158796706\n",
      "260.51329406540447\n",
      "640.0\n"
     ]
    },
    {
     "name": "stderr",
     "output_type": "stream",
     "text": [
      "t:  20%|█████▎                     | 96/485 [00:19<01:15,  5.13it/s, now=None]"
     ]
    },
    {
     "name": "stdout",
     "output_type": "stream",
     "text": [
      "118.02642469618056\n",
      "Height: 720 , Width: 1280\n",
      "left_curverad: 839.7301038818574 m , right_curverad: 302.4057939561611 m\n",
      "1028.1826927529867\n",
      "263.176490544755\n",
      "640.0\n",
      "117.6581640625\n"
     ]
    },
    {
     "name": "stderr",
     "output_type": "stream",
     "text": [
      "\r",
      "t:  20%|█████▍                     | 97/485 [00:19<01:16,  5.09it/s, now=None]"
     ]
    },
    {
     "name": "stdout",
     "output_type": "stream",
     "text": [
      "Height: 720 , Width: 1280\n",
      "left_curverad: 1148.5825151770464 m , right_curverad: 292.18028333270723 m\n",
      "1029.7954134389067\n",
      "265.86128757561227\n",
      "640.0\n",
      "117.6294921875\n",
      "Height: 720 , Width: 1280\n"
     ]
    },
    {
     "name": "stderr",
     "output_type": "stream",
     "text": [
      "\r",
      "t:  20%|█████▍                     | 98/485 [00:19<01:15,  5.13it/s, now=None]"
     ]
    },
    {
     "name": "stdout",
     "output_type": "stream",
     "text": [
      "left_curverad: 1563.137624609705 m , right_curverad: 267.7438314628933 m\n",
      "1029.3617655912608\n",
      "273.6105112513194\n",
      "640.0\n",
      "117.17400716145833\n",
      "Height: 720 , Width: 1280\n",
      "left_curverad: 1543.8846926383521 m , right_curverad: 256.2106293858385 m\n"
     ]
    },
    {
     "name": "stderr",
     "output_type": "stream",
     "text": [
      "\r",
      "t:  20%|█████▌                     | 99/485 [00:19<01:14,  5.21it/s, now=None]"
     ]
    },
    {
     "name": "stdout",
     "output_type": "stream",
     "text": [
      "1030.9479881001423\n",
      "279.165696257717\n",
      "640.0\n",
      "116.871435546875\n",
      "Height: 720 , Width: 1280\n",
      "left_curverad: 1474.489471462939 m , right_curverad: 243.73911467865605 m\n",
      "1030.6175328471952\n",
      "284.87515247301843\n",
      "640.0\n"
     ]
    },
    {
     "name": "stderr",
     "output_type": "stream",
     "text": [
      "\r",
      "t:  21%|█████▎                    | 100/485 [00:19<01:12,  5.31it/s, now=None]"
     ]
    },
    {
     "name": "stdout",
     "output_type": "stream",
     "text": [
      "116.31089301215277\n",
      "Height: 720 , Width: 1280\n",
      "left_curverad: 1018.1367438937597 m , right_curverad: 255.61672891090058 m\n",
      "1031.9829295213135\n",
      "290.9675177922786\n",
      "640.0\n"
     ]
    },
    {
     "name": "stderr",
     "output_type": "stream",
     "text": [
      "t:  21%|█████▍                    | 102/485 [00:20<01:15,  5.07it/s, now=None]"
     ]
    },
    {
     "name": "stdout",
     "output_type": "stream",
     "text": [
      "115.79656141493055\n",
      "Height: 720 , Width: 1280\n",
      "left_curverad: 1159.636235402152 m , right_curverad: 275.7067962453819 m\n",
      "1034.0685257255354\n",
      "290.5350198042869\n",
      "640.0\n",
      "115.05596462673611\n"
     ]
    },
    {
     "name": "stderr",
     "output_type": "stream",
     "text": [
      "\r",
      "t:  21%|█████▌                    | 103/485 [00:20<01:12,  5.27it/s, now=None]"
     ]
    },
    {
     "name": "stdout",
     "output_type": "stream",
     "text": [
      "Height: 720 , Width: 1280\n",
      "left_curverad: 1660.0563897192671 m , right_curverad: 298.09471262105745 m\n",
      "1036.113545727982\n",
      "290.3742733119482\n",
      "640.0\n",
      "114.47512369791667\n",
      "Height: 720 , Width: 1280\n"
     ]
    },
    {
     "name": "stderr",
     "output_type": "stream",
     "text": [
      "\r",
      "t:  21%|█████▌                    | 104/485 [00:20<01:12,  5.29it/s, now=None]"
     ]
    },
    {
     "name": "stdout",
     "output_type": "stream",
     "text": [
      "left_curverad: 2310.2846645343625 m , right_curverad: 306.7525963155625 m\n",
      "1037.9367946089606\n",
      "290.0221067820838\n",
      "640.0\n",
      "113.44093424479166\n",
      "Height: 720 , Width: 1280\n",
      "left_curverad: 2364.1074238197175 m , right_curverad: 326.83090263115724 m\n"
     ]
    },
    {
     "name": "stderr",
     "output_type": "stream",
     "text": [
      "\r",
      "t:  22%|█████▋                    | 105/485 [00:20<01:12,  5.21it/s, now=None]"
     ]
    },
    {
     "name": "stdout",
     "output_type": "stream",
     "text": [
      "1040.2303627399283\n",
      "289.5717377315569\n",
      "640.0\n",
      "112.94607964409722\n",
      "Height: 720 , Width: 1280\n",
      "left_curverad: 1900.3477464228592 m , right_curverad: 311.7518073562803 m\n",
      "1044.1475840670275\n",
      "291.52906574944143\n",
      "640.0\n"
     ]
    },
    {
     "name": "stderr",
     "output_type": "stream",
     "text": [
      "\r",
      "t:  22%|█████▋                    | 106/485 [00:21<01:14,  5.11it/s, now=None]"
     ]
    },
    {
     "name": "stdout",
     "output_type": "stream",
     "text": [
      "111.82955403645833\n",
      "Height: 720 , Width: 1280\n",
      "left_curverad: 9679.057212594298 m , right_curverad: 338.27245592860163 m\n",
      "1041.6420694118597\n",
      "285.99164204997777\n",
      "640.0\n"
     ]
    },
    {
     "name": "stderr",
     "output_type": "stream",
     "text": [
      "t:  22%|█████▊                    | 108/485 [00:21<01:12,  5.22it/s, now=None]"
     ]
    },
    {
     "name": "stdout",
     "output_type": "stream",
     "text": [
      "111.07270290798611\n",
      "Height: 720 , Width: 1280\n",
      "left_curverad: 9557.454895787547 m , right_curverad: 327.8732999843711 m\n",
      "1044.661592741278\n",
      "286.2620186062216\n",
      "640.0\n",
      "110.17493706597222\n"
     ]
    },
    {
     "name": "stderr",
     "output_type": "stream",
     "text": [
      "\r",
      "t:  22%|█████▊                    | 109/485 [00:21<01:12,  5.17it/s, now=None]"
     ]
    },
    {
     "name": "stdout",
     "output_type": "stream",
     "text": [
      "Height: 720 , Width: 1280\n",
      "left_curverad: 7009.72833099648 m , right_curverad: 308.4536263116692 m\n",
      "1044.627109250073\n",
      "286.79208201164886\n",
      "640.0\n",
      "108.94729926215278\n",
      "Height: 720 , Width: 1280\n"
     ]
    },
    {
     "name": "stderr",
     "output_type": "stream",
     "text": [
      "\r",
      "t:  23%|█████▉                    | 110/485 [00:21<01:12,  5.16it/s, now=None]"
     ]
    },
    {
     "name": "stdout",
     "output_type": "stream",
     "text": [
      "left_curverad: 1640.5788948410018 m , right_curverad: 301.70616413173235 m\n",
      "1041.955933056181\n",
      "291.3305198389043\n",
      "640.0\n",
      "107.8279709201389\n",
      "Height: 720 , Width: 1280\n",
      "left_curverad: 2619.960547584298 m , right_curverad: 338.24944845058013 m\n"
     ]
    },
    {
     "name": "stderr",
     "output_type": "stream",
     "text": [
      "\r",
      "t:  23%|█████▉                    | 111/485 [00:22<01:13,  5.07it/s, now=None]"
     ]
    },
    {
     "name": "stdout",
     "output_type": "stream",
     "text": [
      "1037.7099074159223\n",
      "292.0719470587978\n",
      "640.0\n",
      "105.93660373263889\n",
      "Height: 720 , Width: 1280\n",
      "left_curverad: 5400.9865860593345 m , right_curverad: 316.9569742592038 m\n",
      "1039.6902088884747\n",
      "293.0602929008792\n",
      "640.0\n"
     ]
    },
    {
     "name": "stderr",
     "output_type": "stream",
     "text": [
      "t:  23%|██████                    | 113/485 [00:22<01:14,  5.02it/s, now=None]"
     ]
    },
    {
     "name": "stdout",
     "output_type": "stream",
     "text": [
      "104.14314236111112\n",
      "Height: 720 , Width: 1280\n",
      "left_curverad: 29799.518827372503 m , right_curverad: 290.03775291002785 m\n",
      "1044.0477656844726\n",
      "294.7735360179431\n",
      "640.0\n",
      "102.23279188368056\n"
     ]
    },
    {
     "name": "stderr",
     "output_type": "stream",
     "text": [
      "\r",
      "t:  24%|██████                    | 114/485 [00:22<01:15,  4.94it/s, now=None]"
     ]
    },
    {
     "name": "stdout",
     "output_type": "stream",
     "text": [
      "Height: 720 , Width: 1280\n",
      "left_curverad: 2398.827143995587 m , right_curverad: 305.73875713108333 m\n",
      "1041.4114208636124\n",
      "293.71792326878153\n",
      "640.0\n",
      "100.20381727430555\n",
      "Height: 720 , Width: 1280\n"
     ]
    },
    {
     "name": "stderr",
     "output_type": "stream",
     "text": [
      "\r",
      "t:  24%|██████▏                   | 115/485 [00:22<01:16,  4.85it/s, now=None]"
     ]
    },
    {
     "name": "stdout",
     "output_type": "stream",
     "text": [
      "left_curverad: 2549.1356165620864 m , right_curverad: 337.9801907682682 m\n",
      "1043.8703129784622\n",
      "293.6261500181777\n",
      "640.0\n",
      "98.16538845486112\n",
      "Height: 720 , Width: 1280\n"
     ]
    },
    {
     "name": "stderr",
     "output_type": "stream",
     "text": [
      "\r",
      "t:  24%|██████▏                   | 116/485 [00:23<01:17,  4.75it/s, now=None]"
     ]
    },
    {
     "name": "stdout",
     "output_type": "stream",
     "text": [
      "left_curverad: 1856.4174405986287 m , right_curverad: 579.4513276238889 m\n",
      "1039.1455561936712\n",
      "294.5608709879682\n",
      "640.0\n",
      "95.25089518229167\n",
      "Height: 720 , Width: 1280\n"
     ]
    },
    {
     "name": "stderr",
     "output_type": "stream",
     "text": [
      "\r",
      "t:  24%|██████▎                   | 117/485 [00:23<01:18,  4.72it/s, now=None]"
     ]
    },
    {
     "name": "stdout",
     "output_type": "stream",
     "text": [
      "left_curverad: 1160.4175825195966 m , right_curverad: 369.07988722477774 m\n",
      "1048.9847074564827\n",
      "294.5560050770805\n",
      "640.0\n",
      "92.16069010416666\n",
      "Height: 720 , Width: 1280\n"
     ]
    },
    {
     "name": "stderr",
     "output_type": "stream",
     "text": [
      "\r",
      "t:  24%|██████▎                   | 118/485 [00:23<01:18,  4.66it/s, now=None]"
     ]
    },
    {
     "name": "stdout",
     "output_type": "stream",
     "text": [
      "left_curverad: 1619.5996219108833 m , right_curverad: 333.1682092963068 m\n",
      "1048.7089419287486\n",
      "296.62993297648904\n",
      "640.0\n",
      "89.95230577256945\n",
      "Height: 720 , Width: 1280\n",
      "left_curverad: 2869.62327253671 m"
     ]
    },
    {
     "name": "stderr",
     "output_type": "stream",
     "text": [
      "\r",
      "t:  25%|██████▍                   | 119/485 [00:23<01:19,  4.63it/s, now=None]"
     ]
    },
    {
     "name": "stdout",
     "output_type": "stream",
     "text": [
      " , right_curverad: 451.819956507328 m\n",
      "1049.4558348824278\n",
      "300.83776948004333\n",
      "640.0\n",
      "88.1877267795139\n",
      "Height: 720 , Width: 1280\n"
     ]
    },
    {
     "name": "stderr",
     "output_type": "stream",
     "text": [
      "\r",
      "t:  25%|██████▍                   | 120/485 [00:23<01:21,  4.51it/s, now=None]"
     ]
    },
    {
     "name": "stdout",
     "output_type": "stream",
     "text": [
      "left_curverad: 591.9618575917567 m , right_curverad: 393.5858009501413 m\n",
      "1050.75595700754\n",
      "306.098079208748\n",
      "640.0\n",
      "86.28839192708334\n",
      "Height: 720 , Width: 1280\n"
     ]
    },
    {
     "name": "stderr",
     "output_type": "stream",
     "text": [
      "\r",
      "t:  25%|██████▍                   | 121/485 [00:24<01:20,  4.51it/s, now=None]"
     ]
    },
    {
     "name": "stdout",
     "output_type": "stream",
     "text": [
      "left_curverad: 1110.6503140207774 m , right_curverad: 392.4360735486448 m\n",
      "1046.8642283145462\n",
      "297.40080718235225\n",
      "640.0\n",
      "82.09860134548612\n",
      "Height: 720 , Width: 1280\n"
     ]
    },
    {
     "name": "stderr",
     "output_type": "stream",
     "text": [
      "\r",
      "t:  25%|██████▌                   | 122/485 [00:24<01:19,  4.55it/s, now=None]"
     ]
    },
    {
     "name": "stdout",
     "output_type": "stream",
     "text": [
      "left_curverad: 749.6038963788799 m , right_curverad: 364.71552224659206 m\n",
      "1048.7399581868806\n",
      "298.2728843207067\n",
      "640.0\n",
      "78.12373155381944\n",
      "Height: 720 , Width: 1280\n",
      "left_curverad: 501.3210962006083 m , right_curverad: 357.4831215099082 m\n"
     ]
    },
    {
     "name": "stderr",
     "output_type": "stream",
     "text": [
      "\r",
      "t:  25%|██████▌                   | 123/485 [00:24<01:18,  4.64it/s, now=None]"
     ]
    },
    {
     "name": "stdout",
     "output_type": "stream",
     "text": [
      "1050.7748329387164\n",
      "302.41360373400676\n",
      "640.0\n",
      "74.71533420138888\n",
      "Height: 720 , Width: 1280\n",
      "left_curverad: 230.76616454146176 m , right_curverad: 363.9092334781843 m\n",
      "1049.2924355826863\n",
      "304.8096932443002\n",
      "640.0\n"
     ]
    },
    {
     "name": "stderr",
     "output_type": "stream",
     "text": [
      "\r",
      "t:  26%|██████▋                   | 124/485 [00:24<01:15,  4.79it/s, now=None]"
     ]
    },
    {
     "name": "stdout",
     "output_type": "stream",
     "text": [
      "71.799697265625\n",
      "Height: 720 , Width: 1280\n",
      "left_curverad: 244.15931659404234 m , right_curverad: 340.95556691891414 m\n",
      "1052.8400834697131\n",
      "304.0655262334128\n",
      "640.0\n"
     ]
    },
    {
     "name": "stderr",
     "output_type": "stream",
     "text": [
      "\r",
      "t:  26%|██████▋                   | 125/485 [00:25<01:17,  4.64it/s, now=None]"
     ]
    },
    {
     "name": "stdout",
     "output_type": "stream",
     "text": [
      "69.69267252604166\n",
      "Height: 720 , Width: 1280\n",
      "left_curverad: 182.14595746597283 m , right_curverad: 363.8579543093727 m\n",
      "1047.2134854693873\n",
      "304.4569764490015\n",
      "640.0\n"
     ]
    },
    {
     "name": "stderr",
     "output_type": "stream",
     "text": [
      "\r",
      "t:  26%|██████▊                   | 126/485 [00:25<01:17,  4.66it/s, now=None]"
     ]
    },
    {
     "name": "stdout",
     "output_type": "stream",
     "text": [
      "68.4493088107639\n",
      "Height: 720 , Width: 1280\n",
      "left_curverad: 451.65647752684987 m , right_curverad: 382.2925387814421 m\n",
      "1048.0777294472139\n",
      "302.07225611791876\n",
      "640.0\n"
     ]
    },
    {
     "name": "stderr",
     "output_type": "stream",
     "text": [
      "t:  26%|██████▊                   | 128/485 [00:25<01:14,  4.79it/s, now=None]"
     ]
    },
    {
     "name": "stdout",
     "output_type": "stream",
     "text": [
      "67.16474283854167\n",
      "Height: 720 , Width: 1280\n",
      "left_curverad: 1544.1986102890287 m , right_curverad: 426.37104669367625 m\n",
      "1044.1783231171758\n",
      "301.4012962511611\n",
      "640.0\n",
      "66.29261610243056\n",
      "Height: 720 , Width: 1280\n",
      "left_curverad: 419.1673196644541 m , right_curverad: 372.91881160202735 m\n",
      "1049.5219630815625\n",
      "300.93096866472706\n",
      "640.0\n"
     ]
    },
    {
     "name": "stderr",
     "output_type": "stream",
     "text": [
      "\r",
      "t:  27%|██████▉                   | 129/485 [00:25<01:14,  4.76it/s, now=None]"
     ]
    },
    {
     "name": "stdout",
     "output_type": "stream",
     "text": [
      "64.050126953125\n",
      "Height: 720 , Width: 1280\n",
      "left_curverad: 100.8613332293663 m , right_curverad: 401.2823722694792 m\n",
      "1049.7857367418032\n",
      "303.95385921050433\n",
      "640.0\n"
     ]
    },
    {
     "name": "stderr",
     "output_type": "stream",
     "text": [
      "t:  27%|███████                   | 131/485 [00:26<01:14,  4.76it/s, now=None]"
     ]
    },
    {
     "name": "stdout",
     "output_type": "stream",
     "text": [
      "55.827109375\n",
      "Height: 720 , Width: 1280\n",
      "left_curverad: 92.84259805687485 m , right_curverad: 416.42939163109236 m\n",
      "1050.0829805928906\n",
      "320.31004649002284\n",
      "640.0\n",
      "53.13564453125\n"
     ]
    },
    {
     "name": "stderr",
     "output_type": "stream",
     "text": [
      "\r",
      "t:  27%|███████                   | 132/485 [00:26<01:13,  4.83it/s, now=None]"
     ]
    },
    {
     "name": "stdout",
     "output_type": "stream",
     "text": [
      "Height: 720 , Width: 1280\n",
      "left_curverad: 1419.1106267554267 m , right_curverad: 384.03256282675414 m\n",
      "1050.8556477533602\n",
      "287.6486205506848\n",
      "640.0\n",
      "50.83039279513889\n",
      "Height: 720 , Width: 1280\n"
     ]
    },
    {
     "name": "stderr",
     "output_type": "stream",
     "text": [
      "\r",
      "t:  27%|███████▏                  | 133/485 [00:26<01:14,  4.74it/s, now=None]"
     ]
    },
    {
     "name": "stdout",
     "output_type": "stream",
     "text": [
      "left_curverad: 301.7741788675774 m , right_curverad: 374.59181064921563 m\n",
      "1050.8120599676076\n",
      "275.95979940771593\n",
      "640.0\n",
      "48.90059027777778\n",
      "Height: 720 , Width: 1280\n"
     ]
    },
    {
     "name": "stderr",
     "output_type": "stream",
     "text": [
      "\r",
      "t:  28%|███████▏                  | 134/485 [00:26<01:15,  4.66it/s, now=None]"
     ]
    },
    {
     "name": "stdout",
     "output_type": "stream",
     "text": [
      "left_curverad: 1052.8559883417959 m , right_curverad: 356.17828759444404 m\n",
      "1049.711875900724\n",
      "299.76296855597724\n",
      "640.0\n",
      "50.32832899305556\n",
      "Height: 720 , Width: 1280\n",
      "left_curverad: 1052.8559883417959 m , right_curverad: 356.17828759444404 m\n"
     ]
    },
    {
     "name": "stderr",
     "output_type": "stream",
     "text": [
      "t:  28%|███████▎                  | 136/485 [00:27<01:07,  5.20it/s, now=None]"
     ]
    },
    {
     "name": "stdout",
     "output_type": "stream",
     "text": [
      "1049.711875900724\n",
      "299.76296855597724\n",
      "640.0\n",
      "53.63274956597222\n",
      "Height: 720 , Width: 1280\n",
      "left_curverad: 1052.8559883417959 m , right_curverad: 356.17828759444404 m\n",
      "1049.711875900724\n",
      "299.76296855597724\n",
      "640.0\n",
      "58.54664496527778\n"
     ]
    },
    {
     "name": "stderr",
     "output_type": "stream",
     "text": [
      "\r",
      "t:  28%|███████▎                  | 137/485 [00:27<01:04,  5.38it/s, now=None]"
     ]
    },
    {
     "name": "stdout",
     "output_type": "stream",
     "text": [
      "Height: 720 , Width: 1280\n",
      "left_curverad: 1052.8559883417959 m , right_curverad: 356.17828759444404 m\n",
      "1049.711875900724\n",
      "299.76296855597724\n",
      "640.0\n",
      "62.727787543402776\n",
      "Height: 720 , Width: 1280\n"
     ]
    },
    {
     "name": "stderr",
     "output_type": "stream",
     "text": [
      "\r",
      "t:  28%|███████▍                  | 138/485 [00:27<01:04,  5.34it/s, now=None]"
     ]
    },
    {
     "name": "stdout",
     "output_type": "stream",
     "text": [
      "left_curverad: 1052.8559883417959 m , right_curverad: 356.17828759444404 m\n",
      "1049.711875900724\n",
      "299.76296855597724\n",
      "640.0\n",
      "68.69685655381944\n",
      "Height: 720 , Width: 1280\n",
      "left_curverad:"
     ]
    },
    {
     "name": "stderr",
     "output_type": "stream",
     "text": [
      "\r",
      "t:  29%|███████▍                  | 139/485 [00:27<01:06,  5.23it/s, now=None]"
     ]
    },
    {
     "name": "stdout",
     "output_type": "stream",
     "text": [
      " 1052.8559883417959 m , right_curverad: 356.17828759444404 m\n",
      "1049.711875900724\n",
      "299.76296855597724\n",
      "640.0\n",
      "75.54789605034722\n",
      "Height: 720 , Width: 1280\n"
     ]
    },
    {
     "name": "stderr",
     "output_type": "stream",
     "text": [
      "\r",
      "t:  29%|███████▌                  | 140/485 [00:28<01:15,  4.56it/s, now=None]"
     ]
    },
    {
     "name": "stdout",
     "output_type": "stream",
     "text": [
      "left_curverad: 905.622275656026 m , right_curverad: 1995.6835086286826 m\n",
      "990.4934353331367\n",
      "207.4251473358296\n",
      "640.0\n",
      "83.57845703125\n",
      "Height: 720 , Width: 1280\n"
     ]
    },
    {
     "name": "stderr",
     "output_type": "stream",
     "text": [
      "\r",
      "t:  29%|███████▌                  | 141/485 [00:28<01:23,  4.12it/s, now=None]"
     ]
    },
    {
     "name": "stdout",
     "output_type": "stream",
     "text": [
      "left_curverad: 269.3294823247886 m , right_curverad: 10568.581029932257 m\n",
      "980.299752574689\n",
      "90.87316994546747\n",
      "640.0\n",
      "93.40561089409722\n",
      "Height: 720 , Width: 1280\n"
     ]
    },
    {
     "name": "stderr",
     "output_type": "stream",
     "text": [
      "\r",
      "t:  29%|███████▌                  | 142/485 [00:28<01:28,  3.86it/s, now=None]"
     ]
    },
    {
     "name": "stdout",
     "output_type": "stream",
     "text": [
      "left_curverad: 247.7415350034536 m , right_curverad: 11956.469323721241 m\n",
      "966.9161251367038\n",
      "107.01281851924449\n",
      "640.0\n",
      "103.98721245659722\n",
      "Height: 720 , Width: 1280\n"
     ]
    },
    {
     "name": "stderr",
     "output_type": "stream",
     "text": [
      "\r",
      "t:  29%|███████▋                  | 143/485 [00:29<01:32,  3.70it/s, now=None]"
     ]
    },
    {
     "name": "stdout",
     "output_type": "stream",
     "text": [
      "left_curverad: 1496.2549458510878 m , right_curverad: 10706.683120993715 m\n",
      "959.8086579397236\n",
      "331.8899866384188\n",
      "640.0\n",
      "111.08408528645833\n",
      "Height: 720 , Width: 1280\n"
     ]
    },
    {
     "name": "stderr",
     "output_type": "stream",
     "text": [
      "\r",
      "t:  30%|███████▋                  | 144/485 [00:29<01:35,  3.59it/s, now=None]"
     ]
    },
    {
     "name": "stdout",
     "output_type": "stream",
     "text": [
      "left_curverad: 380.64720467799094 m , right_curverad: 50038.88487804933 m\n",
      "953.0258804600311\n",
      "408.07735896846964\n",
      "640.0\n",
      "114.958759765625\n",
      "Height: 720 , Width: 1280\n"
     ]
    },
    {
     "name": "stderr",
     "output_type": "stream",
     "text": [
      "\r",
      "t:  30%|███████▊                  | 145/485 [00:29<01:38,  3.45it/s, now=None]"
     ]
    },
    {
     "name": "stdout",
     "output_type": "stream",
     "text": [
      "left_curverad: 479.40652780558446 m , right_curverad: 55909.985621794614 m\n",
      "964.0932180318275\n",
      "384.3487447991773\n",
      "640.0\n",
      "117.34731119791667\n",
      "Height: 720 , Width: 1280\n"
     ]
    },
    {
     "name": "stderr",
     "output_type": "stream",
     "text": [
      "\r",
      "t:  30%|███████▊                  | 146/485 [00:29<01:42,  3.30it/s, now=None]"
     ]
    },
    {
     "name": "stdout",
     "output_type": "stream",
     "text": [
      "left_curverad: 391.0112481219853 m , right_curverad: 86050.24671805596 m\n",
      "969.0878624932063\n",
      "399.6468899679428\n",
      "640.0\n",
      "118.69953559027778\n",
      "Height: 720 , Width: 1280\n"
     ]
    },
    {
     "name": "stderr",
     "output_type": "stream",
     "text": [
      "\r",
      "t:  30%|███████▉                  | 147/485 [00:30<01:43,  3.26it/s, now=None]"
     ]
    },
    {
     "name": "stdout",
     "output_type": "stream",
     "text": [
      "left_curverad: 448.2604120020682 m , right_curverad: 104837.66784661952 m\n",
      "979.1604533368803\n",
      "385.39479654401816\n",
      "640.0\n",
      "123.63878038194444\n",
      "Height: 720 , Width: 1280\n"
     ]
    },
    {
     "name": "stderr",
     "output_type": "stream",
     "text": [
      "\r",
      "t:  31%|███████▉                  | 148/485 [00:30<01:42,  3.30it/s, now=None]"
     ]
    },
    {
     "name": "stdout",
     "output_type": "stream",
     "text": [
      "left_curverad: 469.09192050333974 m , right_curverad: 26098.747938064917 m\n",
      "937.9316712388345\n",
      "374.1466018014018\n",
      "640.0\n",
      "128.84171549479166\n",
      "Height: 720 , Width: 1280\n"
     ]
    },
    {
     "name": "stderr",
     "output_type": "stream",
     "text": [
      "\r",
      "t:  31%|███████▉                  | 149/485 [00:30<01:45,  3.18it/s, now=None]"
     ]
    },
    {
     "name": "stdout",
     "output_type": "stream",
     "text": [
      "left_curverad: 392.00840875982647 m , right_curverad: 20802.685368444592 m\n",
      "980.8916579995118\n",
      "381.6591284685977\n",
      "640.0\n",
      "130.96258572048612\n",
      "Height: 720 , Width: 1280\n"
     ]
    },
    {
     "name": "stderr",
     "output_type": "stream",
     "text": [
      "\r",
      "t:  31%|████████                  | 150/485 [00:31<01:47,  3.13it/s, now=None]"
     ]
    },
    {
     "name": "stdout",
     "output_type": "stream",
     "text": [
      "left_curverad: 320.5978837731679 m , right_curverad: 27447.017964770206 m\n",
      "983.89584851182\n",
      "396.08952706941545\n",
      "640.0\n",
      "131.35454210069443\n",
      "Height: 720 , Width: 1280\n"
     ]
    },
    {
     "name": "stderr",
     "output_type": "stream",
     "text": [
      "\r",
      "t:  31%|████████                  | 151/485 [00:31<01:45,  3.18it/s, now=None]"
     ]
    },
    {
     "name": "stdout",
     "output_type": "stream",
     "text": [
      "left_curverad: 294.94766899095686 m , right_curverad: 116775.6352862994 m\n",
      "1001.3995443682661\n",
      "390.7073734049948\n",
      "640.0\n",
      "133.2183713107639\n",
      "Height: 720 , Width: 1280\n"
     ]
    },
    {
     "name": "stderr",
     "output_type": "stream",
     "text": [
      "\r",
      "t:  31%|████████▏                 | 152/485 [00:31<01:45,  3.16it/s, now=None]"
     ]
    },
    {
     "name": "stdout",
     "output_type": "stream",
     "text": [
      "left_curverad: 421.7286924696424 m , right_curverad: 34533.704288811314 m\n",
      "990.1096247589077\n",
      "350.06031057976486\n",
      "640.0\n",
      "134.97109592013888\n",
      "Height: 720 , Width: 1280\n"
     ]
    },
    {
     "name": "stderr",
     "output_type": "stream",
     "text": [
      "\r",
      "t:  32%|████████▏                 | 153/485 [00:32<01:49,  3.03it/s, now=None]"
     ]
    },
    {
     "name": "stdout",
     "output_type": "stream",
     "text": [
      "left_curverad: 476.79007455095996 m , right_curverad: 51280.88120086624 m\n",
      "993.0753632995003\n",
      "338.647000897828\n",
      "640.0\n",
      "137.1375043402778\n",
      "Height: 720 , Width: 1280\n"
     ]
    },
    {
     "name": "stderr",
     "output_type": "stream",
     "text": [
      "\r",
      "t:  32%|████████▎                 | 154/485 [00:32<01:50,  3.01it/s, now=None]"
     ]
    },
    {
     "name": "stdout",
     "output_type": "stream",
     "text": [
      "left_curverad: 456.10087048528544 m , right_curverad: 80636.23936471152 m\n",
      "995.2648791728818\n",
      "336.80698178782654\n",
      "640.0\n",
      "138.5029177517361\n",
      "Height: 720 , Width: 1280\n"
     ]
    },
    {
     "name": "stderr",
     "output_type": "stream",
     "text": [
      "\r",
      "t:  32%|████████▎                 | 155/485 [00:32<01:49,  3.00it/s, now=None]"
     ]
    },
    {
     "name": "stdout",
     "output_type": "stream",
     "text": [
      "left_curverad: 610.6582695509051 m , right_curverad: 48462.794040261666 m\n",
      "999.0309424384548\n",
      "321.42039553569987\n",
      "640.0\n",
      "140.26872938368055\n",
      "Height: 720 , Width: 1280\n"
     ]
    },
    {
     "name": "stderr",
     "output_type": "stream",
     "text": [
      "\r",
      "t:  32%|████████▎                 | 156/485 [00:33<01:47,  3.05it/s, now=None]"
     ]
    },
    {
     "name": "stdout",
     "output_type": "stream",
     "text": [
      "left_curverad: 438.1058557913836 m , right_curverad: 445279.0083305701 m\n",
      "1006.0684697247898\n",
      "331.61072735632473\n",
      "640.0\n",
      "142.42810329861112\n",
      "Height: 720 , Width: 1280\n"
     ]
    },
    {
     "name": "stderr",
     "output_type": "stream",
     "text": [
      "\r",
      "t:  32%|████████▍                 | 157/485 [00:33<01:47,  3.04it/s, now=None]"
     ]
    },
    {
     "name": "stdout",
     "output_type": "stream",
     "text": [
      "left_curverad: 655.6100069541152 m , right_curverad: 8410.058990025367 m\n",
      "1015.6809105485684\n",
      "316.2138188257168\n",
      "640.0\n",
      "144.59724283854166\n",
      "Height: 720 , Width: 1280\n"
     ]
    },
    {
     "name": "stderr",
     "output_type": "stream",
     "text": [
      "\r",
      "t:  33%|████████▍                 | 158/485 [00:33<01:44,  3.13it/s, now=None]"
     ]
    },
    {
     "name": "stdout",
     "output_type": "stream",
     "text": [
      "left_curverad: 396.4404467395653 m , right_curverad: 678.8508044265941 m\n",
      "1032.0241083739631\n",
      "327.54444977990516\n",
      "640.0\n",
      "148.869306640625\n",
      "Height: 720 , Width: 1280\n"
     ]
    },
    {
     "name": "stderr",
     "output_type": "stream",
     "text": [
      "\r",
      "t:  33%|████████▌                 | 159/485 [00:34<01:37,  3.33it/s, now=None]"
     ]
    },
    {
     "name": "stdout",
     "output_type": "stream",
     "text": [
      "left_curverad: 530.9562427647252 m , right_curverad: 327.2032686456757 m\n",
      "1036.7909123840814\n",
      "314.96047667210604\n",
      "640.0\n",
      "149.73944227430556\n",
      "Height: 720 , Width: 1280\n"
     ]
    },
    {
     "name": "stderr",
     "output_type": "stream",
     "text": [
      "\r",
      "t:  33%|████████▌                 | 160/485 [00:34<01:32,  3.53it/s, now=None]"
     ]
    },
    {
     "name": "stdout",
     "output_type": "stream",
     "text": [
      "left_curverad: 411.04327663471776 m , right_curverad: 339.13242520124135 m\n",
      "1032.998962211309\n",
      "316.52055068173\n",
      "640.0\n",
      "150.02168836805555\n",
      "Height: 720 , Width: 1280\n"
     ]
    },
    {
     "name": "stderr",
     "output_type": "stream",
     "text": [
      "\r",
      "t:  33%|████████▋                 | 161/485 [00:34<01:28,  3.65it/s, now=None]"
     ]
    },
    {
     "name": "stdout",
     "output_type": "stream",
     "text": [
      "left_curverad: 506.4838830950642 m , right_curverad: 306.79691145520843 m\n",
      "1049.0962209777401\n",
      "307.8688509389778\n",
      "640.0\n",
      "150.01057725694446\n",
      "Height: 720 , Width: 1280\n"
     ]
    },
    {
     "name": "stderr",
     "output_type": "stream",
     "text": [
      "\r",
      "t:  33%|████████▋                 | 162/485 [00:34<01:31,  3.53it/s, now=None]"
     ]
    },
    {
     "name": "stdout",
     "output_type": "stream",
     "text": [
      "left_curverad: 434.9325049887064 m , right_curverad: 331.55946815380685 m\n",
      "1048.4404026783732\n",
      "308.7107944338035\n",
      "640.0\n",
      "150.3455295138889\n",
      "Height: 720 , Width: 1280\n"
     ]
    },
    {
     "name": "stderr",
     "output_type": "stream",
     "text": [
      "\r",
      "t:  34%|████████▋                 | 163/485 [00:35<01:27,  3.68it/s, now=None]"
     ]
    },
    {
     "name": "stdout",
     "output_type": "stream",
     "text": [
      "left_curverad: 463.7969078305275 m , right_curverad: 362.5387322933112 m\n",
      "1037.4094389670317\n",
      "302.98160961635404\n",
      "640.0\n",
      "149.69798936631943\n",
      "Height: 720 , Width: 1280\n"
     ]
    },
    {
     "name": "stderr",
     "output_type": "stream",
     "text": [
      "\r",
      "t:  34%|████████▊                 | 164/485 [00:35<01:22,  3.88it/s, now=None]"
     ]
    },
    {
     "name": "stdout",
     "output_type": "stream",
     "text": [
      "left_curverad: 502.6909254222903 m , right_curverad: 351.6954203163152 m\n",
      "1036.3135787088825\n",
      "299.31293473056473\n",
      "640.0\n",
      "149.23250651041667\n",
      "Height: 720 , Width: 1280\n"
     ]
    },
    {
     "name": "stderr",
     "output_type": "stream",
     "text": [
      "\r",
      "t:  34%|████████▊                 | 165/485 [00:35<01:19,  4.00it/s, now=None]"
     ]
    },
    {
     "name": "stdout",
     "output_type": "stream",
     "text": [
      "left_curverad: 506.7523075992122 m , right_curverad: 345.5202124703024 m\n",
      "1042.3127650478614\n",
      "300.8363190152443\n",
      "640.0\n",
      "148.96322482638888\n",
      "Height: 720 , Width: 1280\n"
     ]
    },
    {
     "name": "stderr",
     "output_type": "stream",
     "text": [
      "\r",
      "t:  34%|████████▉                 | 166/485 [00:35<01:19,  4.01it/s, now=None]"
     ]
    },
    {
     "name": "stdout",
     "output_type": "stream",
     "text": [
      "left_curverad: 462.735474549377 m , right_curverad: 355.574879943967 m\n",
      "1039.1378390054101\n",
      "300.35408394118974\n",
      "640.0\n",
      "149.01296440972223\n",
      "Height: 720 , Width: 1280\n"
     ]
    },
    {
     "name": "stderr",
     "output_type": "stream",
     "text": [
      "\r",
      "t:  34%|████████▉                 | 167/485 [00:36<01:20,  3.95it/s, now=None]"
     ]
    },
    {
     "name": "stdout",
     "output_type": "stream",
     "text": [
      "left_curverad: 402.74798790448665 m , right_curverad: 350.70256026340866 m\n",
      "1037.0129926993686\n",
      "298.9205758677627\n",
      "640.0\n",
      "149.03465169270834\n",
      "Height: 720 , Width: 1280\n"
     ]
    },
    {
     "name": "stderr",
     "output_type": "stream",
     "text": [
      "\r",
      "t:  35%|█████████                 | 168/485 [00:36<01:18,  4.03it/s, now=None]"
     ]
    },
    {
     "name": "stdout",
     "output_type": "stream",
     "text": [
      "left_curverad: 424.7246279450962 m , right_curverad: 363.52123033011907 m\n",
      "1036.3820900968965\n",
      "296.24993716095264\n",
      "640.0\n",
      "148.4291015625\n",
      "Height: 720 , Width: 1280\n"
     ]
    },
    {
     "name": "stderr",
     "output_type": "stream",
     "text": [
      "\r",
      "t:  35%|█████████                 | 169/485 [00:36<01:16,  4.11it/s, now=None]"
     ]
    },
    {
     "name": "stdout",
     "output_type": "stream",
     "text": [
      "left_curverad: 507.3376974948126 m , right_curverad: 387.12446759632485 m\n",
      "1030.5745380057247\n",
      "292.0130659253593\n",
      "640.0\n",
      "148.34411241319444\n",
      "Height: 720 , Width: 1280\n"
     ]
    },
    {
     "name": "stderr",
     "output_type": "stream",
     "text": [
      "\r",
      "t:  35%|█████████                 | 170/485 [00:36<01:16,  4.11it/s, now=None]"
     ]
    },
    {
     "name": "stdout",
     "output_type": "stream",
     "text": [
      "left_curverad: 569.0073375453311 m , right_curverad: 375.0831196751091 m\n",
      "1032.5334871233445\n",
      "288.0617612948107\n",
      "640.0\n",
      "148.23740559895833\n",
      "Height: 720 , Width: 1280\n"
     ]
    },
    {
     "name": "stderr",
     "output_type": "stream",
     "text": [
      "\r",
      "t:  35%|█████████▏                | 171/485 [00:37<01:36,  3.26it/s, now=None]"
     ]
    },
    {
     "name": "stdout",
     "output_type": "stream",
     "text": [
      "left_curverad: 602.2424921488602 m , right_curverad: 348.39525528921945 m\n",
      "1033.1044819636218\n",
      "288.11149910343346\n",
      "640.0\n",
      "147.877001953125\n"
     ]
    },
    {
     "name": "stderr",
     "output_type": "stream",
     "text": [
      "\r",
      "t:  35%|█████████▏                | 172/485 [00:37<01:35,  3.26it/s, now=None]"
     ]
    },
    {
     "name": "stdout",
     "output_type": "stream",
     "text": [
      "Height: 720 , Width: 1280\n",
      "left_curverad: 896.200685394047 m , right_curverad: 354.8526152378291 m\n",
      "1033.5006051917321\n",
      "284.5262404776264\n",
      "640.0\n",
      "147.48006727430555\n",
      "Height: 720 , Width: 1280\n"
     ]
    },
    {
     "name": "stderr",
     "output_type": "stream",
     "text": [
      "\r",
      "t:  36%|█████████▎                | 173/485 [00:37<01:34,  3.30it/s, now=None]"
     ]
    },
    {
     "name": "stdout",
     "output_type": "stream",
     "text": [
      "left_curverad: 1110.3081854566722 m , right_curverad: 371.86320502283485 m\n",
      "1034.9857734442446\n",
      "280.87141214090866\n",
      "640.0\n",
      "146.79423177083333\n",
      "Height: 720 , Width: 1280\n"
     ]
    },
    {
     "name": "stderr",
     "output_type": "stream",
     "text": [
      "\r",
      "t:  36%|█████████▎                | 174/485 [00:38<01:30,  3.45it/s, now=None]"
     ]
    },
    {
     "name": "stdout",
     "output_type": "stream",
     "text": [
      "left_curverad: 1233.003368670144 m , right_curverad: 378.1271619340059 m\n",
      "1032.93725013869\n",
      "279.10338525455904\n",
      "640.0\n",
      "146.28831705729166\n",
      "Height: 720 , Width: 1280\n"
     ]
    },
    {
     "name": "stderr",
     "output_type": "stream",
     "text": [
      "\r",
      "t:  36%|█████████▍                | 175/485 [00:38<01:24,  3.68it/s, now=None]"
     ]
    },
    {
     "name": "stdout",
     "output_type": "stream",
     "text": [
      "left_curverad: 2144.070583054089 m , right_curverad: 419.7745730509487 m\n",
      "1027.0662746002758\n",
      "274.93889921960664\n",
      "640.0\n",
      "145.82314778645832\n",
      "Height: 720 , Width: 1280\n"
     ]
    },
    {
     "name": "stderr",
     "output_type": "stream",
     "text": [
      "\r",
      "t:  36%|█████████▍                | 176/485 [00:38<01:20,  3.83it/s, now=None]"
     ]
    },
    {
     "name": "stdout",
     "output_type": "stream",
     "text": [
      "left_curverad: 35867.133447662614 m , right_curverad: 469.19109769928366 m\n",
      "1015.4446193163726\n",
      "266.68391908067923\n",
      "640.0\n",
      "145.25291558159722\n",
      "Height: 720 , Width: 1280\n"
     ]
    },
    {
     "name": "stderr",
     "output_type": "stream",
     "text": [
      "\r",
      "t:  36%|█████████▍                | 177/485 [00:38<01:21,  3.76it/s, now=None]"
     ]
    },
    {
     "name": "stdout",
     "output_type": "stream",
     "text": [
      "left_curverad: 657.6948510569941 m , right_curverad: 452.38472255854913 m\n",
      "1023.5813342964333\n",
      "280.01337571126527\n",
      "640.0\n",
      "144.61047526041668\n",
      "Height: 720 , Width: 1280\n"
     ]
    },
    {
     "name": "stderr",
     "output_type": "stream",
     "text": [
      "\r",
      "t:  37%|█████████▌                | 178/485 [00:39<01:22,  3.74it/s, now=None]"
     ]
    },
    {
     "name": "stdout",
     "output_type": "stream",
     "text": [
      "left_curverad: 1233.2940492457847 m , right_curverad: 447.76081720068004 m\n",
      "1024.1959247808672\n",
      "272.7195375499132\n",
      "640.0\n",
      "143.5659353298611\n",
      "Height: 720 , Width: 1280\n"
     ]
    },
    {
     "name": "stderr",
     "output_type": "stream",
     "text": [
      "\r",
      "t:  37%|█████████▌                | 179/485 [00:39<01:23,  3.66it/s, now=None]"
     ]
    },
    {
     "name": "stdout",
     "output_type": "stream",
     "text": [
      "left_curverad: 3951.7672916133665 m , right_curverad: 372.72043844176085 m\n",
      "1032.8310370546324\n",
      "268.845770062552\n",
      "640.0\n",
      "143.1259201388889\n",
      "Height: 720 , Width: 1280\n"
     ]
    },
    {
     "name": "stderr",
     "output_type": "stream",
     "text": [
      "\r",
      "t:  37%|█████████▋                | 180/485 [00:39<01:21,  3.74it/s, now=None]"
     ]
    },
    {
     "name": "stdout",
     "output_type": "stream",
     "text": [
      "left_curverad: 2985.9178968078418 m , right_curverad: 384.61297797166003 m\n",
      "1031.0668718271943\n",
      "269.3406791696978\n",
      "640.0\n",
      "142.69372721354168\n",
      "Height: 720 , Width: 1280\n"
     ]
    },
    {
     "name": "stderr",
     "output_type": "stream",
     "text": [
      "\r",
      "t:  37%|█████████▋                | 181/485 [00:39<01:19,  3.83it/s, now=None]"
     ]
    },
    {
     "name": "stdout",
     "output_type": "stream",
     "text": [
      "left_curverad: 2110.2108214035584 m , right_curverad: 383.8873647201567 m\n",
      "1031.784015711935\n",
      "270.8591067736092\n",
      "640.0\n",
      "141.60036892361111\n",
      "Height: 720 , Width: 1280\n"
     ]
    },
    {
     "name": "stderr",
     "output_type": "stream",
     "text": [
      "\r",
      "t:  38%|█████████▊                | 182/485 [00:40<01:17,  3.93it/s, now=None]"
     ]
    },
    {
     "name": "stdout",
     "output_type": "stream",
     "text": [
      "left_curverad: 663.100574551769 m , right_curverad: 435.3077878979885 m\n",
      "1029.3121170861132\n",
      "279.26441196271327\n",
      "640.0\n",
      "140.89548177083333\n",
      "Height: 720 , Width: 1280\n"
     ]
    },
    {
     "name": "stderr",
     "output_type": "stream",
     "text": [
      "\r",
      "t:  38%|█████████▊                | 183/485 [00:40<01:13,  4.09it/s, now=None]"
     ]
    },
    {
     "name": "stdout",
     "output_type": "stream",
     "text": [
      "left_curverad: 519.6938630287692 m , right_curverad: 383.9356388402089 m\n",
      "1031.2747939786263\n",
      "286.1463358486637\n",
      "640.0\n",
      "140.4527419704861\n",
      "Height: 720 , Width: 1280\n"
     ]
    },
    {
     "name": "stderr",
     "output_type": "stream",
     "text": [
      "\r",
      "t:  38%|█████████▊                | 184/485 [00:40<01:11,  4.19it/s, now=None]"
     ]
    },
    {
     "name": "stdout",
     "output_type": "stream",
     "text": [
      "left_curverad: 610.0934010311331 m , right_curverad: 366.28500292133185 m\n",
      "1030.7293847549097\n",
      "283.3595247731378\n",
      "640.0\n",
      "139.78454535590276\n",
      "Height: 720 , Width: 1280\n"
     ]
    },
    {
     "name": "stderr",
     "output_type": "stream",
     "text": [
      "\r",
      "t:  38%|█████████▉                | 185/485 [00:40<01:12,  4.14it/s, now=None]"
     ]
    },
    {
     "name": "stdout",
     "output_type": "stream",
     "text": [
      "left_curverad: 666.875923611194 m , right_curverad: 388.3231672155707 m\n",
      "1032.7129098074263\n",
      "281.7576473819041\n",
      "640.0\n",
      "139.42947048611111\n",
      "Height: 720 , Width: 1280\n"
     ]
    },
    {
     "name": "stderr",
     "output_type": "stream",
     "text": [
      "\r",
      "t:  38%|█████████▉                | 186/485 [00:41<01:11,  4.16it/s, now=None]"
     ]
    },
    {
     "name": "stdout",
     "output_type": "stream",
     "text": [
      "left_curverad: 635.9825147255206 m , right_curverad: 375.4112970474399 m\n",
      "1032.7748632789192\n",
      "284.0998989655212\n",
      "640.0\n",
      "138.95197916666666\n",
      "Height: 720 , Width: 1280\n"
     ]
    },
    {
     "name": "stderr",
     "output_type": "stream",
     "text": [
      "\r",
      "t:  39%|██████████                | 187/485 [00:41<01:10,  4.26it/s, now=None]"
     ]
    },
    {
     "name": "stdout",
     "output_type": "stream",
     "text": [
      "left_curverad: 575.0686376144488 m , right_curverad: 359.2619006259807 m\n",
      "1034.268722167056\n",
      "284.61053685891625\n",
      "640.0\n",
      "138.2543240017361\n",
      "Height: 720 , Width: 1280\n"
     ]
    },
    {
     "name": "stderr",
     "output_type": "stream",
     "text": [
      "\r",
      "t:  39%|██████████                | 188/485 [00:41<01:08,  4.34it/s, now=None]"
     ]
    },
    {
     "name": "stdout",
     "output_type": "stream",
     "text": [
      "left_curverad: 553.1783054909981 m , right_curverad: 366.0818218108715 m\n",
      "1032.0853490543802\n",
      "284.4880451090937\n",
      "640.0\n",
      "137.21845594618057\n",
      "Height: 720 , Width: 1280\n"
     ]
    },
    {
     "name": "stderr",
     "output_type": "stream",
     "text": [
      "\r",
      "t:  39%|██████████▏               | 189/485 [00:41<01:08,  4.31it/s, now=None]"
     ]
    },
    {
     "name": "stdout",
     "output_type": "stream",
     "text": [
      "left_curverad: 693.542412311934 m , right_curverad: 334.8823543595666 m\n",
      "1030.7110768643756\n",
      "281.63397270059596\n",
      "640.0\n",
      "136.90949761284722\n",
      "Height: 720 , Width: 1280\n"
     ]
    },
    {
     "name": "stderr",
     "output_type": "stream",
     "text": [
      "\r",
      "t:  39%|██████████▏               | 190/485 [00:42<01:09,  4.27it/s, now=None]"
     ]
    },
    {
     "name": "stdout",
     "output_type": "stream",
     "text": [
      "left_curverad: 835.4162897656518 m , right_curverad: 276.9711710909142 m\n",
      "1056.714415546268\n",
      "279.70561938050537\n",
      "640.0\n",
      "136.69203776041667\n",
      "Height: 720 , Width: 1280\n"
     ]
    },
    {
     "name": "stderr",
     "output_type": "stream",
     "text": [
      "\r",
      "t:  39%|██████████▏               | 191/485 [00:42<01:07,  4.33it/s, now=None]"
     ]
    },
    {
     "name": "stdout",
     "output_type": "stream",
     "text": [
      "left_curverad: 863.7191309517622 m , right_curverad: 260.3929385302639 m\n",
      "1059.044474394812\n",
      "279.9101957638861\n",
      "640.0\n",
      "136.1876052517361\n",
      "Height: 720 , Width: 1280\n"
     ]
    },
    {
     "name": "stderr",
     "output_type": "stream",
     "text": [
      "\r",
      "t:  40%|██████████▎               | 192/485 [00:42<01:06,  4.39it/s, now=None]"
     ]
    },
    {
     "name": "stdout",
     "output_type": "stream",
     "text": [
      "left_curverad: 870.8258542364142 m , right_curverad: 274.09220413285084 m\n",
      "1055.636592381048\n",
      "277.26559594046506\n",
      "640.0\n",
      "135.30557508680556\n",
      "Height: 720 , Width: 1280\n"
     ]
    },
    {
     "name": "stderr",
     "output_type": "stream",
     "text": [
      "\r",
      "t:  40%|██████████▎               | 193/485 [00:42<01:05,  4.47it/s, now=None]"
     ]
    },
    {
     "name": "stdout",
     "output_type": "stream",
     "text": [
      "left_curverad: 722.6096913223291 m , right_curverad: 283.45136023993 m\n",
      "1054.3339979993834\n",
      "277.9084602364976\n",
      "640.0\n",
      "134.96887261284724\n",
      "Height: 720 , Width: 1280\n"
     ]
    },
    {
     "name": "stderr",
     "output_type": "stream",
     "text": [
      "\r",
      "t:  40%|██████████▍               | 194/485 [00:42<01:06,  4.38it/s, now=None]"
     ]
    },
    {
     "name": "stdout",
     "output_type": "stream",
     "text": [
      "left_curverad: 668.4495460076823 m , right_curverad: 277.26194258372783 m\n",
      "1050.911091638969\n",
      "279.35463967928536\n",
      "640.0\n",
      "134.89083116319443\n",
      "Height: 720 , Width: 1280\n"
     ]
    },
    {
     "name": "stderr",
     "output_type": "stream",
     "text": [
      "\r",
      "t:  40%|██████████▍               | 195/485 [00:43<01:05,  4.40it/s, now=None]"
     ]
    },
    {
     "name": "stdout",
     "output_type": "stream",
     "text": [
      "left_curverad: 604.0295445438695 m , right_curverad: 260.4063554770733 m\n",
      "1053.02061505296\n",
      "280.74660275244577\n",
      "640.0\n",
      "134.6118695746528\n",
      "Height: 720 , Width: 1280\n"
     ]
    },
    {
     "name": "stderr",
     "output_type": "stream",
     "text": [
      "\r",
      "t:  40%|██████████▌               | 196/485 [00:43<01:04,  4.51it/s, now=None]"
     ]
    },
    {
     "name": "stdout",
     "output_type": "stream",
     "text": [
      "left_curverad: 801.8772314678405 m , right_curverad: 260.51082469004024 m\n",
      "1049.6400664647495\n",
      "279.8477024870638\n",
      "640.0\n",
      "134.59488823784721\n",
      "Height: 720 , Width: 1280\n"
     ]
    },
    {
     "name": "stderr",
     "output_type": "stream",
     "text": [
      "\r",
      "t:  41%|██████████▌               | 197/485 [00:43<01:04,  4.49it/s, now=None]"
     ]
    },
    {
     "name": "stdout",
     "output_type": "stream",
     "text": [
      "left_curverad: 1144.914112319923 m , right_curverad: 251.28839699163763 m\n",
      "1048.4367630490171\n",
      "278.35613987768545\n",
      "640.0\n",
      "133.57997612847223\n",
      "Height: 720 , Width: 1280\n"
     ]
    },
    {
     "name": "stderr",
     "output_type": "stream",
     "text": [
      "\r",
      "t:  41%|██████████▌               | 198/485 [00:43<01:04,  4.42it/s, now=None]"
     ]
    },
    {
     "name": "stdout",
     "output_type": "stream",
     "text": [
      "left_curverad: 929.0123172540589 m , right_curverad: 267.7594525480677 m\n",
      "1043.8946281748035\n",
      "281.08345781469734\n",
      "640.0\n",
      "133.25128363715277\n",
      "Height: 720 , Width: 1280\n"
     ]
    },
    {
     "name": "stderr",
     "output_type": "stream",
     "text": [
      "\r",
      "t:  41%|██████████▋               | 199/485 [00:44<01:04,  4.44it/s, now=None]"
     ]
    },
    {
     "name": "stdout",
     "output_type": "stream",
     "text": [
      "left_curverad: 1017.4703272136585 m , right_curverad: 271.0890072172604 m\n",
      "1044.6321398335274\n",
      "280.62515227121673\n",
      "640.0\n",
      "133.21515950520833\n",
      "Height: 720 , Width: 1280\n"
     ]
    },
    {
     "name": "stderr",
     "output_type": "stream",
     "text": [
      "\r",
      "t:  41%|██████████▋               | 200/485 [00:44<01:04,  4.45it/s, now=None]"
     ]
    },
    {
     "name": "stdout",
     "output_type": "stream",
     "text": [
      "left_curverad: 1101.5766887260618 m , right_curverad: 272.99329976293063 m\n",
      "1044.3012728887936\n",
      "280.3151288048457\n",
      "640.0\n",
      "133.05245008680555\n",
      "Height: 720 , Width: 1280\n"
     ]
    },
    {
     "name": "stderr",
     "output_type": "stream",
     "text": [
      "\r",
      "t:  41%|██████████▊               | 201/485 [00:44<01:02,  4.57it/s, now=None]"
     ]
    },
    {
     "name": "stdout",
     "output_type": "stream",
     "text": [
      "left_curverad: 802.5335408013048 m , right_curverad: 268.50159468325097 m\n",
      "1046.103239215442\n",
      "283.3757673926047\n",
      "640.0\n",
      "132.54594184027778\n",
      "Height: 720 , Width: 1280\n"
     ]
    },
    {
     "name": "stderr",
     "output_type": "stream",
     "text": [
      "\r",
      "t:  42%|██████████▊               | 202/485 [00:44<01:02,  4.55it/s, now=None]"
     ]
    },
    {
     "name": "stdout",
     "output_type": "stream",
     "text": [
      "left_curverad: 668.2570143337736 m , right_curverad: 259.72851356273236 m\n",
      "1049.547174725476\n",
      "285.1029453565103\n",
      "640.0\n",
      "132.37215277777779\n",
      "Height: 720 , Width: 1280\n"
     ]
    },
    {
     "name": "stderr",
     "output_type": "stream",
     "text": [
      "\r",
      "t:  42%|██████████▉               | 203/485 [00:44<01:04,  4.40it/s, now=None]"
     ]
    },
    {
     "name": "stdout",
     "output_type": "stream",
     "text": [
      "left_curverad: 763.1925224160949 m , right_curverad: 243.46312919678604 m\n",
      "1058.9131793219417\n",
      "282.7623504223634\n",
      "640.0\n",
      "131.27627278645832\n",
      "Height: 720 , Width: 1280\n"
     ]
    },
    {
     "name": "stderr",
     "output_type": "stream",
     "text": [
      "\r",
      "t:  42%|██████████▉               | 204/485 [00:45<01:02,  4.47it/s, now=None]"
     ]
    },
    {
     "name": "stdout",
     "output_type": "stream",
     "text": [
      "left_curverad: 534.227520660335 m , right_curverad: 244.00940983190708 m\n",
      "1054.21569819206\n",
      "286.9484074592174\n",
      "640.0\n",
      "130.3488009982639\n",
      "Height: 720 , Width: 1280\n"
     ]
    },
    {
     "name": "stderr",
     "output_type": "stream",
     "text": [
      "\r",
      "t:  42%|██████████▉               | 205/485 [00:45<01:02,  4.51it/s, now=None]"
     ]
    },
    {
     "name": "stdout",
     "output_type": "stream",
     "text": [
      "left_curverad: 413.31412674487547 m , right_curverad: 260.1204616118685 m\n",
      "1046.1101996870912\n",
      "290.34451506014784\n",
      "640.0\n",
      "129.961611328125\n",
      "Height: 720 , Width: 1280\n",
      "left_curverad: 463.8868932020526 m , right_curverad: 249.1551022034906 m\n"
     ]
    },
    {
     "name": "stderr",
     "output_type": "stream",
     "text": [
      "\r",
      "t:  42%|███████████               | 206/485 [00:45<01:00,  4.62it/s, now=None]"
     ]
    },
    {
     "name": "stdout",
     "output_type": "stream",
     "text": [
      "1045.1973596885873\n",
      "289.4253818119339\n",
      "640.0\n",
      "130.1487033420139\n",
      "Height: 720 , Width: 1280\n",
      "left_curverad: 480.23504102022275 m , right_curverad: 251.59709688330568 m\n"
     ]
    },
    {
     "name": "stderr",
     "output_type": "stream",
     "text": [
      "\r",
      "t:  43%|███████████               | 207/485 [00:45<00:59,  4.63it/s, now=None]"
     ]
    },
    {
     "name": "stdout",
     "output_type": "stream",
     "text": [
      "1042.2498209091113\n",
      "289.90845306833927\n",
      "640.0\n",
      "130.174921875\n",
      "Height: 720 , Width: 1280\n",
      "left_curverad: 466.983160421133 m , right_curverad: 252.4545184660646 m\n"
     ]
    },
    {
     "name": "stderr",
     "output_type": "stream",
     "text": [
      "\r",
      "t:  43%|███████████▏              | 208/485 [00:46<01:00,  4.57it/s, now=None]"
     ]
    },
    {
     "name": "stdout",
     "output_type": "stream",
     "text": [
      "1040.7363777563492\n",
      "290.4978846493965\n",
      "640.0\n",
      "130.2653005642361\n",
      "Height: 720 , Width: 1280\n",
      "left_curverad: 410.0950876049461 m , right_curverad: 261.4260609386303 m\n"
     ]
    },
    {
     "name": "stderr",
     "output_type": "stream",
     "text": [
      "\r",
      "t:  43%|███████████▏              | 209/485 [00:46<01:00,  4.58it/s, now=None]"
     ]
    },
    {
     "name": "stdout",
     "output_type": "stream",
     "text": [
      "1039.9231686699059\n",
      "289.9313560857836\n",
      "640.0\n",
      "130.1938943142361\n",
      "Height: 720 , Width: 1280\n",
      "left_curverad: 474.5678139091102 m , right_curverad: 285.52601502839826 m\n"
     ]
    },
    {
     "name": "stderr",
     "output_type": "stream",
     "text": [
      "\r",
      "t:  43%|███████████▎              | 210/485 [00:46<01:00,  4.53it/s, now=None]"
     ]
    },
    {
     "name": "stdout",
     "output_type": "stream",
     "text": [
      "1036.623433423039\n",
      "284.5854952783419\n",
      "640.0\n",
      "130.34912000868056\n",
      "Height: 720 , Width: 1280\n",
      "left_curverad: 464.9974237158837 m , right_curverad: 283.43076462482844 m\n"
     ]
    },
    {
     "name": "stderr",
     "output_type": "stream",
     "text": [
      "\r",
      "t:  44%|███████████▎              | 211/485 [00:46<00:59,  4.57it/s, now=None]"
     ]
    },
    {
     "name": "stdout",
     "output_type": "stream",
     "text": [
      "1036.4938439022987\n",
      "282.7278916446245\n",
      "640.0\n",
      "130.30178059895835\n",
      "Height: 720 , Width: 1280\n",
      "left_curverad: 315.5183404775545 m , right_curverad: 290.39854697403825 m\n"
     ]
    },
    {
     "name": "stderr",
     "output_type": "stream",
     "text": [
      "\r",
      "t:  44%|███████████▎              | 212/485 [00:46<00:59,  4.58it/s, now=None]"
     ]
    },
    {
     "name": "stdout",
     "output_type": "stream",
     "text": [
      "1031.1694783673252\n",
      "286.66709324963733\n",
      "640.0\n",
      "130.7119314236111\n",
      "Height: 720 , Width: 1280\n",
      "left_curverad: 343.532842789202 m , right_curverad: 259.0309231534302 m\n"
     ]
    },
    {
     "name": "stderr",
     "output_type": "stream",
     "text": [
      "\r",
      "t:  44%|███████████▍              | 213/485 [00:47<01:00,  4.51it/s, now=None]"
     ]
    },
    {
     "name": "stdout",
     "output_type": "stream",
     "text": [
      "1029.4767905683732\n",
      "284.1728577906823\n",
      "640.0\n",
      "130.741708984375\n",
      "Height: 720 , Width: 1280\n",
      "left_curverad:"
     ]
    },
    {
     "name": "stderr",
     "output_type": "stream",
     "text": [
      "\r",
      "t:  44%|███████████▍              | 214/485 [00:47<01:00,  4.50it/s, now=None]"
     ]
    },
    {
     "name": "stdout",
     "output_type": "stream",
     "text": [
      " 370.73796823137053 m , right_curverad: 258.69679282661576 m\n",
      "1028.3706604912018\n",
      "283.04509848425425\n",
      "640.0\n",
      "130.730947265625\n",
      "Height: 720 , Width: 1280\n"
     ]
    },
    {
     "name": "stderr",
     "output_type": "stream",
     "text": [
      "\r",
      "t:  44%|███████████▌              | 215/485 [00:47<00:59,  4.55it/s, now=None]"
     ]
    },
    {
     "name": "stdout",
     "output_type": "stream",
     "text": [
      "left_curverad: 397.99158512418785 m , right_curverad: 265.8217744366532 m\n",
      "1029.2450307943477\n",
      "281.31821394392404\n",
      "640.0\n",
      "130.57758138020833\n",
      "Height: 720 , Width: 1280\n",
      "left_curverad: 386.94290258851737 m , right_curverad: 264.4923631325999 m\n"
     ]
    },
    {
     "name": "stderr",
     "output_type": "stream",
     "text": [
      "\r",
      "t:  45%|███████████▌              | 216/485 [00:47<00:58,  4.61it/s, now=None]"
     ]
    },
    {
     "name": "stdout",
     "output_type": "stream",
     "text": [
      "1033.300989392107\n",
      "281.37902406435677\n",
      "640.0\n",
      "130.56613172743056\n",
      "Height: 720 , Width: 1280\n"
     ]
    },
    {
     "name": "stderr",
     "output_type": "stream",
     "text": [
      "\r",
      "t:  45%|███████████▋              | 217/485 [00:47<00:59,  4.50it/s, now=None]"
     ]
    },
    {
     "name": "stdout",
     "output_type": "stream",
     "text": [
      "left_curverad: 408.05226195486324 m , right_curverad: 258.3634261107433 m\n",
      "1041.57587111052\n",
      "279.17132931645835\n",
      "640.0\n",
      "130.56611219618057\n",
      "Height: 720 , Width: 1280\n"
     ]
    },
    {
     "name": "stderr",
     "output_type": "stream",
     "text": [
      "\r",
      "t:  45%|███████████▋              | 218/485 [00:48<00:59,  4.49it/s, now=None]"
     ]
    },
    {
     "name": "stdout",
     "output_type": "stream",
     "text": [
      "left_curverad: 351.8310328279656 m , right_curverad: 266.99336207188276 m\n",
      "1037.950514947414\n",
      "280.7703902999662\n",
      "640.0\n",
      "130.6163617621528\n",
      "Height: 720 , Width: 1280\n"
     ]
    },
    {
     "name": "stderr",
     "output_type": "stream",
     "text": [
      "\r",
      "t:  45%|███████████▋              | 219/485 [00:48<00:59,  4.50it/s, now=None]"
     ]
    },
    {
     "name": "stdout",
     "output_type": "stream",
     "text": [
      "left_curverad: 309.10819106181276 m , right_curverad: 264.38428657395167 m\n",
      "1040.1569976954127\n",
      "282.61782524733314\n",
      "640.0\n",
      "130.51635308159723\n",
      "Height: 720 , Width: 1280\n"
     ]
    },
    {
     "name": "stderr",
     "output_type": "stream",
     "text": [
      "\r",
      "t:  45%|███████████▊              | 220/485 [00:48<00:57,  4.57it/s, now=None]"
     ]
    },
    {
     "name": "stdout",
     "output_type": "stream",
     "text": [
      "left_curverad: 314.57580422005066 m , right_curverad: 259.38972458113113 m\n",
      "1036.5806057222194\n",
      "283.39970543303144\n",
      "640.0\n",
      "130.67338975694443\n",
      "Height: 720 , Width: 1280\n",
      "left_curverad: 362.94278842786423 m , right_curverad: 271.57909509357046 m\n"
     ]
    },
    {
     "name": "stderr",
     "output_type": "stream",
     "text": [
      "\r",
      "t:  46%|███████████▊              | 221/485 [00:48<00:58,  4.54it/s, now=None]"
     ]
    },
    {
     "name": "stdout",
     "output_type": "stream",
     "text": [
      "1036.5922702133453\n",
      "280.44933283877594\n",
      "640.0\n",
      "130.63920247395833\n",
      "Height: 720 , Width: 1280\n",
      "left_curverad: 358.56080135169907 m , right_curverad: 275.42612929427264 m\n"
     ]
    },
    {
     "name": "stderr",
     "output_type": "stream",
     "text": [
      "\r",
      "t:  46%|███████████▉              | 222/485 [00:49<00:58,  4.47it/s, now=None]"
     ]
    },
    {
     "name": "stdout",
     "output_type": "stream",
     "text": [
      "1036.0888518078616\n",
      "279.6429486506195\n",
      "640.0\n",
      "130.69120551215278\n",
      "Height: 720 , Width: 1280\n",
      "left_curverad: 364.40098193569565 m , right_curverad: 298.4895481665781 m\n"
     ]
    },
    {
     "name": "stderr",
     "output_type": "stream",
     "text": [
      "\r",
      "t:  46%|███████████▉              | 223/485 [00:49<00:58,  4.49it/s, now=None]"
     ]
    },
    {
     "name": "stdout",
     "output_type": "stream",
     "text": [
      "1035.7014116733963\n",
      "278.30491280467936\n",
      "640.0\n",
      "130.60079210069443\n",
      "Height: 720 , Width: 1280\n",
      "left_curverad: 448.1874052219295 m , right_curverad: 297.2539685026972 m\n"
     ]
    },
    {
     "name": "stderr",
     "output_type": "stream",
     "text": [
      "\r",
      "t:  46%|████████████              | 224/485 [00:49<00:57,  4.53it/s, now=None]"
     ]
    },
    {
     "name": "stdout",
     "output_type": "stream",
     "text": [
      "1036.1292247879874\n",
      "272.69724560869986\n",
      "640.0\n",
      "130.79797743055556\n",
      "Height: 720 , Width: 1280\n",
      "left_curverad: "
     ]
    },
    {
     "name": "stderr",
     "output_type": "stream",
     "text": [
      "\r",
      "t:  46%|████████████              | 225/485 [00:49<00:57,  4.51it/s, now=None]"
     ]
    },
    {
     "name": "stdout",
     "output_type": "stream",
     "text": [
      "370.409729395144 m , right_curverad: 296.3762792429897 m\n",
      "1036.370842711688\n",
      "276.1078889086109\n",
      "640.0\n",
      "130.83845811631946\n",
      "Height: 720 , Width: 1280\n"
     ]
    },
    {
     "name": "stderr",
     "output_type": "stream",
     "text": [
      "\r",
      "t:  47%|████████████              | 226/485 [00:50<00:58,  4.43it/s, now=None]"
     ]
    },
    {
     "name": "stdout",
     "output_type": "stream",
     "text": [
      "left_curverad: 303.90605712638904 m , right_curverad: 291.3288233679997 m\n",
      "1032.194685114925\n",
      "280.47659632101835\n",
      "640.0\n",
      "130.91686848958332\n",
      "Height: 720 , Width: 1280\n"
     ]
    },
    {
     "name": "stderr",
     "output_type": "stream",
     "text": [
      "\r",
      "t:  47%|████████████▏             | 227/485 [00:50<00:58,  4.43it/s, now=None]"
     ]
    },
    {
     "name": "stdout",
     "output_type": "stream",
     "text": [
      "left_curverad: 369.62998793146164 m , right_curverad: 282.01754035410625 m\n",
      "1030.063575136593\n",
      "278.0229696773117\n",
      "640.0\n",
      "130.8868695746528\n",
      "Height: 720 , Width: 1280\n",
      "left_curverad: 349.40494732895985 m , right_curverad: 283.26680587684655 m\n"
     ]
    },
    {
     "name": "stderr",
     "output_type": "stream",
     "text": [
      "\r",
      "t:  47%|████████████▏             | 228/485 [00:50<00:56,  4.56it/s, now=None]"
     ]
    },
    {
     "name": "stdout",
     "output_type": "stream",
     "text": [
      "1026.3041312108526\n",
      "278.21578687429303\n",
      "640.0\n",
      "130.7265277777778\n",
      "Height: 720 , Width: 1280\n"
     ]
    },
    {
     "name": "stderr",
     "output_type": "stream",
     "text": [
      "\r",
      "t:  47%|████████████▎             | 229/485 [00:50<00:57,  4.48it/s, now=None]"
     ]
    },
    {
     "name": "stdout",
     "output_type": "stream",
     "text": [
      "left_curverad: 435.20192868177315 m , right_curverad: 283.0005195595125 m\n",
      "1027.2357002986446\n",
      "276.9839770862052\n",
      "640.0\n",
      "129.86277452256945\n",
      "Height: 720 , Width: 1280\n"
     ]
    },
    {
     "name": "stderr",
     "output_type": "stream",
     "text": [
      "\r",
      "t:  47%|████████████▎             | 230/485 [00:50<00:57,  4.45it/s, now=None]"
     ]
    },
    {
     "name": "stdout",
     "output_type": "stream",
     "text": [
      "left_curverad: 388.3436696892755 m , right_curverad: 277.22334310422656 m\n",
      "1027.6266218081716\n",
      "277.4170330014523\n",
      "640.0\n",
      "129.65821940104166\n",
      "Height: 720 , Width: 1280\n"
     ]
    },
    {
     "name": "stderr",
     "output_type": "stream",
     "text": [
      "\r",
      "t:  48%|████████████▍             | 231/485 [00:51<00:56,  4.48it/s, now=None]"
     ]
    },
    {
     "name": "stdout",
     "output_type": "stream",
     "text": [
      "left_curverad: 369.24848380540556 m , right_curverad: 258.8243684341334 m\n",
      "1033.2898960913756\n",
      "278.140691372\n",
      "640.0\n",
      "129.28189236111112\n",
      "Height: 720 , Width: 1280\n",
      "left_curverad: 388.1262101363225 m , right_curverad: 252.31690398540013 m\n"
     ]
    },
    {
     "name": "stderr",
     "output_type": "stream",
     "text": [
      "\r",
      "t:  48%|████████████▍             | 232/485 [00:51<00:55,  4.56it/s, now=None]"
     ]
    },
    {
     "name": "stdout",
     "output_type": "stream",
     "text": [
      "1037.0235568536725\n",
      "277.0978665841012\n",
      "640.0\n",
      "129.01689453125\n",
      "Height: 720 , Width: 1280\n",
      "left_curverad: 374.5579880379373 m , right_curverad: 279.7466881695123 m\n"
     ]
    },
    {
     "name": "stderr",
     "output_type": "stream",
     "text": [
      "\r",
      "t:  48%|████████████▍             | 233/485 [00:51<00:54,  4.61it/s, now=None]"
     ]
    },
    {
     "name": "stdout",
     "output_type": "stream",
     "text": [
      "1034.034377030573\n",
      "276.48476600379695\n",
      "640.0\n",
      "128.71735134548612\n",
      "Height: 720 , Width: 1280\n",
      "left_curverad: 315.5514325966882 m , right_curverad: 267.0719779073958 m\n"
     ]
    },
    {
     "name": "stderr",
     "output_type": "stream",
     "text": [
      "\r",
      "t:  48%|████████████▌             | 234/485 [00:51<00:54,  4.57it/s, now=None]"
     ]
    },
    {
     "name": "stdout",
     "output_type": "stream",
     "text": [
      "1032.8521820661306\n",
      "279.21552054637493\n",
      "640.0\n",
      "128.71757703993055\n",
      "Height: 720 , Width: 1280\n",
      "left_curverad: 406.3180679838572 m , right_curverad: 285.121867459407 m\n"
     ]
    },
    {
     "name": "stderr",
     "output_type": "stream",
     "text": [
      "\r",
      "t:  48%|████████████▌             | 235/485 [00:51<00:55,  4.48it/s, now=None]"
     ]
    },
    {
     "name": "stdout",
     "output_type": "stream",
     "text": [
      "1032.067674086336\n",
      "272.84579526139856\n",
      "640.0\n",
      "128.55345160590278\n",
      "Height: 720 , Width: 1280\n",
      "left_curverad: 447.8410006784071 m , right_curverad: 277.4048039603591 m\n"
     ]
    },
    {
     "name": "stderr",
     "output_type": "stream",
     "text": [
      "\r",
      "t:  49%|████████████▋             | 236/485 [00:52<00:54,  4.56it/s, now=None]"
     ]
    },
    {
     "name": "stdout",
     "output_type": "stream",
     "text": [
      "1033.23891397963\n",
      "269.2479752974751\n",
      "640.0\n",
      "128.41674913194444\n",
      "Height: 720 , Width: 1280\n",
      "left_curverad: 421.8410829951357 m , right_curverad: 302.7625789123272 m\n"
     ]
    },
    {
     "name": "stderr",
     "output_type": "stream",
     "text": [
      "\r",
      "t:  49%|████████████▋             | 237/485 [00:52<00:54,  4.56it/s, now=None]"
     ]
    },
    {
     "name": "stdout",
     "output_type": "stream",
     "text": [
      "1031.5877164629783\n",
      "271.0956157229838\n",
      "640.0\n",
      "128.53330946180554\n",
      "Height: 720 , Width: 1280\n",
      "left_curverad: 498.07536799869956 m , right_curverad: 286.96879906414085 m\n"
     ]
    },
    {
     "name": "stderr",
     "output_type": "stream",
     "text": [
      "\r",
      "t:  49%|████████████▊             | 238/485 [00:52<00:54,  4.56it/s, now=None]"
     ]
    },
    {
     "name": "stdout",
     "output_type": "stream",
     "text": [
      "1025.4172853553819\n",
      "268.22795317810204\n",
      "640.0\n",
      "128.37599609375\n",
      "Height: 720 , Width: 1280\n",
      "left_curverad: 572.895103271097 m , right_curverad: 277.79407998007923 m\n"
     ]
    },
    {
     "name": "stderr",
     "output_type": "stream",
     "text": [
      "\r",
      "t:  49%|████████████▊             | 239/485 [00:52<00:54,  4.54it/s, now=None]"
     ]
    },
    {
     "name": "stdout",
     "output_type": "stream",
     "text": [
      "1024.9267019716895\n",
      "267.9699765202581\n",
      "640.0\n",
      "128.48809244791667\n",
      "Height: 720 , Width: 1280\n",
      "left_curverad: 521.8340153431135 m , right_curverad: 274.38738100477144 m\n"
     ]
    },
    {
     "name": "stderr",
     "output_type": "stream",
     "text": [
      "\r",
      "t:  49%|████████████▊             | 240/485 [00:53<00:53,  4.55it/s, now=None]"
     ]
    },
    {
     "name": "stdout",
     "output_type": "stream",
     "text": [
      "1021.7970977986828\n",
      "273.2905582131926\n",
      "640.0\n",
      "128.39227322048612\n",
      "Height: 720 , Width: 1280\n",
      "left_curverad: 607.5543851935557 m , right_curverad: 280.85741109907127 m\n"
     ]
    },
    {
     "name": "stderr",
     "output_type": "stream",
     "text": [
      "\r",
      "t:  50%|████████████▉             | 241/485 [00:53<00:53,  4.56it/s, now=None]"
     ]
    },
    {
     "name": "stdout",
     "output_type": "stream",
     "text": [
      "1022.892940784638\n",
      "273.8718932536429\n",
      "640.0\n",
      "127.93540473090277\n",
      "Height: 720 , Width: 1280\n",
      "left_curverad: 604.2836878825227 m , right_curverad: 293.9413906737938 m\n"
     ]
    },
    {
     "name": "stderr",
     "output_type": "stream",
     "text": [
      "\r",
      "t:  50%|████████████▉             | 242/485 [00:53<00:53,  4.54it/s, now=None]"
     ]
    },
    {
     "name": "stdout",
     "output_type": "stream",
     "text": [
      "1021.6526019676456\n",
      "272.9772501713302\n",
      "640.0\n",
      "127.79790473090277\n",
      "Height: 720 , Width: 1280\n",
      "left_curverad: 645.444466608557 m , right_curverad: 276.0087446693688 m\n"
     ]
    },
    {
     "name": "stderr",
     "output_type": "stream",
     "text": [
      "\r",
      "t:  50%|█████████████             | 243/485 [00:53<00:52,  4.58it/s, now=None]"
     ]
    },
    {
     "name": "stdout",
     "output_type": "stream",
     "text": [
      "1029.2363926776313\n",
      "272.81648437793046\n",
      "640.0\n",
      "127.60351236979167\n",
      "Height: 720 , Width: 1280\n",
      "left_curverad: 614.4166641212522 m , right_curverad: 234.67734944456868 m\n"
     ]
    },
    {
     "name": "stderr",
     "output_type": "stream",
     "text": [
      "\r",
      "t:  50%|█████████████             | 244/485 [00:53<00:52,  4.60it/s, now=None]"
     ]
    },
    {
     "name": "stdout",
     "output_type": "stream",
     "text": [
      "1046.9703271329333\n",
      "272.20490287397627\n",
      "640.0\n",
      "127.39357313368056\n",
      "Height: 720 , Width: 1280\n",
      "left_curverad: 771.9914383237281 m , right_curverad: 256.54101221195333 m\n"
     ]
    },
    {
     "name": "stderr",
     "output_type": "stream",
     "text": [
      "\r",
      "t:  51%|█████████████▏            | 245/485 [00:54<00:52,  4.54it/s, now=None]"
     ]
    },
    {
     "name": "stdout",
     "output_type": "stream",
     "text": [
      "1042.3963660863594\n",
      "270.29927261435535\n",
      "640.0\n",
      "127.1476171875\n",
      "Height: 720 , Width: 1280\n"
     ]
    },
    {
     "name": "stderr",
     "output_type": "stream",
     "text": [
      "\r",
      "t:  51%|█████████████▏            | 246/485 [00:54<00:53,  4.48it/s, now=None]"
     ]
    },
    {
     "name": "stdout",
     "output_type": "stream",
     "text": [
      "left_curverad: 993.2255437331798 m , right_curverad: 266.25170206665854 m\n",
      "1042.9320089613207\n",
      "268.6268388524153\n",
      "640.0\n",
      "126.88895616319445\n",
      "Height: 720 , Width: 1280\n"
     ]
    },
    {
     "name": "stderr",
     "output_type": "stream",
     "text": [
      "\r",
      "t:  51%|█████████████▏            | 247/485 [00:54<00:52,  4.54it/s, now=None]"
     ]
    },
    {
     "name": "stdout",
     "output_type": "stream",
     "text": [
      "left_curverad: 1107.8259105988486 m , right_curverad: 285.85012801856493 m\n",
      "1039.9230686200099\n",
      "270.1453878369757\n",
      "640.0\n",
      "126.68845594618055\n",
      "Height: 720 , Width: 1280\n",
      "left_curverad: 1054.3885118738253 m , right_curverad: 277.0463903807567 m\n"
     ]
    },
    {
     "name": "stderr",
     "output_type": "stream",
     "text": [
      "\r",
      "t:  51%|█████████████▎            | 248/485 [00:54<00:50,  4.66it/s, now=None]"
     ]
    },
    {
     "name": "stdout",
     "output_type": "stream",
     "text": [
      "1041.1944566947716\n",
      "274.5491592719165\n",
      "640.0\n",
      "126.5661501736111\n",
      "Height: 720 , Width: 1280\n",
      "left_curverad: 967.2646710577231 m , right_curverad: 276.00101981697935 m\n"
     ]
    },
    {
     "name": "stderr",
     "output_type": "stream",
     "text": [
      "\r",
      "t:  51%|█████████████▎            | 249/485 [00:55<00:52,  4.53it/s, now=None]"
     ]
    },
    {
     "name": "stdout",
     "output_type": "stream",
     "text": [
      "1040.3074652519176\n",
      "275.30571614233884\n",
      "640.0\n",
      "126.44611219618055\n",
      "Height: 720 , Width: 1280\n",
      "left_curverad: 872.4628250616415 m , right_curverad: 271.3206620764638 m\n"
     ]
    },
    {
     "name": "stderr",
     "output_type": "stream",
     "text": [
      "\r",
      "t:  52%|█████████████▍            | 250/485 [00:55<00:51,  4.52it/s, now=None]"
     ]
    },
    {
     "name": "stdout",
     "output_type": "stream",
     "text": [
      "1040.6818438343237\n",
      "278.79093680063806\n",
      "640.0\n",
      "126.21428927951389\n",
      "Height: 720 , Width: 1280\n",
      "left_curverad: 1145.368001134971 m , right_curverad: 288.218634031008 m\n"
     ]
    },
    {
     "name": "stderr",
     "output_type": "stream",
     "text": [
      "\r",
      "t:  52%|█████████████▍            | 251/485 [00:55<00:51,  4.56it/s, now=None]"
     ]
    },
    {
     "name": "stdout",
     "output_type": "stream",
     "text": [
      "1040.0981228127146\n",
      "278.5698304973714\n",
      "640.0\n",
      "126.21348198784722\n",
      "Height: 720 , Width: 1280\n",
      "left_curverad: 1503.2191300794932 m , right_curverad: 267.88281975057964 m\n"
     ]
    },
    {
     "name": "stderr",
     "output_type": "stream",
     "text": [
      "\r",
      "t:  52%|█████████████▌            | 252/485 [00:55<00:50,  4.65it/s, now=None]"
     ]
    },
    {
     "name": "stdout",
     "output_type": "stream",
     "text": [
      "1038.9538311554024\n",
      "279.0909473632217\n",
      "640.0\n",
      "126.21338107638888\n",
      "Height: 720 , Width: 1280\n",
      "left_curverad: 3414.898691008822 m , right_curverad: 280.8456390198406 m\n"
     ]
    },
    {
     "name": "stderr",
     "output_type": "stream",
     "text": [
      "\r",
      "t:  52%|█████████████▌            | 253/485 [00:55<00:51,  4.54it/s, now=None]"
     ]
    },
    {
     "name": "stdout",
     "output_type": "stream",
     "text": [
      "1038.3755182676796\n",
      "278.6761191929318\n",
      "640.0\n",
      "126.19196180555555\n",
      "Height: 720 , Width: 1280\n",
      "left_curverad: 1744.6351544443312 m , right_curverad: 280.63356480805095 m\n"
     ]
    },
    {
     "name": "stderr",
     "output_type": "stream",
     "text": [
      "\r",
      "t:  52%|█████████████▌            | 254/485 [00:56<00:51,  4.53it/s, now=None]"
     ]
    },
    {
     "name": "stdout",
     "output_type": "stream",
     "text": [
      "1036.4397975721658\n",
      "281.40041592071054\n",
      "640.0\n",
      "126.03793836805555\n",
      "Height: 720 , Width: 1280\n",
      "left_curverad: 2229.4668243262563 m , right_curverad: 297.99679269754324 m\n"
     ]
    },
    {
     "name": "stderr",
     "output_type": "stream",
     "text": [
      "\r",
      "t:  53%|█████████████▋            | 255/485 [00:56<00:50,  4.54it/s, now=None]"
     ]
    },
    {
     "name": "stdout",
     "output_type": "stream",
     "text": [
      "1038.523470556518\n",
      "282.162046180374\n",
      "640.0\n",
      "125.87201388888889\n",
      "Height: 720 , Width: 1280\n",
      "left_curverad: 1407.483141793906 m , right_curverad: 293.52737366375044 m\n"
     ]
    },
    {
     "name": "stderr",
     "output_type": "stream",
     "text": [
      "\r",
      "t:  53%|█████████████▋            | 256/485 [00:56<00:49,  4.59it/s, now=None]"
     ]
    },
    {
     "name": "stdout",
     "output_type": "stream",
     "text": [
      "1040.959324072408\n",
      "281.6763893084816\n",
      "640.0\n",
      "125.69692274305555\n",
      "Height: 720 , Width: 1280\n",
      "left_curverad: 645.2189086977169 m , right_curverad: 300.7692848392223 m\n"
     ]
    },
    {
     "name": "stderr",
     "output_type": "stream",
     "text": [
      "\r",
      "t:  53%|█████████████▊            | 257/485 [00:56<00:50,  4.55it/s, now=None]"
     ]
    },
    {
     "name": "stdout",
     "output_type": "stream",
     "text": [
      "1047.735491405734\n",
      "284.99434197964536\n",
      "640.0\n",
      "125.58858615451389\n",
      "Height: 720 , Width: 1280\n"
     ]
    },
    {
     "name": "stderr",
     "output_type": "stream",
     "text": [
      "\r",
      "t:  53%|█████████████▊            | 258/485 [00:57<00:50,  4.47it/s, now=None]"
     ]
    },
    {
     "name": "stdout",
     "output_type": "stream",
     "text": [
      "left_curverad: 516.1490076350892 m , right_curverad: 255.99073515814013 m\n",
      "1064.1380874659076\n",
      "284.3859107828075\n",
      "640.0\n",
      "125.60525065104167\n",
      "Height: 720 , Width: 1280\n",
      "left_curverad: 4665.535710656712 m , right_curverad: 254.6661618567547 m\n"
     ]
    },
    {
     "name": "stderr",
     "output_type": "stream",
     "text": [
      "\r",
      "t:  53%|█████████████▉            | 259/485 [00:57<00:50,  4.49it/s, now=None]"
     ]
    },
    {
     "name": "stdout",
     "output_type": "stream",
     "text": [
      "1062.75439791144\n",
      "273.37820587191993\n",
      "640.0\n",
      "125.6945627170139\n",
      "Height: 720 , Width: 1280\n"
     ]
    },
    {
     "name": "stderr",
     "output_type": "stream",
     "text": [
      "\r",
      "t:  54%|█████████████▉            | 260/485 [00:57<00:52,  4.28it/s, now=None]"
     ]
    },
    {
     "name": "stdout",
     "output_type": "stream",
     "text": [
      "left_curverad: 1052.1780171007515 m , right_curverad: 269.2714602198365 m\n",
      "1057.0308470894388\n",
      "275.57177247690305\n",
      "640.0\n",
      "125.88571614583333\n",
      "Height: 720 , Width: 1280\n"
     ]
    },
    {
     "name": "stderr",
     "output_type": "stream",
     "text": [
      "\r",
      "t:  54%|█████████████▉            | 261/485 [00:57<00:52,  4.25it/s, now=None]"
     ]
    },
    {
     "name": "stdout",
     "output_type": "stream",
     "text": [
      "left_curverad: 873.736252384173 m , right_curverad: 261.82375759957097 m\n",
      "1056.455144491261\n",
      "275.5730052580212\n",
      "640.0\n",
      "126.2062814670139\n",
      "Height: 720 , Width: 1280\n"
     ]
    },
    {
     "name": "stderr",
     "output_type": "stream",
     "text": [
      "\r",
      "t:  54%|██████████████            | 262/485 [00:57<00:51,  4.33it/s, now=None]"
     ]
    },
    {
     "name": "stdout",
     "output_type": "stream",
     "text": [
      "left_curverad: 470.35169973887116 m , right_curverad: 260.4971236380824 m\n",
      "1051.9595778541664\n",
      "279.8162450646719\n",
      "640.0\n",
      "126.48385959201389\n",
      "Height: 720 , Width: 1280\n"
     ]
    },
    {
     "name": "stderr",
     "output_type": "stream",
     "text": [
      "\r",
      "t:  54%|██████████████            | 263/485 [00:58<00:50,  4.42it/s, now=None]"
     ]
    },
    {
     "name": "stdout",
     "output_type": "stream",
     "text": [
      "left_curverad: 416.8189148918109 m , right_curverad: 247.56473722786313 m\n",
      "1054.197098857166\n",
      "280.4767520563496\n",
      "640.0\n",
      "126.85873589409722\n",
      "Height: 720 , Width: 1280\n",
      "left_curverad: 365.55922734177847 m , right_curverad: 244.2118130700844 m\n"
     ]
    },
    {
     "name": "stderr",
     "output_type": "stream",
     "text": [
      "\r",
      "t:  54%|██████████████▏           | 264/485 [00:58<00:49,  4.51it/s, now=None]"
     ]
    },
    {
     "name": "stdout",
     "output_type": "stream",
     "text": [
      "1051.3618680425188\n",
      "283.9610248007334\n",
      "640.0\n",
      "127.22375325520834\n",
      "Height: 720 , Width: 1280\n",
      "left_curverad: 338.0958136171586 m , right_curverad: 236.41507436233107 m\n"
     ]
    },
    {
     "name": "stderr",
     "output_type": "stream",
     "text": [
      "\r",
      "t:  55%|██████████████▏           | 265/485 [00:58<00:48,  4.50it/s, now=None]"
     ]
    },
    {
     "name": "stdout",
     "output_type": "stream",
     "text": [
      "1051.9477668739191\n",
      "285.7072697059712\n",
      "640.0\n",
      "127.61994032118055\n",
      "Height: 720 , Width: 1280\n",
      "left_curverad: 300.7572418490697 m , right_curverad: 252.78470614153298 m\n"
     ]
    },
    {
     "name": "stderr",
     "output_type": "stream",
     "text": [
      "\r",
      "t:  55%|██████████████▎           | 266/485 [00:58<00:48,  4.49it/s, now=None]"
     ]
    },
    {
     "name": "stdout",
     "output_type": "stream",
     "text": [
      "1048.5423938876029\n",
      "287.7160269450171\n",
      "640.0\n",
      "127.97689453125\n",
      "Height: 720 , Width: 1280\n"
     ]
    },
    {
     "name": "stderr",
     "output_type": "stream",
     "text": [
      "\r",
      "t:  55%|██████████████▎           | 267/485 [00:59<00:50,  4.33it/s, now=None]"
     ]
    },
    {
     "name": "stdout",
     "output_type": "stream",
     "text": [
      "left_curverad: 306.71021183647025 m , right_curverad: 273.93541461943954 m\n",
      "1045.998265385997\n",
      "287.21401269908927\n",
      "640.0\n",
      "128.39060655381945\n",
      "Height: 720 , Width: 1280\n"
     ]
    },
    {
     "name": "stderr",
     "output_type": "stream",
     "text": [
      "\r",
      "t:  55%|██████████████▎           | 268/485 [00:59<00:49,  4.38it/s, now=None]"
     ]
    },
    {
     "name": "stdout",
     "output_type": "stream",
     "text": [
      "left_curverad: 335.0819522248119 m , right_curverad: 278.1705796916276 m\n",
      "1045.4496303441254\n",
      "285.04253449587986\n",
      "640.0\n",
      "128.59413953993055\n",
      "Height: 720 , Width: 1280\n"
     ]
    },
    {
     "name": "stderr",
     "output_type": "stream",
     "text": [
      "\r",
      "t:  55%|██████████████▍           | 269/485 [00:59<00:48,  4.48it/s, now=None]"
     ]
    },
    {
     "name": "stdout",
     "output_type": "stream",
     "text": [
      "left_curverad: 373.3654721825524 m , right_curverad: 288.67683865214553 m\n",
      "1044.9047408482854\n",
      "282.20283425542453\n",
      "640.0\n",
      "128.80627278645832\n",
      "Height: 720 , Width: 1280\n"
     ]
    },
    {
     "name": "stderr",
     "output_type": "stream",
     "text": [
      "\r",
      "t:  56%|██████████████▍           | 270/485 [00:59<00:48,  4.46it/s, now=None]"
     ]
    },
    {
     "name": "stdout",
     "output_type": "stream",
     "text": [
      "left_curverad: 342.99444329043394 m , right_curverad: 299.4053463994422 m\n",
      "1044.9876455328977\n",
      "282.40318536704604\n",
      "640.0\n",
      "129.10947157118056\n",
      "Height: 720 , Width: 1280\n"
     ]
    },
    {
     "name": "stderr",
     "output_type": "stream",
     "text": [
      "\r",
      "t:  56%|██████████████▌           | 271/485 [00:59<00:47,  4.47it/s, now=None]"
     ]
    },
    {
     "name": "stdout",
     "output_type": "stream",
     "text": [
      "left_curverad: 362.47244114673197 m , right_curverad: 297.25556459729285 m\n",
      "1048.2037056332497\n",
      "278.5356088030783\n",
      "640.0\n",
      "129.42885959201388\n",
      "Height: 720 , Width: 1280\n"
     ]
    },
    {
     "name": "stderr",
     "output_type": "stream",
     "text": [
      "\r",
      "t:  56%|██████████████▌           | 272/485 [01:00<00:47,  4.51it/s, now=None]"
     ]
    },
    {
     "name": "stdout",
     "output_type": "stream",
     "text": [
      "left_curverad: 336.5782923112774 m , right_curverad: 284.9633240367685 m\n",
      "1048.9499651693625\n",
      "276.97656378416514\n",
      "640.0\n",
      "130.20047200520833\n",
      "Height: 720 , Width: 1280\n"
     ]
    },
    {
     "name": "stderr",
     "output_type": "stream",
     "text": [
      "\r",
      "t:  56%|██████████████▋           | 273/485 [01:00<00:46,  4.56it/s, now=None]"
     ]
    },
    {
     "name": "stdout",
     "output_type": "stream",
     "text": [
      "left_curverad: 299.70495344854663 m , right_curverad: 279.0432535617307 m\n",
      "1047.1777620054008\n",
      "278.63039125604155\n",
      "640.0\n",
      "130.7875412326389\n",
      "Height: 720 , Width: 1280\n",
      "left_curverad: 298.5989190928081 m , right_curverad: 288.3960271146306 m\n"
     ]
    },
    {
     "name": "stderr",
     "output_type": "stream",
     "text": [
      "\r",
      "t:  56%|██████████████▋           | 274/485 [01:00<00:46,  4.52it/s, now=None]"
     ]
    },
    {
     "name": "stdout",
     "output_type": "stream",
     "text": [
      "1043.1219234754417\n",
      "277.8637354416437\n",
      "640.0\n",
      "131.420888671875\n",
      "Height: 720 , Width: 1280\n",
      "left_curverad: 311.0031293537998 m , right_curverad: 281.07258052841115 m\n"
     ]
    },
    {
     "name": "stderr",
     "output_type": "stream",
     "text": [
      "\r",
      "t:  57%|██████████████▋           | 275/485 [01:00<00:46,  4.55it/s, now=None]"
     ]
    },
    {
     "name": "stdout",
     "output_type": "stream",
     "text": [
      "1042.0448170430416\n",
      "279.24924617925876\n",
      "640.0\n",
      "131.94359266493055\n",
      "Height: 720 , Width: 1280\n",
      "left_curverad: 307.9612887295828 m , right_curverad: 264.4279113774361 m\n"
     ]
    },
    {
     "name": "stderr",
     "output_type": "stream",
     "text": [
      "\r",
      "t:  57%|██████████████▊           | 276/485 [01:01<00:45,  4.60it/s, now=None]"
     ]
    },
    {
     "name": "stdout",
     "output_type": "stream",
     "text": [
      "1042.3683566813665\n",
      "280.1083597092691\n",
      "640.0\n",
      "132.40986979166667\n",
      "Height: 720 , Width: 1280\n",
      "left_curverad: 317.95963311833736 m , right_curverad: 268.09404109892296 m\n"
     ]
    },
    {
     "name": "stderr",
     "output_type": "stream",
     "text": [
      "\r",
      "t:  57%|██████████████▊           | 277/485 [01:01<00:45,  4.53it/s, now=None]"
     ]
    },
    {
     "name": "stdout",
     "output_type": "stream",
     "text": [
      "1039.0512463289274\n",
      "280.652199598168\n",
      "640.0\n",
      "132.79565755208333\n",
      "Height: 720 , Width: 1280\n",
      "left_curverad: 327.47263219510893 m , right_curverad: 267.23743560101224 m\n"
     ]
    },
    {
     "name": "stderr",
     "output_type": "stream",
     "text": [
      "\r",
      "t:  57%|██████████████▉           | 278/485 [01:01<00:45,  4.59it/s, now=None]"
     ]
    },
    {
     "name": "stdout",
     "output_type": "stream",
     "text": [
      "1037.6263814929944\n",
      "282.0615737738421\n",
      "640.0\n",
      "133.3528298611111\n",
      "Height: 720 , Width: 1280\n",
      "left_curverad: 295.42629578582194 m , right_curverad: 262.1908769165939 m\n",
      "1035.5665790745243\n",
      "287.9062941672908\n",
      "640.0\n"
     ]
    },
    {
     "name": "stderr",
     "output_type": "stream",
     "text": [
      "\r",
      "t:  58%|██████████████▉           | 279/485 [01:01<00:44,  4.67it/s, now=None]"
     ]
    },
    {
     "name": "stdout",
     "output_type": "stream",
     "text": [
      "133.86140516493055\n",
      "Height: 720 , Width: 1280\n",
      "left_curverad: 277.9980262400415 m , right_curverad: 272.0518583240429 m\n",
      "1032.4389026772508\n",
      "290.3167967046269\n",
      "640.0\n"
     ]
    },
    {
     "name": "stderr",
     "output_type": "stream",
     "text": [
      "\r",
      "t:  58%|███████████████           | 280/485 [01:01<00:44,  4.62it/s, now=None]"
     ]
    },
    {
     "name": "stdout",
     "output_type": "stream",
     "text": [
      "134.2522439236111\n",
      "Height: 720 , Width: 1280\n",
      "left_curverad: 280.2709566969441 m , right_curverad: 257.7191270905025 m\n",
      "1030.9138024818117\n",
      "292.7903136012222\n",
      "640.0\n"
     ]
    },
    {
     "name": "stderr",
     "output_type": "stream",
     "text": [
      "\r",
      "t:  58%|███████████████           | 281/485 [01:02<00:43,  4.68it/s, now=None]"
     ]
    },
    {
     "name": "stdout",
     "output_type": "stream",
     "text": [
      "134.49683702256945\n",
      "Height: 720 , Width: 1280\n",
      "left_curverad: 305.365379500361 m , right_curverad: 270.3970126218985 m\n",
      "1029.6651144072778\n",
      "291.90349198594436\n",
      "640.0\n"
     ]
    },
    {
     "name": "stderr",
     "output_type": "stream",
     "text": [
      "\r",
      "t:  58%|███████████████           | 282/485 [01:02<00:44,  4.60it/s, now=None]"
     ]
    },
    {
     "name": "stdout",
     "output_type": "stream",
     "text": [
      "134.47336371527777\n",
      "Height: 720 , Width: 1280\n",
      "left_curverad: 315.2261688716309 m , right_curverad: 276.41802200408694 m\n",
      "1032.0646507155768\n",
      "291.64653400953455\n",
      "640.0\n"
     ]
    },
    {
     "name": "stderr",
     "output_type": "stream",
     "text": [
      "\r",
      "t:  58%|███████████████▏          | 283/485 [01:02<00:43,  4.69it/s, now=None]"
     ]
    },
    {
     "name": "stdout",
     "output_type": "stream",
     "text": [
      "134.57289930555555\n",
      "Height: 720 , Width: 1280\n",
      "left_curverad: 355.159262761182 m , right_curverad: 285.4030297769828 m\n",
      "1033.0802502243018\n",
      "289.881029072485\n",
      "640.0\n"
     ]
    },
    {
     "name": "stderr",
     "output_type": "stream",
     "text": [
      "\r",
      "t:  59%|███████████████▏          | 284/485 [01:02<00:41,  4.79it/s, now=None]"
     ]
    },
    {
     "name": "stdout",
     "output_type": "stream",
     "text": [
      "134.3449924045139\n",
      "Height: 720 , Width: 1280\n",
      "left_curverad: 397.60425310366713 m , right_curverad: 286.2827630534677 m\n",
      "1040.5548157408875\n",
      "286.46490811573483\n",
      "640.0\n"
     ]
    },
    {
     "name": "stderr",
     "output_type": "stream",
     "text": [
      "\r",
      "t:  59%|███████████████▎          | 285/485 [01:03<00:42,  4.66it/s, now=None]"
     ]
    },
    {
     "name": "stdout",
     "output_type": "stream",
     "text": [
      "134.17990559895833\n",
      "Height: 720 , Width: 1280\n",
      "left_curverad: 485.1115756221597 m , right_curverad: 308.4579060025491 m\n",
      "1042.046367766634\n",
      "281.4808636448133\n",
      "640.0\n"
     ]
    },
    {
     "name": "stderr",
     "output_type": "stream",
     "text": [
      "t:  59%|███████████████▍          | 287/485 [01:03<00:42,  4.67it/s, now=None]"
     ]
    },
    {
     "name": "stdout",
     "output_type": "stream",
     "text": [
      "134.21348741319446\n",
      "Height: 720 , Width: 1280\n",
      "left_curverad: 513.7761891039629 m , right_curverad: 314.8497283236437 m\n",
      "1044.2462542874755\n",
      "279.60763511438256\n",
      "640.0\n",
      "134.12970377604168\n",
      "Height: 720 , Width: 1280\n",
      "left_curverad: 518.383006148571 m , right_curverad: 345.86396879469726 m\n",
      "1040.9332164880793\n",
      "278.7964616209813\n",
      "640.0\n"
     ]
    },
    {
     "name": "stderr",
     "output_type": "stream",
     "text": [
      "\r",
      "t:  59%|███████████████▍          | 288/485 [01:03<00:42,  4.67it/s, now=None]"
     ]
    },
    {
     "name": "stdout",
     "output_type": "stream",
     "text": [
      "134.05211263020834\n",
      "Height: 720 , Width: 1280\n",
      "left_curverad: 480.52943918908085 m , right_curverad: 341.2667551476819 m\n",
      "1039.899566757486\n",
      "278.99950608133395\n"
     ]
    },
    {
     "name": "stderr",
     "output_type": "stream",
     "text": [
      "\r",
      "t:  60%|███████████████▍          | 289/485 [01:03<00:42,  4.66it/s, now=None]"
     ]
    },
    {
     "name": "stdout",
     "output_type": "stream",
     "text": [
      "640.0\n",
      "134.07982421875\n",
      "Height: 720 , Width: 1280\n",
      "left_curverad: 506.03260523556884 m , right_curverad: 354.72422285213077 m\n"
     ]
    },
    {
     "name": "stderr",
     "output_type": "stream",
     "text": [
      "\r",
      "t:  60%|███████████████▌          | 290/485 [01:04<00:42,  4.55it/s, now=None]"
     ]
    },
    {
     "name": "stdout",
     "output_type": "stream",
     "text": [
      "1037.597686920109\n",
      "278.45079206626394\n",
      "640.0\n",
      "133.96670464409723\n",
      "Height: 720 , Width: 1280\n",
      "left_curverad: 496.583429893835 m , right_curverad: 318.7312502186439 m\n"
     ]
    },
    {
     "name": "stderr",
     "output_type": "stream",
     "text": [
      "\r",
      "t:  60%|███████████████▌          | 291/485 [01:04<00:42,  4.57it/s, now=None]"
     ]
    },
    {
     "name": "stdout",
     "output_type": "stream",
     "text": [
      "1040.146826930972\n",
      "281.3785054233375\n",
      "640.0\n",
      "133.95747178819445\n",
      "Height: 720 , Width: 1280\n",
      "left_curverad: 527.6014058917351 m , right_curverad: 327.6629186799893 m\n",
      "1039.3019904359621\n",
      "279.58350387893006\n",
      "640.0\n"
     ]
    },
    {
     "name": "stderr",
     "output_type": "stream",
     "text": [
      "t:  60%|███████████████▋          | 293/485 [01:04<00:40,  4.76it/s, now=None]"
     ]
    },
    {
     "name": "stdout",
     "output_type": "stream",
     "text": [
      "133.9783181423611\n",
      "Height: 720 , Width: 1280\n",
      "left_curverad: 441.7716148946194 m , right_curverad: 325.12843511974836 m\n",
      "1037.3292635107964\n",
      "283.1280968742858\n",
      "640.0\n",
      "134.17103081597222\n"
     ]
    },
    {
     "name": "stderr",
     "output_type": "stream",
     "text": [
      "\r",
      "t:  61%|███████████████▊          | 294/485 [01:04<00:41,  4.64it/s, now=None]"
     ]
    },
    {
     "name": "stdout",
     "output_type": "stream",
     "text": [
      "Height: 720 , Width: 1280\n",
      "left_curverad: 517.0551800251565 m , right_curverad: 337.93087603164304 m\n",
      "1035.7331113087923\n",
      "284.37293115142666\n",
      "640.0\n",
      "133.32865234375\n"
     ]
    },
    {
     "name": "stderr",
     "output_type": "stream",
     "text": [
      "\r",
      "t:  61%|███████████████▊          | 295/485 [01:05<00:41,  4.56it/s, now=None]"
     ]
    },
    {
     "name": "stdout",
     "output_type": "stream",
     "text": [
      "Height: 720 , Width: 1280\n",
      "left_curverad: 559.5483725352551 m , right_curverad: 354.116985480045 m\n",
      "1034.1685727181095\n",
      "281.9460195533986\n",
      "640.0\n",
      "133.21233072916667\n"
     ]
    },
    {
     "name": "stderr",
     "output_type": "stream",
     "text": [
      "\r",
      "t:  61%|███████████████▊          | 296/485 [01:05<00:41,  4.57it/s, now=None]"
     ]
    },
    {
     "name": "stdout",
     "output_type": "stream",
     "text": [
      "Height: 720 , Width: 1280\n",
      "left_curverad: 587.3206833889111 m , right_curverad: 365.27574208735183 m\n",
      "1033.0771748140517\n",
      "281.57921600745806\n",
      "640.0\n",
      "132.826328125\n"
     ]
    },
    {
     "name": "stderr",
     "output_type": "stream",
     "text": [
      "\r",
      "t:  61%|███████████████▉          | 297/485 [01:05<00:41,  4.58it/s, now=None]"
     ]
    },
    {
     "name": "stdout",
     "output_type": "stream",
     "text": [
      "Height: 720 , Width: 1280\n",
      "left_curverad: 561.8982778398364 m , right_curverad: 376.7209748832367 m\n",
      "1035.1360276933867\n",
      "281.85252639642465\n",
      "640.0\n",
      "132.68033637152777\n"
     ]
    },
    {
     "name": "stderr",
     "output_type": "stream",
     "text": [
      "\r",
      "t:  61%|███████████████▉          | 298/485 [01:05<00:40,  4.66it/s, now=None]"
     ]
    },
    {
     "name": "stdout",
     "output_type": "stream",
     "text": [
      "Height: 720 , Width: 1280\n",
      "left_curverad: 565.019628881046 m , right_curverad: 388.5489638297016 m\n",
      "1036.3977698920462\n",
      "281.3961256317929\n",
      "640.0\n",
      "132.57619140625\n"
     ]
    },
    {
     "name": "stderr",
     "output_type": "stream",
     "text": [
      "\r",
      "t:  62%|████████████████          | 299/485 [01:06<00:40,  4.57it/s, now=None]"
     ]
    },
    {
     "name": "stdout",
     "output_type": "stream",
     "text": [
      "Height: 720 , Width: 1280\n",
      "left_curverad: 542.1313301656849 m , right_curverad: 435.30645213753286 m\n",
      "1032.2840064315303\n",
      "279.36781839230275\n",
      "640.0\n",
      "132.53208550347222\n"
     ]
    },
    {
     "name": "stderr",
     "output_type": "stream",
     "text": [
      "\r",
      "t:  62%|████████████████          | 300/485 [01:06<00:40,  4.59it/s, now=None]"
     ]
    },
    {
     "name": "stdout",
     "output_type": "stream",
     "text": [
      "Height: 720 , Width: 1280\n",
      "left_curverad: 708.3193972368418 m , right_curverad: 404.48057107101096 m\n",
      "1036.0032047034772\n",
      "275.39456073129344\n",
      "640.0\n",
      "132.64803819444444\n",
      "Height: 720 , Width: 1280\n"
     ]
    },
    {
     "name": "stderr",
     "output_type": "stream",
     "text": [
      "\r",
      "t:  62%|████████████████▏         | 301/485 [01:06<00:39,  4.68it/s, now=None]"
     ]
    },
    {
     "name": "stdout",
     "output_type": "stream",
     "text": [
      "left_curverad: 860.4547281504509 m , right_curverad: 482.97122426655244 m\n",
      "1029.0382362858043\n",
      "273.68557556804546\n",
      "640.0\n",
      "132.5227289496528\n",
      "Height: 720 , Width: 1280\n",
      "left_curverad: 624.776848068806 m , right_curverad: 503.8182724408032 m\n"
     ]
    },
    {
     "name": "stderr",
     "output_type": "stream",
     "text": [
      "\r",
      "t:  62%|████████████████▏         | 302/485 [01:06<00:39,  4.64it/s, now=None]"
     ]
    },
    {
     "name": "stdout",
     "output_type": "stream",
     "text": [
      "1029.0228041713128\n",
      "274.80674039430033\n",
      "640.0\n",
      "132.78625434027776\n",
      "Height: 720 , Width: 1280\n",
      "left_curverad: 643.401669438828 m , right_curverad: 462.0199948386221 m\n"
     ]
    },
    {
     "name": "stderr",
     "output_type": "stream",
     "text": [
      "\r",
      "t:  62%|████████████████▏         | 303/485 [01:06<00:40,  4.53it/s, now=None]"
     ]
    },
    {
     "name": "stdout",
     "output_type": "stream",
     "text": [
      "1031.1659181922741\n",
      "274.87768586966513\n",
      "640.0\n",
      "132.78835286458335\n",
      "Height: 720 , Width: 1280\n",
      "left_curverad: 632.7410053915424 m , right_curverad: 504.5985200006057 m\n"
     ]
    },
    {
     "name": "stderr",
     "output_type": "stream",
     "text": [
      "\r",
      "t:  63%|████████████████▎         | 304/485 [01:07<00:40,  4.52it/s, now=None]"
     ]
    },
    {
     "name": "stdout",
     "output_type": "stream",
     "text": [
      "1028.4521588155967\n",
      "273.40987353356644\n",
      "640.0\n",
      "132.79461263020832\n",
      "Height: 720 , Width: 1280\n",
      "left_curverad: 549.781027255775 m , right_curverad: 478.31051488066805 m\n"
     ]
    },
    {
     "name": "stderr",
     "output_type": "stream",
     "text": [
      "\r",
      "t:  63%|████████████████▎         | 305/485 [01:07<00:39,  4.57it/s, now=None]"
     ]
    },
    {
     "name": "stdout",
     "output_type": "stream",
     "text": [
      "1025.9624188913317\n",
      "276.15664827433767\n",
      "640.0\n",
      "132.738076171875\n",
      "Height: 720 , Width: 1280\n",
      "left_curverad: 543.4628280529381 m , right_curverad: 494.48572058456915 m\n"
     ]
    },
    {
     "name": "stderr",
     "output_type": "stream",
     "text": [
      "\r",
      "t:  63%|████████████████▍         | 306/485 [01:07<00:38,  4.60it/s, now=None]"
     ]
    },
    {
     "name": "stdout",
     "output_type": "stream",
     "text": [
      "1024.9167938862042\n",
      "277.03344140408916\n",
      "640.0\n",
      "132.89498589409723\n",
      "Height: 720 , Width: 1280\n",
      "left_curverad: 509.2899005575909 m , right_curverad: 469.468856082142 m\n"
     ]
    },
    {
     "name": "stderr",
     "output_type": "stream",
     "text": [
      "\r",
      "t:  63%|████████████████▍         | 307/485 [01:07<00:38,  4.58it/s, now=None]"
     ]
    },
    {
     "name": "stdout",
     "output_type": "stream",
     "text": [
      "1024.8242690993038\n",
      "278.39204023459683\n",
      "640.0\n",
      "133.0572265625\n",
      "Height: 720 , Width: 1280\n",
      "left_curverad: 492.62238420086896 m , right_curverad: 499.79971996293233 m\n"
     ]
    },
    {
     "name": "stderr",
     "output_type": "stream",
     "text": [
      "\r",
      "t:  64%|████████████████▌         | 308/485 [01:08<00:39,  4.53it/s, now=None]"
     ]
    },
    {
     "name": "stdout",
     "output_type": "stream",
     "text": [
      "1024.3824488969985\n",
      "281.4658829006257\n",
      "640.0\n",
      "133.38898763020833\n",
      "Height: 720 , Width: 1280\n",
      "left_curverad: 547.3955932841573 m , right_curverad: 563.1187913617075 m\n"
     ]
    },
    {
     "name": "stderr",
     "output_type": "stream",
     "text": [
      "\r",
      "t:  64%|████████████████▌         | 309/485 [01:08<00:38,  4.60it/s, now=None]"
     ]
    },
    {
     "name": "stdout",
     "output_type": "stream",
     "text": [
      "1023.7211951090467\n",
      "281.6457599903781\n",
      "640.0\n",
      "133.44796549479167\n",
      "Height: 720 , Width: 1280\n",
      "left_curverad: 572.2725341285761 m , right_curverad: 557.0818840225768 m\n"
     ]
    },
    {
     "name": "stderr",
     "output_type": "stream",
     "text": [
      "\r",
      "t:  64%|████████████████▌         | 310/485 [01:08<00:37,  4.68it/s, now=None]"
     ]
    },
    {
     "name": "stdout",
     "output_type": "stream",
     "text": [
      "1025.4728731674873\n",
      "281.5775946751835\n",
      "640.0\n",
      "133.3484819878472\n",
      "Height: 720 , Width: 1280\n",
      "left_curverad: 664.8281734890659 m , right_curverad: 617.8019340030335 m\n"
     ]
    },
    {
     "name": "stderr",
     "output_type": "stream",
     "text": [
      "\r",
      "t:  64%|████████████████▋         | 311/485 [01:08<00:37,  4.65it/s, now=None]"
     ]
    },
    {
     "name": "stdout",
     "output_type": "stream",
     "text": [
      "1025.065724056261\n",
      "280.2217929985992\n",
      "640.0\n",
      "133.30934678819443\n",
      "Height: 720 , Width: 1280\n",
      "left_curverad: 651.4357545866932 m , right_curverad: 654.2984192183408 m\n"
     ]
    },
    {
     "name": "stderr",
     "output_type": "stream",
     "text": [
      "\r",
      "t:  64%|████████████████▋         | 312/485 [01:08<00:37,  4.61it/s, now=None]"
     ]
    },
    {
     "name": "stdout",
     "output_type": "stream",
     "text": [
      "1024.2098002649632\n",
      "280.65835475127585\n",
      "640.0\n",
      "133.14113172743055\n",
      "Height: 720 , Width: 1280\n",
      "left_curverad: 633.4829170180607 m , right_curverad: 780.850642789231 m\n"
     ]
    },
    {
     "name": "stderr",
     "output_type": "stream",
     "text": [
      "\r",
      "t:  65%|████████████████▊         | 313/485 [01:09<00:37,  4.62it/s, now=None]"
     ]
    },
    {
     "name": "stdout",
     "output_type": "stream",
     "text": [
      "1019.7270426012699\n",
      "279.82488461745385\n",
      "640.0\n",
      "132.92486653645832\n",
      "Height: 720 , Width: 1280\n",
      "left_curverad: 763.9863937317448 m , right_curverad: 891.1998942573744 m\n"
     ]
    },
    {
     "name": "stderr",
     "output_type": "stream",
     "text": [
      "\r",
      "t:  65%|████████████████▊         | 314/485 [01:09<00:36,  4.67it/s, now=None]"
     ]
    },
    {
     "name": "stdout",
     "output_type": "stream",
     "text": [
      "1017.2196925045715\n",
      "276.06626963425526\n",
      "640.0\n",
      "132.75534613715277\n",
      "Height: 720 , Width: 1280\n",
      "left_curverad: 812.6650336839634 m , right_curverad: 910.8172272088224 m\n"
     ]
    },
    {
     "name": "stderr",
     "output_type": "stream",
     "text": [
      "\r",
      "t:  65%|████████████████▉         | 315/485 [01:09<00:36,  4.63it/s, now=None]"
     ]
    },
    {
     "name": "stdout",
     "output_type": "stream",
     "text": [
      "1020.3277713101874\n",
      "274.0275381190186\n",
      "640.0\n",
      "132.57430338541667\n",
      "Height: 720 , Width: 1280\n",
      "left_curverad: 757.2764589578715 m , right_curverad: 916.1618834043387 m\n"
     ]
    },
    {
     "name": "stderr",
     "output_type": "stream",
     "text": [
      "\r",
      "t:  65%|████████████████▉         | 316/485 [01:09<00:36,  4.59it/s, now=None]"
     ]
    },
    {
     "name": "stdout",
     "output_type": "stream",
     "text": [
      "1022.0000597861606\n",
      "275.22090619141943\n",
      "640.0\n",
      "132.50015516493056\n",
      "Height: 720 , Width: 1280\n",
      "left_curverad: 768.4058570833216 m , right_curverad: 801.1173498694294 m\n"
     ]
    },
    {
     "name": "stderr",
     "output_type": "stream",
     "text": [
      "\r",
      "t:  65%|████████████████▉         | 317/485 [01:09<00:37,  4.54it/s, now=None]"
     ]
    },
    {
     "name": "stdout",
     "output_type": "stream",
     "text": [
      "1022.956631063973\n",
      "274.75010950226334\n",
      "640.0\n",
      "132.59223524305557\n",
      "Height: 720 , Width: 1280\n",
      "left_curverad: 748.8474926977049 m , right_curverad: 834.7591056505335 m\n"
     ]
    },
    {
     "name": "stderr",
     "output_type": "stream",
     "text": [
      "\r",
      "t:  66%|█████████████████         | 318/485 [01:10<00:35,  4.65it/s, now=None]"
     ]
    },
    {
     "name": "stdout",
     "output_type": "stream",
     "text": [
      "1024.299310701455\n",
      "276.1265603153774\n",
      "640.0\n",
      "132.65171332465277\n",
      "Height: 720 , Width: 1280\n",
      "left_curverad: 926.9843539518782 m , right_curverad: 837.5298384812697 m\n"
     ]
    },
    {
     "name": "stderr",
     "output_type": "stream",
     "text": [
      "\r",
      "t:  66%|█████████████████         | 319/485 [01:10<00:36,  4.57it/s, now=None]"
     ]
    },
    {
     "name": "stdout",
     "output_type": "stream",
     "text": [
      "1023.4736164277745\n",
      "274.12095410502866\n",
      "640.0\n",
      "132.3635308159722\n",
      "Height: 720 , Width: 1280\n",
      "left_curverad: 1184.2782038431171 m , right_curverad: 804.9406450406306 m\n"
     ]
    },
    {
     "name": "stderr",
     "output_type": "stream",
     "text": [
      "\r",
      "t:  66%|█████████████████▏        | 320/485 [01:10<00:36,  4.56it/s, now=None]"
     ]
    },
    {
     "name": "stdout",
     "output_type": "stream",
     "text": [
      "1026.8143894880996\n",
      "271.3791143275439\n",
      "640.0\n",
      "132.30643988715278\n",
      "Height: 720 , Width: 1280\n",
      "left_curverad: 1724.488866758925 m , right_curverad: 900.5341194316131 m\n"
     ]
    },
    {
     "name": "stderr",
     "output_type": "stream",
     "text": [
      "\r",
      "t:  66%|█████████████████▏        | 321/485 [01:10<00:35,  4.63it/s, now=None]"
     ]
    },
    {
     "name": "stdout",
     "output_type": "stream",
     "text": [
      "1028.0310256717837\n",
      "268.98267731945555\n",
      "640.0\n",
      "132.5116970486111\n",
      "Height: 720 , Width: 1280\n",
      "left_curverad: 1968.0233059480604 m , right_curverad: 859.7084576123261 m\n"
     ]
    },
    {
     "name": "stderr",
     "output_type": "stream",
     "text": [
      "\r",
      "t:  66%|█████████████████▎        | 322/485 [01:11<00:35,  4.59it/s, now=None]"
     ]
    },
    {
     "name": "stdout",
     "output_type": "stream",
     "text": [
      "1029.5788003517946\n",
      "267.32142320827535\n",
      "640.0\n",
      "132.4905783420139\n",
      "Height: 720 , Width: 1280\n",
      "left_curverad: 1146.8234758690874 m , right_curverad: 908.6435384208927 m\n"
     ]
    },
    {
     "name": "stderr",
     "output_type": "stream",
     "text": [
      "\r",
      "t:  67%|█████████████████▎        | 323/485 [01:11<00:35,  4.56it/s, now=None]"
     ]
    },
    {
     "name": "stdout",
     "output_type": "stream",
     "text": [
      "1027.9839349202111\n",
      "270.5314218646774\n",
      "640.0\n",
      "132.23048285590278\n",
      "Height: 720 , Width: 1280\n",
      "left_curverad: 1054.4603253882476 m , right_curverad: 944.8276276135546 m\n"
     ]
    },
    {
     "name": "stderr",
     "output_type": "stream",
     "text": [
      "\r",
      "t:  67%|█████████████████▎        | 324/485 [01:11<00:34,  4.61it/s, now=None]"
     ]
    },
    {
     "name": "stdout",
     "output_type": "stream",
     "text": [
      "1027.6872840122078\n",
      "270.555314949197\n",
      "640.0\n",
      "132.03036892361112\n",
      "Height: 720 , Width: 1280\n",
      "left_curverad: 1759.504475124588 m , right_curverad: 1048.469120348998 m\n"
     ]
    },
    {
     "name": "stderr",
     "output_type": "stream",
     "text": [
      "\r",
      "t:  67%|█████████████████▍        | 325/485 [01:11<00:34,  4.62it/s, now=None]"
     ]
    },
    {
     "name": "stdout",
     "output_type": "stream",
     "text": [
      "1026.0968633721614\n",
      "268.9221468544815\n",
      "640.0\n",
      "131.89660047743055\n",
      "Height: 720 , Width: 1280\n",
      "left_curverad: "
     ]
    },
    {
     "name": "stderr",
     "output_type": "stream",
     "text": [
      "\r",
      "t:  67%|█████████████████▍        | 326/485 [01:11<00:34,  4.59it/s, now=None]"
     ]
    },
    {
     "name": "stdout",
     "output_type": "stream",
     "text": [
      "1769.1883478212883 m , right_curverad: 1075.1558930158872 m\n",
      "1026.4548462082307\n",
      "270.2733986972926\n",
      "640.0\n",
      "131.6830078125\n",
      "Height: 720 , Width: 1280\n"
     ]
    },
    {
     "name": "stderr",
     "output_type": "stream",
     "text": [
      "\r",
      "t:  67%|█████████████████▌        | 327/485 [01:12<00:34,  4.54it/s, now=None]"
     ]
    },
    {
     "name": "stdout",
     "output_type": "stream",
     "text": [
      "left_curverad: 3809.430972370454 m , right_curverad: 904.96825755701 m\n",
      "1029.0924806822998\n",
      "269.20693713377204\n",
      "640.0\n",
      "131.5341232638889\n",
      "Height: 720 , Width: 1280\n"
     ]
    },
    {
     "name": "stderr",
     "output_type": "stream",
     "text": [
      "\r",
      "t:  68%|█████████████████▌        | 328/485 [01:12<00:34,  4.58it/s, now=None]"
     ]
    },
    {
     "name": "stdout",
     "output_type": "stream",
     "text": [
      "left_curverad: 4214.3679856402505 m , right_curverad: 1108.2645657799037 m\n",
      "1027.6757249765794\n",
      "268.6170262886526\n",
      "640.0\n",
      "131.68409830729166\n",
      "Height: 720 , Width: 1280\n",
      "left_curverad: 2843.8121639901583 m , right_curverad: 1583.9122575340498 m\n"
     ]
    },
    {
     "name": "stderr",
     "output_type": "stream",
     "text": [
      "\r",
      "t:  68%|█████████████████▋        | 329/485 [01:12<00:33,  4.63it/s, now=None]"
     ]
    },
    {
     "name": "stdout",
     "output_type": "stream",
     "text": [
      "1025.3714196788794\n",
      "271.8947793023304\n",
      "640.0\n",
      "131.96939778645833\n",
      "Height: 720 , Width: 1280\n",
      "left_curverad: 4255.429309820212 m , right_curverad: 1366.2889219772342 m\n"
     ]
    },
    {
     "name": "stderr",
     "output_type": "stream",
     "text": [
      "\r",
      "t:  68%|█████████████████▋        | 330/485 [01:12<00:33,  4.67it/s, now=None]"
     ]
    },
    {
     "name": "stdout",
     "output_type": "stream",
     "text": [
      "1027.2073088216036\n",
      "272.33926953339017\n",
      "640.0\n",
      "131.934541015625\n",
      "Height: 720 , Width: 1280\n",
      "left_curverad: "
     ]
    },
    {
     "name": "stderr",
     "output_type": "stream",
     "text": [
      "\r",
      "t:  68%|█████████████████▋        | 331/485 [01:12<00:33,  4.60it/s, now=None]"
     ]
    },
    {
     "name": "stdout",
     "output_type": "stream",
     "text": [
      "3348.189485768209 m , right_curverad: 1305.6201450405124 m\n",
      "1028.8375216257089\n",
      "275.4211235718753\n",
      "640.0\n",
      "131.64363606770834\n",
      "Height: 720 , Width: 1280\n",
      "left_curverad: 2787.2706417983936 m , right_curverad: 1796.5182433057942 m\n"
     ]
    },
    {
     "name": "stderr",
     "output_type": "stream",
     "text": [
      "\r",
      "t:  68%|█████████████████▊        | 332/485 [01:13<00:33,  4.58it/s, now=None]"
     ]
    },
    {
     "name": "stdout",
     "output_type": "stream",
     "text": [
      "1026.444474330216\n",
      "280.7927686383636\n",
      "640.0\n",
      "131.67931966145832\n",
      "Height: 720 , Width: 1280\n",
      "left_curverad:"
     ]
    },
    {
     "name": "stderr",
     "output_type": "stream",
     "text": [
      "\r",
      "t:  69%|█████████████████▊        | 333/485 [01:13<00:33,  4.60it/s, now=None]"
     ]
    },
    {
     "name": "stdout",
     "output_type": "stream",
     "text": [
      " 2204.4794419149116 m , right_curverad: 1911.0686684492684 m\n",
      "1027.7773898227438\n",
      "283.24159872206405\n",
      "640.0\n",
      "131.61698784722222\n",
      "Height: 720 , Width: 1280\n"
     ]
    },
    {
     "name": "stderr",
     "output_type": "stream",
     "text": [
      "\r",
      "t:  69%|█████████████████▉        | 334/485 [01:13<00:32,  4.60it/s, now=None]"
     ]
    },
    {
     "name": "stdout",
     "output_type": "stream",
     "text": [
      "left_curverad: 1821.3983064277236 m , right_curverad: 1523.6625671498457 m\n",
      "1031.2987056929885\n",
      "284.5209790676668\n",
      "640.0\n",
      "131.24270182291667\n",
      "Height: 720 , Width: 1280\n",
      "left_curverad: 1816.8113385082759 m , right_curverad: 2050.370416794918 m\n"
     ]
    },
    {
     "name": "stderr",
     "output_type": "stream",
     "text": [
      "\r",
      "t:  69%|█████████████████▉        | 335/485 [01:13<00:33,  4.51it/s, now=None]"
     ]
    },
    {
     "name": "stdout",
     "output_type": "stream",
     "text": [
      "1031.1630750438521\n",
      "285.3740936638778\n",
      "640.0\n",
      "131.14101019965278\n",
      "Height: 720 , Width: 1280\n"
     ]
    },
    {
     "name": "stderr",
     "output_type": "stream",
     "text": [
      "\r",
      "t:  69%|██████████████████        | 336/485 [01:14<00:33,  4.43it/s, now=None]"
     ]
    },
    {
     "name": "stdout",
     "output_type": "stream",
     "text": [
      "left_curverad: 2571.5172259469305 m , right_curverad: 1587.8640364267621 m\n",
      "1031.612008126251\n",
      "283.2148901272899\n",
      "640.0\n",
      "131.27366319444445\n",
      "Height: 720 , Width: 1280\n"
     ]
    },
    {
     "name": "stderr",
     "output_type": "stream",
     "text": [
      "\r",
      "t:  69%|██████████████████        | 337/485 [01:14<00:32,  4.51it/s, now=None]"
     ]
    },
    {
     "name": "stdout",
     "output_type": "stream",
     "text": [
      "left_curverad: 2242.535458383691 m , right_curverad: 1620.408690429804 m\n",
      "1031.0474641288665\n",
      "283.6655033863107\n",
      "640.0\n",
      "131.4514919704861\n",
      "Height: 720 , Width: 1280\n",
      "left_curverad: 2078.4979048851706 m , right_curverad: 1850.862255986608 m\n"
     ]
    },
    {
     "name": "stderr",
     "output_type": "stream",
     "text": [
      "\r",
      "t:  70%|██████████████████        | 338/485 [01:14<00:31,  4.62it/s, now=None]"
     ]
    },
    {
     "name": "stdout",
     "output_type": "stream",
     "text": [
      "1031.8640812230765\n",
      "285.3646020146008\n",
      "640.0\n",
      "131.38345703125\n",
      "Height: 720 , Width: 1280\n",
      "left_curverad: 3470.3699501082024 m , right_curverad: 2268.0317794460893 m\n"
     ]
    },
    {
     "name": "stderr",
     "output_type": "stream",
     "text": [
      "\r",
      "t:  70%|██████████████████▏       | 339/485 [01:14<00:32,  4.49it/s, now=None]"
     ]
    },
    {
     "name": "stdout",
     "output_type": "stream",
     "text": [
      "1030.4754460194363\n",
      "284.5909125910067\n",
      "640.0\n",
      "131.21776909722223\n",
      "Height: 720 , Width: 1280\n",
      "left_curverad: 2643.797623527947 m , right_curverad: 2481.7005950110615 m\n"
     ]
    },
    {
     "name": "stderr",
     "output_type": "stream",
     "text": [
      "\r",
      "t:  70%|██████████████████▏       | 340/485 [01:14<00:32,  4.46it/s, now=None]"
     ]
    },
    {
     "name": "stdout",
     "output_type": "stream",
     "text": [
      "1032.0135650148204\n",
      "284.02683145951136\n",
      "640.0\n",
      "131.15530707465277\n",
      "Height: 720 , Width: 1280\n",
      "left_curverad: 1773.6461724754333 m , right_curverad: 3941.0897605217656 m\n"
     ]
    },
    {
     "name": "stderr",
     "output_type": "stream",
     "text": [
      "\r",
      "t:  70%|██████████████████▎       | 341/485 [01:15<00:32,  4.49it/s, now=None]"
     ]
    },
    {
     "name": "stdout",
     "output_type": "stream",
     "text": [
      "1025.8973786601764\n",
      "284.0912609344977\n",
      "640.0\n",
      "130.90540364583333\n",
      "Height: 720 , Width: 1280\n",
      "left_curverad: 1427.690905998121 m , right_curverad: 2454.2019133912654 m\n"
     ]
    },
    {
     "name": "stderr",
     "output_type": "stream",
     "text": [
      "\r",
      "t:  71%|██████████████████▎       | 342/485 [01:15<00:31,  4.54it/s, now=None]"
     ]
    },
    {
     "name": "stdout",
     "output_type": "stream",
     "text": [
      "1029.4927774630028\n",
      "284.7655199427994\n",
      "640.0\n",
      "130.66232096354167\n",
      "Height: 720 , Width: 1280\n",
      "left_curverad: 1793.1440356681178 m , right_curverad: 3214.304890926147 m\n"
     ]
    },
    {
     "name": "stderr",
     "output_type": "stream",
     "text": [
      "\r",
      "t:  71%|██████████████████▍       | 343/485 [01:15<00:31,  4.52it/s, now=None]"
     ]
    },
    {
     "name": "stdout",
     "output_type": "stream",
     "text": [
      "1027.3139519311587\n",
      "282.5735357020533\n",
      "640.0\n",
      "130.51657118055556\n",
      "Height: 720 , Width: 1280\n",
      "left_curverad: 1478.4248352486409 m , right_curverad: 2725.9131937122906 m\n"
     ]
    },
    {
     "name": "stderr",
     "output_type": "stream",
     "text": [
      "\r",
      "t:  71%|██████████████████▍       | 344/485 [01:15<00:31,  4.54it/s, now=None]"
     ]
    },
    {
     "name": "stdout",
     "output_type": "stream",
     "text": [
      "1026.332548700733\n",
      "286.2081747828622\n",
      "640.0\n",
      "130.65547526041667\n",
      "Height: 720 , Width: 1280\n",
      "left_curverad: 1013.6701541777093 m , right_curverad: 2224.6017318508993 m\n"
     ]
    },
    {
     "name": "stderr",
     "output_type": "stream",
     "text": [
      "\r",
      "t:  71%|██████████████████▍       | 345/485 [01:16<00:30,  4.56it/s, now=None]"
     ]
    },
    {
     "name": "stdout",
     "output_type": "stream",
     "text": [
      "1028.8323249729738\n",
      "285.7327954171052\n",
      "640.0\n",
      "130.719150390625\n",
      "Height: 720 , Width: 1280\n",
      "left_curverad: 1370.2531584745423 m , right_curverad: 4127.243145959088 m\n"
     ]
    },
    {
     "name": "stderr",
     "output_type": "stream",
     "text": [
      "\r",
      "t:  71%|██████████████████▌       | 346/485 [01:16<00:30,  4.61it/s, now=None]"
     ]
    },
    {
     "name": "stdout",
     "output_type": "stream",
     "text": [
      "1031.189385762758\n",
      "279.18391367901626\n",
      "640.0\n",
      "131.04992838541668\n",
      "Height: 720 , Width: 1280\n",
      "left_curverad:"
     ]
    },
    {
     "name": "stderr",
     "output_type": "stream",
     "text": [
      "\r",
      "t:  72%|██████████████████▌       | 347/485 [01:16<00:29,  4.62it/s, now=None]"
     ]
    },
    {
     "name": "stdout",
     "output_type": "stream",
     "text": [
      " 1012.5928379666622 m , right_curverad: 4630.531389140926 m\n",
      "1030.0408898911942\n",
      "281.8607444385922\n",
      "640.0\n",
      "131.38900824652777\n",
      "Height: 720 , Width: 1280\n"
     ]
    },
    {
     "name": "stderr",
     "output_type": "stream",
     "text": [
      "\r",
      "t:  72%|██████████████████▋       | 348/485 [01:16<00:29,  4.59it/s, now=None]"
     ]
    },
    {
     "name": "stdout",
     "output_type": "stream",
     "text": [
      "left_curverad: 1063.3216462681876 m , right_curverad: 3956.929262826525 m\n",
      "1026.4774799426216\n",
      "280.38885250491114\n",
      "640.0\n",
      "131.55682942708333\n",
      "Height: 720 , Width: 1280\n"
     ]
    },
    {
     "name": "stderr",
     "output_type": "stream",
     "text": [
      "\r",
      "t:  72%|██████████████████▋       | 349/485 [01:16<00:29,  4.56it/s, now=None]"
     ]
    },
    {
     "name": "stdout",
     "output_type": "stream",
     "text": [
      "left_curverad: 962.4951312008617 m , right_curverad: 2052.20350930104 m\n",
      "1023.4068940612112\n",
      "280.23242740732246\n",
      "640.0\n",
      "131.4108246527778\n",
      "Height: 720 , Width: 1280\n"
     ]
    },
    {
     "name": "stderr",
     "output_type": "stream",
     "text": [
      "\r",
      "t:  72%|██████████████████▊       | 350/485 [01:17<00:29,  4.65it/s, now=None]"
     ]
    },
    {
     "name": "stdout",
     "output_type": "stream",
     "text": [
      "left_curverad: 856.5779156245818 m , right_curverad: 2603.4973859739302 m\n",
      "1024.491665308135\n",
      "281.0725450823315\n",
      "640.0\n",
      "131.63321072048612\n",
      "Height: 720 , Width: 1280\n"
     ]
    },
    {
     "name": "stderr",
     "output_type": "stream",
     "text": [
      "\r",
      "t:  72%|██████████████████▊       | 351/485 [01:17<00:29,  4.55it/s, now=None]"
     ]
    },
    {
     "name": "stdout",
     "output_type": "stream",
     "text": [
      "left_curverad: 804.4728584335809 m , right_curverad: 2488.5110335500735 m\n",
      "1023.0697107706228\n",
      "281.6643135830694\n",
      "640.0\n",
      "131.5352615017361\n",
      "Height: 720 , Width: 1280\n"
     ]
    },
    {
     "name": "stderr",
     "output_type": "stream",
     "text": [
      "\r",
      "t:  73%|██████████████████▊       | 352/485 [01:17<00:28,  4.59it/s, now=None]"
     ]
    },
    {
     "name": "stdout",
     "output_type": "stream",
     "text": [
      "left_curverad: 949.2708316514345 m , right_curverad: 2120.931137344885 m\n",
      "1025.2036696493906\n",
      "281.2241804323436\n",
      "640.0\n",
      "131.49184244791667\n",
      "Height: 720 , Width: 1280\n"
     ]
    },
    {
     "name": "stderr",
     "output_type": "stream",
     "text": [
      "\r",
      "t:  73%|██████████████████▉       | 353/485 [01:17<00:28,  4.65it/s, now=None]"
     ]
    },
    {
     "name": "stdout",
     "output_type": "stream",
     "text": [
      "left_curverad: 1086.7705004690984 m , right_curverad: 1574.4882445688793 m\n",
      "1029.8059380168213\n",
      "279.16554819894077\n",
      "640.0\n",
      "131.43598741319445\n",
      "Height: 720 , Width: 1280\n",
      "left_curverad: 814.7320862137251 m , right_curverad: 1315.283756530709 m\n"
     ]
    },
    {
     "name": "stderr",
     "output_type": "stream",
     "text": [
      "\r",
      "t:  73%|██████████████████▉       | 354/485 [01:18<00:28,  4.62it/s, now=None]"
     ]
    },
    {
     "name": "stdout",
     "output_type": "stream",
     "text": [
      "1036.84874408556\n",
      "283.0739466096677\n",
      "640.0\n",
      "131.61462999131945\n",
      "Height: 720 , Width: 1280\n",
      "left_curverad: 1643.1645923415397 m , right_curverad: 933.1166942792797 m\n"
     ]
    },
    {
     "name": "stderr",
     "output_type": "stream",
     "text": [
      "\r",
      "t:  73%|███████████████████       | 355/485 [01:18<00:28,  4.57it/s, now=None]"
     ]
    },
    {
     "name": "stdout",
     "output_type": "stream",
     "text": [
      "1044.125018349489\n",
      "273.29978423476086\n",
      "640.0\n",
      "131.86138563368056\n",
      "Height: 720 , Width: 1280\n",
      "left_curverad: 1634.33523529945 m , right_curverad: 1092.403638104425 m\n"
     ]
    },
    {
     "name": "stderr",
     "output_type": "stream",
     "text": [
      "\r",
      "t:  73%|███████████████████       | 356/485 [01:18<00:28,  4.58it/s, now=None]"
     ]
    },
    {
     "name": "stdout",
     "output_type": "stream",
     "text": [
      "1042.189354958672\n",
      "274.3665717824339\n",
      "640.0\n",
      "131.87708116319445\n",
      "Height: 720 , Width: 1280\n",
      "left_curverad: 1229.4966327198074 m"
     ]
    },
    {
     "name": "stderr",
     "output_type": "stream",
     "text": [
      "\r",
      "t:  74%|███████████████████▏      | 357/485 [01:18<00:27,  4.61it/s, now=None]"
     ]
    },
    {
     "name": "stdout",
     "output_type": "stream",
     "text": [
      " , right_curverad: 828.7168306029978 m\n",
      "1044.1229326038435\n",
      "276.15177418290637\n",
      "640.0\n",
      "131.628740234375\n",
      "Height: 720 , Width: 1280\n",
      "left_curverad: 4312.928215410022 m , right_curverad: 1016.1156708195307 m\n"
     ]
    },
    {
     "name": "stderr",
     "output_type": "stream",
     "text": [
      "\r",
      "t:  74%|███████████████████▏      | 358/485 [01:18<00:27,  4.58it/s, now=None]"
     ]
    },
    {
     "name": "stdout",
     "output_type": "stream",
     "text": [
      "1041.29382729676\n",
      "270.84699013637425\n",
      "640.0\n",
      "131.52347981770833\n",
      "Height: 720 , Width: 1280\n",
      "left_curverad: 2763.5661725184887 m , right_curverad: 1129.8654742900933 m\n"
     ]
    },
    {
     "name": "stderr",
     "output_type": "stream",
     "text": [
      "\r",
      "t:  74%|███████████████████▏      | 359/485 [01:19<00:27,  4.59it/s, now=None]"
     ]
    },
    {
     "name": "stdout",
     "output_type": "stream",
     "text": [
      "1039.7146872037579\n",
      "271.4546148170747\n",
      "640.0\n",
      "131.3722905815972\n",
      "Height: 720 , Width: 1280\n",
      "left_curverad:"
     ]
    },
    {
     "name": "stderr",
     "output_type": "stream",
     "text": [
      "\r",
      "t:  74%|███████████████████▎      | 360/485 [01:19<00:27,  4.57it/s, now=None]"
     ]
    },
    {
     "name": "stdout",
     "output_type": "stream",
     "text": [
      " 105487.50252068017 m , right_curverad: 1301.162479895203 m\n",
      "1038.4459481345177\n",
      "267.95558549404507\n",
      "640.0\n",
      "131.336552734375\n",
      "Height: 720 , Width: 1280\n",
      "left_curverad: 2680.0530336405864 m , right_curverad: 1110.6860302228645 m\n"
     ]
    },
    {
     "name": "stderr",
     "output_type": "stream",
     "text": [
      "\r",
      "t:  74%|███████████████████▎      | 361/485 [01:19<00:26,  4.64it/s, now=None]"
     ]
    },
    {
     "name": "stdout",
     "output_type": "stream",
     "text": [
      "1036.4520397414603\n",
      "270.84090282642353\n",
      "640.0\n",
      "130.9586990017361\n",
      "Height: 720 , Width: 1280\n",
      "left_curverad: 2718.430412153827 m , right_curverad: 1348.5744295293548 m\n",
      "1034.0815971599839\n",
      "271.95292200969914\n",
      "640.0\n"
     ]
    },
    {
     "name": "stderr",
     "output_type": "stream",
     "text": [
      "\r",
      "t:  75%|███████████████████▍      | 362/485 [01:19<00:26,  4.72it/s, now=None]"
     ]
    },
    {
     "name": "stdout",
     "output_type": "stream",
     "text": [
      "131.05267903645833\n",
      "Height: 720 , Width: 1280\n",
      "left_curverad: 4447.817956793117 m , right_curverad: 1302.482183591365 m\n",
      "1031.7068710716717\n",
      "271.17890116700585\n",
      "640.0\n"
     ]
    },
    {
     "name": "stderr",
     "output_type": "stream",
     "text": [
      "\r",
      "t:  75%|███████████████████▍      | 363/485 [01:19<00:26,  4.64it/s, now=None]"
     ]
    },
    {
     "name": "stdout",
     "output_type": "stream",
     "text": [
      "130.88143771701388\n",
      "Height: 720 , Width: 1280\n",
      "left_curverad: 34493.58709851089 m , right_curverad: 1402.837627017548 m\n",
      "1031.310954338796\n",
      "269.0784680178754\n",
      "640.0\n"
     ]
    },
    {
     "name": "stderr",
     "output_type": "stream",
     "text": [
      "\r",
      "t:  75%|███████████████████▌      | 364/485 [01:20<00:26,  4.56it/s, now=None]"
     ]
    },
    {
     "name": "stdout",
     "output_type": "stream",
     "text": [
      "130.83772569444446\n",
      "Height: 720 , Width: 1280\n",
      "left_curverad: 6213.29827847347 m , right_curverad: 1363.071875896519 m\n",
      "1028.3942398343866\n",
      "268.60382204196924\n",
      "640.0\n"
     ]
    },
    {
     "name": "stderr",
     "output_type": "stream",
     "text": [
      "\r",
      "t:  75%|███████████████████▌      | 365/485 [01:20<00:26,  4.60it/s, now=None]"
     ]
    },
    {
     "name": "stdout",
     "output_type": "stream",
     "text": [
      "130.6690625\n",
      "Height: 720 , Width: 1280\n",
      "left_curverad: 4792.355081102082 m , right_curverad: 1326.8787522082594 m\n",
      "1028.6107017660775\n",
      "269.24192280551864\n",
      "640.0\n"
     ]
    },
    {
     "name": "stderr",
     "output_type": "stream",
     "text": [
      "\r",
      "t:  75%|███████████████████▌      | 366/485 [01:20<00:25,  4.69it/s, now=None]"
     ]
    },
    {
     "name": "stdout",
     "output_type": "stream",
     "text": [
      "130.7175857204861\n",
      "Height: 720 , Width: 1280\n",
      "left_curverad: 7097.304999235045 m , right_curverad: 1190.6222491065123 m\n",
      "1025.2608291200904\n",
      "274.5107261147082\n",
      "640.0\n"
     ]
    },
    {
     "name": "stderr",
     "output_type": "stream",
     "text": [
      "\r",
      "t:  76%|███████████████████▋      | 367/485 [01:20<00:25,  4.68it/s, now=None]"
     ]
    },
    {
     "name": "stdout",
     "output_type": "stream",
     "text": [
      "130.76403537326388\n",
      "Height: 720 , Width: 1280\n",
      "left_curverad: 6080.840358931588 m , right_curverad: 1000.3216020191232 m\n",
      "1028.4587199601838\n",
      "274.3225693279684\n",
      "640.0\n"
     ]
    },
    {
     "name": "stderr",
     "output_type": "stream",
     "text": [
      "\r",
      "t:  76%|███████████████████▋      | 368/485 [01:21<00:25,  4.60it/s, now=None]"
     ]
    },
    {
     "name": "stdout",
     "output_type": "stream",
     "text": [
      "130.86274739583334\n",
      "Height: 720 , Width: 1280\n",
      "left_curverad: 3792.9207167697027 m , right_curverad: 432.05221543455013 m\n",
      "1046.7877761082839\n",
      "273.12824410623773\n",
      "640.0\n"
     ]
    },
    {
     "name": "stderr",
     "output_type": "stream",
     "text": [
      "\r",
      "t:  76%|███████████████████▊      | 369/485 [01:21<00:25,  4.63it/s, now=None]"
     ]
    },
    {
     "name": "stdout",
     "output_type": "stream",
     "text": [
      "130.98284396701388\n",
      "Height: 720 , Width: 1280\n",
      "left_curverad: 54157.0272022512 m , right_curverad: 652.5185511508525 m\n",
      "1032.4219424221599\n",
      "274.9966124239869\n",
      "640.0\n"
     ]
    },
    {
     "name": "stderr",
     "output_type": "stream",
     "text": [
      "\r",
      "t:  76%|███████████████████▊      | 370/485 [01:21<00:24,  4.72it/s, now=None]"
     ]
    },
    {
     "name": "stdout",
     "output_type": "stream",
     "text": [
      "130.8415115017361\n",
      "Height: 720 , Width: 1280\n",
      "left_curverad: 12055.570673664772 m , right_curverad: 543.6276263745691 m\n",
      "1039.8690754225154\n",
      "274.0445095941686\n",
      "640.0\n"
     ]
    },
    {
     "name": "stderr",
     "output_type": "stream",
     "text": [
      "\r",
      "t:  76%|███████████████████▉      | 371/485 [01:21<00:24,  4.71it/s, now=None]"
     ]
    },
    {
     "name": "stdout",
     "output_type": "stream",
     "text": [
      "130.87140733506945\n",
      "Height: 720 , Width: 1280\n",
      "left_curverad: 17955.977599063193 m , right_curverad: 574.5012525040424 m\n",
      "1037.8904735164137\n",
      "272.6581757747578\n",
      "640.0\n"
     ]
    },
    {
     "name": "stderr",
     "output_type": "stream",
     "text": [
      "\r",
      "t:  77%|███████████████████▉      | 372/485 [01:21<00:24,  4.64it/s, now=None]"
     ]
    },
    {
     "name": "stdout",
     "output_type": "stream",
     "text": [
      "130.8425\n",
      "Height: 720 , Width: 1280\n",
      "left_curverad: 10210.564245347869 m , right_curverad: 581.3734759299047 m\n",
      "1037.246575240805\n",
      "271.4054794154162\n",
      "640.0\n"
     ]
    },
    {
     "name": "stderr",
     "output_type": "stream",
     "text": [
      "\r",
      "t:  77%|███████████████████▉      | 373/485 [01:22<00:23,  4.71it/s, now=None]"
     ]
    },
    {
     "name": "stdout",
     "output_type": "stream",
     "text": [
      "130.8636697048611\n",
      "Height: 720 , Width: 1280\n",
      "left_curverad: 2809.621996726956 m , right_curverad: 624.1112973403551 m\n",
      "1033.8827045740406\n",
      "271.4598247972833\n",
      "640.0\n"
     ]
    },
    {
     "name": "stderr",
     "output_type": "stream",
     "text": [
      "\r",
      "t:  77%|████████████████████      | 374/485 [01:22<00:23,  4.71it/s, now=None]"
     ]
    },
    {
     "name": "stdout",
     "output_type": "stream",
     "text": [
      "130.983056640625\n",
      "Height: 720 , Width: 1280\n",
      "left_curverad: 14872.763595572791 m , right_curverad: 602.918630454968 m\n",
      "1032.3483149506096\n",
      "268.4040903714003\n",
      "640.0\n"
     ]
    },
    {
     "name": "stderr",
     "output_type": "stream",
     "text": [
      "\r",
      "t:  77%|████████████████████      | 375/485 [01:22<00:23,  4.71it/s, now=None]"
     ]
    },
    {
     "name": "stdout",
     "output_type": "stream",
     "text": [
      "131.04667426215278\n",
      "Height: 720 , Width: 1280\n",
      "left_curverad: 1745.0776785825424 m , right_curverad: 658.5569693853154 m\n",
      "1031.1264329346338\n",
      "271.7763607958711\n",
      "640.0\n"
     ]
    },
    {
     "name": "stderr",
     "output_type": "stream",
     "text": [
      "\r",
      "t:  78%|████████████████████▏     | 376/485 [01:22<00:23,  4.64it/s, now=None]"
     ]
    },
    {
     "name": "stdout",
     "output_type": "stream",
     "text": [
      "131.18170681423612\n",
      "Height: 720 , Width: 1280\n",
      "left_curverad: 1989.1318936377772 m , right_curverad: 638.5111636054626 m\n",
      "1027.7987639080527\n",
      "270.64719010960147\n",
      "640.0\n"
     ]
    },
    {
     "name": "stderr",
     "output_type": "stream",
     "text": [
      "\r",
      "t:  78%|████████████████████▏     | 377/485 [01:22<00:23,  4.64it/s, now=None]"
     ]
    },
    {
     "name": "stdout",
     "output_type": "stream",
     "text": [
      "131.23446940104168\n",
      "Height: 720 , Width: 1280\n"
     ]
    },
    {
     "name": "stderr",
     "output_type": "stream",
     "text": [
      "\r",
      "t:  78%|████████████████████▎     | 378/485 [01:23<00:25,  4.22it/s, now=None]"
     ]
    },
    {
     "name": "stdout",
     "output_type": "stream",
     "text": [
      "left_curverad: 2898.2070143690116 m , right_curverad: 658.5285243167694 m\n",
      "1028.0135862152865\n",
      "268.8280254665773\n",
      "640.0\n",
      "131.3697384982639\n",
      "Height: 720 , Width: 1280\n",
      "left_curverad: 2857.31462996707 m , right_curverad: 656.2441844956967 m\n"
     ]
    },
    {
     "name": "stderr",
     "output_type": "stream",
     "text": [
      "\r",
      "t:  78%|████████████████████▎     | 379/485 [01:23<00:24,  4.41it/s, now=None]"
     ]
    },
    {
     "name": "stdout",
     "output_type": "stream",
     "text": [
      "1023.6016372988455\n",
      "268.35198331875756\n",
      "640.0\n",
      "131.38715494791666\n",
      "Height: 720 , Width: 1280\n",
      "left_curverad: 1514.0655315975282 m , right_curverad: 676.3520165865114 m\n"
     ]
    },
    {
     "name": "stderr",
     "output_type": "stream",
     "text": [
      "\r",
      "t:  78%|████████████████████▎     | 380/485 [01:23<00:23,  4.44it/s, now=None]"
     ]
    },
    {
     "name": "stdout",
     "output_type": "stream",
     "text": [
      "1025.999092318951\n",
      "269.58736512452435\n",
      "640.0\n",
      "131.46251302083334\n",
      "Height: 720 , Width: 1280\n"
     ]
    },
    {
     "name": "stderr",
     "output_type": "stream",
     "text": [
      "\r",
      "t:  79%|████████████████████▍     | 381/485 [01:23<00:23,  4.43it/s, now=None]"
     ]
    },
    {
     "name": "stdout",
     "output_type": "stream",
     "text": [
      "left_curverad: 1587.0243471015926 m , right_curverad: 664.2538841999499 m\n",
      "1024.5475174907751\n",
      "267.9761893472046\n",
      "640.0\n",
      "131.48730794270833\n",
      "Height: 720 , Width: 1280\n"
     ]
    },
    {
     "name": "stderr",
     "output_type": "stream",
     "text": [
      "\r",
      "t:  79%|████████████████████▍     | 382/485 [01:24<00:23,  4.42it/s, now=None]"
     ]
    },
    {
     "name": "stdout",
     "output_type": "stream",
     "text": [
      "left_curverad: 1063.7112339300274 m , right_curverad: 648.1425922862851 m\n",
      "1027.7300580793285\n",
      "267.2861550844034\n",
      "640.0\n",
      "131.54369683159723\n",
      "Height: 720 , Width: 1280\n"
     ]
    },
    {
     "name": "stderr",
     "output_type": "stream",
     "text": [
      "\r",
      "t:  79%|████████████████████▌     | 383/485 [01:24<00:23,  4.43it/s, now=None]"
     ]
    },
    {
     "name": "stdout",
     "output_type": "stream",
     "text": [
      "left_curverad: 1697.8587594351645 m , right_curverad: 726.7999399395565 m\n",
      "1024.2895610155201\n",
      "261.42640105203736\n",
      "640.0\n",
      "131.716630859375\n",
      "Height: 720 , Width: 1280\n",
      "left_curverad: "
     ]
    },
    {
     "name": "stderr",
     "output_type": "stream",
     "text": [
      "\r",
      "t:  79%|████████████████████▌     | 384/485 [01:24<00:22,  4.52it/s, now=None]"
     ]
    },
    {
     "name": "stdout",
     "output_type": "stream",
     "text": [
      "1379.1009505735942 m , right_curverad: 659.589023960105 m\n",
      "1026.267073353108\n",
      "259.1134104068481\n",
      "640.0\n",
      "131.80395833333333\n",
      "Height: 720 , Width: 1280\n"
     ]
    },
    {
     "name": "stderr",
     "output_type": "stream",
     "text": [
      "\r",
      "t:  79%|████████████████████▋     | 385/485 [01:24<00:21,  4.60it/s, now=None]"
     ]
    },
    {
     "name": "stdout",
     "output_type": "stream",
     "text": [
      "left_curverad: 1561.9849848612776 m , right_curverad: 772.7287985226498 m\n",
      "1022.8610771056899\n",
      "255.78440430813416\n",
      "640.0\n",
      "132.07520182291665\n",
      "Height: 720 , Width: 1280\n"
     ]
    },
    {
     "name": "stderr",
     "output_type": "stream",
     "text": [
      "\r",
      "t:  80%|████████████████████▋     | 386/485 [01:25<00:22,  4.48it/s, now=None]"
     ]
    },
    {
     "name": "stdout",
     "output_type": "stream",
     "text": [
      "left_curverad: 1226.8403298472265 m , right_curverad: 602.037624962971 m\n",
      "1026.2960254931613\n",
      "257.2665007063227\n",
      "640.0\n",
      "132.13190972222222\n",
      "Height: 720 , Width: 1280\n"
     ]
    },
    {
     "name": "stderr",
     "output_type": "stream",
     "text": [
      "\r",
      "t:  80%|████████████████████▋     | 387/485 [01:25<00:21,  4.47it/s, now=None]"
     ]
    },
    {
     "name": "stdout",
     "output_type": "stream",
     "text": [
      "left_curverad: 1376.9675618177305 m , right_curverad: 672.9362450191297 m\n",
      "1019.0821485202713\n",
      "255.14230111068053\n",
      "640.0\n",
      "132.0774728732639\n",
      "Height: 720 , Width: 1280\n"
     ]
    },
    {
     "name": "stderr",
     "output_type": "stream",
     "text": [
      "\r",
      "t:  80%|████████████████████▊     | 388/485 [01:25<00:21,  4.46it/s, now=None]"
     ]
    },
    {
     "name": "stdout",
     "output_type": "stream",
     "text": [
      "left_curverad: 2378.937195540391 m , right_curverad: 641.6367268250225 m\n",
      "1017.7403030781039\n",
      "253.4961978409782\n",
      "640.0\n",
      "131.86296223958334\n",
      "Height: 720 , Width: 1280\n"
     ]
    },
    {
     "name": "stderr",
     "output_type": "stream",
     "text": [
      "\r",
      "t:  80%|████████████████████▊     | 389/485 [01:25<00:22,  4.36it/s, now=None]"
     ]
    },
    {
     "name": "stdout",
     "output_type": "stream",
     "text": [
      "left_curverad: 3987.3842336921 m , right_curverad: 682.8352176423507 m\n",
      "1014.8855547614805\n",
      "248.5985032973261\n",
      "640.0\n",
      "131.70503255208334\n",
      "Height: 720 , Width: 1280\n"
     ]
    },
    {
     "name": "stderr",
     "output_type": "stream",
     "text": [
      "\r",
      "t:  80%|████████████████████▉     | 390/485 [01:25<00:22,  4.15it/s, now=None]"
     ]
    },
    {
     "name": "stdout",
     "output_type": "stream",
     "text": [
      "left_curverad: 2298.8326212292627 m , right_curverad: 701.2468929795019 m\n",
      "1014.621686421701\n",
      "246.91152065780557\n",
      "640.0\n",
      "131.53354926215277\n",
      "Height: 720 , Width: 1280\n"
     ]
    },
    {
     "name": "stderr",
     "output_type": "stream",
     "text": [
      "\r",
      "t:  81%|████████████████████▉     | 391/485 [01:26<00:23,  4.04it/s, now=None]"
     ]
    },
    {
     "name": "stdout",
     "output_type": "stream",
     "text": [
      "left_curverad: 1896.7554181630867 m , right_curverad: 712.4393303504753 m\n",
      "1015.4593158420548\n",
      "244.20641553067043\n",
      "640.0\n",
      "131.16479709201388\n",
      "Height: 720 , Width: 1280\n"
     ]
    },
    {
     "name": "stderr",
     "output_type": "stream",
     "text": [
      "\r",
      "t:  81%|█████████████████████     | 392/485 [01:26<00:22,  4.08it/s, now=None]"
     ]
    },
    {
     "name": "stdout",
     "output_type": "stream",
     "text": [
      "left_curverad: 985.9900922557327 m , right_curverad: 689.1710419308836 m\n",
      "1014.7535052196946\n",
      "247.3131842639026\n",
      "640.0\n",
      "131.06055447048612\n",
      "Height: 720 , Width: 1280\n",
      "left_curverad: 968.6397276656197 m , right_curverad: 729.8956742272255 m\n"
     ]
    },
    {
     "name": "stderr",
     "output_type": "stream",
     "text": [
      "\r",
      "t:  81%|█████████████████████     | 393/485 [01:26<00:21,  4.28it/s, now=None]"
     ]
    },
    {
     "name": "stdout",
     "output_type": "stream",
     "text": [
      "1010.9047101581689\n",
      "244.99121195595956\n",
      "640.0\n",
      "130.75079210069444\n",
      "Height: 720 , Width: 1280\n",
      "left_curverad: 1041.4565814983082 m , right_curverad: 721.4832208363594 m\n"
     ]
    },
    {
     "name": "stderr",
     "output_type": "stream",
     "text": [
      "\r",
      "t:  81%|█████████████████████     | 394/485 [01:26<00:21,  4.22it/s, now=None]"
     ]
    },
    {
     "name": "stdout",
     "output_type": "stream",
     "text": [
      "1010.139871801274\n",
      "244.33730275667813\n",
      "640.0\n",
      "130.21607313368057\n",
      "Height: 720 , Width: 1280\n",
      "left_curverad: 1100.784359680417 m , right_curverad: 692.0932918108819 m\n"
     ]
    },
    {
     "name": "stderr",
     "output_type": "stream",
     "text": [
      "\r",
      "t:  81%|█████████████████████▏    | 395/485 [01:27<00:21,  4.24it/s, now=None]"
     ]
    },
    {
     "name": "stdout",
     "output_type": "stream",
     "text": [
      "1010.4331120034796\n",
      "242.45120570667945\n",
      "640.0\n",
      "129.74959092881946\n",
      "Height: 720 , Width: 1280\n"
     ]
    },
    {
     "name": "stderr",
     "output_type": "stream",
     "text": [
      "\r",
      "t:  82%|█████████████████████▏    | 396/485 [01:27<00:20,  4.28it/s, now=None]"
     ]
    },
    {
     "name": "stdout",
     "output_type": "stream",
     "text": [
      "left_curverad: 937.2098887610234 m , right_curverad: 866.4419007915137 m\n",
      "1005.6401299093442\n",
      "244.04364774543623\n",
      "640.0\n",
      "129.23971571180556\n",
      "Height: 720 , Width: 1280\n"
     ]
    },
    {
     "name": "stderr",
     "output_type": "stream",
     "text": [
      "\r",
      "t:  82%|█████████████████████▎    | 397/485 [01:27<00:20,  4.40it/s, now=None]"
     ]
    },
    {
     "name": "stdout",
     "output_type": "stream",
     "text": [
      "left_curverad: 1296.1509872629738 m , right_curverad: 1224.8464608800755 m\n",
      "1000.0214846883009\n",
      "239.87107308471087\n",
      "640.0\n",
      "128.96077256944446\n",
      "Height: 720 , Width: 1280\n"
     ]
    },
    {
     "name": "stderr",
     "output_type": "stream",
     "text": [
      "\r",
      "t:  82%|█████████████████████▎    | 398/485 [01:27<00:19,  4.44it/s, now=None]"
     ]
    },
    {
     "name": "stdout",
     "output_type": "stream",
     "text": [
      "left_curverad: 1297.9829491432565 m , right_curverad: 1443.050489665311 m\n",
      "998.3131177192727\n",
      "239.58802342964077\n",
      "640.0\n",
      "128.58329427083333\n",
      "Height: 720 , Width: 1280\n"
     ]
    },
    {
     "name": "stderr",
     "output_type": "stream",
     "text": [
      "\r",
      "t:  82%|█████████████████████▍    | 399/485 [01:28<00:19,  4.37it/s, now=None]"
     ]
    },
    {
     "name": "stdout",
     "output_type": "stream",
     "text": [
      "left_curverad: 2797.900485306578 m , right_curverad: 1225.4596828663982 m\n",
      "1001.4505837553484\n",
      "238.24476718213356\n",
      "640.0\n",
      "128.33296440972222\n",
      "Height: 720 , Width: 1280\n"
     ]
    },
    {
     "name": "stderr",
     "output_type": "stream",
     "text": [
      "\r",
      "t:  82%|█████████████████████▍    | 400/485 [01:28<00:19,  4.32it/s, now=None]"
     ]
    },
    {
     "name": "stdout",
     "output_type": "stream",
     "text": [
      "left_curverad: 1352.0466497682544 m , right_curverad: 2529.0054923148627 m\n",
      "994.9864822155139\n",
      "244.57850225117318\n",
      "640.0\n",
      "127.72332139756945\n",
      "Height: 720 , Width: 1280\n"
     ]
    },
    {
     "name": "stderr",
     "output_type": "stream",
     "text": [
      "\r",
      "t:  83%|█████████████████████▍    | 401/485 [01:28<00:18,  4.45it/s, now=None]"
     ]
    },
    {
     "name": "stdout",
     "output_type": "stream",
     "text": [
      "left_curverad: 5079.776251819019 m , right_curverad: 1941.1539107232873 m\n",
      "998.2862245417086\n",
      "239.43532724850792\n",
      "640.0\n",
      "127.11422092013889\n",
      "Height: 720 , Width: 1280\n"
     ]
    },
    {
     "name": "stderr",
     "output_type": "stream",
     "text": [
      "\r",
      "t:  83%|█████████████████████▌    | 402/485 [01:28<00:18,  4.48it/s, now=None]"
     ]
    },
    {
     "name": "stdout",
     "output_type": "stream",
     "text": [
      "left_curverad: 1711.7335871241876 m , right_curverad: 4085.7254877035352 m\n",
      "997.0818418692767\n",
      "241.81842672224656\n",
      "640.0\n",
      "126.36297960069444\n",
      "Height: 720 , Width: 1280\n"
     ]
    },
    {
     "name": "stderr",
     "output_type": "stream",
     "text": [
      "\r",
      "t:  83%|█████████████████████▌    | 403/485 [01:28<00:18,  4.34it/s, now=None]"
     ]
    },
    {
     "name": "stdout",
     "output_type": "stream",
     "text": [
      "left_curverad: 3270.1365934985542 m , right_curverad: 3700.890506205337 m\n",
      "1002.0069318776984\n",
      "238.96388940490908\n",
      "640.0\n",
      "125.91259114583333\n",
      "Height: 720 , Width: 1280\n"
     ]
    },
    {
     "name": "stderr",
     "output_type": "stream",
     "text": [
      "\r",
      "t:  83%|█████████████████████▋    | 404/485 [01:29<00:18,  4.40it/s, now=None]"
     ]
    },
    {
     "name": "stdout",
     "output_type": "stream",
     "text": [
      "left_curverad: 3446.782676726568 m , right_curverad: 4294.965919523275 m\n",
      "1004.9862065667805\n",
      "240.69927553885563\n",
      "640.0\n",
      "125.53505533854167\n",
      "Height: 720 , Width: 1280\n"
     ]
    },
    {
     "name": "stderr",
     "output_type": "stream",
     "text": [
      "\r",
      "t:  84%|█████████████████████▋    | 405/485 [01:29<00:17,  4.51it/s, now=None]"
     ]
    },
    {
     "name": "stdout",
     "output_type": "stream",
     "text": [
      "left_curverad: 2012.5881585484829 m , right_curverad: 4260.828707606775 m\n",
      "1005.7388085995253\n",
      "242.50146272900622\n",
      "640.0\n",
      "125.48375217013889\n",
      "Height: 720 , Width: 1280\n"
     ]
    },
    {
     "name": "stderr",
     "output_type": "stream",
     "text": [
      "\r",
      "t:  84%|█████████████████████▊    | 406/485 [01:29<00:17,  4.43it/s, now=None]"
     ]
    },
    {
     "name": "stdout",
     "output_type": "stream",
     "text": [
      "left_curverad: 2071.212716500202 m , right_curverad: 2465.6125298297593 m\n",
      "1008.0398690727075\n",
      "243.87727785967783\n",
      "640.0\n",
      "125.1267578125\n",
      "Height: 720 , Width: 1280\n"
     ]
    },
    {
     "name": "stderr",
     "output_type": "stream",
     "text": [
      "\r",
      "t:  84%|█████████████████████▊    | 407/485 [01:29<00:18,  4.22it/s, now=None]"
     ]
    },
    {
     "name": "stdout",
     "output_type": "stream",
     "text": [
      "left_curverad: 7023.628834466706 m , right_curverad: 3076.4251233581545 m\n",
      "1009.5420361718157\n",
      "247.16529505474654\n",
      "640.0\n",
      "125.05316840277777\n",
      "Height: 720 , Width: 1280\n"
     ]
    },
    {
     "name": "stderr",
     "output_type": "stream",
     "text": [
      "\r",
      "t:  84%|█████████████████████▊    | 408/485 [01:30<00:18,  4.22it/s, now=None]"
     ]
    },
    {
     "name": "stdout",
     "output_type": "stream",
     "text": [
      "left_curverad: 14747.91788792073 m , right_curverad: 4414.612641614315 m\n",
      "1008.0000991174568\n",
      "246.746999228464\n",
      "640.0\n",
      "124.83710286458333\n",
      "Height: 720 , Width: 1280\n"
     ]
    },
    {
     "name": "stderr",
     "output_type": "stream",
     "text": [
      "\r",
      "t:  84%|█████████████████████▉    | 409/485 [01:30<00:17,  4.23it/s, now=None]"
     ]
    },
    {
     "name": "stdout",
     "output_type": "stream",
     "text": [
      "left_curverad: 2930.052583738989 m , right_curverad: 3104.5757244656 m\n",
      "1007.5795554864517\n",
      "251.48505807733068\n",
      "640.0\n",
      "124.48574110243055\n",
      "Height: 720 , Width: 1280\n"
     ]
    },
    {
     "name": "stderr",
     "output_type": "stream",
     "text": [
      "\r",
      "t:  85%|█████████████████████▉    | 410/485 [01:30<00:17,  4.21it/s, now=None]"
     ]
    },
    {
     "name": "stdout",
     "output_type": "stream",
     "text": [
      "left_curverad: 17232.499670662288 m , right_curverad: 3935.028850012886 m\n",
      "1012.2356302208884\n",
      "251.89912611702675\n",
      "640.0\n",
      "124.22489149305555\n",
      "Height: 720 , Width: 1280\n"
     ]
    },
    {
     "name": "stderr",
     "output_type": "stream",
     "text": [
      "\r",
      "t:  85%|██████████████████████    | 411/485 [01:30<00:17,  4.25it/s, now=None]"
     ]
    },
    {
     "name": "stdout",
     "output_type": "stream",
     "text": [
      "left_curverad: 4071.1651119177914 m , right_curverad: 6190.084479198643 m\n",
      "1014.4799314164051\n",
      "253.77594913635463\n",
      "640.0\n",
      "123.7102224392361\n",
      "Height: 720 , Width: 1280\n"
     ]
    },
    {
     "name": "stderr",
     "output_type": "stream",
     "text": [
      "\r",
      "t:  85%|██████████████████████    | 412/485 [01:31<00:17,  4.28it/s, now=None]"
     ]
    },
    {
     "name": "stdout",
     "output_type": "stream",
     "text": [
      "left_curverad: 1973.0593862014632 m , right_curverad: 6805.42295031621 m\n",
      "1016.9492751308213\n",
      "257.4202725957871\n",
      "640.0\n",
      "123.60474175347223\n",
      "Height: 720 , Width: 1280\n"
     ]
    },
    {
     "name": "stderr",
     "output_type": "stream",
     "text": [
      "\r",
      "t:  85%|██████████████████████▏   | 413/485 [01:31<00:16,  4.29it/s, now=None]"
     ]
    },
    {
     "name": "stdout",
     "output_type": "stream",
     "text": [
      "left_curverad: 2553.534737903921 m , right_curverad: 43293.85574622485 m\n",
      "1021.1399518098807\n",
      "254.50674107432732\n",
      "640.0\n",
      "123.32733940972223\n",
      "Height: 720 , Width: 1280\n"
     ]
    },
    {
     "name": "stderr",
     "output_type": "stream",
     "text": [
      "\r",
      "t:  85%|██████████████████████▏   | 414/485 [01:31<00:17,  4.04it/s, now=None]"
     ]
    },
    {
     "name": "stdout",
     "output_type": "stream",
     "text": [
      "left_curverad: 2944.0770457328113 m , right_curverad: 12516.694070151623 m\n",
      "1023.4682787512056\n",
      "254.37016545645875\n",
      "640.0\n",
      "122.98167317708334\n",
      "Height: 720 , Width: 1280\n"
     ]
    },
    {
     "name": "stderr",
     "output_type": "stream",
     "text": [
      "\r",
      "t:  86%|██████████████████████▏   | 415/485 [01:31<00:17,  3.99it/s, now=None]"
     ]
    },
    {
     "name": "stdout",
     "output_type": "stream",
     "text": [
      "left_curverad: 9581.870745314502 m , right_curverad: 8180.333043502237 m\n",
      "1024.10888444306\n",
      "252.06098630214035\n",
      "640.0\n",
      "122.66173719618055\n",
      "Height: 720 , Width: 1280\n"
     ]
    },
    {
     "name": "stderr",
     "output_type": "stream",
     "text": [
      "\r",
      "t:  86%|██████████████████████▎   | 416/485 [01:32<00:17,  3.87it/s, now=None]"
     ]
    },
    {
     "name": "stdout",
     "output_type": "stream",
     "text": [
      "left_curverad: 2704.4223673642 m , right_curverad: 8506.252391423892 m\n",
      "1023.6302442406404\n",
      "249.17171643605798\n",
      "640.0\n",
      "122.171396484375\n",
      "Height: 720 , Width: 1280\n"
     ]
    },
    {
     "name": "stderr",
     "output_type": "stream",
     "text": [
      "\r",
      "t:  86%|██████████████████████▎   | 417/485 [01:32<00:16,  4.08it/s, now=None]"
     ]
    },
    {
     "name": "stdout",
     "output_type": "stream",
     "text": [
      "left_curverad: 2348.4227462536423 m , right_curverad: 7118.92298224989 m\n",
      "1025.1991362954561\n",
      "251.25160540396223\n",
      "640.0\n",
      "121.74179144965278\n",
      "Height: 720 , Width: 1280\n"
     ]
    },
    {
     "name": "stderr",
     "output_type": "stream",
     "text": [
      "\r",
      "t:  86%|██████████████████████▍   | 418/485 [01:32<00:15,  4.20it/s, now=None]"
     ]
    },
    {
     "name": "stdout",
     "output_type": "stream",
     "text": [
      "left_curverad: 2846.409157879959 m , right_curverad: 3279.0986673151087 m\n",
      "1027.054236496312\n",
      "254.69968811205376\n",
      "640.0\n",
      "121.43686414930555\n",
      "Height: 720 , Width: 1280\n"
     ]
    },
    {
     "name": "stderr",
     "output_type": "stream",
     "text": [
      "\r",
      "t:  86%|██████████████████████▍   | 419/485 [01:32<00:15,  4.25it/s, now=None]"
     ]
    },
    {
     "name": "stdout",
     "output_type": "stream",
     "text": [
      "left_curverad: 1815.1839967280782 m , right_curverad: 4136.7896220213615 m\n",
      "1030.99234995797\n",
      "255.0574756828341\n",
      "640.0\n",
      "121.44053602430556\n",
      "Height: 720 , Width: 1280\n"
     ]
    },
    {
     "name": "stderr",
     "output_type": "stream",
     "text": [
      "\r",
      "t:  87%|██████████████████████▌   | 420/485 [01:33<00:15,  4.27it/s, now=None]"
     ]
    },
    {
     "name": "stdout",
     "output_type": "stream",
     "text": [
      "left_curverad: 1011.0480739891428 m , right_curverad: 4932.694296532711 m\n",
      "1033.4264549972122\n",
      "253.30930735355722\n",
      "640.0\n",
      "121.34480577256944\n",
      "Height: 720 , Width: 1280\n"
     ]
    },
    {
     "name": "stderr",
     "output_type": "stream",
     "text": [
      "\r",
      "t:  87%|██████████████████████▌   | 421/485 [01:33<00:14,  4.37it/s, now=None]"
     ]
    },
    {
     "name": "stdout",
     "output_type": "stream",
     "text": [
      "left_curverad: 1148.9318316601723 m , right_curverad: 7722.573641287453 m\n",
      "1036.7593804808112\n",
      "255.61801025488506\n",
      "640.0\n",
      "120.88913736979167\n",
      "Height: 720 , Width: 1280\n"
     ]
    },
    {
     "name": "stderr",
     "output_type": "stream",
     "text": [
      "\r",
      "t:  87%|██████████████████████▌   | 422/485 [01:33<00:14,  4.39it/s, now=None]"
     ]
    },
    {
     "name": "stdout",
     "output_type": "stream",
     "text": [
      "left_curverad: 1338.4072455195414 m , right_curverad: 4059.7368297010003 m\n",
      "1038.2246209904902\n",
      "259.2680718846292\n",
      "640.0\n",
      "120.79434027777778\n",
      "Height: 720 , Width: 1280\n",
      "left_curverad: 1371.0818907912108 m , right_curverad: 9217.769252714992 m\n"
     ]
    },
    {
     "name": "stderr",
     "output_type": "stream",
     "text": [
      "\r",
      "t:  87%|██████████████████████▋   | 423/485 [01:33<00:13,  4.43it/s, now=None]"
     ]
    },
    {
     "name": "stdout",
     "output_type": "stream",
     "text": [
      "1045.532335381938\n",
      "258.50719701210954\n",
      "640.0\n",
      "120.74616861979166\n",
      "Height: 720 , Width: 1280\n",
      "left_curverad: 1241.7128180004129 m , right_curverad: 15613.370194100951 m\n"
     ]
    },
    {
     "name": "stderr",
     "output_type": "stream",
     "text": [
      "\r",
      "t:  87%|██████████████████████▋   | 424/485 [01:33<00:14,  4.35it/s, now=None]"
     ]
    },
    {
     "name": "stdout",
     "output_type": "stream",
     "text": [
      "1050.2783540826329\n",
      "256.62448032485514\n",
      "640.0\n",
      "120.93339301215278\n",
      "Height: 720 , Width: 1280\n",
      "left_curverad: 1348.9629068703093 m , right_curverad: 320646.2823589098 m\n"
     ]
    },
    {
     "name": "stderr",
     "output_type": "stream",
     "text": [
      "\r",
      "t:  88%|██████████████████████▊   | 425/485 [01:34<00:13,  4.46it/s, now=None]"
     ]
    },
    {
     "name": "stdout",
     "output_type": "stream",
     "text": [
      "1055.097772990708\n",
      "258.0876473528356\n",
      "640.0\n",
      "121.37988715277778\n",
      "Height: 720 , Width: 1280\n",
      "left_curverad: 774.9520670432827"
     ]
    },
    {
     "name": "stderr",
     "output_type": "stream",
     "text": [
      "\r",
      "t:  88%|██████████████████████▊   | 426/485 [01:34<00:13,  4.46it/s, now=None]"
     ]
    },
    {
     "name": "stdout",
     "output_type": "stream",
     "text": [
      " m , right_curverad: 11114.157982484609 m\n",
      "1055.886335391725\n",
      "254.9795445759014\n",
      "640.0\n",
      "121.8194552951389\n",
      "Height: 720 , Width: 1280\n"
     ]
    },
    {
     "name": "stderr",
     "output_type": "stream",
     "text": [
      "\r",
      "t:  88%|██████████████████████▉   | 427/485 [01:34<00:13,  4.45it/s, now=None]"
     ]
    },
    {
     "name": "stdout",
     "output_type": "stream",
     "text": [
      "left_curverad: 1171.5379072279911 m , right_curverad: 10652.962606487428 m\n",
      "1058.223464756586\n",
      "264.961017236114\n",
      "640.0\n",
      "122.20621527777777\n",
      "Height: 720 , Width: 1280\n",
      "left_curverad: 901.4069364934553 m , right_curverad: 20820.915562723992 m\n"
     ]
    },
    {
     "name": "stderr",
     "output_type": "stream",
     "text": [
      "\r",
      "t:  88%|██████████████████████▉   | 428/485 [01:34<00:12,  4.51it/s, now=None]"
     ]
    },
    {
     "name": "stdout",
     "output_type": "stream",
     "text": [
      "1055.9625035206386\n",
      "264.9755171680951\n",
      "640.0\n",
      "122.52847330729166\n",
      "Height: 720 , Width: 1280\n"
     ]
    },
    {
     "name": "stderr",
     "output_type": "stream",
     "text": [
      "\r",
      "t:  88%|██████████████████████▉   | 429/485 [01:35<00:12,  4.48it/s, now=None]"
     ]
    },
    {
     "name": "stdout",
     "output_type": "stream",
     "text": [
      "left_curverad: 927.6370552039002 m , right_curverad: 1371.0722892842841 m\n",
      "1047.4411906538598\n",
      "270.95458725982525\n",
      "640.0\n",
      "122.857490234375\n",
      "Height: 720 , Width: 1280\n"
     ]
    },
    {
     "name": "stderr",
     "output_type": "stream",
     "text": [
      "\r",
      "t:  89%|███████████████████████   | 430/485 [01:35<00:12,  4.44it/s, now=None]"
     ]
    },
    {
     "name": "stdout",
     "output_type": "stream",
     "text": [
      "left_curverad: 1051.423809890996 m , right_curverad: 1282.41964865609 m\n",
      "1048.671207964923\n",
      "274.30963236192804\n",
      "640.0\n",
      "122.83264539930556\n",
      "Height: 720 , Width: 1280\n",
      "left_curverad: 827.8157667263307 m , right_curverad: 1608.0710384699892 m\n"
     ]
    },
    {
     "name": "stderr",
     "output_type": "stream",
     "text": [
      "\r",
      "t:  89%|███████████████████████   | 431/485 [01:35<00:11,  4.52it/s, now=None]"
     ]
    },
    {
     "name": "stdout",
     "output_type": "stream",
     "text": [
      "1056.116168246545\n",
      "268.87768862408615\n",
      "640.0\n",
      "123.00095269097223\n",
      "Height: 720 , Width: 1280\n",
      "left_curverad: 905.6069655525813 m , right_curverad: 1495.0124623745835 m\n"
     ]
    },
    {
     "name": "stderr",
     "output_type": "stream",
     "text": [
      "\r",
      "t:  89%|███████████████████████▏  | 432/485 [01:35<00:11,  4.55it/s, now=None]"
     ]
    },
    {
     "name": "stdout",
     "output_type": "stream",
     "text": [
      "1058.5303456541697\n",
      "268.9830985593926\n",
      "640.0\n",
      "123.25012044270834\n",
      "Height: 720 , Width: 1280\n",
      "left_curverad: 932.9270228156856 m "
     ]
    },
    {
     "name": "stderr",
     "output_type": "stream",
     "text": [
      "\r",
      "t:  89%|███████████████████████▏  | 433/485 [01:35<00:11,  4.46it/s, now=None]"
     ]
    },
    {
     "name": "stdout",
     "output_type": "stream",
     "text": [
      ", right_curverad: 1861.7790596081359 m\n",
      "1062.8001363915128\n",
      "269.97787071858045\n",
      "640.0\n",
      "123.57133029513889\n",
      "Height: 720 , Width: 1280\n"
     ]
    },
    {
     "name": "stderr",
     "output_type": "stream",
     "text": [
      "\r",
      "t:  89%|███████████████████████▎  | 434/485 [01:36<00:11,  4.42it/s, now=None]"
     ]
    },
    {
     "name": "stdout",
     "output_type": "stream",
     "text": [
      "left_curverad: 985.7363294122615 m , right_curverad: 1382.4809653087498 m\n",
      "1065.3351545496162\n",
      "268.24384489371585\n",
      "640.0\n",
      "123.87581488715277\n",
      "Height: 720 , Width: 1280\n"
     ]
    },
    {
     "name": "stderr",
     "output_type": "stream",
     "text": [
      "\r",
      "t:  90%|███████████████████████▎  | 435/485 [01:36<00:11,  4.46it/s, now=None]"
     ]
    },
    {
     "name": "stdout",
     "output_type": "stream",
     "text": [
      "left_curverad: 996.7811811611929 m , right_curverad: 1870.0051294843302 m\n",
      "1068.8087850425418\n",
      "267.7395864866809\n",
      "640.0\n",
      "124.13019965277778\n",
      "Height: 720 , Width: 1280\n"
     ]
    },
    {
     "name": "stderr",
     "output_type": "stream",
     "text": [
      "\r",
      "t:  90%|███████████████████████▎  | 436/485 [01:36<00:11,  4.45it/s, now=None]"
     ]
    },
    {
     "name": "stdout",
     "output_type": "stream",
     "text": [
      "left_curverad: 1031.6049958499013 m , right_curverad: 1769.7347696326174 m\n",
      "1069.9981920824755\n",
      "267.8689838072414\n",
      "640.0\n",
      "124.60960394965278\n",
      "Height: 720 , Width: 1280\n",
      "left_curverad: 957.7617540042974 m , right_curverad: 1535.8727688482268 m\n"
     ]
    },
    {
     "name": "stderr",
     "output_type": "stream",
     "text": [
      "\r",
      "t:  90%|███████████████████████▍  | 437/485 [01:36<00:10,  4.58it/s, now=None]"
     ]
    },
    {
     "name": "stdout",
     "output_type": "stream",
     "text": [
      "1068.8675955746055\n",
      "269.2465865275243\n",
      "640.0\n",
      "124.95738172743056\n",
      "Height: 720 , Width: 1280\n"
     ]
    },
    {
     "name": "stderr",
     "output_type": "stream",
     "text": [
      "\r",
      "t:  90%|███████████████████████▍  | 438/485 [01:37<00:10,  4.40it/s, now=None]"
     ]
    },
    {
     "name": "stdout",
     "output_type": "stream",
     "text": [
      "left_curverad: 973.6749833908514 m , right_curverad: 1093.185661119806 m\n",
      "1062.048464092926\n",
      "268.69954476701963\n",
      "640.0\n",
      "125.34806857638888\n",
      "Height: 720 , Width: 1280\n"
     ]
    },
    {
     "name": "stderr",
     "output_type": "stream",
     "text": [
      "\r",
      "t:  91%|███████████████████████▌  | 439/485 [01:37<00:10,  4.33it/s, now=None]"
     ]
    },
    {
     "name": "stdout",
     "output_type": "stream",
     "text": [
      "left_curverad: 782.576526656792 m , right_curverad: 968.7720628719669 m\n",
      "1062.073991262102\n",
      "268.8056334644165\n",
      "640.0\n",
      "125.71752170138889\n",
      "Height: 720 , Width: 1280\n"
     ]
    },
    {
     "name": "stderr",
     "output_type": "stream",
     "text": [
      "\r",
      "t:  91%|███████████████████████▌  | 440/485 [01:37<00:10,  4.47it/s, now=None]"
     ]
    },
    {
     "name": "stdout",
     "output_type": "stream",
     "text": [
      "left_curverad: 721.4067815144709 m , right_curverad: 902.7764000791635 m\n",
      "1062.2129254328763\n",
      "266.1758783979428\n",
      "640.0\n",
      "126.40481662326388\n",
      "Height: 720 , Width: 1280\n"
     ]
    },
    {
     "name": "stderr",
     "output_type": "stream",
     "text": [
      "\r",
      "t:  91%|███████████████████████▋  | 441/485 [01:37<00:09,  4.44it/s, now=None]"
     ]
    },
    {
     "name": "stdout",
     "output_type": "stream",
     "text": [
      "left_curverad: 674.5660980676715 m , right_curverad: 934.2492467519206 m\n",
      "1066.4936973012902\n",
      "268.2361738055969\n",
      "640.0\n",
      "126.78395724826389\n",
      "Height: 720 , Width: 1280\n"
     ]
    },
    {
     "name": "stderr",
     "output_type": "stream",
     "text": [
      "\r",
      "t:  91%|███████████████████████▋  | 442/485 [01:37<00:09,  4.45it/s, now=None]"
     ]
    },
    {
     "name": "stdout",
     "output_type": "stream",
     "text": [
      "left_curverad: 677.9290188785687 m , right_curverad: 1003.893908711449 m\n",
      "1070.2619374290152\n",
      "266.8564688430025\n",
      "640.0\n",
      "127.18192816840278\n",
      "Height: 720 , Width: 1280\n"
     ]
    },
    {
     "name": "stderr",
     "output_type": "stream",
     "text": [
      "\r",
      "t:  91%|███████████████████████▋  | 443/485 [01:38<00:09,  4.45it/s, now=None]"
     ]
    },
    {
     "name": "stdout",
     "output_type": "stream",
     "text": [
      "left_curverad: 750.0344189074822 m , right_curverad: 1104.6350418919726 m\n",
      "1073.211160116548\n",
      "268.08527712554746\n",
      "640.0\n",
      "127.40784722222222\n",
      "Height: 720 , Width: 1280\n"
     ]
    },
    {
     "name": "stderr",
     "output_type": "stream",
     "text": [
      "\r",
      "t:  92%|███████████████████████▊  | 444/485 [01:38<00:09,  4.51it/s, now=None]"
     ]
    },
    {
     "name": "stdout",
     "output_type": "stream",
     "text": [
      "left_curverad: 805.9180095566128 m , right_curverad: 918.8361816491658 m\n",
      "1073.0130779070773\n",
      "269.93942123778885\n",
      "640.0\n",
      "127.71902994791667\n",
      "Height: 720 , Width: 1280\n"
     ]
    },
    {
     "name": "stderr",
     "output_type": "stream",
     "text": [
      "\r",
      "t:  92%|███████████████████████▊  | 445/485 [01:38<00:08,  4.49it/s, now=None]"
     ]
    },
    {
     "name": "stdout",
     "output_type": "stream",
     "text": [
      "left_curverad: 607.2931843986047 m , right_curverad: 1081.3049571177255 m\n",
      "1074.9372585909614\n",
      "267.462610820576\n",
      "640.0\n",
      "127.79510959201389\n",
      "Height: 720 , Width: 1280\n"
     ]
    },
    {
     "name": "stderr",
     "output_type": "stream",
     "text": [
      "\r",
      "t:  92%|███████████████████████▉  | 446/485 [01:38<00:08,  4.43it/s, now=None]"
     ]
    },
    {
     "name": "stdout",
     "output_type": "stream",
     "text": [
      "left_curverad: 583.2182210039609 m , right_curverad: 902.1383687378435 m\n",
      "1074.8042547485945\n",
      "272.10920362058573\n",
      "640.0\n",
      "127.89594075520833\n",
      "Height: 720 , Width: 1280\n"
     ]
    },
    {
     "name": "stderr",
     "output_type": "stream",
     "text": [
      "\r",
      "t:  92%|███████████████████████▉  | 447/485 [01:39<00:08,  4.41it/s, now=None]"
     ]
    },
    {
     "name": "stdout",
     "output_type": "stream",
     "text": [
      "left_curverad: 575.7232348363457 m , right_curverad: 834.2614536661464 m\n",
      "1075.8121362643742\n",
      "277.3374440858194\n",
      "640.0\n",
      "128.11423828125\n",
      "Height: 720 , Width: 1280\n"
     ]
    },
    {
     "name": "stderr",
     "output_type": "stream",
     "text": [
      "\r",
      "t:  92%|████████████████████████  | 448/485 [01:39<00:08,  4.48it/s, now=None]"
     ]
    },
    {
     "name": "stdout",
     "output_type": "stream",
     "text": [
      "left_curverad: 538.7260790654587 m , right_curverad: 853.4561533904445 m\n",
      "1076.5332603557622\n",
      "277.64977597689733\n",
      "640.0\n",
      "128.318359375\n",
      "Height: 720 , Width: 1280\n"
     ]
    },
    {
     "name": "stderr",
     "output_type": "stream",
     "text": [
      "\r",
      "t:  93%|████████████████████████  | 449/485 [01:39<00:08,  4.46it/s, now=None]"
     ]
    },
    {
     "name": "stdout",
     "output_type": "stream",
     "text": [
      "left_curverad: 634.7436947880788 m , right_curverad: 891.5763549798281 m\n",
      "1081.566135098885\n",
      "285.2965537614682\n",
      "640.0\n",
      "128.43613172743056\n",
      "Height: 720 , Width: 1280\n"
     ]
    },
    {
     "name": "stderr",
     "output_type": "stream",
     "text": [
      "\r",
      "t:  93%|████████████████████████  | 450/485 [01:39<00:07,  4.43it/s, now=None]"
     ]
    },
    {
     "name": "stdout",
     "output_type": "stream",
     "text": [
      "left_curverad: 731.4758171554288 m , right_curverad: 1155.4631411688886 m\n",
      "1085.6311735020847\n",
      "288.9864971417301\n",
      "640.0\n",
      "128.51348198784723\n",
      "Height: 720 , Width: 1280\n"
     ]
    },
    {
     "name": "stderr",
     "output_type": "stream",
     "text": [
      "\r",
      "t:  93%|████████████████████████▏ | 451/485 [01:39<00:07,  4.43it/s, now=None]"
     ]
    },
    {
     "name": "stdout",
     "output_type": "stream",
     "text": [
      "left_curverad: 594.3036217564712 m , right_curverad: 1230.5717171316674 m\n",
      "1092.2666621781968\n",
      "286.874368535034\n",
      "640.0\n",
      "128.42773546006944\n",
      "Height: 720 , Width: 1280\n"
     ]
    },
    {
     "name": "stderr",
     "output_type": "stream",
     "text": [
      "\r",
      "t:  93%|████████████████████████▏ | 452/485 [01:40<00:07,  4.46it/s, now=None]"
     ]
    },
    {
     "name": "stdout",
     "output_type": "stream",
     "text": [
      "left_curverad: 695.3595995291205 m , right_curverad: 1133.7084157144068 m\n",
      "1094.8748370836524\n",
      "288.68840597620635\n",
      "640.0\n",
      "128.67639973958333\n",
      "Height: 720 , Width: 1280\n",
      "left_curverad: 648.7740139438429 m , right_curverad: 962.6569109664407 m\n"
     ]
    },
    {
     "name": "stderr",
     "output_type": "stream",
     "text": [
      "\r",
      "t:  93%|████████████████████████▎ | 453/485 [01:40<00:07,  4.51it/s, now=None]"
     ]
    },
    {
     "name": "stdout",
     "output_type": "stream",
     "text": [
      "1096.4529938693104\n",
      "289.32471349973616\n",
      "640.0\n",
      "128.735732421875\n",
      "Height: 720 , Width: 1280\n",
      "left_curverad: 610.6697142906911 m , right_curverad: 1264.859077569143 m\n"
     ]
    },
    {
     "name": "stderr",
     "output_type": "stream",
     "text": [
      "\r",
      "t:  94%|████████████████████████▎ | 454/485 [01:40<00:06,  4.49it/s, now=None]"
     ]
    },
    {
     "name": "stdout",
     "output_type": "stream",
     "text": [
      "1102.266963795053\n",
      "291.120996894585\n",
      "640.0\n",
      "128.68106553819445\n",
      "Height: 720 , Width: 1280\n"
     ]
    },
    {
     "name": "stderr",
     "output_type": "stream",
     "text": [
      "\r",
      "t:  94%|████████████████████████▍ | 455/485 [01:40<00:06,  4.52it/s, now=None]"
     ]
    },
    {
     "name": "stdout",
     "output_type": "stream",
     "text": [
      "left_curverad: 639.9472082161523 m , right_curverad: 1378.5081694199484 m\n",
      "1105.4004840083685\n",
      "292.05176982607486\n",
      "640.0\n",
      "128.47096571180555\n",
      "Height: 720 , Width: 1280\n"
     ]
    },
    {
     "name": "stderr",
     "output_type": "stream",
     "text": [
      "\r",
      "t:  94%|████████████████████████▍ | 456/485 [01:41<00:06,  4.38it/s, now=None]"
     ]
    },
    {
     "name": "stdout",
     "output_type": "stream",
     "text": [
      "left_curverad: 721.4434344140293 m , right_curverad: 1382.7490802379318 m\n",
      "1106.9808552942304\n",
      "292.3549416274126\n",
      "640.0\n",
      "128.29775065104167\n",
      "Height: 720 , Width: 1280\n"
     ]
    },
    {
     "name": "stderr",
     "output_type": "stream",
     "text": [
      "\r",
      "t:  94%|████████████████████████▍ | 457/485 [01:41<00:06,  4.27it/s, now=None]"
     ]
    },
    {
     "name": "stdout",
     "output_type": "stream",
     "text": [
      "left_curverad: 588.7398683320249 m , right_curverad: 1503.1796999733454 m\n",
      "1109.4172933015475\n",
      "285.7067780921141\n",
      "640.0\n",
      "128.31881727430556\n",
      "Height: 720 , Width: 1280\n"
     ]
    },
    {
     "name": "stderr",
     "output_type": "stream",
     "text": [
      "\r",
      "t:  94%|████████████████████████▌ | 458/485 [01:41<00:06,  4.25it/s, now=None]"
     ]
    },
    {
     "name": "stdout",
     "output_type": "stream",
     "text": [
      "left_curverad: 779.6015516234282 m , right_curverad: 1287.185289575241 m\n",
      "1108.210422091713\n",
      "293.5181104074485\n",
      "640.0\n",
      "128.4436566840278\n",
      "Height: 720 , Width: 1280\n"
     ]
    },
    {
     "name": "stderr",
     "output_type": "stream",
     "text": [
      "\r",
      "t:  95%|████████████████████████▌ | 459/485 [01:41<00:05,  4.41it/s, now=None]"
     ]
    },
    {
     "name": "stdout",
     "output_type": "stream",
     "text": [
      "left_curverad: 850.9977182307566 m , right_curverad: 1385.053729922535 m\n",
      "1108.8855793424564\n",
      "294.81307199638104\n",
      "640.0\n",
      "128.53488064236112\n",
      "Height: 720 , Width: 1280\n"
     ]
    },
    {
     "name": "stderr",
     "output_type": "stream",
     "text": [
      "\r",
      "t:  95%|████████████████████████▋ | 460/485 [01:42<00:05,  4.33it/s, now=None]"
     ]
    },
    {
     "name": "stdout",
     "output_type": "stream",
     "text": [
      "left_curverad: 824.0059598403597 m , right_curverad: 764.119753425167 m\n",
      "1102.442371023571\n",
      "297.89213369213894\n",
      "640.0\n",
      "128.4185622829861\n",
      "Height: 720 , Width: 1280\n"
     ]
    },
    {
     "name": "stderr",
     "output_type": "stream",
     "text": [
      "\r",
      "t:  95%|████████████████████████▋ | 461/485 [01:42<00:05,  4.31it/s, now=None]"
     ]
    },
    {
     "name": "stdout",
     "output_type": "stream",
     "text": [
      "left_curverad: 964.8483514928452 m , right_curverad: 875.2678909528071 m\n",
      "1105.0520853269118\n",
      "303.55217645704204\n",
      "640.0\n",
      "128.29885416666667\n",
      "Height: 720 , Width: 1280\n"
     ]
    },
    {
     "name": "stderr",
     "output_type": "stream",
     "text": [
      "\r",
      "t:  95%|████████████████████████▊ | 462/485 [01:42<00:05,  4.38it/s, now=None]"
     ]
    },
    {
     "name": "stdout",
     "output_type": "stream",
     "text": [
      "left_curverad: 894.1186144282192 m , right_curverad: 878.5920292189567 m\n",
      "1105.80957883456\n",
      "300.2145870216012\n",
      "640.0\n",
      "128.27842339409722\n",
      "Height: 720 , Width: 1280\n"
     ]
    },
    {
     "name": "stderr",
     "output_type": "stream",
     "text": [
      "\r",
      "t:  95%|████████████████████████▊ | 463/485 [01:42<00:04,  4.44it/s, now=None]"
     ]
    },
    {
     "name": "stdout",
     "output_type": "stream",
     "text": [
      "left_curverad: 968.4569368716104 m , right_curverad: 1028.223379928004 m\n",
      "1108.302347241023\n",
      "301.7313659268934\n",
      "640.0\n",
      "128.05241536458334\n",
      "Height: 720 , Width: 1280\n"
     ]
    },
    {
     "name": "stderr",
     "output_type": "stream",
     "text": [
      "\r",
      "t:  96%|████████████████████████▊ | 464/485 [01:42<00:04,  4.34it/s, now=None]"
     ]
    },
    {
     "name": "stdout",
     "output_type": "stream",
     "text": [
      "left_curverad: 961.9222168154328 m , right_curverad: 1042.4157853645124 m\n",
      "1106.8180604243084\n",
      "301.06035068328697\n",
      "640.0\n",
      "127.83162868923611\n",
      "Height: 720 , Width: 1280\n"
     ]
    },
    {
     "name": "stderr",
     "output_type": "stream",
     "text": [
      "\r",
      "t:  96%|████████████████████████▉ | 465/485 [01:43<00:04,  4.38it/s, now=None]"
     ]
    },
    {
     "name": "stdout",
     "output_type": "stream",
     "text": [
      "left_curverad: 1090.279523006382 m , right_curverad: 1177.1870659521026 m\n",
      "1111.9832025784067\n",
      "303.0755950042326\n",
      "640.0\n",
      "127.63452365451388\n",
      "Height: 720 , Width: 1280\n"
     ]
    },
    {
     "name": "stderr",
     "output_type": "stream",
     "text": [
      "\r",
      "t:  96%|████████████████████████▉ | 466/485 [01:43<00:04,  4.44it/s, now=None]"
     ]
    },
    {
     "name": "stdout",
     "output_type": "stream",
     "text": [
      "left_curverad: 1090.158868138162 m , right_curverad: 1232.4527660717106 m\n",
      "1112.1555755144027\n",
      "300.69977251245007\n",
      "640.0\n",
      "127.46303819444445\n",
      "Height: 720 , Width: 1280\n"
     ]
    },
    {
     "name": "stderr",
     "output_type": "stream",
     "text": [
      "\r",
      "t:  96%|█████████████████████████ | 467/485 [01:43<00:04,  4.45it/s, now=None]"
     ]
    },
    {
     "name": "stdout",
     "output_type": "stream",
     "text": [
      "left_curverad: 1034.2572702440664 m , right_curverad: 1405.5604134044954 m\n",
      "1116.381764172168\n",
      "299.17787884835263\n",
      "640.0\n",
      "127.46878146701388\n",
      "Height: 720 , Width: 1280\n"
     ]
    },
    {
     "name": "stderr",
     "output_type": "stream",
     "text": [
      "\r",
      "t:  96%|█████████████████████████ | 468/485 [01:43<00:03,  4.36it/s, now=None]"
     ]
    },
    {
     "name": "stdout",
     "output_type": "stream",
     "text": [
      "left_curverad: 1030.2644870768634 m , right_curverad: 1142.1035354168903 m\n",
      "1113.5493036513808\n",
      "302.4220370638717\n",
      "640.0\n",
      "127.49888780381944\n",
      "Height: 720 , Width: 1280\n"
     ]
    },
    {
     "name": "stderr",
     "output_type": "stream",
     "text": [
      "\r",
      "t:  97%|█████████████████████████▏| 469/485 [01:44<00:03,  4.33it/s, now=None]"
     ]
    },
    {
     "name": "stdout",
     "output_type": "stream",
     "text": [
      "left_curverad: 1177.756210365172 m , right_curverad: 1079.8868357998317 m\n",
      "1112.4061176116538\n",
      "304.7957376883596\n",
      "640.0\n",
      "127.37690755208334\n",
      "Height: 720 , Width: 1280\n"
     ]
    },
    {
     "name": "stderr",
     "output_type": "stream",
     "text": [
      "\r",
      "t:  97%|█████████████████████████▏| 470/485 [01:44<00:03,  4.38it/s, now=None]"
     ]
    },
    {
     "name": "stdout",
     "output_type": "stream",
     "text": [
      "left_curverad: 1112.7359195215918 m , right_curverad: 770.0364720227783 m\n",
      "1108.5279520294494\n",
      "305.1103560784318\n",
      "640.0\n",
      "127.32536566840278\n",
      "Height: 720 , Width: 1280\n"
     ]
    },
    {
     "name": "stderr",
     "output_type": "stream",
     "text": [
      "\r",
      "t:  97%|█████████████████████████▏| 471/485 [01:44<00:03,  4.46it/s, now=None]"
     ]
    },
    {
     "name": "stdout",
     "output_type": "stream",
     "text": [
      "left_curverad: 1222.8767032560502 m , right_curverad: 913.0780829859768 m\n",
      "1110.129653345183\n",
      "305.84936735236823\n",
      "640.0\n",
      "127.40593967013889\n",
      "Height: 720 , Width: 1280\n"
     ]
    },
    {
     "name": "stderr",
     "output_type": "stream",
     "text": [
      "\r",
      "t:  97%|█████████████████████████▎| 472/485 [01:44<00:02,  4.40it/s, now=None]"
     ]
    },
    {
     "name": "stdout",
     "output_type": "stream",
     "text": [
      "left_curverad: 1418.7979185217418 m , right_curverad: 1101.40159838067 m\n",
      "1115.0763993310682\n",
      "309.28010437941543\n",
      "640.0\n",
      "127.60078125\n",
      "Height: 720 , Width: 1280\n"
     ]
    },
    {
     "name": "stderr",
     "output_type": "stream",
     "text": [
      "\r",
      "t:  98%|█████████████████████████▎| 473/485 [01:45<00:02,  4.32it/s, now=None]"
     ]
    },
    {
     "name": "stdout",
     "output_type": "stream",
     "text": [
      "left_curverad: 1629.0977681558566 m , right_curverad: 875.9886857764437 m\n",
      "1112.090279635281\n",
      "309.88197790993064\n",
      "640.0\n",
      "127.68179036458334\n",
      "Height: 720 , Width: 1280\n"
     ]
    },
    {
     "name": "stderr",
     "output_type": "stream",
     "text": [
      "\r",
      "t:  98%|█████████████████████████▍| 474/485 [01:45<00:02,  4.23it/s, now=None]"
     ]
    },
    {
     "name": "stdout",
     "output_type": "stream",
     "text": [
      "left_curverad: 1403.6076859285445 m , right_curverad: 985.1527603583048 m\n",
      "1115.663901594697\n",
      "307.0632977353806\n",
      "640.0\n",
      "127.60017795138889\n",
      "Height: 720 , Width: 1280\n"
     ]
    },
    {
     "name": "stderr",
     "output_type": "stream",
     "text": [
      "\r",
      "t:  98%|█████████████████████████▍| 475/485 [01:45<00:02,  3.99it/s, now=None]"
     ]
    },
    {
     "name": "stdout",
     "output_type": "stream",
     "text": [
      "left_curverad: 1164.3648296486756 m , right_curverad: 1299.1425539429576 m\n",
      "1120.6212892043848\n",
      "301.06610492270505\n",
      "640.0\n",
      "127.51546657986111\n",
      "Height: 720"
     ]
    },
    {
     "name": "stderr",
     "output_type": "stream",
     "text": [
      "\r",
      "t:  98%|█████████████████████████▌| 476/485 [01:45<00:02,  4.06it/s, now=None]"
     ]
    },
    {
     "name": "stdout",
     "output_type": "stream",
     "text": [
      " , Width: 1280\n",
      "left_curverad: 2019.2630543814373 m , right_curverad: 1182.9694964703235 m\n",
      "1118.501593144094\n",
      "308.8960869593377\n",
      "640.0\n",
      "127.46180989583333\n"
     ]
    },
    {
     "name": "stderr",
     "output_type": "stream",
     "text": [
      "\r",
      "t:  98%|█████████████████████████▌| 477/485 [01:46<00:01,  4.10it/s, now=None]"
     ]
    },
    {
     "name": "stdout",
     "output_type": "stream",
     "text": [
      "Height: 720 , Width: 1280\n",
      "left_curverad: 1376.2566641196672 m , right_curverad: 1234.752628509825 m\n",
      "1118.5904685694923\n",
      "302.8668651965269\n",
      "640.0\n",
      "127.36203233506944\n"
     ]
    },
    {
     "name": "stderr",
     "output_type": "stream",
     "text": [
      "\r",
      "t:  99%|█████████████████████████▌| 478/485 [01:46<00:01,  4.15it/s, now=None]"
     ]
    },
    {
     "name": "stdout",
     "output_type": "stream",
     "text": [
      "Height: 720 , Width: 1280\n",
      "left_curverad: 2268.8366729348986 m , right_curverad: 1032.3792147382035 m\n",
      "1114.6714593073946\n",
      "311.5426299833371\n",
      "640.0\n",
      "127.1853515625\n"
     ]
    },
    {
     "name": "stderr",
     "output_type": "stream",
     "text": [
      "\r",
      "t:  99%|█████████████████████████▋| 479/485 [01:46<00:01,  4.17it/s, now=None]"
     ]
    },
    {
     "name": "stdout",
     "output_type": "stream",
     "text": [
      "Height: 720 , Width: 1280\n",
      "left_curverad: 1381.2694950921991 m , right_curverad: 1070.1306438825031 m\n",
      "1117.4212525787534\n",
      "305.28588452244946\n",
      "640.0\n",
      "127.32787109375\n",
      "Height: 720 , Width: 1280\n"
     ]
    },
    {
     "name": "stderr",
     "output_type": "stream",
     "text": [
      "\r",
      "t:  99%|█████████████████████████▋| 480/485 [01:46<00:01,  3.93it/s, now=None]"
     ]
    },
    {
     "name": "stdout",
     "output_type": "stream",
     "text": [
      "left_curverad: 1546.1854082819696 m , right_curverad: 2597.065097310147 m\n",
      "1129.9792923095056\n",
      "305.56770187634356\n",
      "640.0\n",
      "127.54029188368055\n",
      "Height: 720 , Width: 1280\n"
     ]
    },
    {
     "name": "stderr",
     "output_type": "stream",
     "text": [
      "\r",
      "t:  99%|█████████████████████████▊| 481/485 [01:47<00:01,  3.96it/s, now=None]"
     ]
    },
    {
     "name": "stdout",
     "output_type": "stream",
     "text": [
      "left_curverad: 1163.5091430103223 m , right_curverad: 1386.8963544788232 m\n",
      "1120.476450102994\n",
      "303.9875235273446\n",
      "640.0\n",
      "127.29207139756944\n",
      "Height: 720 , Width: 1280\n"
     ]
    },
    {
     "name": "stderr",
     "output_type": "stream",
     "text": [
      "\r",
      "t:  99%|█████████████████████████▊| 482/485 [01:47<00:00,  4.10it/s, now=None]"
     ]
    },
    {
     "name": "stdout",
     "output_type": "stream",
     "text": [
      "left_curverad: 1864.9989179610889 m , right_curverad: 1794.9005672411374 m\n",
      "1124.423596599249\n",
      "305.1416277982887\n",
      "640.0\n",
      "127.39445746527778\n",
      "Height: 720 , Width: 1280\n"
     ]
    },
    {
     "name": "stderr",
     "output_type": "stream",
     "text": [
      "\r",
      "t: 100%|█████████████████████████▉| 483/485 [01:47<00:00,  4.13it/s, now=None]"
     ]
    },
    {
     "name": "stdout",
     "output_type": "stream",
     "text": [
      "left_curverad: 1681.7833970838094 m , right_curverad: 1376.3138678181958 m\n",
      "1118.2811990000455\n",
      "307.6543581147398\n",
      "640.0\n",
      "127.36258246527778\n",
      "Height: 720 , Width: 1280\n"
     ]
    },
    {
     "name": "stderr",
     "output_type": "stream",
     "text": [
      "\r",
      "t: 100%|█████████████████████████▉| 484/485 [01:47<00:00,  4.18it/s, now=None]"
     ]
    },
    {
     "name": "stdout",
     "output_type": "stream",
     "text": [
      "left_curverad: 1651.7035876510097 m , right_curverad: 1613.8990944265256 m\n",
      "1121.2204369898336\n",
      "306.0982009538697\n",
      "640.0\n",
      "127.47294270833333\n",
      "Height: 720 , Width: 1280\n"
     ]
    },
    {
     "name": "stderr",
     "output_type": "stream",
     "text": [
      "\r",
      "t: 100%|██████████████████████████| 485/485 [01:47<00:00,  4.10it/s, now=None]"
     ]
    },
    {
     "name": "stdout",
     "output_type": "stream",
     "text": [
      "left_curverad: 1252.738010288508 m , right_curverad: 1783.8886582568236 m\n",
      "1122.6993884828437\n",
      "302.808651402826\n",
      "640.0\n",
      "127.47294270833333\n",
      "Height: 720 , Width: 1280\n",
      "left_curverad: 1252.738010288508 m , right_curverad: 1783.8886582568236 m\n"
     ]
    },
    {
     "name": "stderr",
     "output_type": "stream",
     "text": [
      "\r",
      "                                                                              "
     ]
    },
    {
     "name": "stdout",
     "output_type": "stream",
     "text": [
      "1122.6993884828437\n",
      "302.808651402826\n",
      "640.0\n"
     ]
    },
    {
     "name": "stderr",
     "output_type": "stream",
     "text": [
      "\r"
     ]
    },
    {
     "name": "stdout",
     "output_type": "stream",
     "text": [
      "Moviepy - Done !\n",
      "Moviepy - video ready challenge_video_out.mp4\n",
      "Wall time: 1min 50s\n"
     ]
    }
   ],
   "source": [
    "import imageio\n",
    "#imageio.plugins.ffmpeg.download()\n",
    "from moviepy.editor import VideoFileClip\n",
    "from IPython.display import HTML\n",
    "output = 'challenge_video_out.mp4'\n",
    "clip = VideoFileClip(\"challenge_video.mp4\")\n",
    "video_clip = clip.fl_image(process_image)\n",
    "%time video_clip.write_videofile(output, audio=False)"
   ]
  }
 ],
 "metadata": {
  "kernelspec": {
   "display_name": "Python 3",
   "language": "python",
   "name": "python3"
  },
  "language_info": {
   "codemirror_mode": {
    "name": "ipython",
    "version": 3
   },
   "file_extension": ".py",
   "mimetype": "text/x-python",
   "name": "python",
   "nbconvert_exporter": "python",
   "pygments_lexer": "ipython3",
   "version": "3.8.8"
  }
 },
 "nbformat": 4,
 "nbformat_minor": 5
}
