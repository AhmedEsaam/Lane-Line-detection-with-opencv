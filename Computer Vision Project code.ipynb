##
asdasdasdasf
asfasf
asdasdasd
ahmed sayed

asdasdasd
